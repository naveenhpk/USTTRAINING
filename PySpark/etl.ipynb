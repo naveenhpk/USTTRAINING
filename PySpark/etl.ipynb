{
 "cells": [
  {
   "cell_type": "code",
   "execution_count": 1,
   "id": "b78da5ec",
   "metadata": {},
   "outputs": [
    {
     "data": {
      "text/html": [
       "\n",
       "        <div>\n",
       "            <p><b>SparkContext</b></p>\n",
       "\n",
       "            <p><a href=\"http://10.0.2.15:4040\">Spark UI</a></p>\n",
       "\n",
       "            <dl>\n",
       "              <dt>Version</dt>\n",
       "                <dd><code>v2.4.8</code></dd>\n",
       "              <dt>Master</dt>\n",
       "                <dd><code>local[*]</code></dd>\n",
       "              <dt>AppName</dt>\n",
       "                <dd><code>PySparkShell</code></dd>\n",
       "            </dl>\n",
       "        </div>\n",
       "        "
      ],
      "text/plain": [
       "<SparkContext master=local[*] appName=PySparkShell>"
      ]
     },
     "execution_count": 1,
     "metadata": {},
     "output_type": "execute_result"
    }
   ],
   "source": [
    "sc"
   ]
  },
  {
   "cell_type": "code",
   "execution_count": 2,
   "id": "585a94c2",
   "metadata": {},
   "outputs": [],
   "source": [
    "spark.stop()"
   ]
  },
  {
   "cell_type": "code",
   "execution_count": 3,
   "id": "5b05f454",
   "metadata": {},
   "outputs": [],
   "source": [
    "from pyspark.sql import SparkSession\n",
    "mysql_connector_path = \"/home/hadoop/Downloads/mysql-connector-java-8.0.13.jar\""
   ]
  },
  {
   "cell_type": "code",
   "execution_count": 4,
   "id": "36c1d5ad",
   "metadata": {},
   "outputs": [],
   "source": [
    "spark = SparkSession.builder.appName(\"ETL Pipeline\").getOrCreate()"
   ]
  },
  {
   "cell_type": "code",
   "execution_count": null,
   "id": "599e5eb6",
   "metadata": {},
   "outputs": [],
   "source": [
    "#pyspark --jars \"path to jar\""
   ]
  },
  {
   "cell_type": "code",
   "execution_count": 5,
   "id": "7ca106ca",
   "metadata": {},
   "outputs": [],
   "source": [
    "hremployeeDF = spark.read.format(\"jdbc\")\\\n",
    ".option(\"url\", \"jdbc:mysql://localhost:3306/hremployeeDB\")\\\n",
    ".option(\"dbtable\", \"hremployee\").option(\"user\", \"root\").option(\"password\", \"hadoop@123\")\\\n",
    ".option(\"driver\", \"com.mysql.cj.jdbc.Driver\").load()"
   ]
  },
  {
   "cell_type": "code",
   "execution_count": 6,
   "id": "2d5820dd",
   "metadata": {
    "scrolled": true
   },
   "outputs": [
    {
     "name": "stdout",
     "output_type": "stream",
     "text": [
      "+----------+--------------------+--------------------+---------+------+---+-------------+-------------+--------------+-----------------+--------------+--------+---------------+----------+------+----------+--------+------+-----------------------+---------------+---------------------+---------------+------------------+\n",
      "|EmployeeID|          Department|             JobRole|Attrition|Gender|Age|MaritalStatus|    Education|EducationField|   BusinessTravel|JobInvolvement|JobLevel|JobSatisfaction|Hourlyrate|Income|Salaryhike|OverTime|Workex|YearsSinceLastPromotion|EmpSatisfaction|TrainingTimesLastYear|WorkLifeBalance|Performance_Rating|\n",
      "+----------+--------------------+--------------------+---------+------+---+-------------+-------------+--------------+-----------------+--------------+--------+---------------+----------+------+----------+--------+------+-----------------------+---------------+---------------------+---------------+------------------+\n",
      "|         1|               Sales|     Sales Executive|      Yes|Female| 41|       Single|      College| Life Sciences|    Travel_Rarely|          High|       2|      Very High|        94|  5993|        11|     Yes|     8|                      0|         Medium|                    0|            Bad|        Excellent\r",
      "|\n",
      "|         2|Research & Develo...|  Research Scientist|       No|  Male| 49|      Married|Below College| Life Sciences|Travel_Frequently|        Medium|       2|         Medium|        61|  5130|        23|      No|    10|                      1|           High|                    3|         Better|      Outstanding\r",
      "|\n",
      "|         3|Research & Develo...|Laboratory Techni...|      Yes|  Male| 37|       Single|      College|         Other|    Travel_Rarely|        Medium|       1|           High|        92|  2090|        15|     Yes|     7|                      0|      Very High|                    3|         Better|        Excellent\r",
      "|\n",
      "|         4|Research & Develo...|  Research Scientist|       No|Female| 33|      Married|       Master| Life Sciences|Travel_Frequently|          High|       1|           High|        56|  2909|        11|     Yes|     8|                      3|      Very High|                    3|         Better|        Excellent\r",
      "|\n",
      "|         5|Research & Develo...|Laboratory Techni...|       No|  Male| 27|      Married|Below College|       Medical|    Travel_Rarely|          High|       1|         Medium|        40|  3468|        12|      No|     6|                      2|            Low|                    3|         Better|        Excellent\r",
      "|\n",
      "|         6|Research & Develo...|Laboratory Techni...|       No|  Male| 32|       Single|      College| Life Sciences|Travel_Frequently|          High|       1|      Very High|        79|  3068|        13|      No|     8|                      3|      Very High|                    2|           Good|        Excellent\r",
      "|\n",
      "|         7|Research & Develo...|Laboratory Techni...|       No|Female| 59|      Married|     Bachelor|       Medical|    Travel_Rarely|     Very High|       1|            Low|        81|  2670|        20|     Yes|    12|                      0|           High|                    3|           Good|      Outstanding\r",
      "|\n",
      "|         8|Research & Develo...|Laboratory Techni...|       No|  Male| 30|     Divorced|Below College| Life Sciences|    Travel_Rarely|          High|       1|           High|        67|  2693|        22|      No|     1|                      0|      Very High|                    2|         Better|      Outstanding\r",
      "|\n",
      "|         9|Research & Develo...|Manufacturing Dir...|       No|  Male| 38|       Single|     Bachelor| Life Sciences|Travel_Frequently|        Medium|       3|           High|        44|  9526|        21|      No|    10|                      1|      Very High|                    2|         Better|      Outstanding\r",
      "|\n",
      "|        10|Research & Develo...|Healthcare Repres...|       No|  Male| 36|      Married|     Bachelor|       Medical|    Travel_Rarely|          High|       2|           High|        94|  5237|        13|      No|    17|                      7|           High|                    3|           Good|        Excellent\r",
      "|\n",
      "|        11|Research & Develo...|Laboratory Techni...|       No|  Male| 35|      Married|     Bachelor|       Medical|    Travel_Rarely|     Very High|       1|         Medium|        84|  2426|        13|      No|     6|                      0|            Low|                    5|         Better|        Excellent\r",
      "|\n",
      "|        12|Research & Develo...|Laboratory Techni...|       No|Female| 29|       Single|      College| Life Sciences|    Travel_Rarely|        Medium|       2|           High|        49|  4193|        12|     Yes|    10|                      0|      Very High|                    3|         Better|        Excellent\r",
      "|\n",
      "|        13|Research & Develo...|  Research Scientist|       No|  Male| 31|     Divorced|Below College| Life Sciences|    Travel_Rarely|          High|       1|           High|        31|  2911|        17|      No|     5|                      4|            Low|                    1|           Good|        Excellent\r",
      "|\n",
      "|        14|Research & Develo...|Laboratory Techni...|       No|  Male| 34|     Divorced|      College|       Medical|    Travel_Rarely|          High|       1|      Very High|        93|  2661|        11|      No|     3|                      1|         Medium|                    2|         Better|        Excellent\r",
      "|\n",
      "|        15|Research & Develo...|Laboratory Techni...|      Yes|  Male| 28|       Single|     Bachelor| Life Sciences|    Travel_Rarely|        Medium|       1|           High|        50|  2028|        14|     Yes|     6|                      0|           High|                    4|         Better|        Excellent\r",
      "|\n",
      "|        16|Research & Develo...|Manufacturing Dir...|       No|Female| 29|     Divorced|       Master| Life Sciences|    Travel_Rarely|     Very High|       3|            Low|        51|  9980|        11|      No|    10|                      8|         Medium|                    1|         Better|        Excellent\r",
      "|\n",
      "|        17|Research & Develo...|  Research Scientist|       No|  Male| 32|     Divorced|      College| Life Sciences|    Travel_Rarely|     Very High|       1|         Medium|        80|  3298|        12|     Yes|     7|                      0|            Low|                    5|           Good|        Excellent\r",
      "|\n",
      "|        18|Research & Develo...|Laboratory Techni...|       No|  Male| 22|     Divorced|      College|       Medical|       Non-Travel|     Very High|       1|      Very High|        96|  2935|        13|     Yes|     1|                      0|      Very High|                    2|           Good|        Excellent\r",
      "|\n",
      "|        19|               Sales|             Manager|       No|Female| 53|      Married|       Master| Life Sciences|    Travel_Rarely|        Medium|       4|      Very High|        78| 15427|        16|      No|    31|                      3|            Low|                    3|         Better|        Excellent\r",
      "|\n",
      "|        20|Research & Develo...|  Research Scientist|       No|  Male| 38|       Single|     Bachelor| Life Sciences|    Travel_Rarely|          High|       1|      Very High|        45|  3944|        11|     Yes|     6|                      1|      Very High|                    3|         Better|        Excellent\r",
      "|\n",
      "+----------+--------------------+--------------------+---------+------+---+-------------+-------------+--------------+-----------------+--------------+--------+---------------+----------+------+----------+--------+------+-----------------------+---------------+---------------------+---------------+------------------+\n",
      "only showing top 20 rows\n",
      "\n"
     ]
    }
   ],
   "source": [
    "hremployeeDF.show()"
   ]
  },
  {
   "cell_type": "code",
   "execution_count": 8,
   "id": "045d55cb",
   "metadata": {},
   "outputs": [],
   "source": [
    "hremployeeDF.createOrReplaceTempView('hremployee')"
   ]
  },
  {
   "cell_type": "code",
   "execution_count": 9,
   "id": "d12f33bd",
   "metadata": {},
   "outputs": [
    {
     "name": "stdout",
     "output_type": "stream",
     "text": [
      "== Physical Plan ==\n",
      "*(1) Scan JDBCRelation(hremployee) [numPartitions=1] [EmployeeID#0,Department#1,JobRole#2,Attrition#3,Gender#4,Age#5,MaritalStatus#6,Education#7,EducationField#8,BusinessTravel#9,JobInvolvement#10,JobLevel#11,JobSatisfaction#12,Hourlyrate#13,Income#14,Salaryhike#15,OverTime#16,Workex#17,YearsSinceLastPromotion#18,EmpSatisfaction#19,TrainingTimesLastYear#20,WorkLifeBalance#21,Performance_Rating#22] PushedFilters: [], ReadSchema: struct<EmployeeID:string,Department:string,JobRole:string,Attrition:string,Gender:string,Age:int,...\n"
     ]
    }
   ],
   "source": [
    "# show physical plan of execution\n",
    "hremployeeDF.explain()"
   ]
  },
  {
   "cell_type": "markdown",
   "id": "a15bb112",
   "metadata": {},
   "source": [
    "### 1. Display shape of hremployee table\n",
    "    * show number of records and number of columns"
   ]
  },
  {
   "cell_type": "code",
   "execution_count": 10,
   "id": "b2d81ab8",
   "metadata": {},
   "outputs": [
    {
     "data": {
      "text/plain": [
       "1469"
      ]
     },
     "execution_count": 10,
     "metadata": {},
     "output_type": "execute_result"
    }
   ],
   "source": [
    "hremployeeDF.count()"
   ]
  },
  {
   "cell_type": "code",
   "execution_count": 11,
   "id": "ad56ddf8",
   "metadata": {},
   "outputs": [
    {
     "data": {
      "text/plain": [
       "23"
      ]
     },
     "execution_count": 11,
     "metadata": {},
     "output_type": "execute_result"
    }
   ],
   "source": [
    "spark.sql(\"DESCRIBE hremployee\").select(\"col_name\").count()"
   ]
  },
  {
   "cell_type": "code",
   "execution_count": 12,
   "id": "609a4b95",
   "metadata": {},
   "outputs": [
    {
     "name": "stdout",
     "output_type": "stream",
     "text": [
      "root\n",
      " |-- EmployeeID: string (nullable = true)\n",
      " |-- Department: string (nullable = true)\n",
      " |-- JobRole: string (nullable = true)\n",
      " |-- Attrition: string (nullable = true)\n",
      " |-- Gender: string (nullable = true)\n",
      " |-- Age: integer (nullable = true)\n",
      " |-- MaritalStatus: string (nullable = true)\n",
      " |-- Education: string (nullable = true)\n",
      " |-- EducationField: string (nullable = true)\n",
      " |-- BusinessTravel: string (nullable = true)\n",
      " |-- JobInvolvement: string (nullable = true)\n",
      " |-- JobLevel: integer (nullable = true)\n",
      " |-- JobSatisfaction: string (nullable = true)\n",
      " |-- Hourlyrate: integer (nullable = true)\n",
      " |-- Income: integer (nullable = true)\n",
      " |-- Salaryhike: integer (nullable = true)\n",
      " |-- OverTime: string (nullable = true)\n",
      " |-- Workex: integer (nullable = true)\n",
      " |-- YearsSinceLastPromotion: integer (nullable = true)\n",
      " |-- EmpSatisfaction: string (nullable = true)\n",
      " |-- TrainingTimesLastYear: integer (nullable = true)\n",
      " |-- WorkLifeBalance: string (nullable = true)\n",
      " |-- Performance_Rating: string (nullable = true)\n",
      "\n"
     ]
    }
   ],
   "source": [
    "# write a query to show first 3 employees from each job role\n",
    "hremployeeDF.printSchema()"
   ]
  },
  {
   "cell_type": "code",
   "execution_count": 13,
   "id": "d3973332",
   "metadata": {
    "scrolled": true
   },
   "outputs": [
    {
     "name": "stdout",
     "output_type": "stream",
     "text": [
      "+----------+----------+---------------+-------+\n",
      "|EmployeeID|Department|        JobRole|row_num|\n",
      "+----------+----------+---------------+-------+\n",
      "|         1|     Sales|Sales Executive|      1|\n",
      "|      1012|     Sales|Sales Executive|      2|\n",
      "|      1014|     Sales|Sales Executive|      3|\n",
      "|      1020|     Sales|Sales Executive|      4|\n",
      "|      1026|     Sales|Sales Executive|      5|\n",
      "|      1027|     Sales|Sales Executive|      6|\n",
      "|      1031|     Sales|Sales Executive|      7|\n",
      "|      1032|     Sales|Sales Executive|      8|\n",
      "|      1039|     Sales|Sales Executive|      9|\n",
      "|      1042|     Sales|Sales Executive|     10|\n",
      "|      1048|     Sales|Sales Executive|     11|\n",
      "|      1049|     Sales|Sales Executive|     12|\n",
      "|      1050|     Sales|Sales Executive|     13|\n",
      "|      1052|     Sales|Sales Executive|     14|\n",
      "|      1058|     Sales|Sales Executive|     15|\n",
      "|      1059|     Sales|Sales Executive|     16|\n",
      "|      1063|     Sales|Sales Executive|     17|\n",
      "|      1067|     Sales|Sales Executive|     18|\n",
      "|      1070|     Sales|Sales Executive|     19|\n",
      "|       108|     Sales|Sales Executive|     20|\n",
      "+----------+----------+---------------+-------+\n",
      "only showing top 20 rows\n",
      "\n"
     ]
    }
   ],
   "source": [
    "spark.sql(\"\"\"SELECT EmployeeID,Department,JobRole,row_number() over(partition by JobRole order by EmployeeID) as row_num from hremployee\"\"\").show()"
   ]
  },
  {
   "cell_type": "code",
   "execution_count": 14,
   "id": "25ff3081",
   "metadata": {
    "collapsed": true
   },
   "outputs": [
    {
     "name": "stdout",
     "output_type": "stream",
     "text": [
      "+----------+--------------------+--------------------+-------+\n",
      "|EmployeeID|          Department|             JobRole|row_num|\n",
      "+----------+--------------------+--------------------+-------+\n",
      "|         1|               Sales|     Sales Executive|      1|\n",
      "|      1012|               Sales|     Sales Executive|      2|\n",
      "|      1014|               Sales|     Sales Executive|      3|\n",
      "|      1003|Research & Develo...|Manufacturing Dir...|      1|\n",
      "|      1034|Research & Develo...|Manufacturing Dir...|      2|\n",
      "|      1038|Research & Develo...|Manufacturing Dir...|      3|\n",
      "|       100|Research & Develo...|Laboratory Techni...|      1|\n",
      "|      1001|Research & Develo...|Laboratory Techni...|      2|\n",
      "|      1002|Research & Develo...|Laboratory Techni...|      3|\n",
      "|      1013|               Sales|Sales Representative|      1|\n",
      "|      1022|               Sales|Sales Representative|      2|\n",
      "|      1057|               Sales|Sales Representative|      3|\n",
      "|        10|Research & Develo...|Healthcare Repres...|      1|\n",
      "|      1008|Research & Develo...|Healthcare Repres...|      2|\n",
      "|      1035|Research & Develo...|Healthcare Repres...|      3|\n",
      "|      1016|Research & Develo...|  Research Scientist|      1|\n",
      "|      1017|Research & Develo...|  Research Scientist|      2|\n",
      "|       102|Research & Develo...|  Research Scientist|      3|\n",
      "|      1000|     Human Resources|             Manager|      1|\n",
      "|       106|     Human Resources|             Manager|      2|\n",
      "+----------+--------------------+--------------------+-------+\n",
      "only showing top 20 rows\n",
      "\n"
     ]
    }
   ],
   "source": [
    "spark.sql(\"\"\"SELECT * from (select EmployeeID,Department,JobRole,row_number() \n",
    "over(partition by JobRole order by EmployeeID) as row_num from hremployee)\n",
    "where row_num < 4\"\"\").show()"
   ]
  },
  {
   "cell_type": "code",
   "execution_count": 20,
   "id": "f8b81ff2",
   "metadata": {
    "collapsed": true
   },
   "outputs": [
    {
     "name": "stdout",
     "output_type": "stream",
     "text": [
      "+----------+--------------------+--------------------+------+----+\n",
      "|EmployeeID|          Department|             JobRole|Income|rank|\n",
      "+----------+--------------------+--------------------+------+----+\n",
      "|        99|               Sales|     Sales Executive| 13872|   1|\n",
      "|       545|               Sales|     Sales Executive| 13770|   2|\n",
      "|       839|               Sales|     Sales Executive| 13758|   3|\n",
      "|       722|Research & Develo...|Manufacturing Dir...| 13973|   1|\n",
      "|       628|Research & Develo...|Manufacturing Dir...| 13826|   2|\n",
      "|       744|Research & Develo...|Manufacturing Dir...| 13726|   3|\n",
      "|       678|Research & Develo...|Laboratory Techni...|  7403|   1|\n",
      "|       817|Research & Develo...|Laboratory Techni...|  6782|   2|\n",
      "|       945|Research & Develo...|Laboratory Techni...|  6674|   3|\n",
      "|       565|               Sales|Sales Representative|  6632|   1|\n",
      "|      1308|               Sales|Sales Representative|  5405|   2|\n",
      "|      1220|               Sales|Sales Representative|  4502|   3|\n",
      "|      1181|Research & Develo...|Healthcare Repres...| 13966|   1|\n",
      "|       317|Research & Develo...|Healthcare Repres...| 13964|   2|\n",
      "|       190|Research & Develo...|Healthcare Repres...| 13734|   3|\n",
      "|        68|Research & Develo...|  Research Scientist|  9724|   1|\n",
      "|      1315|Research & Develo...|  Research Scientist|  6962|   2|\n",
      "|      1305|Research & Develo...|  Research Scientist|  6854|   3|\n",
      "|       191|Research & Develo...|             Manager| 19999|   1|\n",
      "|       852|Research & Develo...|             Manager| 19943|   2|\n",
      "+----------+--------------------+--------------------+------+----+\n",
      "only showing top 20 rows\n",
      "\n"
     ]
    }
   ],
   "source": [
    "### 3 write a query to show top 3 employee from each job role earning max salary\n",
    "spark.sql(\"\"\"\n",
    "  SELECT * FROM (\n",
    "    SELECT EmployeeID, Department, JobRole, Income,\n",
    "           rank() OVER (PARTITION BY JobRole ORDER BY Income DESC) AS rank\n",
    "    FROM hremployee\n",
    "  ) WHERE rank < 4\n",
    "\"\"\").show()"
   ]
  },
  {
   "cell_type": "code",
   "execution_count": 24,
   "id": "e22d8775",
   "metadata": {},
   "outputs": [
    {
     "name": "stdout",
     "output_type": "stream",
     "text": [
      "+-----------------+------+\n",
      "|          JobRole|Income|\n",
      "+-----------------+------+\n",
      "|          Manager| 19999|\n",
      "|Research Director| 19973|\n",
      "|          Manager| 19943|\n",
      "+-----------------+------+\n",
      "\n"
     ]
    }
   ],
   "source": [
    "# 4 show top 3 highest package from overall job role\n",
    "spark.sql(\"\"\"\n",
    "  SELECT JobRole, Income\n",
    "  FROM (\n",
    "    SELECT JobRole, Income,\n",
    "           rank() OVER (ORDER BY Income DESC) AS rank\n",
    "    FROM hremployee\n",
    "  )WHERE rank <= 3\n",
    "\"\"\").show()"
   ]
  },
  {
   "cell_type": "code",
   "execution_count": 29,
   "id": "98ed9e59",
   "metadata": {},
   "outputs": [
    {
     "name": "stdout",
     "output_type": "stream",
     "text": [
      "+----------+----------+---------------+------+----+\n",
      "|EmployeeID|Department|        JobRole|Income|rank|\n",
      "+----------+----------+---------------+------+----+\n",
      "|        99|     Sales|Sales Executive| 13872|   1|\n",
      "|       545|     Sales|Sales Executive| 13770|   2|\n",
      "|       839|     Sales|Sales Executive| 13758|   3|\n",
      "|       976|     Sales|Sales Executive| 13695|   4|\n",
      "|       296|     Sales|Sales Executive| 13525|   5|\n",
      "|      1403|     Sales|Sales Executive| 13341|   6|\n",
      "|       751|     Sales|Sales Executive| 13320|   7|\n",
      "|      1327|     Sales|Sales Executive| 13225|   8|\n",
      "|       402|     Sales|Sales Executive| 13212|   9|\n",
      "|       707|     Sales|Sales Executive| 13194|  10|\n",
      "|       822|     Sales|Sales Executive| 13120|  11|\n",
      "|      1223|     Sales|Sales Executive| 12936|  12|\n",
      "|      1462|     Sales|Sales Executive| 12031|  13|\n",
      "|       647|     Sales|Sales Executive| 11836|  14|\n",
      "|       625|     Sales|Sales Executive| 10934|  15|\n",
      "|       459|     Sales|Sales Executive| 10932|  16|\n",
      "|       159|     Sales|Sales Executive| 10855|  17|\n",
      "|      1461|     Sales|Sales Executive| 10854|  18|\n",
      "|       776|     Sales|Sales Executive| 10798|  19|\n",
      "|      1031|     Sales|Sales Executive| 10793|  20|\n",
      "+----------+----------+---------------+------+----+\n",
      "only showing top 20 rows\n",
      "\n"
     ]
    }
   ],
   "source": [
    "spark.sql(\"\"\"SELECT EmployeeID, Department, JobRole, Income,\n",
    "           rank() OVER (PARTITION BY JobRole ORDER BY Income DESC) AS rank\n",
    "    FROM hremployee\"\"\").show()"
   ]
  },
  {
   "cell_type": "markdown",
   "id": "fad8cac5",
   "metadata": {},
   "source": [
    "### dense rank gives same value to two same rows"
   ]
  },
  {
   "cell_type": "code",
   "execution_count": 37,
   "id": "f71ff57a",
   "metadata": {
    "collapsed": true
   },
   "outputs": [
    {
     "name": "stdout",
     "output_type": "stream",
     "text": [
      "+----------+----------+---------------+---+------+------+------+-----------+\n",
      "|employeeid|department|        jobrole|age|gender|income|workex|Rank_By_Age|\n",
      "+----------+----------+---------------+---+------+------+------+-----------+\n",
      "|       428|     Sales|Sales Executive| 60|Female| 10266|    22|          1|\n",
      "|       880|     Sales|Sales Executive| 60|  Male|  5220|    12|          2|\n",
      "|       537|     Sales|Sales Executive| 60|  Male|  5405|    10|          3|\n",
      "|        64|     Sales|Sales Executive| 59|Female|  7637|    28|          4|\n",
      "|        71|     Sales|Sales Executive| 59|Female|  5473|    20|          5|\n",
      "|       898|     Sales|Sales Executive| 59|Female|  5171|    13|          6|\n",
      "|        99|     Sales|Sales Executive| 58|  Male| 13872|    38|          7|\n",
      "|       402|     Sales|Sales Executive| 56|Female| 13212|    36|          8|\n",
      "|      1371|     Sales|Sales Executive| 56|Female|  5380|     6|          9|\n",
      "|        83|     Sales|Sales Executive| 55|  Male| 10239|    24|         10|\n",
      "|       976|     Sales|Sales Executive| 55|  Male| 13695|    24|         10|\n",
      "|       609|     Sales|Sales Executive| 55|  Male|  5160|    12|         11|\n",
      "|       220|     Sales|Sales Executive| 54|Female|  5940|    16|         12|\n",
      "|       772|     Sales|Sales Executive| 54|Female| 10686|    13|         13|\n",
      "|       625|     Sales|Sales Executive| 53|Female| 10934|    35|         14|\n",
      "|       761|     Sales|Sales Executive| 53|Female|  7525|    30|         15|\n",
      "|       647|     Sales|Sales Executive| 53|  Male| 11836|    28|         16|\n",
      "|       503|     Sales|Sales Executive| 53|Female|  8381|    18|         17|\n",
      "|      1396|     Sales|Sales Executive| 53|  Male| 10448|    15|         18|\n",
      "|       948|     Sales|Sales Executive| 52|  Male|  8446|    10|         19|\n",
      "+----------+----------+---------------+---+------+------+------+-----------+\n",
      "only showing top 20 rows\n",
      "\n"
     ]
    }
   ],
   "source": [
    "\n",
    "spark.sql(\"\"\"\n",
    "select employeeid, department, jobrole, age, gender, income, workex,dense_rank() \n",
    "over(partition by JobRole order by age desc, workex desc) as Rank_By_Age from hremployee\n",
    "\"\"\").show()"
   ]
  },
  {
   "cell_type": "code",
   "execution_count": 38,
   "id": "8906ae62",
   "metadata": {
    "collapsed": true
   },
   "outputs": [
    {
     "name": "stdout",
     "output_type": "stream",
     "text": [
      "+----------+----------+---------------+---+------+------+------+-----------+\n",
      "|employeeid|department|        jobrole|age|gender|income|workex|Rank_By_Age|\n",
      "+----------+----------+---------------+---+------+------+------+-----------+\n",
      "|       381|     Sales|Sales Executive| 24|Female|  4260|     5|          1|\n",
      "|      1026|     Sales|Sales Executive| 24|Female|  4162|     5|          1|\n",
      "|        97|     Sales|Sales Executive| 24|Female|  4999|     4|          2|\n",
      "|       526|     Sales|Sales Executive| 24|Female|  4577|     4|          2|\n",
      "|       108|     Sales|Sales Executive| 25|  Male|  5744|     6|          3|\n",
      "|       139|     Sales|Sales Executive| 25|  Male|  8639|     6|          3|\n",
      "|       564|     Sales|Sales Executive| 25|Female|  6180|     6|          3|\n",
      "|       994|     Sales|Sales Executive| 25|  Male|  6232|     6|          3|\n",
      "|      1433|     Sales|Sales Executive| 25|Female|  4907|     6|          3|\n",
      "|       398|     Sales|Sales Executive| 25|Female|  4487|     5|          4|\n",
      "|       635|     Sales|Sales Executive| 25|  Male|  4194|     5|          4|\n",
      "|       639|     Sales|Sales Executive| 25|  Male|  4256|     5|          4|\n",
      "|       886|     Sales|Sales Executive| 25|  Male|  4950|     5|          4|\n",
      "|       518|     Sales|Sales Executive| 25|  Male|  4851|     4|          5|\n",
      "|       294|     Sales|Sales Executive| 26|  Male|  5828|     8|          6|\n",
      "|       356|     Sales|Sales Executive| 26|  Male|  5296|     8|          6|\n",
      "|       461|     Sales|Sales Executive| 26|  Male|  4306|     8|          6|\n",
      "|       686|     Sales|Sales Executive| 26|  Male|  4294|     7|          7|\n",
      "|       749|     Sales|Sales Executive| 26|  Male|  4969|     7|          7|\n",
      "|       476|     Sales|Sales Executive| 26|  Male|  6272|     6|          8|\n",
      "+----------+----------+---------------+---+------+------+------+-----------+\n",
      "only showing top 20 rows\n",
      "\n"
     ]
    }
   ],
   "source": [
    "spark.sql(\"\"\"\n",
    "select employeeid, department, jobrole, age, gender, income, workex,dense_rank() \n",
    "over(partition by JobRole order by age , workex desc) as Rank_By_Age from hremployee\n",
    "\"\"\").show()"
   ]
  },
  {
   "cell_type": "markdown",
   "id": "69e3ea2e",
   "metadata": {},
   "source": [
    "### lag window function\n",
    "    *allows you to  access records from previous row\n",
    "    *used in comparing records between rows or calculating differences\n",
    "    *takes 3 values column name,offset & default "
   ]
  },
  {
   "cell_type": "code",
   "execution_count": 39,
   "id": "95dcb83c",
   "metadata": {},
   "outputs": [
    {
     "name": "stdout",
     "output_type": "stream",
     "text": [
      "+----------+----------+---------------+---+------+------+------+---------------+\n",
      "|employeeid|department|        jobrole|age|gender|income|workex|previous_income|\n",
      "+----------+----------+---------------+---+------+------+------+---------------+\n",
      "|         1|     Sales|Sales Executive| 41|Female|  5993|     8|           null|\n",
      "|      1012|     Sales|Sales Executive| 36|Female|  9278|    15|           5993|\n",
      "|      1014|     Sales|Sales Executive| 30|Female|  4779|     8|           9278|\n",
      "|      1020|     Sales|Sales Executive| 36|Female|  5647|    11|           4779|\n",
      "|      1026|     Sales|Sales Executive| 24|Female|  4162|     5|           5647|\n",
      "|      1027|     Sales|Sales Executive| 32|  Male|  9204|     7|           4162|\n",
      "|      1031|     Sales|Sales Executive| 31|  Male| 10793|    13|           9204|\n",
      "|      1032|     Sales|Sales Executive| 46|  Male| 10096|    28|          10793|\n",
      "|      1039|     Sales|Sales Executive| 48|  Male|  5486|    15|          10096|\n",
      "|      1042|     Sales|Sales Executive| 28|  Male|  8463|     6|           5486|\n",
      "|      1048|     Sales|Sales Executive| 33|  Male|  4373|     5|           8463|\n",
      "|      1049|     Sales|Sales Executive| 34|  Male|  4759|    15|           4373|\n",
      "|      1050|     Sales|Sales Executive| 30|  Male|  5301|     4|           4759|\n",
      "|      1052|     Sales|Sales Executive| 44|Female|  4768|    11|           5301|\n",
      "|      1058|     Sales|Sales Executive| 29|Female|  5765|     7|           4768|\n",
      "|      1059|     Sales|Sales Executive| 34|Female|  4599|    16|           5765|\n",
      "|      1063|     Sales|Sales Executive| 29|  Male|  8620|    10|           4599|\n",
      "|      1067|     Sales|Sales Executive| 47|Female|  4591|    11|           8620|\n",
      "|      1070|     Sales|Sales Executive| 28|  Male|  4898|     5|           4591|\n",
      "|       108|     Sales|Sales Executive| 25|  Male|  5744|     6|           4898|\n",
      "+----------+----------+---------------+---+------+------+------+---------------+\n",
      "only showing top 20 rows\n",
      "\n"
     ]
    }
   ],
   "source": [
    "spark.sql(\"\"\"\n",
    "select employeeid, department, jobrole, age, gender, income, workex,lag(income) \n",
    "over(partition by JobRole order by employeeid) as previous_income from hremployee\n",
    "\"\"\").show()"
   ]
  },
  {
   "cell_type": "code",
   "execution_count": 41,
   "id": "78388ced",
   "metadata": {},
   "outputs": [
    {
     "name": "stdout",
     "output_type": "stream",
     "text": [
      "+----------+----------+---------------+---+------+------+------+---------------+\n",
      "|employeeid|department|        jobrole|age|gender|income|workex|previous_income|\n",
      "+----------+----------+---------------+---+------+------+------+---------------+\n",
      "|         1|     Sales|Sales Executive| 41|Female|  5993|     8|              0|\n",
      "|      1012|     Sales|Sales Executive| 36|Female|  9278|    15|              0|\n",
      "|      1014|     Sales|Sales Executive| 30|Female|  4779|     8|              0|\n",
      "|      1020|     Sales|Sales Executive| 36|Female|  5647|    11|           5993|\n",
      "|      1026|     Sales|Sales Executive| 24|Female|  4162|     5|           9278|\n",
      "|      1027|     Sales|Sales Executive| 32|  Male|  9204|     7|           4779|\n",
      "|      1031|     Sales|Sales Executive| 31|  Male| 10793|    13|           5647|\n",
      "|      1032|     Sales|Sales Executive| 46|  Male| 10096|    28|           4162|\n",
      "|      1039|     Sales|Sales Executive| 48|  Male|  5486|    15|           9204|\n",
      "|      1042|     Sales|Sales Executive| 28|  Male|  8463|     6|          10793|\n",
      "|      1048|     Sales|Sales Executive| 33|  Male|  4373|     5|          10096|\n",
      "|      1049|     Sales|Sales Executive| 34|  Male|  4759|    15|           5486|\n",
      "|      1050|     Sales|Sales Executive| 30|  Male|  5301|     4|           8463|\n",
      "|      1052|     Sales|Sales Executive| 44|Female|  4768|    11|           4373|\n",
      "|      1058|     Sales|Sales Executive| 29|Female|  5765|     7|           4759|\n",
      "|      1059|     Sales|Sales Executive| 34|Female|  4599|    16|           5301|\n",
      "|      1063|     Sales|Sales Executive| 29|  Male|  8620|    10|           4768|\n",
      "|      1067|     Sales|Sales Executive| 47|Female|  4591|    11|           5765|\n",
      "|      1070|     Sales|Sales Executive| 28|  Male|  4898|     5|           4599|\n",
      "|       108|     Sales|Sales Executive| 25|  Male|  5744|     6|           8620|\n",
      "+----------+----------+---------------+---+------+------+------+---------------+\n",
      "only showing top 20 rows\n",
      "\n"
     ]
    }
   ],
   "source": [
    "spark.sql(\"\"\"\n",
    "select employeeid, department, jobrole, age, gender, income, workex,lag(income,3,0) \n",
    "over(partition by JobRole order by employeeid) as previous_income from hremployee\n",
    "\"\"\").show()"
   ]
  },
  {
   "cell_type": "markdown",
   "id": "b115e964",
   "metadata": {},
   "source": [
    "### lead function \n",
    "    * next value"
   ]
  },
  {
   "cell_type": "code",
   "execution_count": 42,
   "id": "5a27fb8b",
   "metadata": {
    "collapsed": true
   },
   "outputs": [
    {
     "name": "stdout",
     "output_type": "stream",
     "text": [
      "+----------+----------+---------------+---+------+------+------+-----------+\n",
      "|employeeid|department|        jobrole|age|gender|income|workex|next_income|\n",
      "+----------+----------+---------------+---+------+------+------+-----------+\n",
      "|         1|     Sales|Sales Executive| 41|Female|  5993|     8|       9278|\n",
      "|      1012|     Sales|Sales Executive| 36|Female|  9278|    15|       4779|\n",
      "|      1014|     Sales|Sales Executive| 30|Female|  4779|     8|       5647|\n",
      "|      1020|     Sales|Sales Executive| 36|Female|  5647|    11|       4162|\n",
      "|      1026|     Sales|Sales Executive| 24|Female|  4162|     5|       9204|\n",
      "|      1027|     Sales|Sales Executive| 32|  Male|  9204|     7|      10793|\n",
      "|      1031|     Sales|Sales Executive| 31|  Male| 10793|    13|      10096|\n",
      "|      1032|     Sales|Sales Executive| 46|  Male| 10096|    28|       5486|\n",
      "|      1039|     Sales|Sales Executive| 48|  Male|  5486|    15|       8463|\n",
      "|      1042|     Sales|Sales Executive| 28|  Male|  8463|     6|       4373|\n",
      "|      1048|     Sales|Sales Executive| 33|  Male|  4373|     5|       4759|\n",
      "|      1049|     Sales|Sales Executive| 34|  Male|  4759|    15|       5301|\n",
      "|      1050|     Sales|Sales Executive| 30|  Male|  5301|     4|       4768|\n",
      "|      1052|     Sales|Sales Executive| 44|Female|  4768|    11|       5765|\n",
      "|      1058|     Sales|Sales Executive| 29|Female|  5765|     7|       4599|\n",
      "|      1059|     Sales|Sales Executive| 34|Female|  4599|    16|       8620|\n",
      "|      1063|     Sales|Sales Executive| 29|  Male|  8620|    10|       4591|\n",
      "|      1067|     Sales|Sales Executive| 47|Female|  4591|    11|       4898|\n",
      "|      1070|     Sales|Sales Executive| 28|  Male|  4898|     5|       5744|\n",
      "|       108|     Sales|Sales Executive| 25|  Male|  5744|     6|       7083|\n",
      "+----------+----------+---------------+---+------+------+------+-----------+\n",
      "only showing top 20 rows\n",
      "\n"
     ]
    }
   ],
   "source": [
    "spark.sql(\"\"\"\n",
    "select employeeid, department, jobrole, age, gender, income, workex,lead(income,1,0) \n",
    "over(partition by JobRole order by employeeid) as next_income from hremployee\n",
    "\"\"\").show()"
   ]
  },
  {
   "cell_type": "markdown",
   "id": "0577ef95",
   "metadata": {},
   "source": [
    "### NTILE(): \n",
    "    *used to find quantiles AND divinding records into quantiles"
   ]
  },
  {
   "cell_type": "code",
   "execution_count": 47,
   "id": "294d4f39",
   "metadata": {
    "scrolled": true
   },
   "outputs": [
    {
     "name": "stdout",
     "output_type": "stream",
     "text": [
      "+----------+--------------------+--------------------+------+------+---------------+\n",
      "|employeeid|          department|             jobrole|income|workex|salary_quantile|\n",
      "+----------+--------------------+--------------------+------+------+---------------+\n",
      "|       191|Research & Develo...|             Manager| 19999|    34|              1|\n",
      "|       747|Research & Develo...|   Research Director| 19973|    21|              1|\n",
      "|       852|Research & Develo...|             Manager| 19943|    28|              1|\n",
      "|       166|Research & Develo...|             Manager| 19926|    21|              1|\n",
      "|       569|Research & Develo...|             Manager| 19859|    24|              1|\n",
      "|       919|               Sales|             Manager| 19847|    31|              1|\n",
      "|       750|               Sales|             Manager| 19845|    33|              1|\n",
      "|      1242|               Sales|             Manager| 19833|    21|              1|\n",
      "|       899|Research & Develo...|   Research Director| 19740|    25|              1|\n",
      "|       957|     Human Resources|             Manager| 19717|    36|              1|\n",
      "|      1010|Research & Develo...|   Research Director| 19701|    32|              1|\n",
      "|      1331|Research & Develo...|   Research Director| 19665|    29|              1|\n",
      "|      1154|     Human Resources|             Manager| 19658|    27|              1|\n",
      "|      1401|     Human Resources|             Manager| 19636|    35|              1|\n",
      "|       771|Research & Develo...|   Research Director| 19627|    23|              1|\n",
      "|       815|Research & Develo...|   Research Director| 19626|    21|              1|\n",
      "|      1129|Research & Develo...|             Manager| 19613|    24|              1|\n",
      "|      1116|               Sales|             Manager| 19586|    36|              1|\n",
      "|       412|Research & Develo...|             Manager| 19566|    33|              1|\n",
      "|        46|Research & Develo...|   Research Director| 19545|    23|              1|\n",
      "|       124|Research & Develo...|   Research Director| 19537|    23|              1|\n",
      "|       234|               Sales|             Manager| 19517|    32|              1|\n",
      "|       498|Research & Develo...|             Manager| 19513|    26|              1|\n",
      "|       474|Research & Develo...|   Research Director| 19502|    31|              1|\n",
      "|       258|Research & Develo...|   Research Director| 19436|    22|              1|\n",
      "|      1437|Research & Develo...|             Manager| 19431|    21|              1|\n",
      "|       717|Research & Develo...|   Research Director| 19419|    21|              1|\n",
      "|       393|Research & Develo...|   Research Director| 19406|    24|              1|\n",
      "|      1330|Research & Develo...|             Manager| 19392|    21|              1|\n",
      "|      1126|               Sales|             Manager| 19331|    27|              1|\n",
      "|      1277|Research & Develo...|   Research Director| 19328|    24|              1|\n",
      "|       327|Research & Develo...|             Manager| 19272|    21|              1|\n",
      "|       596|Research & Develo...|   Research Director| 19246|    40|              1|\n",
      "|       767|Research & Develo...|   Research Director| 19237|    29|              1|\n",
      "|       232|Research & Develo...|             Manager| 19232|    22|              1|\n",
      "|       245|Research & Develo...|             Manager| 19202|    25|              1|\n",
      "|       401|Research & Develo...|             Manager| 19197|    21|              1|\n",
      "|       923|Research & Develo...|             Manager| 19190|    26|              1|\n",
      "|       539|     Human Resources|             Manager| 19189|    22|              1|\n",
      "|       956|Research & Develo...|             Manager| 19187|    23|              1|\n",
      "|      1377|Research & Develo...|   Research Director| 19161|    28|              1|\n",
      "|       280|Research & Develo...|   Research Director| 19144|    28|              1|\n",
      "|       536|     Human Resources|             Manager| 19141|    23|              1|\n",
      "|        26|Research & Develo...|             Manager| 19094|    26|              1|\n",
      "|       870|Research & Develo...|   Research Director| 19081|    25|              1|\n",
      "|       238|               Sales|             Manager| 19068|    33|              1|\n",
      "|      1140|Research & Develo...|   Research Director| 19049|    23|              1|\n",
      "|       271|Research & Develo...|             Manager| 19045|    37|              1|\n",
      "|      1264|Research & Develo...|   Research Director| 19038|    34|              1|\n",
      "|       187|Research & Develo...|             Manager| 19033|    21|              1|\n",
      "|        30|               Sales|             Manager| 18947|    22|              1|\n",
      "|      1443|Research & Develo...|             Manager| 18880|    24|              1|\n",
      "|       106|     Human Resources|             Manager| 18844|    30|              1|\n",
      "|       914|               Sales|             Manager| 18824|    26|              1|\n",
      "|       917|               Sales|             Manager| 18789|    26|              1|\n",
      "|        63|Research & Develo...|   Research Director| 18740|    29|              1|\n",
      "|       188|Research & Develo...|   Research Director| 18722|    36|              1|\n",
      "|       900|Research & Develo...|             Manager| 18711|    23|              1|\n",
      "|       291|Research & Develo...|   Research Director| 18665|    22|              1|\n",
      "|       859|Research & Develo...|             Manager| 18606|    26|              1|\n",
      "|       585|Research & Develo...|             Manager| 18430|    24|              1|\n",
      "|       742|               Sales|             Manager| 18303|    21|              1|\n",
      "|       330|Research & Develo...|   Research Director| 18300|    21|              1|\n",
      "|       905|Research & Develo...|   Research Director| 18265|    25|              1|\n",
      "|       908|               Sales|             Manager| 18213|    26|              1|\n",
      "|       478|     Human Resources|             Manager| 18200|    32|              1|\n",
      "|       107|Research & Develo...|   Research Director| 18172|    28|              1|\n",
      "|       937|Research & Develo...|             Manager| 18061|    22|              1|\n",
      "|       418|               Sales|             Manager| 18041|    21|              1|\n",
      "|       654|Research & Develo...|             Manager| 17924|    31|              1|\n",
      "|      1374|               Sales|             Manager| 17875|    29|              1|\n",
      "|       430|Research & Develo...|   Research Director| 17861|    26|              1|\n",
      "|       955|Research & Develo...|             Manager| 17861|    21|              1|\n",
      "|       868|Research & Develo...|             Manager| 17856|    32|              1|\n",
      "|       895|Research & Develo...|   Research Director| 17779|    36|              1|\n",
      "|       800|Research & Develo...|             Manager| 17665|    23|              1|\n",
      "|       756|               Sales|             Manager| 17650|    26|              1|\n",
      "|       589|Research & Develo...|   Research Director| 17639|    30|              1|\n",
      "|      1185|Research & Develo...|   Research Director| 17603|    14|              1|\n",
      "|       281|Research & Develo...|   Research Director| 17584|    21|              1|\n",
      "|      1135|               Sales|             Manager| 17567|    27|              1|\n",
      "|       811|               Sales|             Manager| 17465|    23|              1|\n",
      "|       711|               Sales|             Manager| 17444|    10|              1|\n",
      "|      1184|Research & Develo...|             Manager| 17426|    36|              1|\n",
      "|       715|Research & Develo...|   Research Director| 17399|    32|              1|\n",
      "|       113|     Human Resources|             Manager| 17328|    23|              1|\n",
      "|      1009|Research & Develo...|   Research Director| 17328|    29|              1|\n",
      "|       148|Research & Develo...|             Manager| 17181|    21|              1|\n",
      "|      1351|Research & Develo...|             Manager| 17174|    24|              1|\n",
      "|      1025|Research & Develo...|   Research Director| 17169|    26|              1|\n",
      "|       610|Research & Develo...|   Research Director| 17159|    22|              1|\n",
      "|       938|Research & Develo...|             Manager| 17123|    21|              1|\n",
      "|       700|Research & Develo...|             Manager| 17099|    26|              1|\n",
      "|       315|Research & Develo...|             Manager| 17068|    21|              1|\n",
      "|       862|               Sales|             Manager| 17048|    28|              1|\n",
      "|       426|Research & Develo...|             Manager| 17046|    28|              1|\n",
      "|      1056|Research & Develo...|   Research Director| 17007|    16|              1|\n",
      "|       120|               Sales|             Manager| 16959|    25|              1|\n",
      "|       805|Research & Develo...|             Manager| 16885|    27|              1|\n",
      "|       946|Research & Develo...|   Research Director| 16880|    25|              1|\n",
      "|       264|               Sales|             Manager| 16872|    28|              1|\n",
      "|       562|               Sales|             Manager| 16856|    34|              1|\n",
      "|       446|               Sales|             Manager| 16835|    37|              1|\n",
      "|      1348|Research & Develo...|             Manager| 16823|    22|              1|\n",
      "|      1000|     Human Resources|             Manager| 16799|    21|              1|\n",
      "|       195|Research & Develo...|             Manager| 16792|    22|              1|\n",
      "|       775|Research & Develo...|             Manager| 16756|    31|              1|\n",
      "|       593|Research & Develo...|             Manager| 16752|    26|              1|\n",
      "|      1225|Research & Develo...|   Research Director| 16704|    21|              1|\n",
      "|       380|Research & Develo...|             Manager| 16659|    30|              1|\n",
      "|       490|Research & Develo...|   Research Director| 16627|    21|              1|\n",
      "|      1080|               Sales|             Manager| 16606|    23|              1|\n",
      "|      1044|Research & Develo...|   Research Director| 16598|    35|              1|\n",
      "|       467|               Sales|             Manager| 16595|    22|              1|\n",
      "|       409|Research & Develo...|             Manager| 16555|    31|              1|\n",
      "|      1096|     Human Resources|             Manager| 16437|    21|              1|\n",
      "|      1015|Research & Develo...|   Research Director| 16422|     9|              1|\n",
      "|      1176|Research & Develo...|   Research Director| 16413|    27|              1|\n",
      "|      1078|Research & Develo...|   Research Director| 16328|    24|              1|\n",
      "|       617|               Sales|             Manager| 16307|    29|              1|\n",
      "|      1301|               Sales|             Manager| 16291|    37|              1|\n",
      "|       456|Research & Develo...|   Research Director| 16184|    10|              1|\n",
      "|       906|Research & Develo...|   Research Director| 16124|     9|              1|\n",
      "|       236|               Sales|             Manager| 16064|    22|              1|\n",
      "|      1076|Research & Develo...|             Manager| 16032|    26|              1|\n",
      "|       301|               Sales|             Manager| 16015|    22|              1|\n",
      "|       349|Research & Develo...|   Research Director| 15992|    16|              1|\n",
      "|      1194|               Sales|             Manager| 15972|    29|              1|\n",
      "|      1310|Research & Develo...|   Research Director| 15787|    23|              1|\n",
      "|        19|               Sales|             Manager| 15427|    31|              1|\n",
      "|       493|Research & Develo...|             Manager| 15402|    21|              1|\n",
      "|      1195|Research & Develo...|             Manager| 15379|    23|              1|\n",
      "|      1166|Research & Develo...|             Manager| 15202|    23|              1|\n",
      "|       702|               Sales|             Manager| 14852|    22|              1|\n",
      "|       535|Research & Develo...|   Research Director| 14814|    32|              1|\n",
      "|        66|Research & Develo...|             Manager| 14756|    21|              1|\n",
      "|      1011|Research & Develo...|   Research Director| 14732|    31|              1|\n",
      "|      1086|Research & Develo...|   Research Director| 14411|    32|              1|\n",
      "|       391|Research & Develo...|   Research Director| 14336|    25|              1|\n",
      "|       650|Research & Develo...|   Research Director| 14275|    33|              1|\n",
      "|       425|               Sales|             Manager| 14118|    32|              1|\n",
      "|       963|     Human Resources|             Manager| 14026|    33|              1|\n",
      "|       722|Research & Develo...|Manufacturing Dir...| 13973|    22|              1|\n",
      "|      1181|Research & Develo...|Healthcare Repres...| 13966|    30|              1|\n",
      "|       317|Research & Develo...|Healthcare Repres...| 13964|    25|              1|\n",
      "|        99|               Sales|     Sales Executive| 13872|    38|              1|\n",
      "|       628|Research & Develo...|Manufacturing Dir...| 13826|    31|              1|\n",
      "|       545|               Sales|     Sales Executive| 13770|    28|              1|\n",
      "|       839|               Sales|     Sales Executive| 13758|    22|              1|\n",
      "|      1041|Research & Develo...|   Research Director| 13757|    16|              1|\n",
      "|      1432|Research & Develo...|   Research Director| 13744|    16|              1|\n",
      "|       190|Research & Develo...|Healthcare Repres...| 13734|    21|              1|\n",
      "|       744|Research & Develo...|Manufacturing Dir...| 13726|    30|              1|\n",
      "|       976|               Sales|     Sales Executive| 13695|    24|              1|\n",
      "|       246|Research & Develo...|   Research Director| 13675|     9|              1|\n",
      "|        79|Research & Develo...|   Research Director| 13664|    16|              1|\n",
      "|       436|Research & Develo...|             Manager| 13610|    15|              1|\n",
      "|       276|Research & Develo...|   Research Director| 13603|    15|              1|\n",
      "|       216|               Sales|             Manager| 13591|    16|              1|\n",
      "|       682|Research & Develo...|   Research Director| 13582|    15|              1|\n",
      "|       915|Research & Develo...|Healthcare Repres...| 13577|    34|              1|\n",
      "|      1445|Research & Develo...|Manufacturing Dir...| 13570|    21|              1|\n",
      "|        96|Research & Develo...|   Research Director| 13549|    16|              1|\n",
      "|       296|               Sales|     Sales Executive| 13525|    23|              1|\n",
      "|        91|Research & Develo...|Healthcare Repres...| 13503|    22|              1|\n",
      "|       838|Research & Develo...|   Research Director| 13499|    20|              1|\n",
      "|       269|Research & Develo...|Healthcare Repres...| 13496|    21|              1|\n",
      "|      1284|Research & Develo...|   Research Director| 13464|     9|              1|\n",
      "|        56|Research & Develo...|   Research Director| 13458|    15|              1|\n",
      "|       977|Research & Develo...|Manufacturing Dir...| 13402|    33|              1|\n",
      "|      1357|Research & Develo...|   Research Director| 13348|    18|              1|\n",
      "|      1403|               Sales|     Sales Executive| 13341|    21|              1|\n",
      "|       751|               Sales|     Sales Executive| 13320|    23|              1|\n",
      "|      1177|Research & Develo...|   Research Director| 13269|    19|              1|\n",
      "|       995|Research & Develo...|Manufacturing Dir...| 13247|    24|              1|\n",
      "|        78|Research & Develo...|   Research Director| 13245|    17|              1|\n",
      "|       449|Research & Develo...|Manufacturing Dir...| 13237|    22|              1|\n",
      "|      1327|               Sales|     Sales Executive| 13225|    25|              1|\n",
      "|       402|               Sales|     Sales Executive| 13212|    36|              1|\n",
      "|      1430|Research & Develo...|   Research Director| 13206|    20|              1|\n",
      "|       707|               Sales|     Sales Executive| 13194|    22|              1|\n",
      "|       888|Research & Develo...|   Research Director| 13191|    20|              1|\n",
      "|       972|Research & Develo...|Manufacturing Dir...| 13142|    29|              1|\n",
      "|       822|               Sales|     Sales Executive| 13120|    22|              1|\n",
      "|      1275|Research & Develo...|             Manager| 13116|    15|              1|\n",
      "|      1268|Research & Develo...|Manufacturing Dir...| 12965|    27|              1|\n",
      "|      1223|               Sales|     Sales Executive| 12936|    25|              1|\n",
      "|       611|Research & Develo...|   Research Director| 12808|     9|              1|\n",
      "|       739|Research & Develo...|Manufacturing Dir...| 12742|    21|              1|\n",
      "|       353|               Sales|             Manager| 12504|    15|              1|\n",
      "|       214|Research & Develo...|   Research Director| 12490|    16|              1|\n",
      "|       223|Research & Develo...|   Research Director| 12185|    10|              1|\n",
      "|       814|Research & Develo...|Healthcare Repres...| 12169|    21|              1|\n",
      "|       308|Research & Develo...|   Research Director| 12061|    19|              1|\n",
      "|      1462|               Sales|     Sales Executive| 12031|    21|              1|\n",
      "|       277|Research & Develo...|             Manager| 11996|    10|              1|\n",
      "|        23|Research & Develo...|   Research Director| 11994|    13|              1|\n",
      "|      1421|Research & Develo...|   Research Director| 11957|    14|              1|\n",
      "|       421|Research & Develo...|   Research Director| 11935|    10|              1|\n",
      "|       949|Research & Develo...|             Manager| 11916|     9|              1|\n",
      "|       759|               Sales|             Manager| 11904|    14|              1|\n",
      "|       314|Research & Develo...|             Manager| 11878|    12|              1|\n",
      "|       272|Research & Develo...|             Manager| 11849|    10|              1|\n",
      "|       647|               Sales|     Sales Executive| 11836|    28|              1|\n",
      "|       542|Research & Develo...|   Research Director| 11713|    10|              1|\n",
      "|       591|Research & Develo...|   Research Director| 11691|    14|              1|\n",
      "|       117|Research & Develo...|             Manager| 11631|    14|              1|\n",
      "|       457|               Sales|             Manager| 11557|    10|              1|\n",
      "|       342|Research & Develo...|   Research Director| 11510|    12|              1|\n",
      "|       731|Research & Develo...|   Research Director| 11416|     9|              1|\n",
      "|      1138|Research & Develo...|Healthcare Repres...| 11245|    32|              1|\n",
      "|      1075|Research & Develo...|             Manager| 11244|    10|              1|\n",
      "|       532|Research & Develo...|   Research Director| 11159|    10|              1|\n",
      "|       553|Research & Develo...|Healthcare Repres...| 11103|    30|              1|\n",
      "|      1405|Research & Develo...|   Research Director| 11031|    13|              1|\n",
      "|       737|Research & Develo...|Healthcare Repres...| 10999|    27|              1|\n",
      "|       788|Research & Develo...|Manufacturing Dir...| 10976|    23|              1|\n",
      "|       376|Research & Develo...|Healthcare Repres...| 10965|    26|              1|\n",
      "|       252|Research & Develo...|Healthcare Repres...| 10938|    20|              1|\n",
      "|       625|               Sales|     Sales Executive| 10934|    35|              1|\n",
      "|       459|               Sales|     Sales Executive| 10932|    20|              1|\n",
      "|       993|Research & Develo...|Healthcare Repres...| 10920|    13|              1|\n",
      "|       648|Research & Develo...|Manufacturing Dir...| 10903|    16|              1|\n",
      "|      1209|Research & Develo...|Healthcare Repres...| 10883|    19|              1|\n",
      "|       754|Research & Develo...|Manufacturing Dir...| 10880|    21|              1|\n",
      "|       159|               Sales|     Sales Executive| 10855|    15|              1|\n",
      "|      1461|               Sales|     Sales Executive| 10854|    20|              1|\n",
      "|      1035|Research & Develo...|Healthcare Repres...| 10851|    24|              1|\n",
      "|       724|Research & Develo...|Manufacturing Dir...| 10845|    13|              1|\n",
      "|       813|Research & Develo...|Manufacturing Dir...| 10820|    18|              1|\n",
      "|       776|               Sales|     Sales Executive| 10798|    18|              1|\n",
      "|      1031|               Sales|     Sales Executive| 10793|    13|              1|\n",
      "|       626|               Sales|     Sales Executive| 10761|    18|              1|\n",
      "|      1221|Research & Develo...|Healthcare Repres...| 10748|    25|              1|\n",
      "|       729|Research & Develo...|Manufacturing Dir...| 10739|    22|              1|\n",
      "|       511|     Human Resources|     Human Resources| 10725|    16|              1|\n",
      "|       772|               Sales|     Sales Executive| 10686|    13|              1|\n",
      "|       636|Research & Develo...|Manufacturing Dir...| 10685|    17|              1|\n",
      "|        94|Research & Develo...|Healthcare Repres...| 10673|    21|              1|\n",
      "|       137|Research & Develo...|Manufacturing Dir...| 10650|    18|              1|\n",
      "|       435|Research & Develo...|Manufacturing Dir...| 10648|    13|              1|\n",
      "|       224|               Sales|     Sales Executive| 10609|    17|              1|\n",
      "|       696|               Sales|     Sales Executive| 10609|    17|              1|\n",
      "|       988|               Sales|     Sales Executive| 10596|    14|              1|\n",
      "|       675|Research & Develo...|Healthcare Repres...| 10552|    24|              1|\n",
      "|       466|Research & Develo...|Healthcare Repres...| 10527|    28|              1|\n",
      "|       920|Research & Develo...|Manufacturing Dir...| 10512|    25|              1|\n",
      "|       891|Research & Develo...|Manufacturing Dir...| 10502|    33|              1|\n",
      "|       368|Research & Develo...|Healthcare Repres...| 10496|    20|              1|\n",
      "|       790|     Human Resources|     Human Resources| 10482|    24|              1|\n",
      "|       534|               Sales|     Sales Executive| 10475|    20|              1|\n",
      "|      1055|Research & Develo...|Healthcare Repres...| 10466|    29|              1|\n",
      "|       179|               Sales|     Sales Executive| 10453|    24|              1|\n",
      "|      1396|               Sales|     Sales Executive| 10448|    15|              1|\n",
      "|      1295|               Sales|     Sales Executive| 10447|    23|              1|\n",
      "|       807|Research & Develo...|Healthcare Repres...| 10445|    18|              1|\n",
      "|      1156|Research & Develo...|Manufacturing Dir...| 10435|    18|              1|\n",
      "|      1431|               Sales|     Sales Executive| 10422|    14|              1|\n",
      "|       211|               Sales|     Sales Executive| 10400|    14|              1|\n",
      "|       730|Research & Develo...|Healthcare Repres...| 10388|    16|              1|\n",
      "|       889|               Sales|     Sales Executive| 10377|    16|              1|\n",
      "|      1235|               Sales|     Sales Executive| 10368|    13|              1|\n",
      "|      1303|Research & Develo...|Manufacturing Dir...| 10333|    28|              1|\n",
      "|       694|               Sales|     Sales Executive| 10325|    16|              1|\n",
      "|       786|Research & Develo...|Healthcare Repres...| 10322|    14|              1|\n",
      "|       127|Research & Develo...|Healthcare Repres...| 10312|    40|              1|\n",
      "|      1162|               Sales|     Sales Executive| 10306|    15|              1|\n",
      "|       847|Research & Develo...|Manufacturing Dir...| 10274|    15|              1|\n",
      "|       428|               Sales|     Sales Executive| 10266|    22|              1|\n",
      "|       883|Research & Develo...|Manufacturing Dir...| 10252|    17|              1|\n",
      "|        29|Research & Develo...|Healthcare Repres...| 10248|    24|              1|\n",
      "|        83|               Sales|     Sales Executive| 10239|    24|              1|\n",
      "|       927|               Sales|     Sales Executive| 10231|    23|              1|\n",
      "|       612|Research & Develo...|Manufacturing Dir...| 10221|    17|              1|\n",
      "|      1062|Research & Develo...|Manufacturing Dir...| 10209|    16|              1|\n",
      "|      1111|Research & Develo...|Manufacturing Dir...| 10169|    34|              1|\n",
      "|      1093|Research & Develo...|Healthcare Repres...| 10124|    24|              1|\n",
      "|        65|Research & Develo...|Healthcare Repres...| 10096|    17|              1|\n",
      "|      1032|               Sales|     Sales Executive| 10096|    28|              1|\n",
      "|       251|Research & Develo...|Manufacturing Dir...| 10048|    17|              1|\n",
      "|       967|Research & Develo...|Manufacturing Dir...| 10008|    31|              1|\n",
      "|       991|               Sales|     Sales Executive|  9998|     8|              1|\n",
      "|      1466|Research & Develo...|Healthcare Repres...|  9991|     9|              1|\n",
      "|       334|Research & Develo...|Healthcare Repres...|  9985|    10|              1|\n",
      "|       213|               Sales|     Sales Executive|  9981|     7|              1|\n",
      "|        16|Research & Develo...|Manufacturing Dir...|  9980|    10|              1|\n",
      "|       443|               Sales|     Sales Executive|  9980|    10|              1|\n",
      "|       783|Research & Develo...|Manufacturing Dir...|  9957|     7|              1|\n",
      "|       441|     Human Resources|     Human Resources|  9950|    11|              1|\n",
      "|      1463|Research & Develo...|Manufacturing Dir...|  9936|    10|              1|\n",
      "|      1119|               Sales|     Sales Executive|  9924|    10|              1|\n",
      "|      1326|               Sales|     Sales Executive|  9907|     7|              1|\n",
      "|      1384|               Sales|     Sales Executive|  9888|    14|              1|\n",
      "|        54|Research & Develo...|Healthcare Repres...|  9884|    10|              1|\n",
      "|      1369|               Sales|     Sales Executive|  9854|     6|              1|\n",
      "|       951|               Sales|     Sales Executive|  9852|    10|              1|\n",
      "|       440|Research & Develo...|Healthcare Repres...|  9824|    12|              1|\n",
      "|       472|Research & Develo...|Healthcare Repres...|  9824|    18|              1|\n",
      "|      1243|     Human Resources|     Human Resources|  9756|     9|              1|\n",
      "|       118|               Sales|     Sales Executive|  9738|    10|              1|\n",
      "|       758|               Sales|     Sales Executive|  9725|    16|              1|\n",
      "|        68|Research & Develo...|  Research Scientist|  9724|    25|              1|\n",
      "|      1090|Research & Develo...|Healthcare Repres...|  9715|     9|              1|\n",
      "|      1106|               Sales|     Sales Executive|  9714|    10|              1|\n",
      "|      1342|               Sales|     Sales Executive|  9713|     9|              1|\n",
      "|       685|               Sales|     Sales Executive|  9705|    11|              1|\n",
      "|       360|               Sales|     Sales Executive|  9699|    16|              1|\n",
      "|      1394|Research & Develo...|Manufacturing Dir...|  9679|     8|              1|\n",
      "|      1296|Research & Develo...|Manufacturing Dir...|  9667|     9|              1|\n",
      "|      1306|               Sales|     Sales Executive|  9637|     9|              1|\n",
      "|        90|               Sales|     Sales Executive|  9619|     9|              1|\n",
      "|       305|Research & Develo...|Healthcare Repres...|  9613|    19|              1|\n",
      "|      1241|               Sales|     Sales Executive|  9610|    10|              1|\n",
      "|       487|               Sales|     Sales Executive|  9602|    17|              1|\n",
      "|       792|               Sales|     Sales Executive|  9582|     9|              1|\n",
      "|       189|Research & Develo...|Manufacturing Dir...|  9547|    10|              1|\n",
      "|         9|Research & Develo...|Manufacturing Dir...|  9526|    10|              1|\n",
      "|      1211|               Sales|     Sales Executive|  9525|     6|              1|\n",
      "|       164|Research & Develo...|Healthcare Repres...|  9439|    12|              1|\n",
      "|       507|Research & Develo...|Manufacturing Dir...|  9434|    10|              1|\n",
      "|       168|               Sales|     Sales Executive|  9419|    12|              1|\n",
      "|       210|Research & Develo...|Healthcare Repres...|  9396|    17|              1|\n",
      "|      1038|Research & Develo...|Manufacturing Dir...|  9380|    10|              1|\n",
      "|      1003|Research & Develo...|Manufacturing Dir...|  9362|    10|              1|\n",
      "|       367|               Sales|     Sales Executive|  9355|     8|              1|\n",
      "|      1012|               Sales|     Sales Executive|  9278|    15|              1|\n",
      "|      1109|               Sales|     Sales Executive|  9250|     9|              1|\n",
      "|      1218|               Sales|     Sales Executive|  9241|    10|              1|\n",
      "|       132|               Sales|     Sales Executive|  9208|    16|              1|\n",
      "|      1027|               Sales|     Sales Executive|  9204|     7|              1|\n",
      "|       947|               Sales|     Sales Executive|  9094|     9|              1|\n",
      "|       434|               Sales|     Sales Executive|  9071|    15|              1|\n",
      "|        57|               Sales|     Sales Executive|  9069|     9|              1|\n",
      "|       155|               Sales|     Sales Executive|  8998|     9|              1|\n",
      "|       871|               Sales|     Sales Executive|  8966|    15|              1|\n",
      "|       326|Research & Develo...|Manufacturing Dir...|  8943|    10|              1|\n",
      "|      1448|               Sales|     Sales Executive|  8938|    14|              1|\n",
      "|      1298|Research & Develo...|Healthcare Repres...|  8926|    13|              1|\n",
      "|       219|               Sales|     Sales Executive|  8865|    23|              1|\n",
      "|       774|Research & Develo...|Manufacturing Dir...|  8858|    15|              1|\n",
      "|      1125|Research & Develo...|Healthcare Repres...|  8853|     6|              1|\n",
      "|       512|Research & Develo...|Manufacturing Dir...|  8847|    13|              1|\n",
      "|      1450|     Human Resources|     Human Resources|  8837|     9|              1|\n",
      "|       468|               Sales|     Sales Executive|  8834|     9|              1|\n",
      "|       785|Research & Develo...|Healthcare Repres...|  8823|    20|              1|\n",
      "|       538|Research & Develo...|Manufacturing Dir...|  8793|     9|              1|\n",
      "|       229|               Sales|     Sales Executive|  8789|    10|              1|\n",
      "|       808|               Sales|     Sales Executive|  8740|     9|              1|\n",
      "|        44|               Sales|     Sales Executive|  8726|     9|              1|\n",
      "|       781|Research & Develo...|Healthcare Repres...|  8722|    10|              1|\n",
      "|       169|               Sales|     Sales Executive|  8686|    12|              1|\n",
      "|       139|               Sales|     Sales Executive|  8639|     6|              1|\n",
      "|      1414|Research & Develo...|Healthcare Repres...|  8633|    25|              1|\n",
      "|      1385|               Sales|     Sales Executive|  8628|     9|              1|\n",
      "|       525|Research & Develo...|Healthcare Repres...|  8621|     9|              1|\n",
      "|      1063|               Sales|     Sales Executive|  8620|    10|              1|\n",
      "|      1081|Research & Develo...|Healthcare Repres...|  8606|    11|              1|\n",
      "|      1322|Research & Develo...|Manufacturing Dir...|  8578|    12|              1|\n",
      "|      1255|               Sales|     Sales Executive|  8564|    11|              1|\n",
      "|       959|Research & Develo...|Healthcare Repres...|  8500|    10|              1|\n",
      "|       212|Research & Develo...|Manufacturing Dir...|  8474|    12|              1|\n",
      "|      1042|               Sales|     Sales Executive|  8463|     6|              1|\n",
      "|       948|               Sales|     Sales Executive|  8446|    10|              1|\n",
      "|       424|               Sales|     Sales Executive|  8412|    10|              1|\n",
      "|       769|               Sales|     Sales Executive|  8396|     8|              1|\n",
      "|       404|               Sales|     Sales Executive|  8392|    10|              1|\n",
      "|       503|               Sales|     Sales Executive|  8381|    18|              1|\n",
      "|       909|               Sales|     Sales Executive|  8380|    10|              1|\n",
      "|      1079|Research & Develo...|Manufacturing Dir...|  8376|     9|              2|\n",
      "|      1247|               Sales|     Sales Executive|  8346|     6|              2|\n",
      "|      1278|Research & Develo...|Healthcare Repres...|  8321|    15|              2|\n",
      "|       344|               Sales|     Sales Executive|  8268|     7|              2|\n",
      "|      1124|               Sales|     Sales Executive|  8237|    11|              2|\n",
      "|       830|               Sales|     Sales Executive|  8224|     6|              2|\n",
      "|       134|               Sales|     Sales Executive|  8189|    12|              2|\n",
      "|      1257|               Sales|     Sales Executive|  8161|    10|              2|\n",
      "|       521|               Sales|     Sales Executive|  8120|    12|              2|\n",
      "|      1359|               Sales|     Sales Executive|  8103|     9|              2|\n",
      "|       345|Research & Develo...|Manufacturing Dir...|  8095|    17|              2|\n",
      "|       298|               Sales|     Sales Executive|  8020|    12|              2|\n",
      "|      1173|Research & Develo...|Healthcare Repres...|  8008|     9|              2|\n",
      "|      1285|               Sales|     Sales Executive|  7991|     6|              2|\n",
      "|      1006|     Human Resources|     Human Resources|  7988|    10|              2|\n",
      "|       929|Research & Develo...|Healthcare Repres...|  7978|    10|              2|\n",
      "|       407|Research & Develo...|Manufacturing Dir...|  7969|    28|              2|\n",
      "|      1164|Research & Develo...|Manufacturing Dir...|  7945|    18|              2|\n",
      "|       228|               Sales|     Sales Executive|  7918|    11|              2|\n",
      "|       970|Research & Develo...|Manufacturing Dir...|  7898|    11|              2|\n",
      "|       706|               Sales|     Sales Executive|  7880|     9|              2|\n",
      "|      1214|Research & Develo...|Healthcare Repres...|  7879|     9|              2|\n",
      "|       543|Research & Develo...|Manufacturing Dir...|  7861|    10|              2|\n",
      "|      1216|               Sales|     Sales Executive|  7847|    10|              2|\n",
      "|       705|               Sales|     Sales Executive|  7823|    12|              2|\n",
      "|       818|Research & Develo...|Manufacturing Dir...|  7779|    18|              2|\n",
      "|       795|Research & Develo...|Healthcare Repres...|  7756|     7|              2|\n",
      "|      1161|Research & Develo...|Manufacturing Dir...|  7756|    10|              2|\n",
      "|       510|Research & Develo...|Healthcare Repres...|  7725|    15|              2|\n",
      "|       810|Research & Develo...|Manufacturing Dir...|  7655|    10|              2|\n",
      "|       608|               Sales|     Sales Executive|  7654|     9|              2|\n",
      "|      1439|               Sales|     Sales Executive|  7644|    10|              2|\n",
      "|       653|               Sales|     Sales Executive|  7642|    10|              2|\n",
      "|       206|               Sales|     Sales Executive|  7639|    10|              2|\n",
      "|        64|               Sales|     Sales Executive|  7637|    28|              2|\n",
      "|       439|Research & Develo...|Healthcare Repres...|  7632|    10|              2|\n",
      "|       530|Research & Develo...|Healthcare Repres...|  7625|    10|              2|\n",
      "|       385|               Sales|     Sales Executive|  7596|    10|              2|\n",
      "|       570|               Sales|     Sales Executive|  7587|    10|              2|\n",
      "|      1008|Research & Develo...|Healthcare Repres...|  7553|     9|              2|\n",
      "|       322|               Sales|     Sales Executive|  7547|    13|              2|\n",
      "|       761|               Sales|     Sales Executive|  7525|    30|              2|\n",
      "|      1399|Research & Develo...|Healthcare Repres...|  7510|    10|              2|\n",
      "|       465|Research & Develo...|Manufacturing Dir...|  7491|    12|              2|\n",
      "|       111|Research & Develo...|Healthcare Repres...|  7484|    23|              2|\n",
      "|       336|               Sales|     Sales Executive|  7457|     6|              2|\n",
      "|      1034|Research & Develo...|Manufacturing Dir...|  7446|    10|              2|\n",
      "|      1099|Research & Develo...|Healthcare Repres...|  7441|    10|              2|\n",
      "|       116|               Sales|     Sales Executive|  7428|    12|              2|\n",
      "|       531|Research & Develo...|Manufacturing Dir...|  7412|     9|              2|\n",
      "|       452|Research & Develo...|Manufacturing Dir...|  7406|    10|              2|\n",
      "|       678|Research & Develo...|Laboratory Techni...|  7403|    29|              2|\n",
      "|       878|Research & Develo...|Manufacturing Dir...|  7379|    12|              2|\n",
      "|       812|               Sales|     Sales Executive|  7351|    10|              2|\n",
      "|       837|               Sales|     Sales Executive|  7336|    11|              2|\n",
      "|      1333|               Sales|     Sales Executive|  7314|    14|              2|\n",
      "|       152|               Sales|     Sales Executive|  7295|    10|              2|\n",
      "|       703|               Sales|     Sales Executive|  7264|    10|              2|\n",
      "|        86|Research & Develo...|Manufacturing Dir...|  7260|    37|              2|\n",
      "|       343|Research & Develo...|Manufacturing Dir...|  7143|    11|              2|\n",
      "|      1251|               Sales|     Sales Executive|  7140|    12|              2|\n",
      "|       791|Research & Develo...|Healthcare Repres...|  7119|     9|              2|\n",
      "|       500|               Sales|     Sales Executive|  7104|     6|              2|\n",
      "|       943|Research & Develo...|Healthcare Repres...|  7094|    10|              2|\n",
      "|      1084|               Sales|     Sales Executive|  7083|    10|              2|\n",
      "|      1196|               Sales|     Sales Executive|  7082|    21|              2|\n",
      "|      1203|Research & Develo...|Healthcare Repres...|  7005|    11|              2|\n",
      "|      1315|Research & Develo...|  Research Scientist|  6962|    15|              2|\n",
      "|       695|Research & Develo...|Healthcare Repres...|  6949|     6|              2|\n",
      "|       680|               Sales|     Sales Executive|  6932|     9|              2|\n",
      "|       255|               Sales|     Sales Executive|  6931|    10|              2|\n",
      "|       304|               Sales|     Sales Executive|  6929|    10|              2|\n",
      "|       964|               Sales|     Sales Executive|  6893|    11|              2|\n",
      "|      1232|Research & Develo...|Manufacturing Dir...|  6883|    17|              2|\n",
      "|       603|Research & Develo...|Manufacturing Dir...|  6877|    12|              2|\n",
      "|      1294|Research & Develo...|Healthcare Repres...|  6870|    11|              2|\n",
      "|       748|               Sales|     Sales Executive|  6861|    19|              2|\n",
      "|      1305|Research & Develo...|  Research Scientist|  6854|    14|              2|\n",
      "|       885|               Sales|     Sales Executive|  6852|     7|              2|\n",
      "|      1183|Research & Develo...|Healthcare Repres...|  6842|    13|              2|\n",
      "|      1364|               Sales|     Sales Executive|  6834|     7|              2|\n",
      "|       896|Research & Develo...|Healthcare Repres...|  6833|     6|              2|\n",
      "|        28|               Sales|     Sales Executive|  6825|    10|              2|\n",
      "|      1121|               Sales|     Sales Executive|  6815|    15|              2|\n",
      "|       897|Research & Develo...|Healthcare Repres...|  6812|    10|              2|\n",
      "|       460|Research & Develo...|Healthcare Repres...|  6811|    10|              2|\n",
      "|       555|Research & Develo...|Healthcare Repres...|  6811|     9|              2|\n",
      "|       202|Research & Develo...|Manufacturing Dir...|  6804|     7|              2|\n",
      "|       549|               Sales|     Sales Executive|  6804|     7|              2|\n",
      "|      1300|               Sales|     Sales Executive|  6799|    10|              2|\n",
      "|       529|               Sales|     Sales Executive|  6796|    18|              2|\n",
      "|       817|Research & Develo...|Laboratory Techni...|  6782|     9|              2|\n",
      "|       357|Research & Develo...|Healthcare Repres...|  6781|    14|              2|\n",
      "|       361|Research & Develo...|Healthcare Repres...|  6755|    15|              2|\n",
      "|      1237|               Sales|     Sales Executive|  6735|    10|              2|\n",
      "|      1452|               Sales|     Sales Executive|  6728|    12|              2|\n",
      "|       693|Research & Develo...|Manufacturing Dir...|  6725|     8|              2|\n",
      "|      1446|               Sales|     Sales Executive|  6712|     8|              2|\n",
      "|       217|               Sales|     Sales Executive|  6696|     9|              2|\n",
      "|       796|               Sales|     Sales Executive|  6694|     8|              2|\n",
      "|       984|Research & Develo...|Healthcare Repres...|  6687|    14|              2|\n",
      "|       945|Research & Develo...|Laboratory Techni...|  6674|    10|              2|\n",
      "|       205|Research & Develo...|Healthcare Repres...|  6673|    17|              2|\n",
      "|      1388|Research & Develo...|Healthcare Repres...|  6667|     9|              2|\n",
      "|       359|               Sales|     Sales Executive|  6653|     7|              2|\n",
      "|      1453|               Sales|     Sales Executive|  6652|     8|              2|\n",
      "|      1045|Research & Develo...|Healthcare Repres...|  6651|    20|              2|\n",
      "|       509|Research & Develo...|  Research Scientist|  6646|    17|              2|\n",
      "|       266|               Sales|     Sales Executive|  6644|    10|              2|\n",
      "|       565|               Sales|Sales Representative|  6632|     9|              2|\n",
      "|       904|Research & Develo...|Healthcare Repres...|  6623|     6|              2|\n",
      "|       665|Research & Develo...|Healthcare Repres...|  6586|    17|              2|\n",
      "|      1358|               Sales|     Sales Executive|  6583|     8|              2|\n",
      "|       451|               Sales|     Sales Executive|  6582|    10|              2|\n",
      "|       845|               Sales|     Sales Executive|  6578|    10|              2|\n",
      "|       403|               Sales|     Sales Executive|  6577|     6|              2|\n",
      "|       130|Research & Develo...|Manufacturing Dir...|  6567|    16|              2|\n",
      "|       199|Research & Develo...|Manufacturing Dir...|  6553|    14|              2|\n",
      "|      1073|Research & Develo...|Manufacturing Dir...|  6549|     8|              2|\n",
      "|       254|Research & Develo...|  Research Scientist|  6545|    10|              2|\n",
      "|       373|Research & Develo...|Healthcare Repres...|  6540|    10|              2|\n",
      "|       394|               Sales|     Sales Executive|  6538|     6|              2|\n",
      "|       642|               Sales|     Sales Executive|  6524|    10|              2|\n",
      "|      1229|Research & Develo...|Manufacturing Dir...|  6516|    18|              2|\n",
      "|      1299|Research & Develo...|Healthcare Repres...|  6513|    12|              2|\n",
      "|       274|               Sales|     Sales Executive|  6502|     7|              2|\n",
      "|       584|               Sales|     Sales Executive|  6500|     6|              2|\n",
      "|      1350|               Sales|     Sales Executive|  6500|     9|              2|\n",
      "|        67|Research & Develo...|Manufacturing Dir...|  6499|     6|              2|\n",
      "|       856|Research & Develo...|Manufacturing Dir...|  6474|    14|              2|\n",
      "|      1240|Research & Develo...|Laboratory Techni...|  6472|     9|              2|\n",
      "|        32|Research & Develo...|Healthcare Repres...|  6465|     9|              2|\n",
      "+----------+--------------------+--------------------+------+------+---------------+\n",
      "only showing top 500 rows\n",
      "\n"
     ]
    }
   ],
   "source": [
    "spark.sql(\"\"\"\n",
    "select employeeid, department, jobrole, income, workex, NTILE(4) \n",
    "over(order by income desc) as salary_quantile from hremployee\n",
    "\"\"\").show(500)"
   ]
  },
  {
   "cell_type": "code",
   "execution_count": 51,
   "id": "3ee97d33",
   "metadata": {},
   "outputs": [
    {
     "name": "stdout",
     "output_type": "stream",
     "text": [
      "+---------------+------------------+-------+----------+\n",
      "|salary_quantile|              mean| median|max_salary|\n",
      "+---------------+------------------+-------+----------+\n",
      "|              1|2353.9972826086955| 2378.0|      2911|\n",
      "|              2|3966.7356948228885| 4033.0|      4930|\n",
      "|              3| 6191.138964577656| 6091.0|      8380|\n",
      "|              4|13522.326975476839|13120.0|     19999|\n",
      "+---------------+------------------+-------+----------+\n",
      "\n"
     ]
    }
   ],
   "source": [
    "# find out the mean salary median and max salary for each quantile\n",
    "spark.sql(\"\"\"select salary_quantile,avg(income) as mean,percentile(income,0.5) as median , max(income) as max_salary \n",
    "from(select employeeid, department, jobrole, income, workex, NTILE(4)\n",
    "over(order by income) as salary_quantile from hremployee) \n",
    "group by salary_quantile\n",
    "\"\"\").show()"
   ]
  },
  {
   "cell_type": "markdown",
   "id": "e9b8f2bf",
   "metadata": {},
   "source": [
    "### percent rank\n",
    "    * gives distributed probability as response it calculates the relative rank of row within a result set expressed as percentage"
   ]
  },
  {
   "cell_type": "code",
   "execution_count": 54,
   "id": "74012e2c",
   "metadata": {},
   "outputs": [
    {
     "name": "stdout",
     "output_type": "stream",
     "text": [
      "+----------+----------+-------+------+------+--------------------+\n",
      "|employeeid|department|jobrole|income|workex|           perc_rank|\n",
      "+----------+----------+-------+------+------+--------------------+\n",
      "|       919|     Sales|Manager| 19847|    31|                 0.0|\n",
      "|       750|     Sales|Manager| 19845|    33|0.002252252252252...|\n",
      "|      1242|     Sales|Manager| 19833|    21|0.004504504504504...|\n",
      "|      1116|     Sales|Manager| 19586|    36|0.006756756756756757|\n",
      "|       234|     Sales|Manager| 19517|    32|0.009009009009009009|\n",
      "|      1126|     Sales|Manager| 19331|    27| 0.01126126126126126|\n",
      "|       238|     Sales|Manager| 19068|    33|0.013513513513513514|\n",
      "|        30|     Sales|Manager| 18947|    22|0.015765765765765764|\n",
      "|       914|     Sales|Manager| 18824|    26|0.018018018018018018|\n",
      "|       917|     Sales|Manager| 18789|    26| 0.02027027027027027|\n",
      "|       742|     Sales|Manager| 18303|    21| 0.02252252252252252|\n",
      "|       908|     Sales|Manager| 18213|    26|0.024774774774774775|\n",
      "|       418|     Sales|Manager| 18041|    21| 0.02702702702702703|\n",
      "|      1374|     Sales|Manager| 17875|    29| 0.02927927927927928|\n",
      "|       756|     Sales|Manager| 17650|    26| 0.03153153153153153|\n",
      "|      1135|     Sales|Manager| 17567|    27|0.033783783783783786|\n",
      "|       811|     Sales|Manager| 17465|    23|0.036036036036036036|\n",
      "|       711|     Sales|Manager| 17444|    10|0.038288288288288286|\n",
      "|       862|     Sales|Manager| 17048|    28| 0.04054054054054054|\n",
      "|       120|     Sales|Manager| 16959|    25| 0.04279279279279279|\n",
      "+----------+----------+-------+------+------+--------------------+\n",
      "only showing top 20 rows\n",
      "\n"
     ]
    }
   ],
   "source": [
    "spark.sql(\"\"\"\n",
    "select employeeid, department, jobrole, income, workex, PERCENT_RANK()\n",
    "over(partition by department order by income desc) as perc_rank from hremployee\n",
    "\"\"\").show()"
   ]
  },
  {
   "cell_type": "code",
   "execution_count": 60,
   "id": "4255668f",
   "metadata": {},
   "outputs": [
    {
     "name": "stdout",
     "output_type": "stream",
     "text": [
      "+----------------+----------+\n",
      "|percentile_range|count_empl|\n",
      "+----------------+----------+\n",
      "|            0-25|       369|\n",
      "|           25-50|       367|\n",
      "|           50-75|       366|\n",
      "|          75-100|       367|\n",
      "+----------------+----------+\n",
      "\n"
     ]
    }
   ],
   "source": [
    "spark.sql(\"\"\"\n",
    "  SELECT \n",
    "    CASE \n",
    "      when perc_rank <= 0.25 then '0-25'\n",
    "      when perc_rank <= 0.50 then '25-50'\n",
    "      when perc_rank <= 0.75 then '50-75'\n",
    "      else '75-100'\n",
    "    END AS percentile_range, \n",
    "    COUNT(*) AS count_empl\n",
    "  FROM (\n",
    "    SELECT \n",
    "      employeeid, department, jobrole, income, workex, \n",
    "      PERCENT_RANK() OVER(PARTITION BY department ORDER BY income DESC) AS perc_rank\n",
    "    FROM hremployee\n",
    "  )\n",
    "  GROUP BY percentile_range\n",
    "  ORDER BY percentile_range\n",
    "\"\"\").show()"
   ]
  },
  {
   "cell_type": "code",
   "execution_count": 72,
   "id": "003fb4e7",
   "metadata": {},
   "outputs": [
    {
     "name": "stdout",
     "output_type": "stream",
     "text": [
      "+--------------------+--------------+\n",
      "|             jobrole|attrition_rate|\n",
      "+--------------------+--------------+\n",
      "|Sales Representative|        40.244|\n",
      "|Laboratory Techni...|        23.938|\n",
      "|     Human Resources|        23.077|\n",
      "|     Sales Executive|        17.485|\n",
      "|  Research Scientist|        16.096|\n",
      "|Manufacturing Dir...|         6.897|\n",
      "|Healthcare Repres...|          6.87|\n",
      "|             Manager|         4.902|\n",
      "|   Research Director|           2.5|\n",
      "+--------------------+--------------+\n",
      "\n"
     ]
    }
   ],
   "source": [
    "#show job role with highest attrition rate in percentage\n",
    "spark.sql(\"\"\"\n",
    "select jobrole, round(sum(case when Attrition = 'Yes' then 1 else 0 end)*100/(count(*)),3) \n",
    "as attrition_rate from hremployee\n",
    "group by jobrole\n",
    "order by attrition_rate desc\n",
    "\"\"\").show()\n"
   ]
  },
  {
   "cell_type": "code",
   "execution_count": 1,
   "id": "57a4ad54",
   "metadata": {},
   "outputs": [],
   "source": [
    "spark.stop()"
   ]
  },
  {
   "cell_type": "markdown",
   "id": "86675674",
   "metadata": {},
   "source": [
    "### hive integration with pyspark"
   ]
  },
  {
   "cell_type": "code",
   "execution_count": 2,
   "id": "61c57a68",
   "metadata": {},
   "outputs": [],
   "source": [
    "# Spark Integration with Hive with SPARK Session\n",
    "spark = (SparkSession.builder.appName(\"pyspark-hive-integration\")\n",
    "        .config('spark.sql.warehouse.dir','/user/hive/warehouse/')\n",
    "        .enableHiveSupport().getOrCreate())"
   ]
  },
  {
   "cell_type": "code",
   "execution_count": 3,
   "id": "58b01c40",
   "metadata": {},
   "outputs": [
    {
     "name": "stdout",
     "output_type": "stream",
     "text": [
      "+------------+\n",
      "|databaseName|\n",
      "+------------+\n",
      "|  banking_db|\n",
      "|     default|\n",
      "+------------+\n",
      "\n"
     ]
    }
   ],
   "source": [
    "spark.sql(\"show databases\").show()"
   ]
  },
  {
   "cell_type": "code",
   "execution_count": 5,
   "id": "6243bf73",
   "metadata": {},
   "outputs": [
    {
     "data": {
      "text/plain": [
       "DataFrame[]"
      ]
     },
     "execution_count": 5,
     "metadata": {},
     "output_type": "execute_result"
    }
   ],
   "source": [
    "spark.sql(\"create database if not exists airlines \")"
   ]
  },
  {
   "cell_type": "code",
   "execution_count": 6,
   "id": "cc156725",
   "metadata": {},
   "outputs": [
    {
     "data": {
      "text/plain": [
       "DataFrame[]"
      ]
     },
     "execution_count": 6,
     "metadata": {},
     "output_type": "execute_result"
    }
   ],
   "source": [
    "spark.sql(\"\"\"create table if not exists airlines. flights (DayofMonth int, DayOfWeek int, \n",
    "Carrier varchar(10), OriginAirportID int, DestAirportID int, DepDelay int,\n",
    "ArrDelay int)\n",
    "row format delimited\n",
    "fields terminated by ','\n",
    "lines terminated by '\\n'\n",
    "STORED AS TEXTFILE\n",
    "tblProperties(\"skip.header.line.count\" = \"1\")\"\"\")"
   ]
  },
  {
   "cell_type": "code",
   "execution_count": 7,
   "id": "9f823485",
   "metadata": {},
   "outputs": [
    {
     "data": {
      "text/plain": [
       "DataFrame[]"
      ]
     },
     "execution_count": 7,
     "metadata": {},
     "output_type": "execute_result"
    }
   ],
   "source": [
    "spark.sql(\"use airlines\")"
   ]
  },
  {
   "cell_type": "code",
   "execution_count": 8,
   "id": "3607c516",
   "metadata": {},
   "outputs": [
    {
     "name": "stdout",
     "output_type": "stream",
     "text": [
      "+---------------+---------+-------+\n",
      "|       col_name|data_type|comment|\n",
      "+---------------+---------+-------+\n",
      "|     DayofMonth|      int|   null|\n",
      "|      DayOfWeek|      int|   null|\n",
      "|        Carrier|   string|   null|\n",
      "|OriginAirportID|      int|   null|\n",
      "|  DestAirportID|      int|   null|\n",
      "|       DepDelay|      int|   null|\n",
      "|       ArrDelay|      int|   null|\n",
      "+---------------+---------+-------+\n",
      "\n"
     ]
    }
   ],
   "source": [
    "spark.sql(\"describe flights\").show()"
   ]
  },
  {
   "cell_type": "code",
   "execution_count": 9,
   "id": "6532ea48",
   "metadata": {},
   "outputs": [
    {
     "data": {
      "text/plain": [
       "DataFrame[]"
      ]
     },
     "execution_count": 9,
     "metadata": {},
     "output_type": "execute_result"
    }
   ],
   "source": [
    "spark.sql(\"\"\"load data local inpath '/home/hadoop/Downloads/raw_flight_data1.csv' \n",
    "overwrite into table flights\"\"\")"
   ]
  },
  {
   "cell_type": "code",
   "execution_count": 10,
   "id": "1fddb3a2",
   "metadata": {},
   "outputs": [
    {
     "name": "stdout",
     "output_type": "stream",
     "text": [
      "+----------+---------+-------+---------------+-------------+--------+--------+\n",
      "|DayofMonth|DayOfWeek|Carrier|OriginAirportID|DestAirportID|DepDelay|ArrDelay|\n",
      "+----------+---------+-------+---------------+-------------+--------+--------+\n",
      "|        19|        5|     DL|          11433|        13303|      -3|       1|\n",
      "|        19|        5|     DL|          14869|        12478|       0|      -8|\n",
      "|        19|        5|     DL|          14057|        14869|      -4|     -15|\n",
      "+----------+---------+-------+---------------+-------------+--------+--------+\n",
      "\n"
     ]
    }
   ],
   "source": [
    "spark.sql(\"select * from flights limit 3\").show()"
   ]
  },
  {
   "cell_type": "code",
   "execution_count": 11,
   "id": "def79dd1",
   "metadata": {},
   "outputs": [
    {
     "data": {
      "text/plain": [
       "DataFrame[]"
      ]
     },
     "execution_count": 11,
     "metadata": {},
     "output_type": "execute_result"
    }
   ],
   "source": [
    "spark.sql(\"\"\"create table if not exists airlines. airport (airport_id int,city varchar(10),\n",
    "state varchar(10),name varchar(30))\n",
    "row format delimited\n",
    "fields terminated by ','\n",
    "lines terminated by '\\n'\n",
    "STORED AS TEXTFILE\n",
    "tblProperties(\"skip.header.line.count\" = \"1\")\"\"\")"
   ]
  },
  {
   "cell_type": "code",
   "execution_count": 12,
   "id": "73bfa278",
   "metadata": {},
   "outputs": [
    {
     "data": {
      "text/plain": [
       "DataFrame[]"
      ]
     },
     "execution_count": 12,
     "metadata": {},
     "output_type": "execute_result"
    }
   ],
   "source": [
    "spark.sql(\"use airlines\")"
   ]
  },
  {
   "cell_type": "code",
   "execution_count": 15,
   "id": "c59186a7",
   "metadata": {},
   "outputs": [
    {
     "name": "stdout",
     "output_type": "stream",
     "text": [
      "+----------+---------+-------+\n",
      "|  col_name|data_type|comment|\n",
      "+----------+---------+-------+\n",
      "|airport_id|      int|   null|\n",
      "|      city|   string|   null|\n",
      "|     state|   string|   null|\n",
      "|      name|   string|   null|\n",
      "+----------+---------+-------+\n",
      "\n"
     ]
    }
   ],
   "source": [
    "spark.sql(\"describe airport\").show()"
   ]
  },
  {
   "cell_type": "code",
   "execution_count": 16,
   "id": "45be3e49",
   "metadata": {},
   "outputs": [
    {
     "data": {
      "text/plain": [
       "DataFrame[]"
      ]
     },
     "execution_count": 16,
     "metadata": {},
     "output_type": "execute_result"
    }
   ],
   "source": [
    "spark.sql(\"\"\"load data local inpath '/home/hadoop/Downloads/airports1.csv' \n",
    "overwrite into table airport\"\"\")"
   ]
  },
  {
   "cell_type": "code",
   "execution_count": 17,
   "id": "06eec858",
   "metadata": {},
   "outputs": [
    {
     "name": "stdout",
     "output_type": "stream",
     "text": [
      "+----------+----------+-----+--------------------+\n",
      "|airport_id|      city|state|                name|\n",
      "+----------+----------+-----+--------------------+\n",
      "|     10165|Adak Islan|   AK|                Adak|\n",
      "|     10299| Anchorage|   AK|Ted Stevens Ancho...|\n",
      "|     10304|     Aniak|   AK|       Aniak Airport|\n",
      "+----------+----------+-----+--------------------+\n",
      "\n"
     ]
    }
   ],
   "source": [
    "spark.sql(\"select * from airport limit 3\").show()"
   ]
  },
  {
   "cell_type": "code",
   "execution_count": 18,
   "id": "db3a5105",
   "metadata": {},
   "outputs": [],
   "source": [
    "flights_df = spark.table(\"flights\")"
   ]
  },
  {
   "cell_type": "code",
   "execution_count": 21,
   "id": "66eaa390",
   "metadata": {},
   "outputs": [],
   "source": [
    "airports_df = spark.table(\"airport\")"
   ]
  },
  {
   "cell_type": "code",
   "execution_count": 22,
   "id": "13d633d3",
   "metadata": {},
   "outputs": [
    {
     "name": "stdout",
     "output_type": "stream",
     "text": [
      "+----------+----------+-----+--------------------+\n",
      "|airport_id|      city|state|                name|\n",
      "+----------+----------+-----+--------------------+\n",
      "|     10165|Adak Islan|   AK|                Adak|\n",
      "|     10299| Anchorage|   AK|Ted Stevens Ancho...|\n",
      "+----------+----------+-----+--------------------+\n",
      "only showing top 2 rows\n",
      "\n"
     ]
    }
   ],
   "source": [
    "airports_df.show(2)"
   ]
  },
  {
   "cell_type": "markdown",
   "id": "cef95419",
   "metadata": {},
   "source": [
    "### Transformation"
   ]
  },
  {
   "cell_type": "code",
   "execution_count": 32,
   "id": "11dba095",
   "metadata": {},
   "outputs": [],
   "source": [
    "flights_join = flights_df.join(airports_df, on=airports_df.airport_id == flights_df.OriginAirportID,how='inner')"
   ]
  },
  {
   "cell_type": "code",
   "execution_count": 33,
   "id": "eb4e28eb",
   "metadata": {
    "collapsed": true
   },
   "outputs": [
    {
     "name": "stdout",
     "output_type": "stream",
     "text": [
      "+----------+---------+-------+---------------+-------------+--------+--------+----------+----------+-----+--------------------+\n",
      "|DayofMonth|DayOfWeek|Carrier|OriginAirportID|DestAirportID|DepDelay|ArrDelay|airport_id|      city|state|                name|\n",
      "+----------+---------+-------+---------------+-------------+--------+--------+----------+----------+-----+--------------------+\n",
      "|        19|        5|     DL|          11433|        13303|      -3|       1|     11433|   Detroit|   MI|Detroit Metro Way...|\n",
      "|        19|        5|     DL|          14869|        12478|       0|      -8|     14869|Salt Lake |   UT|Salt Lake City In...|\n",
      "|        19|        5|     DL|          14057|        14869|      -4|     -15|     14057|  Portland|   OR|Portland Internat...|\n",
      "+----------+---------+-------+---------------+-------------+--------+--------+----------+----------+-----+--------------------+\n",
      "only showing top 3 rows\n",
      "\n"
     ]
    }
   ],
   "source": [
    "flights_join.show(3)"
   ]
  },
  {
   "cell_type": "code",
   "execution_count": 26,
   "id": "07e67ecd",
   "metadata": {},
   "outputs": [],
   "source": [
    "flights_join = flights_df.join(airports_df, on=airports_df.airport_id == flights_df.OriginAirportID,how='left')"
   ]
  },
  {
   "cell_type": "code",
   "execution_count": 27,
   "id": "58759deb",
   "metadata": {
    "collapsed": true
   },
   "outputs": [
    {
     "name": "stdout",
     "output_type": "stream",
     "text": [
      "+----------+---------+-------+---------------+-------------+--------+--------+----------+----------+-----+--------------------+\n",
      "|DayofMonth|DayOfWeek|Carrier|OriginAirportID|DestAirportID|DepDelay|ArrDelay|airport_id|      city|state|                name|\n",
      "+----------+---------+-------+---------------+-------------+--------+--------+----------+----------+-----+--------------------+\n",
      "|        19|        5|     DL|          11433|        13303|      -3|       1|     11433|   Detroit|   MI|Detroit Metro Way...|\n",
      "|        19|        5|     DL|          14869|        12478|       0|      -8|     14869|Salt Lake |   UT|Salt Lake City In...|\n",
      "|        19|        5|     DL|          14057|        14869|      -4|     -15|     14057|  Portland|   OR|Portland Internat...|\n",
      "+----------+---------+-------+---------------+-------------+--------+--------+----------+----------+-----+--------------------+\n",
      "only showing top 3 rows\n",
      "\n"
     ]
    }
   ],
   "source": [
    "flights_join.show(3)"
   ]
  },
  {
   "cell_type": "code",
   "execution_count": 28,
   "id": "d84f42e3",
   "metadata": {},
   "outputs": [],
   "source": [
    "flights_join = flights_df.join(airports_df, on=airports_df.airport_id == flights_df.OriginAirportID,how='right')"
   ]
  },
  {
   "cell_type": "code",
   "execution_count": 29,
   "id": "64251f3f",
   "metadata": {
    "collapsed": true
   },
   "outputs": [
    {
     "name": "stdout",
     "output_type": "stream",
     "text": [
      "+----------+---------+-------+---------------+-------------+--------+--------+----------+----+-----+--------------------+\n",
      "|DayofMonth|DayOfWeek|Carrier|OriginAirportID|DestAirportID|DepDelay|ArrDelay|airport_id|city|state|                name|\n",
      "+----------+---------+-------+---------------+-------------+--------+--------+----------+----+-----+--------------------+\n",
      "|        19|        5|     DL|          14570|        14869|      -5|      -8|     14570|Reno|   NV|Reno/Tahoe Intern...|\n",
      "|        19|        5|     DL|          14570|        14869|      -4|       2|     14570|Reno|   NV|Reno/Tahoe Intern...|\n",
      "|        21|        7|     DL|          14570|        14869|      -2|     -10|     14570|Reno|   NV|Reno/Tahoe Intern...|\n",
      "+----------+---------+-------+---------------+-------------+--------+--------+----------+----+-----+--------------------+\n",
      "only showing top 3 rows\n",
      "\n"
     ]
    }
   ],
   "source": [
    "flights_join.show(3)"
   ]
  },
  {
   "cell_type": "code",
   "execution_count": 65,
   "id": "d6f6496e",
   "metadata": {},
   "outputs": [],
   "source": [
    "flights_joino = flights_df.join(airports_df, on=airports_df.airport_id == flights_df.OriginAirportID,how='outer')"
   ]
  },
  {
   "cell_type": "code",
   "execution_count": 67,
   "id": "18ce0b0e",
   "metadata": {},
   "outputs": [
    {
     "name": "stdout",
     "output_type": "stream",
     "text": [
      "+----------+---------+-------+---------------+-------------+--------+--------+----------+----+-----+--------------------+\n",
      "|DayofMonth|DayOfWeek|Carrier|OriginAirportID|DestAirportID|DepDelay|ArrDelay|airport_id|city|state|                name|\n",
      "+----------+---------+-------+---------------+-------------+--------+--------+----------+----+-----+--------------------+\n",
      "|        19|        5|     DL|          14570|        14869|      -5|      -8|     14570|Reno|   NV|Reno/Tahoe Intern...|\n",
      "|        19|        5|     DL|          14570|        14869|      -4|       2|     14570|Reno|   NV|Reno/Tahoe Intern...|\n",
      "|        21|        7|     DL|          14570|        14869|      -2|     -10|     14570|Reno|   NV|Reno/Tahoe Intern...|\n",
      "+----------+---------+-------+---------------+-------------+--------+--------+----------+----+-----+--------------------+\n",
      "only showing top 3 rows\n",
      "\n"
     ]
    }
   ],
   "source": [
    "flights_joino.show(3)"
   ]
  },
  {
   "cell_type": "code",
   "execution_count": 59,
   "id": "c6288349",
   "metadata": {},
   "outputs": [],
   "source": [
    "flights_join1 = flights_df.join(airports_df, on=airports_df.airport_id == flights_df.OriginAirportID,how='leftsemi')"
   ]
  },
  {
   "cell_type": "code",
   "execution_count": 60,
   "id": "77b60537",
   "metadata": {},
   "outputs": [
    {
     "name": "stdout",
     "output_type": "stream",
     "text": [
      "+----------+---------+-------+---------------+-------------+--------+--------+\n",
      "|DayofMonth|DayOfWeek|Carrier|OriginAirportID|DestAirportID|DepDelay|ArrDelay|\n",
      "+----------+---------+-------+---------------+-------------+--------+--------+\n",
      "|        19|        5|     DL|          11433|        13303|      -3|       1|\n",
      "|        19|        5|     DL|          14869|        12478|       0|      -8|\n",
      "|        19|        5|     DL|          14057|        14869|      -4|     -15|\n",
      "|        19|        5|     DL|          15016|        11433|      28|      24|\n",
      "|        19|        5|     DL|          11193|        12892|      -6|     -11|\n",
      "|        19|        5|     DL|          10397|        15016|      -1|     -19|\n",
      "|        19|        5|     DL|          15016|        10397|       0|      -1|\n",
      "|        19|        5|     DL|          10397|        14869|      15|      24|\n",
      "|        19|        5|     DL|          10397|        10423|      33|      34|\n",
      "|        19|        5|     DL|          11278|        10397|     323|     322|\n",
      "|        19|        5|     DL|          14107|        13487|      -7|     -13|\n",
      "|        19|        5|     DL|          11433|        11298|      22|      41|\n",
      "|        19|        5|     DL|          11298|        11433|      40|      20|\n",
      "|        19|        5|     DL|          11433|        12892|      -2|      -7|\n",
      "|        19|        5|     DL|          10397|        12451|      71|      75|\n",
      "|        19|        5|     DL|          12451|        10397|      75|      57|\n",
      "|        19|        5|     DL|          12953|        10397|      -1|      10|\n",
      "|        19|        5|     DL|          11433|        12953|      -3|     -10|\n",
      "|        19|        5|     DL|          10397|        14771|      31|      38|\n",
      "|        19|        5|     DL|          13204|        10397|       8|      25|\n",
      "+----------+---------+-------+---------------+-------------+--------+--------+\n",
      "only showing top 20 rows\n",
      "\n"
     ]
    }
   ],
   "source": [
    "flights_join1.show()"
   ]
  },
  {
   "cell_type": "code",
   "execution_count": 55,
   "id": "16ea099a",
   "metadata": {},
   "outputs": [],
   "source": [
    "flights_join1 = flights_df.join(airports_df, on=airports_df.airport_id == flights_df.OriginAirportID,how='leftanti')"
   ]
  },
  {
   "cell_type": "code",
   "execution_count": 56,
   "id": "d4d5cb5f",
   "metadata": {},
   "outputs": [
    {
     "name": "stdout",
     "output_type": "stream",
     "text": [
      "+----------+---------+-------+---------------+-------------+--------+--------+\n",
      "|DayofMonth|DayOfWeek|Carrier|OriginAirportID|DestAirportID|DepDelay|ArrDelay|\n",
      "+----------+---------+-------+---------------+-------------+--------+--------+\n",
      "+----------+---------+-------+---------------+-------------+--------+--------+\n",
      "\n"
     ]
    }
   ],
   "source": [
    "flights_join1.show(3)"
   ]
  },
  {
   "cell_type": "code",
   "execution_count": 52,
   "id": "8208463c",
   "metadata": {},
   "outputs": [],
   "source": [
    "flights_join1 = flights_df.join(airports_df, on=airports_df.airport_id == flights_df.OriginAirportID,how='leftsemi')"
   ]
  },
  {
   "cell_type": "code",
   "execution_count": 53,
   "id": "e3e7f5fe",
   "metadata": {},
   "outputs": [
    {
     "name": "stdout",
     "output_type": "stream",
     "text": [
      "+----------+---------+-------+---------------+-------------+--------+--------+\n",
      "|DayofMonth|DayOfWeek|Carrier|OriginAirportID|DestAirportID|DepDelay|ArrDelay|\n",
      "+----------+---------+-------+---------------+-------------+--------+--------+\n",
      "|        19|        5|     DL|          11433|        13303|      -3|       1|\n",
      "|        19|        5|     DL|          14869|        12478|       0|      -8|\n",
      "|        19|        5|     DL|          14057|        14869|      -4|     -15|\n",
      "+----------+---------+-------+---------------+-------------+--------+--------+\n",
      "only showing top 3 rows\n",
      "\n"
     ]
    }
   ],
   "source": [
    "flights_join1.show(3)"
   ]
  },
  {
   "cell_type": "code",
   "execution_count": 71,
   "id": "cbf0c0d9",
   "metadata": {},
   "outputs": [],
   "source": [
    "flights_joino.write.partitionBy('Carrier').parquet(\"/airlines\")"
   ]
  },
  {
   "cell_type": "code",
   "execution_count": 72,
   "id": "209d0fdc",
   "metadata": {},
   "outputs": [],
   "source": [
    "# to read\n",
    "airlines_join = spark.read.parquet(\"/airlines\")"
   ]
  },
  {
   "cell_type": "code",
   "execution_count": 73,
   "id": "6a815bff",
   "metadata": {},
   "outputs": [
    {
     "name": "stdout",
     "output_type": "stream",
     "text": [
      "+----------+---------+---------------+-------------+--------+--------+----------+----------+-----+--------------------+-------+\n",
      "|DayofMonth|DayOfWeek|OriginAirportID|DestAirportID|DepDelay|ArrDelay|airport_id|      city|state|                name|Carrier|\n",
      "+----------+---------+---------------+-------------+--------+--------+----------+----------+-----+--------------------+-------+\n",
      "|        17|        3|          11298|        11278|      59|      63|     11298|Dallas/For|   TX|Dallas/Fort Worth...|     AA|\n",
      "|        18|        4|          11298|        11278|       3|      -7|     11298|Dallas/For|   TX|Dallas/Fort Worth...|     AA|\n",
      "|        19|        5|          11298|        11278|      -3|       0|     11298|Dallas/For|   TX|Dallas/Fort Worth...|     AA|\n",
      "+----------+---------+---------------+-------------+--------+--------+----------+----------+-----+--------------------+-------+\n",
      "only showing top 3 rows\n",
      "\n"
     ]
    }
   ],
   "source": [
    "airlines_join.show(3)"
   ]
  },
  {
   "cell_type": "code",
   "execution_count": 74,
   "id": "0576ddac",
   "metadata": {
    "scrolled": true
   },
   "outputs": [
    {
     "name": "stdout",
     "output_type": "stream",
     "text": [
      "root\n",
      " |-- DayofMonth: integer (nullable = true)\n",
      " |-- DayOfWeek: integer (nullable = true)\n",
      " |-- OriginAirportID: integer (nullable = true)\n",
      " |-- DestAirportID: integer (nullable = true)\n",
      " |-- DepDelay: integer (nullable = true)\n",
      " |-- ArrDelay: integer (nullable = true)\n",
      " |-- airport_id: integer (nullable = true)\n",
      " |-- city: string (nullable = true)\n",
      " |-- state: string (nullable = true)\n",
      " |-- name: string (nullable = true)\n",
      " |-- Carrier: string (nullable = true)\n",
      "\n"
     ]
    }
   ],
   "source": [
    "airlines_join.printSchema()"
   ]
  },
  {
   "cell_type": "code",
   "execution_count": 75,
   "id": "447c0efe",
   "metadata": {},
   "outputs": [],
   "source": [
    "airlines_join.createOrReplaceTempView('airlines')"
   ]
  },
  {
   "cell_type": "code",
   "execution_count": 76,
   "id": "eaa77131",
   "metadata": {},
   "outputs": [
    {
     "name": "stdout",
     "output_type": "stream",
     "text": [
      "+------------------+\n",
      "|     arrival_Delay|\n",
      "+------------------+\n",
      "|11.651327332054372|\n",
      "+------------------+\n",
      "\n"
     ]
    }
   ],
   "source": [
    "spark.sql(\"select avg(ArrDelay) as arrival_Delay from airlines where Carrier='AA'\").show()"
   ]
  },
  {
   "cell_type": "markdown",
   "id": "903f92ab",
   "metadata": {},
   "source": [
    "#### load on mysql"
   ]
  },
  {
   "cell_type": "code",
   "execution_count": 77,
   "id": "a11d17c4",
   "metadata": {},
   "outputs": [
    {
     "ename": "SyntaxError",
     "evalue": "invalid syntax (<ipython-input-77-4c49158d16c7>, line 7)",
     "output_type": "error",
     "traceback": [
      "\u001b[0;36m  File \u001b[0;32m\"<ipython-input-77-4c49158d16c7>\"\u001b[0;36m, line \u001b[0;32m7\u001b[0m\n\u001b[0;31m    mode 'overwrite', properties = connection_prop)\u001b[0m\n\u001b[0m                   ^\u001b[0m\n\u001b[0;31mSyntaxError\u001b[0m\u001b[0;31m:\u001b[0m invalid syntax\n"
     ]
    }
   ],
   "source": [
    "connection_prop = {\n",
    "'user': \"root\",\n",
    "'password': 'hadoop@123',\n",
    "'driver':'com.mysql.cj.jdbc.Driver'\n",
    "} \n",
    "airlines_join.write.jdbc(url = 'jdbc:mysql://localhost:3306/airlines', table = 'airline_join', \n",
    "                         mode 'overwrite', properties = connection_prop)"
   ]
  },
  {
   "cell_type": "code",
   "execution_count": null,
   "id": "d8316294",
   "metadata": {},
   "outputs": [],
   "source": []
  },
  {
   "cell_type": "markdown",
   "id": "5cf7188a",
   "metadata": {},
   "source": [
    "#### HBase Integration with Pyspark"
   ]
  },
  {
   "cell_type": "code",
   "execution_count": 1,
   "id": "ebfb6a4c",
   "metadata": {},
   "outputs": [],
   "source": [
    "spark.stop()"
   ]
  },
  {
   "cell_type": "code",
   "execution_count": 2,
   "id": "48e5b2af",
   "metadata": {},
   "outputs": [],
   "source": [
    "from pyspark.sql import SparkSession\n",
    "spark = SparkSession.builder.appName(\"HbaseIntegration\").getOrCreate()"
   ]
  },
  {
   "cell_type": "code",
   "execution_count": 3,
   "id": "ee2bd84b",
   "metadata": {},
   "outputs": [],
   "source": [
    "hbase_conf = {\n",
    "    \"hbase.zookeper.quorum\":'localhost',\n",
    "    \"hbase.mapreduce.inputtable\":'hcustomer',\n",
    "    \"hbase.client.scanner.timeout.period\":\"600000\"\n",
    "}"
   ]
  },
  {
   "cell_type": "code",
   "execution_count": 4,
   "id": "f5824494",
   "metadata": {
    "collapsed": true
   },
   "outputs": [
    {
     "ename": "Py4JJavaError",
     "evalue": "An error occurred while calling o67.load.\n: java.lang.ClassNotFoundException: Failed to find data source: org.apache.hadoop.hbase.spark. Please find packages at http://spark.apache.org/third-party-projects.html\n\tat org.apache.spark.sql.execution.datasources.DataSource$.lookupDataSource(DataSource.scala:675)\n\tat org.apache.spark.sql.DataFrameReader.load(DataFrameReader.scala:213)\n\tat org.apache.spark.sql.DataFrameReader.load(DataFrameReader.scala:186)\n\tat sun.reflect.NativeMethodAccessorImpl.invoke0(Native Method)\n\tat sun.reflect.NativeMethodAccessorImpl.invoke(NativeMethodAccessorImpl.java:62)\n\tat sun.reflect.DelegatingMethodAccessorImpl.invoke(DelegatingMethodAccessorImpl.java:43)\n\tat java.lang.reflect.Method.invoke(Method.java:498)\n\tat py4j.reflection.MethodInvoker.invoke(MethodInvoker.java:244)\n\tat py4j.reflection.ReflectionEngine.invoke(ReflectionEngine.java:357)\n\tat py4j.Gateway.invoke(Gateway.java:282)\n\tat py4j.commands.AbstractCommand.invokeMethod(AbstractCommand.java:132)\n\tat py4j.commands.CallCommand.execute(CallCommand.java:79)\n\tat py4j.GatewayConnection.run(GatewayConnection.java:238)\n\tat java.lang.Thread.run(Thread.java:745)\nCaused by: java.lang.ClassNotFoundException: org.apache.hadoop.hbase.spark.DefaultSource\n\tat java.net.URLClassLoader.findClass(URLClassLoader.java:381)\n\tat java.lang.ClassLoader.loadClass(ClassLoader.java:424)\n\tat java.lang.ClassLoader.loadClass(ClassLoader.java:357)\n\tat org.apache.spark.sql.execution.datasources.DataSource$$anonfun$20$$anonfun$apply$12.apply(DataSource.scala:652)\n\tat org.apache.spark.sql.execution.datasources.DataSource$$anonfun$20$$anonfun$apply$12.apply(DataSource.scala:652)\n\tat scala.util.Try$.apply(Try.scala:192)\n\tat org.apache.spark.sql.execution.datasources.DataSource$$anonfun$20.apply(DataSource.scala:652)\n\tat org.apache.spark.sql.execution.datasources.DataSource$$anonfun$20.apply(DataSource.scala:652)\n\tat scala.util.Try.orElse(Try.scala:84)\n\tat org.apache.spark.sql.execution.datasources.DataSource$.lookupDataSource(DataSource.scala:652)\n\t... 13 more\n",
     "output_type": "error",
     "traceback": [
      "\u001b[0;31m---------------------------------------------------------------------------\u001b[0m",
      "\u001b[0;31mPy4JJavaError\u001b[0m                             Traceback (most recent call last)",
      "\u001b[0;32m<ipython-input-4-0bac932483e5>\u001b[0m in \u001b[0;36m<module>\u001b[0;34m\u001b[0m\n\u001b[0;32m----> 1\u001b[0;31m \u001b[0mdf\u001b[0m \u001b[0;34m=\u001b[0m \u001b[0mspark\u001b[0m\u001b[0;34m.\u001b[0m\u001b[0mread\u001b[0m\u001b[0;34m.\u001b[0m\u001b[0mformat\u001b[0m\u001b[0;34m(\u001b[0m\u001b[0;34m\"org.apache.hadoop.hbase.spark\"\u001b[0m\u001b[0;34m)\u001b[0m\u001b[0;34m.\u001b[0m\u001b[0moptions\u001b[0m\u001b[0;34m(\u001b[0m\u001b[0;34m**\u001b[0m\u001b[0mhbase_conf\u001b[0m\u001b[0;34m)\u001b[0m\u001b[0;34m.\u001b[0m\u001b[0mload\u001b[0m\u001b[0;34m(\u001b[0m\u001b[0;34m)\u001b[0m\u001b[0;34m\u001b[0m\u001b[0;34m\u001b[0m\u001b[0m\n\u001b[0m",
      "\u001b[0;32m/usr/local/spark/python/pyspark/sql/readwriter.py\u001b[0m in \u001b[0;36mload\u001b[0;34m(self, path, format, schema, **options)\u001b[0m\n\u001b[1;32m    170\u001b[0m             \u001b[0;32mreturn\u001b[0m \u001b[0mself\u001b[0m\u001b[0;34m.\u001b[0m\u001b[0m_df\u001b[0m\u001b[0;34m(\u001b[0m\u001b[0mself\u001b[0m\u001b[0;34m.\u001b[0m\u001b[0m_jreader\u001b[0m\u001b[0;34m.\u001b[0m\u001b[0mload\u001b[0m\u001b[0;34m(\u001b[0m\u001b[0mself\u001b[0m\u001b[0;34m.\u001b[0m\u001b[0m_spark\u001b[0m\u001b[0;34m.\u001b[0m\u001b[0m_sc\u001b[0m\u001b[0;34m.\u001b[0m\u001b[0m_jvm\u001b[0m\u001b[0;34m.\u001b[0m\u001b[0mPythonUtils\u001b[0m\u001b[0;34m.\u001b[0m\u001b[0mtoSeq\u001b[0m\u001b[0;34m(\u001b[0m\u001b[0mpath\u001b[0m\u001b[0;34m)\u001b[0m\u001b[0;34m)\u001b[0m\u001b[0;34m)\u001b[0m\u001b[0;34m\u001b[0m\u001b[0;34m\u001b[0m\u001b[0m\n\u001b[1;32m    171\u001b[0m         \u001b[0;32melse\u001b[0m\u001b[0;34m:\u001b[0m\u001b[0;34m\u001b[0m\u001b[0;34m\u001b[0m\u001b[0m\n\u001b[0;32m--> 172\u001b[0;31m             \u001b[0;32mreturn\u001b[0m \u001b[0mself\u001b[0m\u001b[0;34m.\u001b[0m\u001b[0m_df\u001b[0m\u001b[0;34m(\u001b[0m\u001b[0mself\u001b[0m\u001b[0;34m.\u001b[0m\u001b[0m_jreader\u001b[0m\u001b[0;34m.\u001b[0m\u001b[0mload\u001b[0m\u001b[0;34m(\u001b[0m\u001b[0;34m)\u001b[0m\u001b[0;34m)\u001b[0m\u001b[0;34m\u001b[0m\u001b[0;34m\u001b[0m\u001b[0m\n\u001b[0m\u001b[1;32m    173\u001b[0m \u001b[0;34m\u001b[0m\u001b[0m\n\u001b[1;32m    174\u001b[0m     \u001b[0;34m@\u001b[0m\u001b[0msince\u001b[0m\u001b[0;34m(\u001b[0m\u001b[0;36m1.4\u001b[0m\u001b[0;34m)\u001b[0m\u001b[0;34m\u001b[0m\u001b[0;34m\u001b[0m\u001b[0m\n",
      "\u001b[0;32m/usr/local/spark/python/lib/py4j-0.10.7-src.zip/py4j/java_gateway.py\u001b[0m in \u001b[0;36m__call__\u001b[0;34m(self, *args)\u001b[0m\n\u001b[1;32m   1255\u001b[0m         \u001b[0manswer\u001b[0m \u001b[0;34m=\u001b[0m \u001b[0mself\u001b[0m\u001b[0;34m.\u001b[0m\u001b[0mgateway_client\u001b[0m\u001b[0;34m.\u001b[0m\u001b[0msend_command\u001b[0m\u001b[0;34m(\u001b[0m\u001b[0mcommand\u001b[0m\u001b[0;34m)\u001b[0m\u001b[0;34m\u001b[0m\u001b[0;34m\u001b[0m\u001b[0m\n\u001b[1;32m   1256\u001b[0m         return_value = get_return_value(\n\u001b[0;32m-> 1257\u001b[0;31m             answer, self.gateway_client, self.target_id, self.name)\n\u001b[0m\u001b[1;32m   1258\u001b[0m \u001b[0;34m\u001b[0m\u001b[0m\n\u001b[1;32m   1259\u001b[0m         \u001b[0;32mfor\u001b[0m \u001b[0mtemp_arg\u001b[0m \u001b[0;32min\u001b[0m \u001b[0mtemp_args\u001b[0m\u001b[0;34m:\u001b[0m\u001b[0;34m\u001b[0m\u001b[0;34m\u001b[0m\u001b[0m\n",
      "\u001b[0;32m/usr/local/spark/python/pyspark/sql/utils.py\u001b[0m in \u001b[0;36mdeco\u001b[0;34m(*a, **kw)\u001b[0m\n\u001b[1;32m     61\u001b[0m     \u001b[0;32mdef\u001b[0m \u001b[0mdeco\u001b[0m\u001b[0;34m(\u001b[0m\u001b[0;34m*\u001b[0m\u001b[0ma\u001b[0m\u001b[0;34m,\u001b[0m \u001b[0;34m**\u001b[0m\u001b[0mkw\u001b[0m\u001b[0;34m)\u001b[0m\u001b[0;34m:\u001b[0m\u001b[0;34m\u001b[0m\u001b[0;34m\u001b[0m\u001b[0m\n\u001b[1;32m     62\u001b[0m         \u001b[0;32mtry\u001b[0m\u001b[0;34m:\u001b[0m\u001b[0;34m\u001b[0m\u001b[0;34m\u001b[0m\u001b[0m\n\u001b[0;32m---> 63\u001b[0;31m             \u001b[0;32mreturn\u001b[0m \u001b[0mf\u001b[0m\u001b[0;34m(\u001b[0m\u001b[0;34m*\u001b[0m\u001b[0ma\u001b[0m\u001b[0;34m,\u001b[0m \u001b[0;34m**\u001b[0m\u001b[0mkw\u001b[0m\u001b[0;34m)\u001b[0m\u001b[0;34m\u001b[0m\u001b[0;34m\u001b[0m\u001b[0m\n\u001b[0m\u001b[1;32m     64\u001b[0m         \u001b[0;32mexcept\u001b[0m \u001b[0mpy4j\u001b[0m\u001b[0;34m.\u001b[0m\u001b[0mprotocol\u001b[0m\u001b[0;34m.\u001b[0m\u001b[0mPy4JJavaError\u001b[0m \u001b[0;32mas\u001b[0m \u001b[0me\u001b[0m\u001b[0;34m:\u001b[0m\u001b[0;34m\u001b[0m\u001b[0;34m\u001b[0m\u001b[0m\n\u001b[1;32m     65\u001b[0m             \u001b[0ms\u001b[0m \u001b[0;34m=\u001b[0m \u001b[0me\u001b[0m\u001b[0;34m.\u001b[0m\u001b[0mjava_exception\u001b[0m\u001b[0;34m.\u001b[0m\u001b[0mtoString\u001b[0m\u001b[0;34m(\u001b[0m\u001b[0;34m)\u001b[0m\u001b[0;34m\u001b[0m\u001b[0;34m\u001b[0m\u001b[0m\n",
      "\u001b[0;32m/usr/local/spark/python/lib/py4j-0.10.7-src.zip/py4j/protocol.py\u001b[0m in \u001b[0;36mget_return_value\u001b[0;34m(answer, gateway_client, target_id, name)\u001b[0m\n\u001b[1;32m    326\u001b[0m                 raise Py4JJavaError(\n\u001b[1;32m    327\u001b[0m                     \u001b[0;34m\"An error occurred while calling {0}{1}{2}.\\n\"\u001b[0m\u001b[0;34m.\u001b[0m\u001b[0;34m\u001b[0m\u001b[0;34m\u001b[0m\u001b[0m\n\u001b[0;32m--> 328\u001b[0;31m                     format(target_id, \".\", name), value)\n\u001b[0m\u001b[1;32m    329\u001b[0m             \u001b[0;32melse\u001b[0m\u001b[0;34m:\u001b[0m\u001b[0;34m\u001b[0m\u001b[0;34m\u001b[0m\u001b[0m\n\u001b[1;32m    330\u001b[0m                 raise Py4JError(\n",
      "\u001b[0;31mPy4JJavaError\u001b[0m: An error occurred while calling o67.load.\n: java.lang.ClassNotFoundException: Failed to find data source: org.apache.hadoop.hbase.spark. Please find packages at http://spark.apache.org/third-party-projects.html\n\tat org.apache.spark.sql.execution.datasources.DataSource$.lookupDataSource(DataSource.scala:675)\n\tat org.apache.spark.sql.DataFrameReader.load(DataFrameReader.scala:213)\n\tat org.apache.spark.sql.DataFrameReader.load(DataFrameReader.scala:186)\n\tat sun.reflect.NativeMethodAccessorImpl.invoke0(Native Method)\n\tat sun.reflect.NativeMethodAccessorImpl.invoke(NativeMethodAccessorImpl.java:62)\n\tat sun.reflect.DelegatingMethodAccessorImpl.invoke(DelegatingMethodAccessorImpl.java:43)\n\tat java.lang.reflect.Method.invoke(Method.java:498)\n\tat py4j.reflection.MethodInvoker.invoke(MethodInvoker.java:244)\n\tat py4j.reflection.ReflectionEngine.invoke(ReflectionEngine.java:357)\n\tat py4j.Gateway.invoke(Gateway.java:282)\n\tat py4j.commands.AbstractCommand.invokeMethod(AbstractCommand.java:132)\n\tat py4j.commands.CallCommand.execute(CallCommand.java:79)\n\tat py4j.GatewayConnection.run(GatewayConnection.java:238)\n\tat java.lang.Thread.run(Thread.java:745)\nCaused by: java.lang.ClassNotFoundException: org.apache.hadoop.hbase.spark.DefaultSource\n\tat java.net.URLClassLoader.findClass(URLClassLoader.java:381)\n\tat java.lang.ClassLoader.loadClass(ClassLoader.java:424)\n\tat java.lang.ClassLoader.loadClass(ClassLoader.java:357)\n\tat org.apache.spark.sql.execution.datasources.DataSource$$anonfun$20$$anonfun$apply$12.apply(DataSource.scala:652)\n\tat org.apache.spark.sql.execution.datasources.DataSource$$anonfun$20$$anonfun$apply$12.apply(DataSource.scala:652)\n\tat scala.util.Try$.apply(Try.scala:192)\n\tat org.apache.spark.sql.execution.datasources.DataSource$$anonfun$20.apply(DataSource.scala:652)\n\tat org.apache.spark.sql.execution.datasources.DataSource$$anonfun$20.apply(DataSource.scala:652)\n\tat scala.util.Try.orElse(Try.scala:84)\n\tat org.apache.spark.sql.execution.datasources.DataSource$.lookupDataSource(DataSource.scala:652)\n\t... 13 more\n"
     ]
    }
   ],
   "source": [
    "df = spark.read.format(\"org.apache.hadoop.hbase.spark\").options(**hbase_conf).load()"
   ]
  },
  {
   "cell_type": "code",
   "execution_count": null,
   "id": "78754325",
   "metadata": {},
   "outputs": [],
   "source": []
  }
 ],
 "metadata": {
  "kernelspec": {
   "display_name": "Python 3",
   "language": "python",
   "name": "python3"
  },
  "language_info": {
   "codemirror_mode": {
    "name": "ipython",
    "version": 3
   },
   "file_extension": ".py",
   "mimetype": "text/x-python",
   "name": "python",
   "nbconvert_exporter": "python",
   "pygments_lexer": "ipython3",
   "version": "3.6.9"
  }
 },
 "nbformat": 4,
 "nbformat_minor": 5
}
