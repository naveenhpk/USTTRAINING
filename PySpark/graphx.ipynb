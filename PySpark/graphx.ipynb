{
 "cells": [
  {
   "cell_type": "code",
   "execution_count": 2,
   "id": "1a03dff5",
   "metadata": {},
   "outputs": [
    {
     "data": {
      "text/html": [
       "\n",
       "        <div>\n",
       "            <p><b>SparkContext</b></p>\n",
       "\n",
       "            <p><a href=\"http://10.0.2.15:4040\">Spark UI</a></p>\n",
       "\n",
       "            <dl>\n",
       "              <dt>Version</dt>\n",
       "                <dd><code>v2.4.8</code></dd>\n",
       "              <dt>Master</dt>\n",
       "                <dd><code>local[*]</code></dd>\n",
       "              <dt>AppName</dt>\n",
       "                <dd><code>PySparkShell</code></dd>\n",
       "            </dl>\n",
       "        </div>\n",
       "        "
      ],
      "text/plain": [
       "<SparkContext master=local[*] appName=PySparkShell>"
      ]
     },
     "execution_count": 2,
     "metadata": {},
     "output_type": "execute_result"
    }
   ],
   "source": [
    "sc"
   ]
  },
  {
   "cell_type": "code",
   "execution_count": 3,
   "id": "c385f894",
   "metadata": {},
   "outputs": [
    {
     "data": {
      "text/html": [
       "\n",
       "            <div>\n",
       "                <p><b>SparkSession - hive</b></p>\n",
       "                \n",
       "        <div>\n",
       "            <p><b>SparkContext</b></p>\n",
       "\n",
       "            <p><a href=\"http://10.0.2.15:4040\">Spark UI</a></p>\n",
       "\n",
       "            <dl>\n",
       "              <dt>Version</dt>\n",
       "                <dd><code>v2.4.8</code></dd>\n",
       "              <dt>Master</dt>\n",
       "                <dd><code>local[*]</code></dd>\n",
       "              <dt>AppName</dt>\n",
       "                <dd><code>PySparkShell</code></dd>\n",
       "            </dl>\n",
       "        </div>\n",
       "        \n",
       "            </div>\n",
       "        "
      ],
      "text/plain": [
       "<pyspark.sql.session.SparkSession at 0x7f24b2813438>"
      ]
     },
     "execution_count": 3,
     "metadata": {},
     "output_type": "execute_result"
    }
   ],
   "source": [
    "spark"
   ]
  },
  {
   "cell_type": "code",
   "execution_count": 4,
   "id": "1a978f71",
   "metadata": {},
   "outputs": [],
   "source": [
    "from pyspark.sql.functions import *"
   ]
  },
  {
   "cell_type": "code",
   "execution_count": 5,
   "id": "8e52fe54",
   "metadata": {},
   "outputs": [],
   "source": [
    "# LOAD USER DATA\n",
    "user_data = spark.read.csv(\"/graphx/users/users.txt\",inferSchema=True,header=True)\n",
    "\n",
    "# LOAD FOLLOWERS DATA\n",
    "followers_data= spark.read.csv(\"/graphx/follower/followers.txt\",inferSchema=True,header=True)"
   ]
  },
  {
   "cell_type": "markdown",
   "id": "b22a3155",
   "metadata": {},
   "source": [
    "### create graphx dataframe"
   ]
  },
  {
   "cell_type": "code",
   "execution_count": 6,
   "id": "c1783d18",
   "metadata": {},
   "outputs": [
    {
     "name": "stdout",
     "output_type": "stream",
     "text": [
      "Defaulting to user installation because normal site-packages is not writeable\n",
      "Requirement already satisfied: graphframes in ./.local/lib/python3.6/site-packages (0.6)\n",
      "Requirement already satisfied: numpy in ./.local/lib/python3.6/site-packages (from graphframes) (1.19.5)\n",
      "Requirement already satisfied: nose in ./.local/lib/python3.6/site-packages (from graphframes) (1.3.7)\n"
     ]
    }
   ],
   "source": [
    "!pip install graphframes"
   ]
  },
  {
   "cell_type": "code",
   "execution_count": 10,
   "id": "3c88a296",
   "metadata": {},
   "outputs": [],
   "source": [
    "from graphframes import GraphFrame"
   ]
  },
  {
   "cell_type": "code",
   "execution_count": 11,
   "id": "db29cabd",
   "metadata": {},
   "outputs": [],
   "source": [
    "# create vertices and edges dataframe\n",
    "vertices = user_data.withColumnRenamed(\"user_id\",\"id\").select(\"id\",\"user_name\")"
   ]
  },
  {
   "cell_type": "code",
   "execution_count": 12,
   "id": "961cafca",
   "metadata": {},
   "outputs": [],
   "source": [
    "edges = followers_data.withColumnRenamed(\"follower_id\",\"src\").withColumnRenamed(\"followee_id\",\"dst\")"
   ]
  },
  {
   "cell_type": "code",
   "execution_count": 13,
   "id": "4f3e2594",
   "metadata": {},
   "outputs": [],
   "source": [
    "# create a graph frame using vertices and edges\n",
    "graph = GraphFrame(vertices,edges)"
   ]
  },
  {
   "cell_type": "code",
   "execution_count": 16,
   "id": "279574f9",
   "metadata": {},
   "outputs": [],
   "source": [
    "# run page rank algorithm from GraphX\n",
    "ranks = graph.pageRank(resetProbability=0.15,maxIter=10)"
   ]
  },
  {
   "cell_type": "code",
   "execution_count": 17,
   "id": "f231fd97",
   "metadata": {},
   "outputs": [
    {
     "name": "stdout",
     "output_type": "stream",
     "text": [
      "+---+------------+------------------+\n",
      "| id|   user_name|          pagerank|\n",
      "+---+------------+------------------+\n",
      "|  6|     alok087| 2.114669473746382|\n",
      "|  5|   pankaj420|2.0376039342322696|\n",
      "|  4|    sankar05|0.7216117000227338|\n",
      "|  2|  monamona23|0.7216117000227338|\n",
      "|  1|amitmishra08|0.6731037647948335|\n",
      "|  8|   anonymous|0.6731037647948335|\n",
      "|  3|  notymoty08|0.5291478311931067|\n",
      "|  7|    rohit023|0.5291478311931067|\n",
      "+---+------------+------------------+\n",
      "\n"
     ]
    }
   ],
   "source": [
    "# display pAge rank results\n",
    "ranks.vertices.orderBy(ranks.vertices.pagerank.desc()).show()"
   ]
  },
  {
   "cell_type": "code",
   "execution_count": null,
   "id": "c9f65178",
   "metadata": {},
   "outputs": [],
   "source": []
  }
 ],
 "metadata": {
  "kernelspec": {
   "display_name": "Python 3",
   "language": "python",
   "name": "python3"
  },
  "language_info": {
   "codemirror_mode": {
    "name": "ipython",
    "version": 3
   },
   "file_extension": ".py",
   "mimetype": "text/x-python",
   "name": "python",
   "nbconvert_exporter": "python",
   "pygments_lexer": "ipython3",
   "version": "3.6.9"
  }
 },
 "nbformat": 4,
 "nbformat_minor": 5
}
