{
 "cells": [
  {
   "cell_type": "code",
   "execution_count": 93,
   "id": "a9b89d4d",
   "metadata": {},
   "outputs": [
    {
     "data": {
      "text/html": [
       "\n",
       "        <div>\n",
       "            <p><b>SparkContext</b></p>\n",
       "\n",
       "            <p><a href=\"http://10.0.2.15:4040\">Spark UI</a></p>\n",
       "\n",
       "            <dl>\n",
       "              <dt>Version</dt>\n",
       "                <dd><code>v2.4.8</code></dd>\n",
       "              <dt>Master</dt>\n",
       "                <dd><code>local[*]</code></dd>\n",
       "              <dt>AppName</dt>\n",
       "                <dd><code>PySparkShell</code></dd>\n",
       "            </dl>\n",
       "        </div>\n",
       "        "
      ],
      "text/plain": [
       "<SparkContext master=local[*] appName=PySparkShell>"
      ]
     },
     "execution_count": 93,
     "metadata": {},
     "output_type": "execute_result"
    }
   ],
   "source": [
    "sc"
   ]
  },
  {
   "cell_type": "code",
   "execution_count": 94,
   "id": "1cee521b",
   "metadata": {},
   "outputs": [
    {
     "data": {
      "text/html": [
       "\n",
       "            <div>\n",
       "                <p><b>SparkSession - hive</b></p>\n",
       "                \n",
       "        <div>\n",
       "            <p><b>SparkContext</b></p>\n",
       "\n",
       "            <p><a href=\"http://10.0.2.15:4040\">Spark UI</a></p>\n",
       "\n",
       "            <dl>\n",
       "              <dt>Version</dt>\n",
       "                <dd><code>v2.4.8</code></dd>\n",
       "              <dt>Master</dt>\n",
       "                <dd><code>local[*]</code></dd>\n",
       "              <dt>AppName</dt>\n",
       "                <dd><code>PySparkShell</code></dd>\n",
       "            </dl>\n",
       "        </div>\n",
       "        \n",
       "            </div>\n",
       "        "
      ],
      "text/plain": [
       "<pyspark.sql.session.SparkSession at 0x7fa2cd09e400>"
      ]
     },
     "execution_count": 94,
     "metadata": {},
     "output_type": "execute_result"
    }
   ],
   "source": [
    "spark"
   ]
  },
  {
   "cell_type": "code",
   "execution_count": 95,
   "id": "c1a3e70d",
   "metadata": {},
   "outputs": [],
   "source": [
    "cust_df = spark.read.csv(\"file:///home/hadoop/Downloads/Telco_Customer_Churn.csv\",inferSchema=True,header=True)"
   ]
  },
  {
   "cell_type": "code",
   "execution_count": 96,
   "id": "e6da8219",
   "metadata": {},
   "outputs": [
    {
     "name": "stdout",
     "output_type": "stream",
     "text": [
      "root\n",
      " |-- customerID: string (nullable = true)\n",
      " |-- gender: string (nullable = true)\n",
      " |-- SeniorCitizen: integer (nullable = true)\n",
      " |-- Partner: string (nullable = true)\n",
      " |-- Dependents: string (nullable = true)\n",
      " |-- tenure: integer (nullable = true)\n",
      " |-- PhoneService: string (nullable = true)\n",
      " |-- MultipleLines: string (nullable = true)\n",
      " |-- InternetService: string (nullable = true)\n",
      " |-- OnlineSecurity: string (nullable = true)\n",
      " |-- OnlineBackup: string (nullable = true)\n",
      " |-- DeviceProtection: string (nullable = true)\n",
      " |-- TechSupport: string (nullable = true)\n",
      " |-- StreamingTV: string (nullable = true)\n",
      " |-- StreamingMovies: string (nullable = true)\n",
      " |-- Contract: string (nullable = true)\n",
      " |-- PaperlessBilling: string (nullable = true)\n",
      " |-- PaymentMethod: string (nullable = true)\n",
      " |-- MonthlyCharges: double (nullable = true)\n",
      " |-- TotalCharges: string (nullable = true)\n",
      " |-- Churn: string (nullable = true)\n",
      "\n"
     ]
    }
   ],
   "source": [
    "cust_df.printSchema()"
   ]
  },
  {
   "cell_type": "code",
   "execution_count": 97,
   "id": "425972ef",
   "metadata": {},
   "outputs": [
    {
     "name": "stdout",
     "output_type": "stream",
     "text": [
      "+----------+------+-------------+-------+----------+------+------------+----------------+---------------+-------------------+-------------------+-------------------+-------------------+-------------------+-------------------+--------------+----------------+--------------------+--------------+------------+-----+\n",
      "|customerID|gender|SeniorCitizen|Partner|Dependents|tenure|PhoneService|   MultipleLines|InternetService|     OnlineSecurity|       OnlineBackup|   DeviceProtection|        TechSupport|        StreamingTV|    StreamingMovies|      Contract|PaperlessBilling|       PaymentMethod|MonthlyCharges|TotalCharges|Churn|\n",
      "+----------+------+-------------+-------+----------+------+------------+----------------+---------------+-------------------+-------------------+-------------------+-------------------+-------------------+-------------------+--------------+----------------+--------------------+--------------+------------+-----+\n",
      "|7590-VHVEG|Female|            0|    Yes|        No|     1|          No|No phone service|            DSL|                 No|                Yes|                 No|                 No|                 No|                 No|Month-to-month|             Yes|    Electronic check|         29.85|       29.85|   No|\n",
      "|5575-GNVDE|  Male|            0|     No|        No|    34|         Yes|              No|            DSL|                Yes|                 No|                Yes|                 No|                 No|                 No|      One year|              No|        Mailed check|         56.95|      1889.5|   No|\n",
      "|3668-QPYBK|  Male|            0|     No|        No|     2|         Yes|              No|            DSL|                Yes|                Yes|                 No|                 No|                 No|                 No|Month-to-month|             Yes|        Mailed check|         53.85|      108.15|  Yes|\n",
      "|7795-CFOCW|  Male|            0|     No|        No|    45|          No|No phone service|            DSL|                Yes|                 No|                Yes|                Yes|                 No|                 No|      One year|              No|Bank transfer (au...|          42.3|     1840.75|   No|\n",
      "|9237-HQITU|Female|            0|     No|        No|     2|         Yes|              No|    Fiber optic|                 No|                 No|                 No|                 No|                 No|                 No|Month-to-month|             Yes|    Electronic check|          70.7|      151.65|  Yes|\n",
      "|9305-CDSKC|Female|            0|     No|        No|     8|         Yes|             Yes|    Fiber optic|                 No|                 No|                Yes|                 No|                Yes|                Yes|Month-to-month|             Yes|    Electronic check|         99.65|       820.5|  Yes|\n",
      "|1452-KIOVK|  Male|            0|     No|       Yes|    22|         Yes|             Yes|    Fiber optic|                 No|                Yes|                 No|                 No|                Yes|                 No|Month-to-month|             Yes|Credit card (auto...|          89.1|      1949.4|   No|\n",
      "|6713-OKOMC|Female|            0|     No|        No|    10|          No|No phone service|            DSL|                Yes|                 No|                 No|                 No|                 No|                 No|Month-to-month|              No|        Mailed check|         29.75|       301.9|   No|\n",
      "|7892-POOKP|Female|            0|    Yes|        No|    28|         Yes|             Yes|    Fiber optic|                 No|                 No|                Yes|                Yes|                Yes|                Yes|Month-to-month|             Yes|    Electronic check|         104.8|     3046.05|  Yes|\n",
      "|6388-TABGU|  Male|            0|     No|       Yes|    62|         Yes|              No|            DSL|                Yes|                Yes|                 No|                 No|                 No|                 No|      One year|              No|Bank transfer (au...|         56.15|     3487.95|   No|\n",
      "|9763-GRSKD|  Male|            0|    Yes|       Yes|    13|         Yes|              No|            DSL|                Yes|                 No|                 No|                 No|                 No|                 No|Month-to-month|             Yes|        Mailed check|         49.95|      587.45|   No|\n",
      "|7469-LKBCI|  Male|            0|     No|        No|    16|         Yes|              No|             No|No internet service|No internet service|No internet service|No internet service|No internet service|No internet service|      Two year|              No|Credit card (auto...|         18.95|       326.8|   No|\n",
      "|8091-TTVAX|  Male|            0|    Yes|        No|    58|         Yes|             Yes|    Fiber optic|                 No|                 No|                Yes|                 No|                Yes|                Yes|      One year|              No|Credit card (auto...|        100.35|      5681.1|   No|\n",
      "|0280-XJGEX|  Male|            0|     No|        No|    49|         Yes|             Yes|    Fiber optic|                 No|                Yes|                Yes|                 No|                Yes|                Yes|Month-to-month|             Yes|Bank transfer (au...|         103.7|      5036.3|  Yes|\n",
      "|5129-JLPIS|  Male|            0|     No|        No|    25|         Yes|              No|    Fiber optic|                Yes|                 No|                Yes|                Yes|                Yes|                Yes|Month-to-month|             Yes|    Electronic check|         105.5|     2686.05|   No|\n",
      "|3655-SNQYZ|Female|            0|    Yes|       Yes|    69|         Yes|             Yes|    Fiber optic|                Yes|                Yes|                Yes|                Yes|                Yes|                Yes|      Two year|              No|Credit card (auto...|        113.25|     7895.15|   No|\n",
      "|8191-XWSZG|Female|            0|     No|        No|    52|         Yes|              No|             No|No internet service|No internet service|No internet service|No internet service|No internet service|No internet service|      One year|              No|        Mailed check|         20.65|     1022.95|   No|\n",
      "|9959-WOFKT|  Male|            0|     No|       Yes|    71|         Yes|             Yes|    Fiber optic|                Yes|                 No|                Yes|                 No|                Yes|                Yes|      Two year|              No|Bank transfer (au...|         106.7|     7382.25|   No|\n",
      "|4190-MFLUW|Female|            0|    Yes|       Yes|    10|         Yes|              No|            DSL|                 No|                 No|                Yes|                Yes|                 No|                 No|Month-to-month|              No|Credit card (auto...|          55.2|      528.35|  Yes|\n",
      "|4183-MYFRB|Female|            0|     No|        No|    21|         Yes|              No|    Fiber optic|                 No|                Yes|                Yes|                 No|                 No|                Yes|Month-to-month|             Yes|    Electronic check|         90.05|      1862.9|   No|\n",
      "+----------+------+-------------+-------+----------+------+------------+----------------+---------------+-------------------+-------------------+-------------------+-------------------+-------------------+-------------------+--------------+----------------+--------------------+--------------+------------+-----+\n",
      "only showing top 20 rows\n",
      "\n"
     ]
    }
   ],
   "source": [
    "cust_df.show()"
   ]
  },
  {
   "cell_type": "code",
   "execution_count": 98,
   "id": "1d51c9ce",
   "metadata": {},
   "outputs": [
    {
     "data": {
      "text/plain": [
       "DataFrame[customerID: string, gender: string, SeniorCitizen: int, Partner: string, Dependents: string, tenure: int, PhoneService: string, MultipleLines: string, InternetService: string, OnlineSecurity: string, OnlineBackup: string, DeviceProtection: string, TechSupport: string, StreamingTV: string, StreamingMovies: string, Contract: string, PaperlessBilling: string, PaymentMethod: string, MonthlyCharges: double, TotalCharges: string, Churn: string]"
      ]
     },
     "execution_count": 98,
     "metadata": {},
     "output_type": "execute_result"
    }
   ],
   "source": [
    "cust_df.cache()"
   ]
  },
  {
   "cell_type": "code",
   "execution_count": 99,
   "id": "bd7ee967",
   "metadata": {},
   "outputs": [
    {
     "data": {
      "text/plain": [
       "7043"
      ]
     },
     "execution_count": 99,
     "metadata": {},
     "output_type": "execute_result"
    }
   ],
   "source": [
    "cust_df.count()"
   ]
  },
  {
   "cell_type": "code",
   "execution_count": 100,
   "id": "4f1ecc9a",
   "metadata": {},
   "outputs": [
    {
     "name": "stdout",
     "output_type": "stream",
     "text": [
      "+------+\n",
      "|gender|\n",
      "+------+\n",
      "|Female|\n",
      "|  Male|\n",
      "+------+\n",
      "\n"
     ]
    }
   ],
   "source": [
    "cust_df.select('gender').distinct().show()"
   ]
  },
  {
   "cell_type": "code",
   "execution_count": 101,
   "id": "7cdcf624",
   "metadata": {},
   "outputs": [
    {
     "name": "stdout",
     "output_type": "stream",
     "text": [
      "+------+-----+\n",
      "|gender|count|\n",
      "+------+-----+\n",
      "|Female| 3488|\n",
      "|  Male| 3555|\n",
      "+------+-----+\n",
      "\n"
     ]
    }
   ],
   "source": [
    "from pyspark.sql.functions import col\n",
    "gender_distribution = cust_df.groupBy(\"gender\").count()\n",
    "gender_distribution.show()"
   ]
  },
  {
   "cell_type": "code",
   "execution_count": 102,
   "id": "dfa8b39a",
   "metadata": {},
   "outputs": [
    {
     "name": "stdout",
     "output_type": "stream",
     "text": [
      "+--------------+-----+\n",
      "|      Contract|count|\n",
      "+--------------+-----+\n",
      "|Month-to-month| 3875|\n",
      "|      One year| 1473|\n",
      "|      Two year| 1695|\n",
      "+--------------+-----+\n",
      "\n"
     ]
    }
   ],
   "source": [
    "contract_distribution = cust_df.groupBy(\"Contract\").count()\n",
    "contract_distribution.show()"
   ]
  },
  {
   "cell_type": "code",
   "execution_count": 103,
   "id": "e644fe41",
   "metadata": {},
   "outputs": [
    {
     "name": "stdout",
     "output_type": "stream",
     "text": [
      "26.536987079369588\n"
     ]
    }
   ],
   "source": [
    "yeschurn = cust_df.select('Churn').where(\"Churn ='Yes'\").count()\n",
    "totchurn = cust_df.select('Churn').count()\n",
    "perc = (yeschurn/totchurn) * 100\n",
    "print(perc)"
   ]
  },
  {
   "cell_type": "code",
   "execution_count": 104,
   "id": "7e377a50",
   "metadata": {},
   "outputs": [
    {
     "name": "stdout",
     "output_type": "stream",
     "text": [
      "+----------+------+-------------+-------+----------+------+------------+-------------+---------------+--------------+------------+----------------+-----------+-----------+---------------+--------+----------------+-------------+--------------+------------+-----+\n",
      "|customerID|gender|SeniorCitizen|Partner|Dependents|tenure|PhoneService|MultipleLines|InternetService|OnlineSecurity|OnlineBackup|DeviceProtection|TechSupport|StreamingTV|StreamingMovies|Contract|PaperlessBilling|PaymentMethod|MonthlyCharges|TotalCharges|Churn|\n",
      "+----------+------+-------------+-------+----------+------+------------+-------------+---------------+--------------+------------+----------------+-----------+-----------+---------------+--------+----------------+-------------+--------------+------------+-----+\n",
      "|         0|     0|            0|      0|         0|     0|           0|            0|              0|             0|           0|               0|          0|          0|              0|       0|               0|            0|             0|           0|    0|\n",
      "+----------+------+-------------+-------+----------+------+------------+-------------+---------------+--------------+------------+----------------+-----------+-----------+---------------+--------+----------------+-------------+--------------+------------+-----+\n",
      "\n"
     ]
    }
   ],
   "source": [
    "from pyspark.sql.functions import *\n",
    "cust_df.select([count(when(isnull(col), col)).alias(col) for col in cust_df.columns]).show()"
   ]
  },
  {
   "cell_type": "code",
   "execution_count": 105,
   "id": "8906871e",
   "metadata": {},
   "outputs": [],
   "source": [
    "cust_df = cust_df.withColumn('TotalCharges',when(col('TotalCharges')==\" \",None)\\\n",
    "                             .otherwise(col(\"TotalCharges\")))"
   ]
  },
  {
   "cell_type": "code",
   "execution_count": 106,
   "id": "6a7b13fd",
   "metadata": {},
   "outputs": [
    {
     "name": "stdout",
     "output_type": "stream",
     "text": [
      "+----------+------+-------------+-------+----------+------+------------+-------------+---------------+--------------+------------+----------------+-----------+-----------+---------------+--------+----------------+-------------+--------------+------------+-----+\n",
      "|customerID|gender|SeniorCitizen|Partner|Dependents|tenure|PhoneService|MultipleLines|InternetService|OnlineSecurity|OnlineBackup|DeviceProtection|TechSupport|StreamingTV|StreamingMovies|Contract|PaperlessBilling|PaymentMethod|MonthlyCharges|TotalCharges|Churn|\n",
      "+----------+------+-------------+-------+----------+------+------------+-------------+---------------+--------------+------------+----------------+-----------+-----------+---------------+--------+----------------+-------------+--------------+------------+-----+\n",
      "|         0|     0|            0|      0|         0|     0|           0|            0|              0|             0|           0|               0|          0|          0|              0|       0|               0|            0|             0|          11|    0|\n",
      "+----------+------+-------------+-------+----------+------+------------+-------------+---------------+--------------+------------+----------------+-----------+-----------+---------------+--------+----------------+-------------+--------------+------------+-----+\n",
      "\n"
     ]
    }
   ],
   "source": [
    "from pyspark.sql.functions import *\n",
    "cust_df.select([count(when(isnull(col), col)).alias(col) for col in cust_df.columns]).show()"
   ]
  },
  {
   "cell_type": "code",
   "execution_count": 107,
   "id": "15b7725e",
   "metadata": {},
   "outputs": [],
   "source": [
    "churn_data1 = cust_df.na.drop()"
   ]
  },
  {
   "cell_type": "code",
   "execution_count": 108,
   "id": "e60b264f",
   "metadata": {},
   "outputs": [
    {
     "data": {
      "text/plain": [
       "[Row(customerID='7590-VHVEG', gender='Female', SeniorCitizen=0, Partner='Yes', Dependents='No', tenure=1, PhoneService='No', MultipleLines='No phone service', InternetService='DSL', OnlineSecurity='No', OnlineBackup='Yes', DeviceProtection='No', TechSupport='No', StreamingTV='No', StreamingMovies='No', Contract='Month-to-month', PaperlessBilling='Yes', PaymentMethod='Electronic check', MonthlyCharges=29.85, TotalCharges='29.85', Churn='No'),\n",
       " Row(customerID='5575-GNVDE', gender='Male', SeniorCitizen=0, Partner='No', Dependents='No', tenure=34, PhoneService='Yes', MultipleLines='No', InternetService='DSL', OnlineSecurity='Yes', OnlineBackup='No', DeviceProtection='Yes', TechSupport='No', StreamingTV='No', StreamingMovies='No', Contract='One year', PaperlessBilling='No', PaymentMethod='Mailed check', MonthlyCharges=56.95, TotalCharges='1889.5', Churn='No'),\n",
       " Row(customerID='3668-QPYBK', gender='Male', SeniorCitizen=0, Partner='No', Dependents='No', tenure=2, PhoneService='Yes', MultipleLines='No', InternetService='DSL', OnlineSecurity='Yes', OnlineBackup='Yes', DeviceProtection='No', TechSupport='No', StreamingTV='No', StreamingMovies='No', Contract='Month-to-month', PaperlessBilling='Yes', PaymentMethod='Mailed check', MonthlyCharges=53.85, TotalCharges='108.15', Churn='Yes'),\n",
       " Row(customerID='7795-CFOCW', gender='Male', SeniorCitizen=0, Partner='No', Dependents='No', tenure=45, PhoneService='No', MultipleLines='No phone service', InternetService='DSL', OnlineSecurity='Yes', OnlineBackup='No', DeviceProtection='Yes', TechSupport='Yes', StreamingTV='No', StreamingMovies='No', Contract='One year', PaperlessBilling='No', PaymentMethod='Bank transfer (automatic)', MonthlyCharges=42.3, TotalCharges='1840.75', Churn='No'),\n",
       " Row(customerID='9237-HQITU', gender='Female', SeniorCitizen=0, Partner='No', Dependents='No', tenure=2, PhoneService='Yes', MultipleLines='No', InternetService='Fiber optic', OnlineSecurity='No', OnlineBackup='No', DeviceProtection='No', TechSupport='No', StreamingTV='No', StreamingMovies='No', Contract='Month-to-month', PaperlessBilling='Yes', PaymentMethod='Electronic check', MonthlyCharges=70.7, TotalCharges='151.65', Churn='Yes')]"
      ]
     },
     "execution_count": 108,
     "metadata": {},
     "output_type": "execute_result"
    }
   ],
   "source": [
    "churn_data1.head(5)"
   ]
  },
  {
   "cell_type": "code",
   "execution_count": 109,
   "id": "a9432411",
   "metadata": {},
   "outputs": [],
   "source": [
    "from pyspark.sql.types import FloatType\n",
    "churn_data1 = churn_data1.withColumn('TotalCharges',col('TotalCharges').cast(FloatType()))"
   ]
  },
  {
   "cell_type": "code",
   "execution_count": 110,
   "id": "c6ba1303",
   "metadata": {},
   "outputs": [
    {
     "name": "stdout",
     "output_type": "stream",
     "text": [
      "root\n",
      " |-- customerID: string (nullable = true)\n",
      " |-- gender: string (nullable = true)\n",
      " |-- SeniorCitizen: integer (nullable = true)\n",
      " |-- Partner: string (nullable = true)\n",
      " |-- Dependents: string (nullable = true)\n",
      " |-- tenure: integer (nullable = true)\n",
      " |-- PhoneService: string (nullable = true)\n",
      " |-- MultipleLines: string (nullable = true)\n",
      " |-- InternetService: string (nullable = true)\n",
      " |-- OnlineSecurity: string (nullable = true)\n",
      " |-- OnlineBackup: string (nullable = true)\n",
      " |-- DeviceProtection: string (nullable = true)\n",
      " |-- TechSupport: string (nullable = true)\n",
      " |-- StreamingTV: string (nullable = true)\n",
      " |-- StreamingMovies: string (nullable = true)\n",
      " |-- Contract: string (nullable = true)\n",
      " |-- PaperlessBilling: string (nullable = true)\n",
      " |-- PaymentMethod: string (nullable = true)\n",
      " |-- MonthlyCharges: double (nullable = true)\n",
      " |-- TotalCharges: float (nullable = true)\n",
      " |-- Churn: string (nullable = true)\n",
      "\n"
     ]
    }
   ],
   "source": [
    "churn_data1.printSchema()"
   ]
  },
  {
   "cell_type": "code",
   "execution_count": 111,
   "id": "71b3c8ff",
   "metadata": {},
   "outputs": [],
   "source": [
    "from pyspark.ml.feature import StringIndexer, OneHotEncoderEstimator, VectorAssembler\n",
    "from pyspark.ml import Pipeline"
   ]
  },
  {
   "cell_type": "code",
   "execution_count": 112,
   "id": "bf12e4d0",
   "metadata": {},
   "outputs": [],
   "source": [
    "categorical_cols = [\"gender\",\"SeniorCitizen\",\"Partner\",\"Dependents\",\"PhoneService\",\"MultipleLines\",\\\n",
    "                    \"InternetService\",\"OnlineSecurity\",\"OnlineBackup\",\"DeviceProtection\",\"TechSupport\",\\\n",
    "                    \"StreamingTV\",\"StreamingMovies\",\"Contract\",\"PaperlessBilling\",\"PaymentMethod\",\"Churn\"]\n",
    "# use stringIndexer to convert chategorical columns to numerical indexes\n",
    "#stage1 = [StringIndexer(inputCol=col_name,outputCol=col_name+\"_index\")\n",
    "#        for col_name in categorical_cols]\n",
    "\n",
    "stages=[]\n",
    "for catcols in categorical_cols:\n",
    "    stringindexer = StringIndexer(inputCol=catcols,outputCol=catcols+\"Index\")\n",
    "    onehotencoder = OneHotEncoderEstimator(inputCols =[stringIndexer.getOutputCol()],\n",
    "                                          outputCols=[catcols+\"classVec\"])\n",
    "    stages += [stringindexer,onehotencoder]"
   ]
  },
  {
   "cell_type": "code",
   "execution_count": 113,
   "id": "4fff9074",
   "metadata": {},
   "outputs": [],
   "source": [
    "numericCols = [\"tenure\",\"MonthlyCharges\",\"TotalCharges\"]\n",
    "assemblerInputs = [c + \"classVec\" for c in categorical_cols]+numericCols\n",
    "assembler = VectorAssembler(inputCols=assemblerInputs,outputCol=\"features\")\n",
    "stages += [assembler]\n"
   ]
  },
  {
   "cell_type": "code",
   "execution_count": 115,
   "id": "506def99",
   "metadata": {},
   "outputs": [],
   "source": [
    "label_stringIdx = StringIndexer(inputCol='Churn',outputCol='label')\n",
    "stages += [label_stringIdx]"
   ]
  },
  {
   "cell_type": "code",
   "execution_count": 117,
   "id": "1063b396",
   "metadata": {},
   "outputs": [],
   "source": [
    "pipeline = Pipeline(stages=stages)\n",
    "churn_df = pipeline.fit(churn_data1).transform(churn_data1)"
   ]
  },
  {
   "cell_type": "code",
   "execution_count": 119,
   "id": "bed3e44b",
   "metadata": {},
   "outputs": [
    {
     "name": "stdout",
     "output_type": "stream",
     "text": [
      "+---------------------------------------------------------------------------------------------------+-----+\n",
      "|features                                                                                           |label|\n",
      "+---------------------------------------------------------------------------------------------------+-----+\n",
      "|(20,[17,18,19],[1.0,29.85,29.850000381469727])                                                     |0.0  |\n",
      "|[1.0,1.0,1.0,1.0,1.0,1.0,1.0,1.0,1.0,1.0,1.0,1.0,1.0,1.0,1.0,1.0,1.0,34.0,56.95,1889.5]            |0.0  |\n",
      "|[1.0,1.0,1.0,1.0,1.0,1.0,1.0,1.0,1.0,1.0,1.0,1.0,1.0,1.0,1.0,1.0,1.0,2.0,53.85,108.1500015258789]  |1.0  |\n",
      "|[1.0,1.0,1.0,1.0,1.0,1.0,1.0,1.0,1.0,1.0,1.0,1.0,1.0,1.0,1.0,1.0,1.0,45.0,42.3,1840.75]            |0.0  |\n",
      "|(20,[17,18,19],[2.0,70.7,151.64999389648438])                                                      |1.0  |\n",
      "|(20,[17,18,19],[8.0,99.65,820.5])                                                                  |1.0  |\n",
      "|[1.0,1.0,1.0,1.0,1.0,1.0,1.0,1.0,1.0,1.0,1.0,1.0,1.0,1.0,1.0,1.0,1.0,22.0,89.1,1949.4000244140625] |0.0  |\n",
      "|(20,[17,18,19],[10.0,29.75,301.8999938964844])                                                     |0.0  |\n",
      "|(20,[17,18,19],[28.0,104.8,3046.050048828125])                                                     |1.0  |\n",
      "|[1.0,1.0,1.0,1.0,1.0,1.0,1.0,1.0,1.0,1.0,1.0,1.0,1.0,1.0,1.0,1.0,1.0,62.0,56.15,3487.949951171875] |0.0  |\n",
      "|[1.0,1.0,1.0,1.0,1.0,1.0,1.0,1.0,1.0,1.0,1.0,1.0,1.0,1.0,1.0,1.0,1.0,13.0,49.95,587.4500122070312] |0.0  |\n",
      "|[1.0,1.0,1.0,1.0,1.0,1.0,1.0,1.0,1.0,1.0,1.0,1.0,1.0,1.0,1.0,1.0,1.0,16.0,18.95,326.79998779296875]|0.0  |\n",
      "|[1.0,1.0,1.0,1.0,1.0,1.0,1.0,1.0,1.0,1.0,1.0,1.0,1.0,1.0,1.0,1.0,1.0,58.0,100.35,5681.10009765625] |0.0  |\n",
      "|[1.0,1.0,1.0,1.0,1.0,1.0,1.0,1.0,1.0,1.0,1.0,1.0,1.0,1.0,1.0,1.0,1.0,49.0,103.7,5036.2998046875]   |1.0  |\n",
      "|[1.0,1.0,1.0,1.0,1.0,1.0,1.0,1.0,1.0,1.0,1.0,1.0,1.0,1.0,1.0,1.0,1.0,25.0,105.5,2686.050048828125] |0.0  |\n",
      "|(20,[17,18,19],[69.0,113.25,7895.14990234375])                                                     |0.0  |\n",
      "|(20,[17,18,19],[52.0,20.65,1022.9500122070312])                                                    |0.0  |\n",
      "|[1.0,1.0,1.0,1.0,1.0,1.0,1.0,1.0,1.0,1.0,1.0,1.0,1.0,1.0,1.0,1.0,1.0,71.0,106.7,7382.25]           |0.0  |\n",
      "|(20,[17,18,19],[10.0,55.2,528.3499755859375])                                                      |1.0  |\n",
      "|(20,[17,18,19],[21.0,90.05,1862.9000244140625])                                                    |0.0  |\n",
      "+---------------------------------------------------------------------------------------------------+-----+\n",
      "only showing top 20 rows\n",
      "\n"
     ]
    }
   ],
   "source": [
    "churn_df.select(['features','label']).show(truncate=False)"
   ]
  },
  {
   "cell_type": "code",
   "execution_count": 121,
   "id": "0c52e001",
   "metadata": {},
   "outputs": [],
   "source": [
    "train,test = churn_df.randomSplit([0.8,0.2],seed = 2)"
   ]
  },
  {
   "cell_type": "code",
   "execution_count": 122,
   "id": "481917f0",
   "metadata": {},
   "outputs": [
    {
     "name": "stdout",
     "output_type": "stream",
     "text": [
      "+----------+------+-------------+-------+----------+------+------------+----------------+---------------+--------------+------------+----------------+-----------+-----------+---------------+--------------+----------------+--------------------+--------------+------------+-----+-----------+--------------+------------------+---------------------+------------+---------------+---------------+------------------+-----------------+--------------------+------------------+---------------------+--------------------+-----------------------+-------------------+----------------------+-----------------+--------------------+---------------------+------------------------+----------------+-------------------+----------------+-------------------+--------------------+-----------------------+-------------+----------------+---------------------+------------------------+------------------+---------------------+----------+-------------+--------------------+-----+\n",
      "|customerID|gender|SeniorCitizen|Partner|Dependents|tenure|PhoneService|   MultipleLines|InternetService|OnlineSecurity|OnlineBackup|DeviceProtection|TechSupport|StreamingTV|StreamingMovies|      Contract|PaperlessBilling|       PaymentMethod|MonthlyCharges|TotalCharges|Churn|genderIndex|genderclassVec|SeniorCitizenIndex|SeniorCitizenclassVec|PartnerIndex|PartnerclassVec|DependentsIndex|DependentsclassVec|PhoneServiceIndex|PhoneServiceclassVec|MultipleLinesIndex|MultipleLinesclassVec|InternetServiceIndex|InternetServiceclassVec|OnlineSecurityIndex|OnlineSecurityclassVec|OnlineBackupIndex|OnlineBackupclassVec|DeviceProtectionIndex|DeviceProtectionclassVec|TechSupportIndex|TechSupportclassVec|StreamingTVIndex|StreamingTVclassVec|StreamingMoviesIndex|StreamingMoviesclassVec|ContractIndex|ContractclassVec|PaperlessBillingIndex|PaperlessBillingclassVec|PaymentMethodIndex|PaymentMethodclassVec|ChurnIndex|ChurnclassVec|            features|label|\n",
      "+----------+------+-------------+-------+----------+------+------------+----------------+---------------+--------------+------------+----------------+-----------+-----------+---------------+--------------+----------------+--------------------+--------------+------------+-----+-----------+--------------+------------------+---------------------+------------+---------------+---------------+------------------+-----------------+--------------------+------------------+---------------------+--------------------+-----------------------+-------------------+----------------------+-----------------+--------------------+---------------------+------------------------+----------------+-------------------+----------------+-------------------+--------------------+-----------------------+-------------+----------------+---------------------+------------------------+------------------+---------------------+----------+-------------+--------------------+-----+\n",
      "|0002-ORFBO|Female|            0|    Yes|       Yes|     9|         Yes|              No|            DSL|            No|         Yes|              No|        Yes|        Yes|             No|      One year|             Yes|        Mailed check|          65.6|       593.3|   No|        1.0|     (1,[],[])|               0.0|            (1,[],[])|         1.0|      (1,[],[])|            1.0|         (1,[],[])|              0.0|           (1,[],[])|               0.0|            (1,[],[])|                 1.0|              (1,[],[])|                0.0|             (1,[],[])|              1.0|           (1,[],[])|                  0.0|               (1,[],[])|             1.0|          (1,[],[])|             1.0|          (1,[],[])|                 0.0|              (1,[],[])|          2.0|       (1,[],[])|                  0.0|               (1,[],[])|               1.0|            (1,[],[])|       0.0|    (1,[],[])|(20,[17,18,19],[9...|  0.0|\n",
      "|0003-MKNFE|  Male|            0|     No|        No|     9|         Yes|             Yes|            DSL|            No|          No|              No|         No|         No|            Yes|Month-to-month|              No|        Mailed check|          59.9|       542.4|   No|        0.0| (1,[0],[1.0])|               0.0|        (1,[0],[1.0])|         0.0|  (1,[0],[1.0])|            0.0|     (1,[0],[1.0])|              0.0|       (1,[0],[1.0])|               1.0|        (1,[0],[1.0])|                 1.0|          (1,[0],[1.0])|                0.0|         (1,[0],[1.0])|              0.0|       (1,[0],[1.0])|                  0.0|           (1,[0],[1.0])|             0.0|      (1,[0],[1.0])|             0.0|      (1,[0],[1.0])|                 1.0|          (1,[0],[1.0])|          0.0|   (1,[0],[1.0])|                  1.0|           (1,[0],[1.0])|               1.0|        (1,[0],[1.0])|       0.0|(1,[0],[1.0])|[1.0,1.0,1.0,1.0,...|  0.0|\n",
      "|0004-TLHLJ|  Male|            0|     No|        No|     4|         Yes|              No|    Fiber optic|            No|          No|             Yes|         No|         No|             No|Month-to-month|             Yes|    Electronic check|          73.9|      280.85|  Yes|        0.0| (1,[0],[1.0])|               0.0|        (1,[0],[1.0])|         0.0|  (1,[0],[1.0])|            0.0|     (1,[0],[1.0])|              0.0|       (1,[0],[1.0])|               0.0|        (1,[0],[1.0])|                 0.0|          (1,[0],[1.0])|                0.0|         (1,[0],[1.0])|              0.0|       (1,[0],[1.0])|                  1.0|           (1,[0],[1.0])|             0.0|      (1,[0],[1.0])|             0.0|      (1,[0],[1.0])|                 0.0|          (1,[0],[1.0])|          0.0|   (1,[0],[1.0])|                  0.0|           (1,[0],[1.0])|               0.0|        (1,[0],[1.0])|       1.0|(1,[0],[1.0])|[1.0,1.0,1.0,1.0,...|  1.0|\n",
      "|0011-IGKFF|  Male|            1|    Yes|        No|    13|         Yes|              No|    Fiber optic|            No|         Yes|             Yes|         No|        Yes|            Yes|Month-to-month|             Yes|    Electronic check|          98.0|     1237.85|  Yes|        0.0| (1,[0],[1.0])|               1.0|        (1,[0],[1.0])|         1.0|  (1,[0],[1.0])|            0.0|     (1,[0],[1.0])|              0.0|       (1,[0],[1.0])|               0.0|        (1,[0],[1.0])|                 0.0|          (1,[0],[1.0])|                0.0|         (1,[0],[1.0])|              1.0|       (1,[0],[1.0])|                  1.0|           (1,[0],[1.0])|             0.0|      (1,[0],[1.0])|             1.0|      (1,[0],[1.0])|                 1.0|          (1,[0],[1.0])|          0.0|   (1,[0],[1.0])|                  0.0|           (1,[0],[1.0])|               0.0|        (1,[0],[1.0])|       1.0|(1,[0],[1.0])|[1.0,1.0,1.0,1.0,...|  1.0|\n",
      "|0013-EXCHZ|Female|            1|    Yes|        No|     3|         Yes|              No|    Fiber optic|            No|          No|              No|        Yes|        Yes|             No|Month-to-month|             Yes|        Mailed check|          83.9|       267.4|  Yes|        1.0|     (1,[],[])|               1.0|            (1,[],[])|         1.0|      (1,[],[])|            0.0|         (1,[],[])|              0.0|           (1,[],[])|               0.0|            (1,[],[])|                 0.0|              (1,[],[])|                0.0|             (1,[],[])|              0.0|           (1,[],[])|                  0.0|               (1,[],[])|             1.0|          (1,[],[])|             1.0|          (1,[],[])|                 0.0|              (1,[],[])|          0.0|       (1,[],[])|                  0.0|               (1,[],[])|               1.0|            (1,[],[])|       1.0|    (1,[],[])|(20,[17,18,19],[3...|  1.0|\n",
      "|0013-MHZWF|Female|            0|     No|       Yes|     9|         Yes|              No|            DSL|            No|          No|              No|        Yes|        Yes|            Yes|Month-to-month|             Yes|Credit card (auto...|          69.4|      571.45|   No|        1.0|     (1,[],[])|               0.0|            (1,[],[])|         0.0|      (1,[],[])|            1.0|         (1,[],[])|              0.0|           (1,[],[])|               0.0|            (1,[],[])|                 1.0|              (1,[],[])|                0.0|             (1,[],[])|              0.0|           (1,[],[])|                  0.0|               (1,[],[])|             1.0|          (1,[],[])|             1.0|          (1,[],[])|                 1.0|              (1,[],[])|          0.0|       (1,[],[])|                  0.0|               (1,[],[])|               3.0|            (1,[],[])|       0.0|    (1,[],[])|(20,[17,18,19],[9...|  0.0|\n",
      "|0014-BMAQU|  Male|            0|    Yes|        No|    63|         Yes|             Yes|    Fiber optic|           Yes|          No|              No|        Yes|         No|             No|      Two year|             Yes|Credit card (auto...|         84.65|      5377.8|   No|        0.0| (1,[0],[1.0])|               0.0|        (1,[0],[1.0])|         1.0|  (1,[0],[1.0])|            0.0|     (1,[0],[1.0])|              0.0|       (1,[0],[1.0])|               1.0|        (1,[0],[1.0])|                 0.0|          (1,[0],[1.0])|                1.0|         (1,[0],[1.0])|              0.0|       (1,[0],[1.0])|                  0.0|           (1,[0],[1.0])|             1.0|      (1,[0],[1.0])|             0.0|      (1,[0],[1.0])|                 0.0|          (1,[0],[1.0])|          1.0|   (1,[0],[1.0])|                  0.0|           (1,[0],[1.0])|               3.0|        (1,[0],[1.0])|       0.0|(1,[0],[1.0])|[1.0,1.0,1.0,1.0,...|  0.0|\n",
      "|0015-UOCOJ|Female|            1|     No|        No|     7|         Yes|              No|            DSL|           Yes|          No|              No|         No|         No|             No|Month-to-month|             Yes|    Electronic check|          48.2|      340.35|   No|        1.0|     (1,[],[])|               1.0|            (1,[],[])|         0.0|      (1,[],[])|            0.0|         (1,[],[])|              0.0|           (1,[],[])|               0.0|            (1,[],[])|                 1.0|              (1,[],[])|                1.0|             (1,[],[])|              0.0|           (1,[],[])|                  0.0|               (1,[],[])|             0.0|          (1,[],[])|             0.0|          (1,[],[])|                 0.0|              (1,[],[])|          0.0|       (1,[],[])|                  0.0|               (1,[],[])|               0.0|            (1,[],[])|       0.0|    (1,[],[])|(20,[17,18,19],[7...|  0.0|\n",
      "|0016-QLJIS|Female|            0|    Yes|       Yes|    65|         Yes|             Yes|            DSL|           Yes|         Yes|             Yes|        Yes|        Yes|            Yes|      Two year|             Yes|        Mailed check|         90.45|      5957.9|   No|        1.0|     (1,[],[])|               0.0|            (1,[],[])|         1.0|      (1,[],[])|            1.0|         (1,[],[])|              0.0|           (1,[],[])|               1.0|            (1,[],[])|                 1.0|              (1,[],[])|                1.0|             (1,[],[])|              1.0|           (1,[],[])|                  1.0|               (1,[],[])|             1.0|          (1,[],[])|             1.0|          (1,[],[])|                 1.0|              (1,[],[])|          1.0|       (1,[],[])|                  0.0|               (1,[],[])|               1.0|            (1,[],[])|       0.0|    (1,[],[])|(20,[17,18,19],[6...|  0.0|\n",
      "|0017-DINOC|  Male|            0|     No|        No|    54|          No|No phone service|            DSL|           Yes|          No|              No|        Yes|        Yes|             No|      Two year|              No|Credit card (auto...|          45.2|     2460.55|   No|        0.0| (1,[0],[1.0])|               0.0|        (1,[0],[1.0])|         0.0|  (1,[0],[1.0])|            0.0|     (1,[0],[1.0])|              1.0|       (1,[0],[1.0])|               2.0|        (1,[0],[1.0])|                 1.0|          (1,[0],[1.0])|                1.0|         (1,[0],[1.0])|              0.0|       (1,[0],[1.0])|                  0.0|           (1,[0],[1.0])|             1.0|      (1,[0],[1.0])|             1.0|      (1,[0],[1.0])|                 0.0|          (1,[0],[1.0])|          1.0|   (1,[0],[1.0])|                  1.0|           (1,[0],[1.0])|               3.0|        (1,[0],[1.0])|       0.0|(1,[0],[1.0])|[1.0,1.0,1.0,1.0,...|  0.0|\n",
      "|0018-NYROU|Female|            0|    Yes|        No|     5|         Yes|              No|    Fiber optic|            No|          No|              No|         No|         No|             No|Month-to-month|             Yes|    Electronic check|         68.95|       351.5|   No|        1.0|     (1,[],[])|               0.0|            (1,[],[])|         1.0|      (1,[],[])|            0.0|         (1,[],[])|              0.0|           (1,[],[])|               0.0|            (1,[],[])|                 0.0|              (1,[],[])|                0.0|             (1,[],[])|              0.0|           (1,[],[])|                  0.0|               (1,[],[])|             0.0|          (1,[],[])|             0.0|          (1,[],[])|                 0.0|              (1,[],[])|          0.0|       (1,[],[])|                  0.0|               (1,[],[])|               0.0|            (1,[],[])|       0.0|    (1,[],[])|(20,[17,18,19],[5...|  0.0|\n",
      "|0019-EFAEP|Female|            0|     No|        No|    72|         Yes|             Yes|    Fiber optic|           Yes|         Yes|             Yes|         No|        Yes|             No|      Two year|             Yes|Bank transfer (au...|         101.3|     7261.25|   No|        1.0|     (1,[],[])|               0.0|            (1,[],[])|         0.0|      (1,[],[])|            0.0|         (1,[],[])|              0.0|           (1,[],[])|               1.0|            (1,[],[])|                 0.0|              (1,[],[])|                1.0|             (1,[],[])|              1.0|           (1,[],[])|                  1.0|               (1,[],[])|             0.0|          (1,[],[])|             1.0|          (1,[],[])|                 0.0|              (1,[],[])|          1.0|       (1,[],[])|                  0.0|               (1,[],[])|               2.0|            (1,[],[])|       0.0|    (1,[],[])|(20,[17,18,19],[7...|  0.0|\n",
      "|0019-GFNTW|Female|            0|     No|        No|    56|          No|No phone service|            DSL|           Yes|         Yes|             Yes|        Yes|         No|             No|      Two year|              No|Bank transfer (au...|         45.05|      2560.1|   No|        1.0|     (1,[],[])|               0.0|            (1,[],[])|         0.0|      (1,[],[])|            0.0|         (1,[],[])|              1.0|           (1,[],[])|               2.0|            (1,[],[])|                 1.0|              (1,[],[])|                1.0|             (1,[],[])|              1.0|           (1,[],[])|                  1.0|               (1,[],[])|             1.0|          (1,[],[])|             0.0|          (1,[],[])|                 0.0|              (1,[],[])|          1.0|       (1,[],[])|                  1.0|               (1,[],[])|               2.0|            (1,[],[])|       0.0|    (1,[],[])|(20,[17,18,19],[5...|  0.0|\n",
      "|0020-INWCK|Female|            0|    Yes|       Yes|    71|         Yes|             Yes|    Fiber optic|            No|         Yes|             Yes|         No|         No|            Yes|      Two year|             Yes|Credit card (auto...|         95.75|      6849.4|   No|        1.0|     (1,[],[])|               0.0|            (1,[],[])|         1.0|      (1,[],[])|            1.0|         (1,[],[])|              0.0|           (1,[],[])|               1.0|            (1,[],[])|                 0.0|              (1,[],[])|                0.0|             (1,[],[])|              1.0|           (1,[],[])|                  1.0|               (1,[],[])|             0.0|          (1,[],[])|             0.0|          (1,[],[])|                 1.0|              (1,[],[])|          1.0|       (1,[],[])|                  0.0|               (1,[],[])|               3.0|            (1,[],[])|       0.0|    (1,[],[])|(20,[17,18,19],[7...|  0.0|\n",
      "|0020-JDNXP|Female|            0|    Yes|       Yes|    34|          No|No phone service|            DSL|           Yes|          No|             Yes|        Yes|        Yes|            Yes|      One year|              No|        Mailed check|         61.25|      1993.2|   No|        1.0|     (1,[],[])|               0.0|            (1,[],[])|         1.0|      (1,[],[])|            1.0|         (1,[],[])|              1.0|           (1,[],[])|               2.0|            (1,[],[])|                 1.0|              (1,[],[])|                1.0|             (1,[],[])|              0.0|           (1,[],[])|                  1.0|               (1,[],[])|             1.0|          (1,[],[])|             1.0|          (1,[],[])|                 1.0|              (1,[],[])|          2.0|       (1,[],[])|                  1.0|               (1,[],[])|               1.0|            (1,[],[])|       0.0|    (1,[],[])|(20,[17,18,19],[3...|  0.0|\n",
      "|0021-IKXGC|Female|            1|     No|        No|     1|         Yes|             Yes|    Fiber optic|            No|          No|              No|         No|         No|             No|Month-to-month|             Yes|    Electronic check|          72.1|        72.1|   No|        1.0|     (1,[],[])|               1.0|            (1,[],[])|         0.0|      (1,[],[])|            0.0|         (1,[],[])|              0.0|           (1,[],[])|               1.0|            (1,[],[])|                 0.0|              (1,[],[])|                0.0|             (1,[],[])|              0.0|           (1,[],[])|                  0.0|               (1,[],[])|             0.0|          (1,[],[])|             0.0|          (1,[],[])|                 0.0|              (1,[],[])|          0.0|       (1,[],[])|                  0.0|               (1,[],[])|               0.0|            (1,[],[])|       0.0|    (1,[],[])|(20,[17,18,19],[1...|  0.0|\n",
      "|0022-TCJCI|  Male|            1|     No|        No|    45|         Yes|              No|            DSL|           Yes|          No|             Yes|         No|         No|            Yes|      One year|              No|Credit card (auto...|          62.7|      2791.5|  Yes|        0.0| (1,[0],[1.0])|               1.0|        (1,[0],[1.0])|         0.0|  (1,[0],[1.0])|            0.0|     (1,[0],[1.0])|              0.0|       (1,[0],[1.0])|               0.0|        (1,[0],[1.0])|                 1.0|          (1,[0],[1.0])|                1.0|         (1,[0],[1.0])|              0.0|       (1,[0],[1.0])|                  1.0|           (1,[0],[1.0])|             0.0|      (1,[0],[1.0])|             0.0|      (1,[0],[1.0])|                 1.0|          (1,[0],[1.0])|          2.0|   (1,[0],[1.0])|                  1.0|           (1,[0],[1.0])|               3.0|        (1,[0],[1.0])|       1.0|(1,[0],[1.0])|[1.0,1.0,1.0,1.0,...|  1.0|\n",
      "|0023-HGHWL|  Male|            1|     No|        No|     1|          No|No phone service|            DSL|            No|          No|              No|         No|         No|             No|Month-to-month|             Yes|    Electronic check|          25.1|        25.1|  Yes|        0.0| (1,[0],[1.0])|               1.0|        (1,[0],[1.0])|         0.0|  (1,[0],[1.0])|            0.0|     (1,[0],[1.0])|              1.0|       (1,[0],[1.0])|               2.0|        (1,[0],[1.0])|                 1.0|          (1,[0],[1.0])|                0.0|         (1,[0],[1.0])|              0.0|       (1,[0],[1.0])|                  0.0|           (1,[0],[1.0])|             0.0|      (1,[0],[1.0])|             0.0|      (1,[0],[1.0])|                 0.0|          (1,[0],[1.0])|          0.0|   (1,[0],[1.0])|                  0.0|           (1,[0],[1.0])|               0.0|        (1,[0],[1.0])|       1.0|(1,[0],[1.0])|[1.0,1.0,1.0,1.0,...|  1.0|\n",
      "|0023-XUOPT|Female|            0|    Yes|        No|    13|         Yes|             Yes|    Fiber optic|            No|         Yes|             Yes|         No|        Yes|             No|Month-to-month|              No|    Electronic check|          94.1|      1215.6|  Yes|        1.0|     (1,[],[])|               0.0|            (1,[],[])|         1.0|      (1,[],[])|            0.0|         (1,[],[])|              0.0|           (1,[],[])|               1.0|            (1,[],[])|                 0.0|              (1,[],[])|                0.0|             (1,[],[])|              1.0|           (1,[],[])|                  1.0|               (1,[],[])|             0.0|          (1,[],[])|             1.0|          (1,[],[])|                 0.0|              (1,[],[])|          0.0|       (1,[],[])|                  1.0|               (1,[],[])|               0.0|            (1,[],[])|       1.0|    (1,[],[])|(20,[17,18,19],[1...|  1.0|\n",
      "|0027-KWYKW|Female|            0|    Yes|       Yes|    23|         Yes|             Yes|    Fiber optic|            No|          No|              No|         No|        Yes|             No|Month-to-month|             Yes|    Electronic check|         83.75|     1849.95|   No|        1.0|     (1,[],[])|               0.0|            (1,[],[])|         1.0|      (1,[],[])|            1.0|         (1,[],[])|              0.0|           (1,[],[])|               1.0|            (1,[],[])|                 0.0|              (1,[],[])|                0.0|             (1,[],[])|              0.0|           (1,[],[])|                  0.0|               (1,[],[])|             0.0|          (1,[],[])|             1.0|          (1,[],[])|                 0.0|              (1,[],[])|          0.0|       (1,[],[])|                  0.0|               (1,[],[])|               0.0|            (1,[],[])|       0.0|    (1,[],[])|(20,[17,18,19],[2...|  0.0|\n",
      "+----------+------+-------------+-------+----------+------+------------+----------------+---------------+--------------+------------+----------------+-----------+-----------+---------------+--------------+----------------+--------------------+--------------+------------+-----+-----------+--------------+------------------+---------------------+------------+---------------+---------------+------------------+-----------------+--------------------+------------------+---------------------+--------------------+-----------------------+-------------------+----------------------+-----------------+--------------------+---------------------+------------------------+----------------+-------------------+----------------+-------------------+--------------------+-----------------------+-------------+----------------+---------------------+------------------------+------------------+---------------------+----------+-------------+--------------------+-----+\n",
      "only showing top 20 rows\n",
      "\n"
     ]
    }
   ],
   "source": [
    "train.show()"
   ]
  },
  {
   "cell_type": "code",
   "execution_count": 124,
   "id": "c4aa1f9a",
   "metadata": {},
   "outputs": [],
   "source": [
    "from pyspark.ml.classification import DecisionTreeClassifier\n",
    "tree = DecisionTreeClassifier(featuresCol='features',labelCol='label')\n",
    "decision_model = tree.fit(train)"
   ]
  },
  {
   "cell_type": "code",
   "execution_count": 125,
   "id": "13a07d33",
   "metadata": {},
   "outputs": [],
   "source": [
    "predictions = decision_model.transform(test)"
   ]
  },
  {
   "cell_type": "code",
   "execution_count": 126,
   "id": "050fd2d1",
   "metadata": {},
   "outputs": [
    {
     "name": "stdout",
     "output_type": "stream",
     "text": [
      "+--------------------+-----+----------+\n",
      "|            features|label|prediction|\n",
      "+--------------------+-----+----------+\n",
      "|(20,[17,18,19],[7...|  0.0|       0.0|\n",
      "|(20,[17,18,19],[7...|  0.0|       0.0|\n",
      "|(20,[17,18,19],[5...|  0.0|       0.0|\n",
      "|[1.0,1.0,1.0,1.0,...|  0.0|       0.0|\n",
      "|[1.0,1.0,1.0,1.0,...|  0.0|       0.0|\n",
      "|(20,[17,18,19],[4...|  0.0|       0.0|\n",
      "|[1.0,1.0,1.0,1.0,...|  0.0|       0.0|\n",
      "|[1.0,1.0,1.0,1.0,...|  0.0|       0.0|\n",
      "|(20,[17,18,19],[3...|  0.0|       0.0|\n",
      "|[1.0,1.0,1.0,1.0,...|  0.0|       0.0|\n",
      "|[1.0,1.0,1.0,1.0,...|  0.0|       0.0|\n",
      "|[1.0,1.0,1.0,1.0,...|  1.0|       0.0|\n",
      "|(20,[17,18,19],[3...|  0.0|       0.0|\n",
      "|[1.0,1.0,1.0,1.0,...|  1.0|       1.0|\n",
      "|[1.0,1.0,1.0,1.0,...|  0.0|       0.0|\n",
      "|(20,[17,18,19],[2...|  0.0|       0.0|\n",
      "|(20,[17,18,19],[2...|  0.0|       0.0|\n",
      "|[1.0,1.0,1.0,1.0,...|  0.0|       0.0|\n",
      "|(20,[17,18,19],[6...|  0.0|       0.0|\n",
      "|(20,[17,18,19],[1...|  0.0|       0.0|\n",
      "+--------------------+-----+----------+\n",
      "only showing top 20 rows\n",
      "\n"
     ]
    }
   ],
   "source": [
    "predictions.select(['features','label','prediction']).show()"
   ]
  },
  {
   "cell_type": "code",
   "execution_count": 127,
   "id": "b23b2695",
   "metadata": {},
   "outputs": [
    {
     "data": {
      "text/plain": [
       "0.782051282051282"
      ]
     },
     "execution_count": 127,
     "metadata": {},
     "output_type": "execute_result"
    }
   ],
   "source": [
    "from pyspark.ml.evaluation import MulticlassClassificationEvaluator\n",
    "evaluator = MulticlassClassificationEvaluator(labelCol='label',predictionCol='prediction',\n",
    "                                 metricName='accuracy')\n",
    "accuracy = evaluator.evaluate(predictions)\n",
    "accuracy"
   ]
  },
  {
   "cell_type": "code",
   "execution_count": null,
   "id": "90deee90",
   "metadata": {},
   "outputs": [],
   "source": []
  }
 ],
 "metadata": {
  "kernelspec": {
   "display_name": "Python 3",
   "language": "python",
   "name": "python3"
  },
  "language_info": {
   "codemirror_mode": {
    "name": "ipython",
    "version": 3
   },
   "file_extension": ".py",
   "mimetype": "text/x-python",
   "name": "python",
   "nbconvert_exporter": "python",
   "pygments_lexer": "ipython3",
   "version": "3.6.9"
  }
 },
 "nbformat": 4,
 "nbformat_minor": 5
}
