{
 "cells": [
  {
   "cell_type": "code",
   "execution_count": 1,
   "id": "5b413022",
   "metadata": {},
   "outputs": [
    {
     "data": {
      "text/html": [
       "\n",
       "        <div>\n",
       "            <p><b>SparkContext</b></p>\n",
       "\n",
       "            <p><a href=\"http://10.0.2.15:4042\">Spark UI</a></p>\n",
       "\n",
       "            <dl>\n",
       "              <dt>Version</dt>\n",
       "                <dd><code>v2.4.8</code></dd>\n",
       "              <dt>Master</dt>\n",
       "                <dd><code>local[*]</code></dd>\n",
       "              <dt>AppName</dt>\n",
       "                <dd><code>PySparkShell</code></dd>\n",
       "            </dl>\n",
       "        </div>\n",
       "        "
      ],
      "text/plain": [
       "<SparkContext master=local[*] appName=PySparkShell>"
      ]
     },
     "execution_count": 1,
     "metadata": {},
     "output_type": "execute_result"
    }
   ],
   "source": [
    "sc"
   ]
  },
  {
   "cell_type": "code",
   "execution_count": 5,
   "id": "4492d967",
   "metadata": {},
   "outputs": [
    {
     "data": {
      "text/html": [
       "\n",
       "            <div>\n",
       "                <p><b>SparkSession - hive</b></p>\n",
       "                \n",
       "        <div>\n",
       "            <p><b>SparkContext</b></p>\n",
       "\n",
       "            <p><a href=\"http://10.0.2.15:4042\">Spark UI</a></p>\n",
       "\n",
       "            <dl>\n",
       "              <dt>Version</dt>\n",
       "                <dd><code>v2.4.8</code></dd>\n",
       "              <dt>Master</dt>\n",
       "                <dd><code>local[*]</code></dd>\n",
       "              <dt>AppName</dt>\n",
       "                <dd><code>PySparkShell</code></dd>\n",
       "            </dl>\n",
       "        </div>\n",
       "        \n",
       "            </div>\n",
       "        "
      ],
      "text/plain": [
       "<pyspark.sql.session.SparkSession at 0x7f446c700b00>"
      ]
     },
     "execution_count": 5,
     "metadata": {},
     "output_type": "execute_result"
    }
   ],
   "source": [
    "spark"
   ]
  },
  {
   "cell_type": "code",
   "execution_count": 2,
   "id": "0c2f9728",
   "metadata": {},
   "outputs": [],
   "source": [
    "people_df = spark.read.json(\"file:///home/hadoop/Downloads/People.json\")"
   ]
  },
  {
   "cell_type": "code",
   "execution_count": 3,
   "id": "cb47ea40",
   "metadata": {},
   "outputs": [
    {
     "data": {
      "text/plain": [
       "[Row(city='Mulyosari', country='Indonesia', first_name='Valma', gender='Female', id=1, last_name='Sans', salary=983107),\n",
       " Row(city='Niihama', country='Japan', first_name='Paolo', gender='Male', id=2, last_name='Kiddie', salary=649173),\n",
       " Row(city='Dū Qal‘ah', country='Afghanistan', first_name='Miltie', gender='Male', id=3, last_name='De Zuani', salary=352898),\n",
       " Row(city='Iberia', country='Peru', first_name='Jarrid', gender='Male', id=4, last_name='Dalziell', salary=170398),\n",
       " Row(city='La Ronge', country='Canada', first_name='Reinaldos', gender='Male', id=5, last_name='Keeffe', salary=440989)]"
      ]
     },
     "execution_count": 3,
     "metadata": {},
     "output_type": "execute_result"
    }
   ],
   "source": [
    "people_df.head(5)"
   ]
  },
  {
   "cell_type": "code",
   "execution_count": 4,
   "id": "3d5f4931",
   "metadata": {},
   "outputs": [
    {
     "name": "stdout",
     "output_type": "stream",
     "text": [
      "+------------------+------------+----------+------+---+---------+------+\n",
      "|              city|     country|first_name|gender| id|last_name|salary|\n",
      "+------------------+------------+----------+------+---+---------+------+\n",
      "|         Mulyosari|   Indonesia|     Valma|Female|  1|     Sans|983107|\n",
      "|           Niihama|       Japan|     Paolo|  Male|  2|   Kiddie|649173|\n",
      "|         Dū Qal‘ah| Afghanistan|    Miltie|  Male|  3| De Zuani|352898|\n",
      "|            Iberia|        Peru|    Jarrid|  Male|  4| Dalziell|170398|\n",
      "|          La Ronge|      Canada| Reinaldos|  Male|  5|   Keeffe|440989|\n",
      "|      Kuala Lumpur|    Malaysia|        Eb|  Male|  6|Schwanden|274126|\n",
      "|         Al Qurayn|Saudi Arabia|    Alleyn|  Male|  7|   Paddon|681914|\n",
      "|           Jixiang|       China|   Baryram|  Male|  8|     Yell|250748|\n",
      "|Thị Trấn Phong Thổ|     Vietnam|     Cammy|Female|  9|     Axel|221750|\n",
      "|        Kotatengah|   Indonesia|       Erl|  Male| 10|  Caldera|680801|\n",
      "|        Roldanillo|    Colombia|    Miguel|  Male| 11|   Moules|819771|\n",
      "|            Malārd|        Iran| Mireielle|Female| 12|   Hurley|486029|\n",
      "|     Fada N'gourma|Burkina Faso|    Feodor|  Male| 13| Grummitt|358045|\n",
      "|           Ciangir|   Indonesia|     Diana|Female| 14|  Lawfull|397683|\n",
      "|         El Cantón|   Venezuela|      Evie|Female| 15|   Kaysor|436202|\n",
      "|          La Unión|    Colombia|    Janean|Female| 16|    Sayse|892405|\n",
      "|            Xinhua|       China|     Colan|  Male| 17|   Stoppe|218434|\n",
      "|     Крива Паланка|   Macedonia|      Erik|  Male| 18| Stitcher|776023|\n",
      "|          Qīr Moāv|      Jordan|   Sargent|  Male| 19|   Cleall|819269|\n",
      "|      Bogandinskiy|      Russia|   Tamqrah|Female| 20|Millichip|313540|\n",
      "+------------------+------------+----------+------+---+---------+------+\n",
      "only showing top 20 rows\n",
      "\n"
     ]
    }
   ],
   "source": [
    "people_df.show()"
   ]
  },
  {
   "cell_type": "code",
   "execution_count": 6,
   "id": "319832ed",
   "metadata": {},
   "outputs": [
    {
     "data": {
      "text/plain": [
       "[Row(age=58, balance=2143, campaign=1, contact='unknown', day=5, default='no', duration=261, education='tertiary', housing='yes', job='management', loan='no', marital='married', month='may', pdays=-1, poutcome='unknown', previous=0, y='no'),\n",
       " Row(age=44, balance=29, campaign=1, contact='unknown', day=5, default='no', duration=151, education='secondary', housing='yes', job='technician', loan='no', marital='single', month='may', pdays=-1, poutcome='unknown', previous=0, y='no'),\n",
       " Row(age=33, balance=2, campaign=1, contact='unknown', day=5, default='no', duration=76, education='secondary', housing='yes', job='entrepreneur', loan='yes', marital='married', month='may', pdays=-1, poutcome='unknown', previous=0, y='no'),\n",
       " Row(age=47, balance=1506, campaign=1, contact='unknown', day=5, default='no', duration=92, education='unknown', housing='yes', job='blue-collar', loan='no', marital='married', month='may', pdays=-1, poutcome='unknown', previous=0, y='no'),\n",
       " Row(age=33, balance=1, campaign=1, contact='unknown', day=5, default='no', duration=198, education='unknown', housing='no', job='unknown', loan='no', marital='single', month='may', pdays=-1, poutcome='unknown', previous=0, y='no')]"
      ]
     },
     "execution_count": 6,
     "metadata": {},
     "output_type": "execute_result"
    }
   ],
   "source": [
    "bank_df = spark.read.json(\"file:///home/hadoop/Downloads/bank_edited.json\",multiLine=True)\n",
    "bank_df.head(5)"
   ]
  },
  {
   "cell_type": "code",
   "execution_count": 7,
   "id": "c7aa044e",
   "metadata": {},
   "outputs": [
    {
     "name": "stdout",
     "output_type": "stream",
     "text": [
      "+---+-------+--------+-------+---+-------+--------+---------+-------+------------+----+--------+-----+-----+--------+--------+---+\n",
      "|age|balance|campaign|contact|day|default|duration|education|housing|         job|loan| marital|month|pdays|poutcome|previous|  y|\n",
      "+---+-------+--------+-------+---+-------+--------+---------+-------+------------+----+--------+-----+-----+--------+--------+---+\n",
      "| 58|   2143|       1|unknown|  5|     no|     261| tertiary|    yes|  management|  no| married|  may|   -1| unknown|       0| no|\n",
      "| 44|     29|       1|unknown|  5|     no|     151|secondary|    yes|  technician|  no|  single|  may|   -1| unknown|       0| no|\n",
      "| 33|      2|       1|unknown|  5|     no|      76|secondary|    yes|entrepreneur| yes| married|  may|   -1| unknown|       0| no|\n",
      "| 47|   1506|       1|unknown|  5|     no|      92|  unknown|    yes| blue-collar|  no| married|  may|   -1| unknown|       0| no|\n",
      "| 33|      1|       1|unknown|  5|     no|     198|  unknown|     no|     unknown|  no|  single|  may|   -1| unknown|       0| no|\n",
      "| 35|    231|       1|unknown|  5|     no|     139| tertiary|    yes|  management|  no| married|  may|   -1| unknown|       0| no|\n",
      "| 28|    447|       1|unknown|  5|     no|     217| tertiary|    yes|  management| yes|  single|  may|   -1| unknown|       0| no|\n",
      "| 42|      2|       1|unknown|  5|    yes|     380| tertiary|    yes|entrepreneur|  no|divorced|  may|   -1| unknown|       0| no|\n",
      "| 58|    121|       1|unknown|  5|     no|      50|  primary|    yes|     retired|  no| married|  may|   -1| unknown|       0| no|\n",
      "| 43|    593|       1|unknown|  5|     no|      55|secondary|    yes|  technician|  no|  single|  may|   -1| unknown|       0| no|\n",
      "| 41|    270|       1|unknown|  5|     no|     222|secondary|    yes|      admin.|  no|divorced|  may|   -1| unknown|       0| no|\n",
      "| 29|    390|       1|unknown|  5|     no|     137|secondary|    yes|      admin.|  no|  single|  may|   -1| unknown|       0| no|\n",
      "| 53|      6|       1|unknown|  5|     no|     517|secondary|    yes|  technician|  no| married|  may|   -1| unknown|       0| no|\n",
      "| 58|     71|       1|unknown|  5|     no|      71|  unknown|    yes|  technician|  no| married|  may|   -1| unknown|       0| no|\n",
      "| 57|    162|       1|unknown|  5|     no|     174|secondary|    yes|    services|  no| married|  may|   -1| unknown|       0| no|\n",
      "| 51|    229|       1|unknown|  5|     no|     353|  primary|    yes|     retired|  no| married|  may|   -1| unknown|       0| no|\n",
      "| 45|     13|       1|unknown|  5|     no|      98|  unknown|    yes|      admin.|  no|  single|  may|   -1| unknown|       0| no|\n",
      "| 57|     52|       1|unknown|  5|     no|      38|  primary|    yes| blue-collar|  no| married|  may|   -1| unknown|       0| no|\n",
      "| 60|     60|       1|unknown|  5|     no|     219|  primary|    yes|     retired|  no| married|  may|   -1| unknown|       0| no|\n",
      "| 33|      0|       1|unknown|  5|     no|      54|secondary|    yes|    services|  no| married|  may|   -1| unknown|       0| no|\n",
      "+---+-------+--------+-------+---+-------+--------+---------+-------+------------+----+--------+-----+-----+--------+--------+---+\n",
      "only showing top 20 rows\n",
      "\n"
     ]
    }
   ],
   "source": [
    "bank_df.show()"
   ]
  },
  {
   "cell_type": "code",
   "execution_count": 8,
   "id": "b34c0647",
   "metadata": {},
   "outputs": [
    {
     "name": "stdout",
     "output_type": "stream",
     "text": [
      "root\n",
      " |-- age: long (nullable = true)\n",
      " |-- balance: long (nullable = true)\n",
      " |-- campaign: long (nullable = true)\n",
      " |-- contact: string (nullable = true)\n",
      " |-- day: long (nullable = true)\n",
      " |-- default: string (nullable = true)\n",
      " |-- duration: long (nullable = true)\n",
      " |-- education: string (nullable = true)\n",
      " |-- housing: string (nullable = true)\n",
      " |-- job: string (nullable = true)\n",
      " |-- loan: string (nullable = true)\n",
      " |-- marital: string (nullable = true)\n",
      " |-- month: string (nullable = true)\n",
      " |-- pdays: long (nullable = true)\n",
      " |-- poutcome: string (nullable = true)\n",
      " |-- previous: long (nullable = true)\n",
      " |-- y: string (nullable = true)\n",
      "\n"
     ]
    }
   ],
   "source": [
    "bank_df.printSchema()"
   ]
  },
  {
   "cell_type": "markdown",
   "id": "9bff82dc",
   "metadata": {},
   "source": [
    "# 1. Create Schema with defined fields in desired order and desired DType"
   ]
  },
  {
   "cell_type": "code",
   "execution_count": 9,
   "id": "9bb463f6",
   "metadata": {},
   "outputs": [],
   "source": [
    "from pyspark.sql.functions import *\n",
    "#IMPLICITLY U CAN :from pyspark.sql.types import IntegerType, StructType, StringType, FloatType, DoubleType\n",
    "from pyspark.sql.types import *"
   ]
  },
  {
   "cell_type": "code",
   "execution_count": 10,
   "id": "fd56591a",
   "metadata": {},
   "outputs": [],
   "source": [
    "schema = StructType([\n",
    "    StructField(\"id\", IntegerType(),True),\n",
    "    StructField(\"first_name\", StringType(),True),\n",
    "    StructField(\"last_name\", StringType(),True),\n",
    "    StructField(\"gender\", StringType(),True),\n",
    "    StructField(\"salary\", LongType(),True),\n",
    "    StructField(\"city\", StringType(),True),\n",
    "    StructField(\"country\", StringType(),True),\n",
    "])"
   ]
  },
  {
   "cell_type": "code",
   "execution_count": 12,
   "id": "c3247ae3",
   "metadata": {},
   "outputs": [],
   "source": [
    "peopledf = spark.read.schema(schema).json(\"file:///home/hadoop/Downloads/People.json\")"
   ]
  },
  {
   "cell_type": "code",
   "execution_count": 13,
   "id": "d8b8ba0e",
   "metadata": {},
   "outputs": [
    {
     "name": "stdout",
     "output_type": "stream",
     "text": [
      "+---+----------+---------+------+------+------------------+------------+\n",
      "| id|first_name|last_name|gender|salary|              city|     country|\n",
      "+---+----------+---------+------+------+------------------+------------+\n",
      "|  1|     Valma|     Sans|Female|983107|         Mulyosari|   Indonesia|\n",
      "|  2|     Paolo|   Kiddie|  Male|649173|           Niihama|       Japan|\n",
      "|  3|    Miltie| De Zuani|  Male|352898|         Dū Qal‘ah| Afghanistan|\n",
      "|  4|    Jarrid| Dalziell|  Male|170398|            Iberia|        Peru|\n",
      "|  5| Reinaldos|   Keeffe|  Male|440989|          La Ronge|      Canada|\n",
      "|  6|        Eb|Schwanden|  Male|274126|      Kuala Lumpur|    Malaysia|\n",
      "|  7|    Alleyn|   Paddon|  Male|681914|         Al Qurayn|Saudi Arabia|\n",
      "|  8|   Baryram|     Yell|  Male|250748|           Jixiang|       China|\n",
      "|  9|     Cammy|     Axel|Female|221750|Thị Trấn Phong Thổ|     Vietnam|\n",
      "| 10|       Erl|  Caldera|  Male|680801|        Kotatengah|   Indonesia|\n",
      "| 11|    Miguel|   Moules|  Male|819771|        Roldanillo|    Colombia|\n",
      "| 12| Mireielle|   Hurley|Female|486029|            Malārd|        Iran|\n",
      "| 13|    Feodor| Grummitt|  Male|358045|     Fada N'gourma|Burkina Faso|\n",
      "| 14|     Diana|  Lawfull|Female|397683|           Ciangir|   Indonesia|\n",
      "| 15|      Evie|   Kaysor|Female|436202|         El Cantón|   Venezuela|\n",
      "| 16|    Janean|    Sayse|Female|892405|          La Unión|    Colombia|\n",
      "| 17|     Colan|   Stoppe|  Male|218434|            Xinhua|       China|\n",
      "| 18|      Erik| Stitcher|  Male|776023|     Крива Паланка|   Macedonia|\n",
      "| 19|   Sargent|   Cleall|  Male|819269|          Qīr Moāv|      Jordan|\n",
      "| 20|   Tamqrah|Millichip|Female|313540|      Bogandinskiy|      Russia|\n",
      "+---+----------+---------+------+------+------------------+------------+\n",
      "only showing top 20 rows\n",
      "\n"
     ]
    }
   ],
   "source": [
    "peopledf.show()"
   ]
  },
  {
   "cell_type": "code",
   "execution_count": 14,
   "id": "abf3c772",
   "metadata": {},
   "outputs": [
    {
     "name": "stdout",
     "output_type": "stream",
     "text": [
      "root\n",
      " |-- id: integer (nullable = true)\n",
      " |-- first_name: string (nullable = true)\n",
      " |-- last_name: string (nullable = true)\n",
      " |-- gender: string (nullable = true)\n",
      " |-- salary: long (nullable = true)\n",
      " |-- city: string (nullable = true)\n",
      " |-- country: string (nullable = true)\n",
      "\n"
     ]
    }
   ],
   "source": [
    "peopledf.printSchema()"
   ]
  },
  {
   "cell_type": "markdown",
   "id": "adc71c71",
   "metadata": {},
   "source": [
    "### 2. With Schema\n"
   ]
  },
  {
   "cell_type": "code",
   "execution_count": 19,
   "id": "ef5fcd9b",
   "metadata": {},
   "outputs": [
    {
     "name": "stdout",
     "output_type": "stream",
     "text": [
      "+---+----------+---------+------+------+------------------+------------+----------+\n",
      "| id|first_name|last_name|gender|salary|              city|     country|new_salary|\n",
      "+---+----------+---------+------+------+------------------+------------+----------+\n",
      "|  1|     Valma|     Sans|Female|983107|         Mulyosari|   Indonesia| 1081418.0|\n",
      "|  2|     Paolo|   Kiddie|  Male|649173|           Niihama|       Japan|  714090.0|\n",
      "|  3|    Miltie| De Zuani|  Male|352898|         Dū Qal‘ah| Afghanistan|  388188.0|\n",
      "|  4|    Jarrid| Dalziell|  Male|170398|            Iberia|        Peru|  187438.0|\n",
      "|  5| Reinaldos|   Keeffe|  Male|440989|          La Ronge|      Canada|  485088.0|\n",
      "|  6|        Eb|Schwanden|  Male|274126|      Kuala Lumpur|    Malaysia|  301539.0|\n",
      "|  7|    Alleyn|   Paddon|  Male|681914|         Al Qurayn|Saudi Arabia|  750105.0|\n",
      "|  8|   Baryram|     Yell|  Male|250748|           Jixiang|       China|  275823.0|\n",
      "|  9|     Cammy|     Axel|Female|221750|Thị Trấn Phong Thổ|     Vietnam|  243925.0|\n",
      "| 10|       Erl|  Caldera|  Male|680801|        Kotatengah|   Indonesia|  748881.0|\n",
      "| 11|    Miguel|   Moules|  Male|819771|        Roldanillo|    Colombia|  901748.0|\n",
      "| 12| Mireielle|   Hurley|Female|486029|            Malārd|        Iran|  534632.0|\n",
      "| 13|    Feodor| Grummitt|  Male|358045|     Fada N'gourma|Burkina Faso|  393850.0|\n",
      "| 14|     Diana|  Lawfull|Female|397683|           Ciangir|   Indonesia|  437451.0|\n",
      "| 15|      Evie|   Kaysor|Female|436202|         El Cantón|   Venezuela|  479822.0|\n",
      "| 16|    Janean|    Sayse|Female|892405|          La Unión|    Colombia|  981646.0|\n",
      "| 17|     Colan|   Stoppe|  Male|218434|            Xinhua|       China|  240277.0|\n",
      "| 18|      Erik| Stitcher|  Male|776023|     Крива Паланка|   Macedonia|  853625.0|\n",
      "| 19|   Sargent|   Cleall|  Male|819269|          Qīr Moāv|      Jordan|  901196.0|\n",
      "| 20|   Tamqrah|Millichip|Female|313540|      Bogandinskiy|      Russia|  344894.0|\n",
      "+---+----------+---------+------+------+------------------+------------+----------+\n",
      "only showing top 20 rows\n",
      "\n"
     ]
    }
   ],
   "source": [
    "#here with column will create new column name \"new_salary\"\n",
    "peopledf = peopledf.withColumn('new_salary', round(peopledf['salary'] * 1.1))\n",
    "peopledf.show()"
   ]
  },
  {
   "cell_type": "code",
   "execution_count": 20,
   "id": "0ab83dda",
   "metadata": {},
   "outputs": [
    {
     "name": "stdout",
     "output_type": "stream",
     "text": [
      "+---+----------+---------+------+------+---------+-----------+----------+\n",
      "| id|first_name|last_name|gender|salary|     city|    country|new_salary|\n",
      "+---+----------+---------+------+------+---------+-----------+----------+\n",
      "|  1|     Valma|     Sans|Female|983107|Mulyosari|  Indonesia| 1081418.0|\n",
      "|  2|     Paolo|   Kiddie|  Male|649173|  Niihama|      Japan|  714090.0|\n",
      "|  3|    Miltie| De Zuani|  Male|352898|Dū Qal‘ah|Afghanistan|  388188.0|\n",
      "|  4|    Jarrid| Dalziell|  Male|170398|   Iberia|       Peru|  187438.0|\n",
      "|  5| Reinaldos|   Keeffe|  Male|440989| La Ronge|     Canada|  485088.0|\n",
      "+---+----------+---------+------+------+---------+-----------+----------+\n",
      "\n"
     ]
    }
   ],
   "source": [
    "# Limit : displays limited records\n",
    "peopledf.limit(5).show()"
   ]
  },
  {
   "cell_type": "markdown",
   "id": "780fa867",
   "metadata": {},
   "source": [
    "# Random Sampling of data from Sample method"
   ]
  },
  {
   "cell_type": "code",
   "execution_count": 23,
   "id": "94e6862d",
   "metadata": {},
   "outputs": [
    {
     "name": "stdout",
     "output_type": "stream",
     "text": [
      "+---+----------+---------+------+------+---------------+--------------+----------+\n",
      "| id|first_name|last_name|gender|salary|           city|       country|new_salary|\n",
      "+---+----------+---------+------+------+---------------+--------------+----------+\n",
      "| 35|  Germayne|  Tremeer|  Male|920086|     eSikhawini|  South Africa| 1012095.0|\n",
      "| 47|   Olivier|   Shewon|  Male|244655|         Kolaka|     Indonesia|  269121.0|\n",
      "| 69|Ermentrude|  Teffrey|Female| 96039|          Tiron|     Indonesia|  105643.0|\n",
      "| 87|  Maryanna|  Petchey|Female|853991|       Subotica|        Serbia|  939390.0|\n",
      "| 89|     Jayme| Brunotti|Female|881570|        Marston|United Kingdom|  969727.0|\n",
      "|101|    Fredia| Reinhard|Female|644592|Belén de Umbría|      Colombia|  709051.0|\n",
      "|138|   Kirstyn| Izkovici|Female|606642|      Jembangan|     Indonesia|  667306.0|\n",
      "|156| Antonella|    Gaule|Female|856946|         Gunung|     Indonesia|  942641.0|\n",
      "|168|     Natal|  Eilhart|  Male|921191|       Houxiang|         China| 1013310.0|\n",
      "|177|    Durand|   Plevin|  Male|151677|          Kinna|        Sweden|  166845.0|\n",
      "|179|     Bucky|   Engley|  Male|593031|  Ollantaytambo|          Peru|  652334.0|\n",
      "|211|     Danya|  Simenon|Female|369820|        Gibsons|        Canada|  406802.0|\n",
      "|230|    Andrea|    Becks|  Male|764222|        Tubajon|   Philippines|  840644.0|\n",
      "|237|    Tracey|  Klugman|Female|893047|          Choya|        Russia|  982352.0|\n",
      "|239|    Venita| Lorraway|Female| 72608|       Xinmatou|         China|   79869.0|\n",
      "|269|      Joel|  Lerwell|  Male|302113|          Jabon|     Indonesia|  332324.0|\n",
      "|277|    Isiahi| Hartburn|  Male| 35601|       Budapest|       Hungary|   39161.0|\n",
      "|319|  Raimundo|  Huntley|  Male|221394|      Damatulan|   Philippines|  243533.0|\n",
      "|322|    Ileana| Valentin|Female|683578|         Dianya|         China|  751936.0|\n",
      "|323|   Opaline|   Fevier|Female|798573|        Vodnjan|       Croatia|  878430.0|\n",
      "+---+----------+---------+------+------+---------------+--------------+----------+\n",
      "only showing top 20 rows\n",
      "\n"
     ]
    }
   ],
   "source": [
    "peopledf.sample(withReplacement=False, fraction=0.05, seed = 123).show()"
   ]
  },
  {
   "cell_type": "markdown",
   "id": "9f323610",
   "metadata": {},
   "source": [
    "## orderBy() \n",
    "    * HELPS ARRANGING DATA IN ASC OR DESC ORDER"
   ]
  },
  {
   "cell_type": "code",
   "execution_count": 27,
   "id": "dc0b1b70",
   "metadata": {},
   "outputs": [
    {
     "name": "stdout",
     "output_type": "stream",
     "text": [
      "+---+----------+----------+------+------+------------+--------------------+----------+\n",
      "| id|first_name| last_name|gender|salary|        city|             country|new_salary|\n",
      "+---+----------+----------+------+------+------------+--------------------+----------+\n",
      "| 93|      Cory|     Prigg|  Male| 12876|     Gondang|           Indonesia|   14164.0|\n",
      "|590|      Flem|  Tumielli|  Male| 13347| Debre Zeyit|            Ethiopia|   14682.0|\n",
      "|192|       Odo|   Conyers|  Male| 15555|  Raffingora|            Zimbabwe|   17111.0|\n",
      "|407|  Barbabas| Ballingal|  Male| 18598|Beringinjaya|           Indonesia|   20458.0|\n",
      "|297|     Daron|    Melato|Female| 19881|      Phayao|            Thailand|   21869.0|\n",
      "| 24|   Avigdor|   Goddman|  Male| 20216|       Gujun|               China|   22238.0|\n",
      "|315|    Alayne|    Foskin|Female| 20390|     Siluman|           Indonesia|   22429.0|\n",
      "|199|     Niles| Atcherley|  Male| 22529|Nova Venécia|              Brazil|   24782.0|\n",
      "|294|     Terri|    Holton|Female| 23934|      Hitura|               Nepal|   26327.0|\n",
      "|601|    Pattie|Bosomworth|Female| 24967|   Virolahti|             Finland|   27464.0|\n",
      "|762|     Jesse|   Comfort|  Male| 26213|    Żoliborz|              Poland|   28834.0|\n",
      "|252|       Gil|  Rochford|  Male| 26950|        Huji|               China|   29645.0|\n",
      "|837|   Sharity|  Stoffers|Female| 28630|    Zavidovo|              Russia|   31493.0|\n",
      "|438|    Odelle|  Harefoot|Female| 29177| Cibatuireng|           Indonesia|   32095.0|\n",
      "|836|     Lenka|  Eddicott|Female| 29374| Trincomalee|           Sri Lanka|   32311.0|\n",
      "|912|    Jackie|    Baudic|Female| 29540|       Bunia|Democratic Republ...|   32494.0|\n",
      "|439|     Keith|   Baudain|  Male| 31890| Maszkienice|              Poland|   35079.0|\n",
      "|356| Raffaello|   Dugdale|  Male| 33082|   San Pedro|         Philippines|   36390.0|\n",
      "|977|    Kalvin|     Earry|  Male| 34152|   Mariental|             Namibia|   37567.0|\n",
      "|512|     Bobbe|   Copland|Female| 34435|          Mó|            Portugal|   37879.0|\n",
      "+---+----------+----------+------+------+------------+--------------------+----------+\n",
      "only showing top 20 rows\n",
      "\n"
     ]
    }
   ],
   "source": [
    "peopledf.orderBy(['salary','first_name'],ascending = True).show()"
   ]
  },
  {
   "cell_type": "code",
   "execution_count": 26,
   "id": "4237fb38",
   "metadata": {},
   "outputs": [
    {
     "name": "stdout",
     "output_type": "stream",
     "text": [
      "+---+----------+------------+------+------+---------------+--------------+----------+\n",
      "| id|first_name|   last_name|gender|salary|           city|       country|new_salary|\n",
      "+---+----------+------------+------+------+---------------+--------------+----------+\n",
      "|309|   Abraham|     Deveril|  Male|786521|           Vuka|       Croatia|  865173.0|\n",
      "|321|   Abrahan|      Huburn|  Male|142463|         Zhu’ao|         China|  156709.0|\n",
      "|358|  Adelheid|     Shillan|Female| 55912|        Gangjia|         China|   61503.0|\n",
      "|547|     Adlai|      Bonner|  Male|123753|          Yuwan|         China|  136128.0|\n",
      "|679|  Adolphus|     Stowers|  Male|215312|         Hrádek|Czech Republic|  236843.0|\n",
      "|594|  Adrianne|      Badman|Female|222496|        Ganting|         China|  244746.0|\n",
      "|593|   Adriano|       Fardy|  Male|592691|    San Lorenzo|      Honduras|  651960.0|\n",
      "|184|    Agatha|      Batson|Female|289574|      Kanashevo|        Russia|  318531.0|\n",
      "|827|      Aggi|       Ivers|Female|882427|    Ouro Branco|        Brazil|  970670.0|\n",
      "|776|    Aharon|     Copland|  Male|608413|        Itajubá|        Brazil|  669254.0|\n",
      "|119|    Ailina|    Karleman|Female|395893|       Traiguén|         Chile|  435482.0|\n",
      "|602|     Ailis|Bartholomaus|Female|323415|      Xiangshan|         China|  355757.0|\n",
      "| 77|     Ailyn|      Palmar|Female|984515|   Lonpao Dajah|     Indonesia| 1082967.0|\n",
      "|980|      Ajay|     Mullord|Female| 35387|     Diamantina|        Brazil|   38926.0|\n",
      "|794|     Alain|Barrowclough|  Male|675649|      Concordia|     Argentina|  743214.0|\n",
      "|634|    Alanna|   Markussen|Female|145390|    Três Passos|        Brazil|  159929.0|\n",
      "|521|  Alasteir|      Raddin|  Male|846475|          Sztum|        Poland|  931123.0|\n",
      "|315|    Alayne|      Foskin|Female| 20390|        Siluman|     Indonesia|   22429.0|\n",
      "|463|   Alberta|     Hakking|Female|980691|Cimanggu Girang|     Indonesia| 1078760.0|\n",
      "|410|   Alberto|     Tribble|  Male|394142|      Vichadero|       Uruguay|  433556.0|\n",
      "+---+----------+------------+------+------+---------------+--------------+----------+\n",
      "only showing top 20 rows\n",
      "\n"
     ]
    }
   ],
   "source": [
    "peopledf.orderBy(['first_name','salary'],ascending = True).show()"
   ]
  },
  {
   "cell_type": "code",
   "execution_count": 28,
   "id": "7fd218d7",
   "metadata": {},
   "outputs": [
    {
     "name": "stdout",
     "output_type": "stream",
     "text": [
      "+---+----------+----------+------+------+------------+--------------------+----------+\n",
      "| id|first_name| last_name|gender|salary|        city|             country|new_salary|\n",
      "+---+----------+----------+------+------+------------+--------------------+----------+\n",
      "| 93|      Cory|     Prigg|  Male| 12876|     Gondang|           Indonesia|   14164.0|\n",
      "|590|      Flem|  Tumielli|  Male| 13347| Debre Zeyit|            Ethiopia|   14682.0|\n",
      "|192|       Odo|   Conyers|  Male| 15555|  Raffingora|            Zimbabwe|   17111.0|\n",
      "|407|  Barbabas| Ballingal|  Male| 18598|Beringinjaya|           Indonesia|   20458.0|\n",
      "|297|     Daron|    Melato|Female| 19881|      Phayao|            Thailand|   21869.0|\n",
      "| 24|   Avigdor|   Goddman|  Male| 20216|       Gujun|               China|   22238.0|\n",
      "|315|    Alayne|    Foskin|Female| 20390|     Siluman|           Indonesia|   22429.0|\n",
      "|199|     Niles| Atcherley|  Male| 22529|Nova Venécia|              Brazil|   24782.0|\n",
      "|294|     Terri|    Holton|Female| 23934|      Hitura|               Nepal|   26327.0|\n",
      "|601|    Pattie|Bosomworth|Female| 24967|   Virolahti|             Finland|   27464.0|\n",
      "|762|     Jesse|   Comfort|  Male| 26213|    Żoliborz|              Poland|   28834.0|\n",
      "|252|       Gil|  Rochford|  Male| 26950|        Huji|               China|   29645.0|\n",
      "|837|   Sharity|  Stoffers|Female| 28630|    Zavidovo|              Russia|   31493.0|\n",
      "|438|    Odelle|  Harefoot|Female| 29177| Cibatuireng|           Indonesia|   32095.0|\n",
      "|836|     Lenka|  Eddicott|Female| 29374| Trincomalee|           Sri Lanka|   32311.0|\n",
      "|912|    Jackie|    Baudic|Female| 29540|       Bunia|Democratic Republ...|   32494.0|\n",
      "|439|     Keith|   Baudain|  Male| 31890| Maszkienice|              Poland|   35079.0|\n",
      "|356| Raffaello|   Dugdale|  Male| 33082|   San Pedro|         Philippines|   36390.0|\n",
      "|977|    Kalvin|     Earry|  Male| 34152|   Mariental|             Namibia|   37567.0|\n",
      "|512|     Bobbe|   Copland|Female| 34435|          Mó|            Portugal|   37879.0|\n",
      "+---+----------+----------+------+------+------------+--------------------+----------+\n",
      "only showing top 20 rows\n",
      "\n"
     ]
    }
   ],
   "source": [
    "peopledf.orderBy(['salary','first_name'],ascendinf = False).show()"
   ]
  },
  {
   "cell_type": "code",
   "execution_count": null,
   "id": "bac22516",
   "metadata": {},
   "outputs": [],
   "source": []
  }
 ],
 "metadata": {
  "kernelspec": {
   "display_name": "Python 3",
   "language": "python",
   "name": "python3"
  },
  "language_info": {
   "codemirror_mode": {
    "name": "ipython",
    "version": 3
   },
   "file_extension": ".py",
   "mimetype": "text/x-python",
   "name": "python",
   "nbconvert_exporter": "python",
   "pygments_lexer": "ipython3",
   "version": "3.6.9"
  }
 },
 "nbformat": 4,
 "nbformat_minor": 5
}
