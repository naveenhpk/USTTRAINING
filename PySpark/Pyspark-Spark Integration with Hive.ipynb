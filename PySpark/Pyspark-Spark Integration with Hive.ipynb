{
 "cells": [
  {
   "cell_type": "code",
   "execution_count": 1,
   "id": "d12d631c",
   "metadata": {},
   "outputs": [
    {
     "data": {
      "text/html": [
       "\n",
       "        <div>\n",
       "            <p><b>SparkContext</b></p>\n",
       "\n",
       "            <p><a href=\"http://10.0.2.15:4040\">Spark UI</a></p>\n",
       "\n",
       "            <dl>\n",
       "              <dt>Version</dt>\n",
       "                <dd><code>v2.4.8</code></dd>\n",
       "              <dt>Master</dt>\n",
       "                <dd><code>local[*]</code></dd>\n",
       "              <dt>AppName</dt>\n",
       "                <dd><code>PySparkShell</code></dd>\n",
       "            </dl>\n",
       "        </div>\n",
       "        "
      ],
      "text/plain": [
       "<SparkContext master=local[*] appName=PySparkShell>"
      ]
     },
     "execution_count": 1,
     "metadata": {},
     "output_type": "execute_result"
    }
   ],
   "source": [
    "sc"
   ]
  },
  {
   "cell_type": "code",
   "execution_count": 2,
   "id": "42bfc113",
   "metadata": {},
   "outputs": [
    {
     "data": {
      "text/html": [
       "\n",
       "            <div>\n",
       "                <p><b>SparkSession - hive</b></p>\n",
       "                \n",
       "        <div>\n",
       "            <p><b>SparkContext</b></p>\n",
       "\n",
       "            <p><a href=\"http://10.0.2.15:4040\">Spark UI</a></p>\n",
       "\n",
       "            <dl>\n",
       "              <dt>Version</dt>\n",
       "                <dd><code>v2.4.8</code></dd>\n",
       "              <dt>Master</dt>\n",
       "                <dd><code>local[*]</code></dd>\n",
       "              <dt>AppName</dt>\n",
       "                <dd><code>PySparkShell</code></dd>\n",
       "            </dl>\n",
       "        </div>\n",
       "        \n",
       "            </div>\n",
       "        "
      ],
      "text/plain": [
       "<pyspark.sql.session.SparkSession at 0x7f7821eeab00>"
      ]
     },
     "execution_count": 2,
     "metadata": {},
     "output_type": "execute_result"
    }
   ],
   "source": [
    "spark"
   ]
  },
  {
   "cell_type": "code",
   "execution_count": 3,
   "id": "45b02e00",
   "metadata": {},
   "outputs": [],
   "source": [
    "from pyspark import SparkConf, SparkContext\n",
    "from pyspark.sql import SparkSession,HiveContext"
   ]
  },
  {
   "cell_type": "code",
   "execution_count": 4,
   "id": "47510995",
   "metadata": {},
   "outputs": [],
   "source": [
    "sc.stop()"
   ]
  },
  {
   "cell_type": "code",
   "execution_count": 5,
   "id": "d1a1bd58",
   "metadata": {},
   "outputs": [],
   "source": [
    "config = SparkConf().setAppName('SparkHiveSession').setMaster('local[4]')\n",
    "sc = SparkContext.getOrCreate(conf=config)"
   ]
  },
  {
   "cell_type": "code",
   "execution_count": 6,
   "id": "a027b80c",
   "metadata": {},
   "outputs": [
    {
     "data": {
      "text/html": [
       "\n",
       "        <div>\n",
       "            <p><b>SparkContext</b></p>\n",
       "\n",
       "            <p><a href=\"http://10.0.2.15:4040\">Spark UI</a></p>\n",
       "\n",
       "            <dl>\n",
       "              <dt>Version</dt>\n",
       "                <dd><code>v2.4.8</code></dd>\n",
       "              <dt>Master</dt>\n",
       "                <dd><code>local[4]</code></dd>\n",
       "              <dt>AppName</dt>\n",
       "                <dd><code>SparkHiveSession</code></dd>\n",
       "            </dl>\n",
       "        </div>\n",
       "        "
      ],
      "text/plain": [
       "<SparkContext master=local[4] appName=SparkHiveSession>"
      ]
     },
     "execution_count": 6,
     "metadata": {},
     "output_type": "execute_result"
    }
   ],
   "source": [
    "sc"
   ]
  },
  {
   "cell_type": "code",
   "execution_count": 7,
   "id": "82e87a39",
   "metadata": {},
   "outputs": [],
   "source": [
    "# Spark Integration with Hive with SPARK Session\n",
    "spark = (SparkSession.builder.appName(\"pyspark-hive-integration\")\n",
    "        .config('spark.sql.warehouse.dir','/user/hive/warehouse/')\n",
    "        .enableHiveSupport().getOrCreate())\n"
   ]
  },
  {
   "cell_type": "code",
   "execution_count": 8,
   "id": "79352250",
   "metadata": {},
   "outputs": [
    {
     "data": {
      "text/html": [
       "\n",
       "            <div>\n",
       "                <p><b>SparkSession - hive</b></p>\n",
       "                \n",
       "        <div>\n",
       "            <p><b>SparkContext</b></p>\n",
       "\n",
       "            <p><a href=\"http://10.0.2.15:4040\">Spark UI</a></p>\n",
       "\n",
       "            <dl>\n",
       "              <dt>Version</dt>\n",
       "                <dd><code>v2.4.8</code></dd>\n",
       "              <dt>Master</dt>\n",
       "                <dd><code>local[4]</code></dd>\n",
       "              <dt>AppName</dt>\n",
       "                <dd><code>SparkHiveSession</code></dd>\n",
       "            </dl>\n",
       "        </div>\n",
       "        \n",
       "            </div>\n",
       "        "
      ],
      "text/plain": [
       "<pyspark.sql.session.SparkSession at 0x7f7820bab7b8>"
      ]
     },
     "execution_count": 8,
     "metadata": {},
     "output_type": "execute_result"
    }
   ],
   "source": [
    "spark"
   ]
  },
  {
   "cell_type": "code",
   "execution_count": 9,
   "id": "f5967b2c",
   "metadata": {},
   "outputs": [
    {
     "name": "stdout",
     "output_type": "stream",
     "text": [
      "+------------+\n",
      "|databaseName|\n",
      "+------------+\n",
      "|     default|\n",
      "+------------+\n",
      "\n"
     ]
    }
   ],
   "source": [
    "spark.sql(\"show databases\").show()"
   ]
  },
  {
   "cell_type": "code",
   "execution_count": 10,
   "id": "95f85fc3",
   "metadata": {},
   "outputs": [
    {
     "data": {
      "text/plain": [
       "DataFrame[]"
      ]
     },
     "execution_count": 10,
     "metadata": {},
     "output_type": "execute_result"
    }
   ],
   "source": [
    "spark.sql(\"create database if not exists banking_db\")"
   ]
  },
  {
   "cell_type": "code",
   "execution_count": 11,
   "id": "aca6d0e6",
   "metadata": {},
   "outputs": [
    {
     "name": "stdout",
     "output_type": "stream",
     "text": [
      "+------------+\n",
      "|databaseName|\n",
      "+------------+\n",
      "|  banking_db|\n",
      "|     default|\n",
      "+------------+\n",
      "\n"
     ]
    }
   ],
   "source": [
    "spark.sql(\"show databases\").show()"
   ]
  },
  {
   "cell_type": "code",
   "execution_count": 12,
   "id": "6785245f",
   "metadata": {},
   "outputs": [
    {
     "name": "stdout",
     "output_type": "stream",
     "text": [
      "++\n",
      "||\n",
      "++\n",
      "++\n",
      "\n"
     ]
    }
   ],
   "source": [
    "spark.sql(\"use banking_db\").show()"
   ]
  },
  {
   "cell_type": "code",
   "execution_count": 13,
   "id": "1ae3549c",
   "metadata": {},
   "outputs": [
    {
     "name": "stdout",
     "output_type": "stream",
     "text": [
      "+--------+---------+-----------+\n",
      "|database|tableName|isTemporary|\n",
      "+--------+---------+-----------+\n",
      "+--------+---------+-----------+\n",
      "\n"
     ]
    }
   ],
   "source": [
    "spark.sql(\"show tables\").show()"
   ]
  },
  {
   "cell_type": "code",
   "execution_count": 17,
   "id": "68e2a25f",
   "metadata": {},
   "outputs": [
    {
     "data": {
      "text/plain": [
       "DataFrame[]"
      ]
     },
     "execution_count": 17,
     "metadata": {},
     "output_type": "execute_result"
    }
   ],
   "source": [
    "spark.sql(\"drop table if exists banking\")"
   ]
  },
  {
   "cell_type": "code",
   "execution_count": 18,
   "id": "417de6f1",
   "metadata": {},
   "outputs": [
    {
     "data": {
      "text/plain": [
       "DataFrame[]"
      ]
     },
     "execution_count": 18,
     "metadata": {},
     "output_type": "execute_result"
    }
   ],
   "source": [
    "spark.sql(\"\"\"\n",
    "CREATE TABLE if not exists banking (age int,balance double,campaign double,\n",
    "contact string,day int,default string,duration int,education varchar(50),\n",
    "housing varchar(10),job varchar(50),loan varchar(10),marital string,month varchar(30),\n",
    "pdays double,poutcome string,previous int,y varchar(10))\n",
    "ROW FORMAT DELIMITED\n",
    "FIELDS TERMINATED BY ','\n",
    "STORED AS TEXTFILE\n",
    "tblProperties(\"skip.header.line.count\" = 1)\n",
    "\"\"\")"
   ]
  },
  {
   "cell_type": "code",
   "execution_count": 19,
   "id": "f6b00bdc",
   "metadata": {
    "collapsed": true
   },
   "outputs": [
    {
     "name": "stdout",
     "output_type": "stream",
     "text": [
      "+----------+---------+-----------+\n",
      "|  database|tableName|isTemporary|\n",
      "+----------+---------+-----------+\n",
      "|banking_db|  banking|      false|\n",
      "+----------+---------+-----------+\n",
      "\n"
     ]
    }
   ],
   "source": [
    "spark.sql(\"show tables\").show()"
   ]
  },
  {
   "cell_type": "code",
   "execution_count": 20,
   "id": "e4241c3e",
   "metadata": {
    "collapsed": true
   },
   "outputs": [
    {
     "name": "stdout",
     "output_type": "stream",
     "text": [
      "+--------------------+----------+-------+\n",
      "|            col_name| data_type|comment|\n",
      "+--------------------+----------+-------+\n",
      "|                 age|       int|   null|\n",
      "|             balance|    double|   null|\n",
      "|            campaign|    double|   null|\n",
      "|             contact|    string|   null|\n",
      "|                 day|       int|   null|\n",
      "|             default|    string|   null|\n",
      "|            duration|       int|   null|\n",
      "|           education|    string|   null|\n",
      "|             housing|    string|   null|\n",
      "|                 job|    string|   null|\n",
      "|                loan|    string|   null|\n",
      "|             marital|    string|   null|\n",
      "|               month|    string|   null|\n",
      "|               pdays|    double|   null|\n",
      "|            poutcome|    string|   null|\n",
      "|            previous|       int|   null|\n",
      "|                   y|    string|   null|\n",
      "|                    |          |       |\n",
      "|# Detailed Table ...|          |       |\n",
      "|            Database|banking_db|       |\n",
      "+--------------------+----------+-------+\n",
      "only showing top 20 rows\n",
      "\n"
     ]
    }
   ],
   "source": [
    "#there are two types of tables in hive external and manage \n",
    "spark.sql(\"describe formatted banking\").show()"
   ]
  },
  {
   "cell_type": "code",
   "execution_count": 21,
   "id": "c8777fbf",
   "metadata": {
    "collapsed": true
   },
   "outputs": [
    {
     "data": {
      "text/plain": [
       "[Row(col_name='age', data_type='int', comment=None),\n",
       " Row(col_name='balance', data_type='double', comment=None),\n",
       " Row(col_name='campaign', data_type='double', comment=None),\n",
       " Row(col_name='contact', data_type='string', comment=None),\n",
       " Row(col_name='day', data_type='int', comment=None),\n",
       " Row(col_name='default', data_type='string', comment=None),\n",
       " Row(col_name='duration', data_type='int', comment=None),\n",
       " Row(col_name='education', data_type='string', comment=None),\n",
       " Row(col_name='housing', data_type='string', comment=None),\n",
       " Row(col_name='job', data_type='string', comment=None),\n",
       " Row(col_name='loan', data_type='string', comment=None),\n",
       " Row(col_name='marital', data_type='string', comment=None),\n",
       " Row(col_name='month', data_type='string', comment=None),\n",
       " Row(col_name='pdays', data_type='double', comment=None),\n",
       " Row(col_name='poutcome', data_type='string', comment=None),\n",
       " Row(col_name='previous', data_type='int', comment=None),\n",
       " Row(col_name='y', data_type='string', comment=None),\n",
       " Row(col_name='', data_type='', comment=''),\n",
       " Row(col_name='# Detailed Table Information', data_type='', comment=''),\n",
       " Row(col_name='Database', data_type='banking_db', comment=''),\n",
       " Row(col_name='Table', data_type='banking', comment=''),\n",
       " Row(col_name='Owner', data_type='hadoop', comment=''),\n",
       " Row(col_name='Created Time', data_type='Wed Jul 03 15:18:08 IST 2024', comment=''),\n",
       " Row(col_name='Last Access', data_type='Thu Jan 01 05:30:00 IST 1970', comment=''),\n",
       " Row(col_name='Created By', data_type='Spark 2.4.8', comment=''),\n",
       " Row(col_name='Type', data_type='MANAGED', comment=''),\n",
       " Row(col_name='Provider', data_type='hive', comment=''),\n",
       " Row(col_name='Table Properties', data_type='[transient_lastDdlTime=1720000088, skip.header.line.count=1]', comment=''),\n",
       " Row(col_name='Location', data_type='hdfs://localhost:9000/user/hive/warehouse/banking_db.db/banking', comment=''),\n",
       " Row(col_name='Serde Library', data_type='org.apache.hadoop.hive.serde2.lazy.LazySimpleSerDe', comment=''),\n",
       " Row(col_name='InputFormat', data_type='org.apache.hadoop.mapred.TextInputFormat', comment=''),\n",
       " Row(col_name='OutputFormat', data_type='org.apache.hadoop.hive.ql.io.HiveIgnoreKeyTextOutputFormat', comment=''),\n",
       " Row(col_name='Storage Properties', data_type='[field.delim=,, serialization.format=,]', comment=''),\n",
       " Row(col_name='Partition Provider', data_type='Catalog', comment='')]"
      ]
     },
     "execution_count": 21,
     "metadata": {},
     "output_type": "execute_result"
    }
   ],
   "source": [
    "spark.sql(\"describe formatted banking\").collect()"
   ]
  },
  {
   "cell_type": "markdown",
   "id": "2d545dd9",
   "metadata": {},
   "source": [
    "## DDL method to load dataset  into hive Table"
   ]
  },
  {
   "cell_type": "code",
   "execution_count": 22,
   "id": "af9099a2",
   "metadata": {},
   "outputs": [],
   "source": [
    "#spark.sql(\"\"\"load data local inpath '/home/hadoop/Downloads/the csv'\n",
    "# overite into table banking\"\"\")--this is how to upload from local file path data into hive table using spark sql"
   ]
  },
  {
   "cell_type": "markdown",
   "id": "d2a838ae",
   "metadata": {},
   "source": [
    "### Create a Spark DataFrame"
   ]
  },
  {
   "cell_type": "code",
   "execution_count": 23,
   "id": "5b51d013",
   "metadata": {},
   "outputs": [],
   "source": [
    "from pyspark.sql.types import *"
   ]
  },
  {
   "cell_type": "code",
   "execution_count": 24,
   "id": "6d59d3da",
   "metadata": {},
   "outputs": [],
   "source": [
    "bank_customer_Data = spark.read.json(\"file:///home/hadoop/Downloads/bank_edited.json\",multiLine=True)"
   ]
  },
  {
   "cell_type": "code",
   "execution_count": 26,
   "id": "59bfcdf3",
   "metadata": {},
   "outputs": [
    {
     "name": "stdout",
     "output_type": "stream",
     "text": [
      "+---+-------+--------+-------+---+-------+--------+---------+-------+------------+----+--------+-----+-----+--------+--------+---+\n",
      "|age|balance|campaign|contact|day|default|duration|education|housing|         job|loan| marital|month|pdays|poutcome|previous|  y|\n",
      "+---+-------+--------+-------+---+-------+--------+---------+-------+------------+----+--------+-----+-----+--------+--------+---+\n",
      "| 58|   2143|       1|unknown|  5|     no|     261| tertiary|    yes|  management|  no| married|  may|   -1| unknown|       0| no|\n",
      "| 44|     29|       1|unknown|  5|     no|     151|secondary|    yes|  technician|  no|  single|  may|   -1| unknown|       0| no|\n",
      "| 33|      2|       1|unknown|  5|     no|      76|secondary|    yes|entrepreneur| yes| married|  may|   -1| unknown|       0| no|\n",
      "| 47|   1506|       1|unknown|  5|     no|      92|  unknown|    yes| blue-collar|  no| married|  may|   -1| unknown|       0| no|\n",
      "| 33|      1|       1|unknown|  5|     no|     198|  unknown|     no|     unknown|  no|  single|  may|   -1| unknown|       0| no|\n",
      "| 35|    231|       1|unknown|  5|     no|     139| tertiary|    yes|  management|  no| married|  may|   -1| unknown|       0| no|\n",
      "| 28|    447|       1|unknown|  5|     no|     217| tertiary|    yes|  management| yes|  single|  may|   -1| unknown|       0| no|\n",
      "| 42|      2|       1|unknown|  5|    yes|     380| tertiary|    yes|entrepreneur|  no|divorced|  may|   -1| unknown|       0| no|\n",
      "| 58|    121|       1|unknown|  5|     no|      50|  primary|    yes|     retired|  no| married|  may|   -1| unknown|       0| no|\n",
      "| 43|    593|       1|unknown|  5|     no|      55|secondary|    yes|  technician|  no|  single|  may|   -1| unknown|       0| no|\n",
      "| 41|    270|       1|unknown|  5|     no|     222|secondary|    yes|      admin.|  no|divorced|  may|   -1| unknown|       0| no|\n",
      "| 29|    390|       1|unknown|  5|     no|     137|secondary|    yes|      admin.|  no|  single|  may|   -1| unknown|       0| no|\n",
      "| 53|      6|       1|unknown|  5|     no|     517|secondary|    yes|  technician|  no| married|  may|   -1| unknown|       0| no|\n",
      "| 58|     71|       1|unknown|  5|     no|      71|  unknown|    yes|  technician|  no| married|  may|   -1| unknown|       0| no|\n",
      "| 57|    162|       1|unknown|  5|     no|     174|secondary|    yes|    services|  no| married|  may|   -1| unknown|       0| no|\n",
      "| 51|    229|       1|unknown|  5|     no|     353|  primary|    yes|     retired|  no| married|  may|   -1| unknown|       0| no|\n",
      "| 45|     13|       1|unknown|  5|     no|      98|  unknown|    yes|      admin.|  no|  single|  may|   -1| unknown|       0| no|\n",
      "| 57|     52|       1|unknown|  5|     no|      38|  primary|    yes| blue-collar|  no| married|  may|   -1| unknown|       0| no|\n",
      "| 60|     60|       1|unknown|  5|     no|     219|  primary|    yes|     retired|  no| married|  may|   -1| unknown|       0| no|\n",
      "| 33|      0|       1|unknown|  5|     no|      54|secondary|    yes|    services|  no| married|  may|   -1| unknown|       0| no|\n",
      "+---+-------+--------+-------+---+-------+--------+---------+-------+------------+----+--------+-----+-----+--------+--------+---+\n",
      "only showing top 20 rows\n",
      "\n"
     ]
    }
   ],
   "source": [
    "bank_customer_Data.show()"
   ]
  },
  {
   "cell_type": "code",
   "execution_count": 27,
   "id": "74d207b3",
   "metadata": {
    "scrolled": false
   },
   "outputs": [
    {
     "name": "stdout",
     "output_type": "stream",
     "text": [
      "root\n",
      " |-- age: long (nullable = true)\n",
      " |-- balance: long (nullable = true)\n",
      " |-- campaign: long (nullable = true)\n",
      " |-- contact: string (nullable = true)\n",
      " |-- day: long (nullable = true)\n",
      " |-- default: string (nullable = true)\n",
      " |-- duration: long (nullable = true)\n",
      " |-- education: string (nullable = true)\n",
      " |-- housing: string (nullable = true)\n",
      " |-- job: string (nullable = true)\n",
      " |-- loan: string (nullable = true)\n",
      " |-- marital: string (nullable = true)\n",
      " |-- month: string (nullable = true)\n",
      " |-- pdays: long (nullable = true)\n",
      " |-- poutcome: string (nullable = true)\n",
      " |-- previous: long (nullable = true)\n",
      " |-- y: string (nullable = true)\n",
      "\n"
     ]
    }
   ],
   "source": [
    "bank_customer_Data.printSchema()"
   ]
  },
  {
   "cell_type": "markdown",
   "id": "b3c4490b",
   "metadata": {},
   "source": [
    "### insert records from spark Temp table to hive table "
   ]
  },
  {
   "cell_type": "code",
   "execution_count": 28,
   "id": "e93f5884",
   "metadata": {},
   "outputs": [],
   "source": [
    "bank_customer_Data.createOrReplaceTempView('banktable')"
   ]
  },
  {
   "cell_type": "code",
   "execution_count": 29,
   "id": "ace9e4f3",
   "metadata": {},
   "outputs": [
    {
     "data": {
      "text/plain": [
       "DataFrame[]"
      ]
     },
     "execution_count": 29,
     "metadata": {},
     "output_type": "execute_result"
    }
   ],
   "source": [
    "spark.sql(\"\"\"\n",
    "insert into table banking\n",
    "select * from banktable \n",
    "\"\"\")"
   ]
  },
  {
   "cell_type": "code",
   "execution_count": 31,
   "id": "39807207",
   "metadata": {},
   "outputs": [
    {
     "name": "stdout",
     "output_type": "stream",
     "text": [
      "+---+-------+--------+-------+---+-------+--------+---------+-------+------------+----+--------+-----+-----+--------+--------+---+\n",
      "|age|balance|campaign|contact|day|default|duration|education|housing|         job|loan| marital|month|pdays|poutcome|previous|  y|\n",
      "+---+-------+--------+-------+---+-------+--------+---------+-------+------------+----+--------+-----+-----+--------+--------+---+\n",
      "| 58| 2143.0|     1.0|unknown|  5|     no|     261| tertiary|    yes|  management|  no| married|  may| -1.0| unknown|       0| no|\n",
      "| 44|   29.0|     1.0|unknown|  5|     no|     151|secondary|    yes|  technician|  no|  single|  may| -1.0| unknown|       0| no|\n",
      "| 33|    2.0|     1.0|unknown|  5|     no|      76|secondary|    yes|entrepreneur| yes| married|  may| -1.0| unknown|       0| no|\n",
      "| 47| 1506.0|     1.0|unknown|  5|     no|      92|  unknown|    yes| blue-collar|  no| married|  may| -1.0| unknown|       0| no|\n",
      "| 33|    1.0|     1.0|unknown|  5|     no|     198|  unknown|     no|     unknown|  no|  single|  may| -1.0| unknown|       0| no|\n",
      "| 35|  231.0|     1.0|unknown|  5|     no|     139| tertiary|    yes|  management|  no| married|  may| -1.0| unknown|       0| no|\n",
      "| 28|  447.0|     1.0|unknown|  5|     no|     217| tertiary|    yes|  management| yes|  single|  may| -1.0| unknown|       0| no|\n",
      "| 42|    2.0|     1.0|unknown|  5|    yes|     380| tertiary|    yes|entrepreneur|  no|divorced|  may| -1.0| unknown|       0| no|\n",
      "| 58|  121.0|     1.0|unknown|  5|     no|      50|  primary|    yes|     retired|  no| married|  may| -1.0| unknown|       0| no|\n",
      "| 43|  593.0|     1.0|unknown|  5|     no|      55|secondary|    yes|  technician|  no|  single|  may| -1.0| unknown|       0| no|\n",
      "| 41|  270.0|     1.0|unknown|  5|     no|     222|secondary|    yes|      admin.|  no|divorced|  may| -1.0| unknown|       0| no|\n",
      "| 29|  390.0|     1.0|unknown|  5|     no|     137|secondary|    yes|      admin.|  no|  single|  may| -1.0| unknown|       0| no|\n",
      "| 53|    6.0|     1.0|unknown|  5|     no|     517|secondary|    yes|  technician|  no| married|  may| -1.0| unknown|       0| no|\n",
      "| 58|   71.0|     1.0|unknown|  5|     no|      71|  unknown|    yes|  technician|  no| married|  may| -1.0| unknown|       0| no|\n",
      "| 57|  162.0|     1.0|unknown|  5|     no|     174|secondary|    yes|    services|  no| married|  may| -1.0| unknown|       0| no|\n",
      "| 51|  229.0|     1.0|unknown|  5|     no|     353|  primary|    yes|     retired|  no| married|  may| -1.0| unknown|       0| no|\n",
      "| 45|   13.0|     1.0|unknown|  5|     no|      98|  unknown|    yes|      admin.|  no|  single|  may| -1.0| unknown|       0| no|\n",
      "| 57|   52.0|     1.0|unknown|  5|     no|      38|  primary|    yes| blue-collar|  no| married|  may| -1.0| unknown|       0| no|\n",
      "| 60|   60.0|     1.0|unknown|  5|     no|     219|  primary|    yes|     retired|  no| married|  may| -1.0| unknown|       0| no|\n",
      "| 33|    0.0|     1.0|unknown|  5|     no|      54|secondary|    yes|    services|  no| married|  may| -1.0| unknown|       0| no|\n",
      "+---+-------+--------+-------+---+-------+--------+---------+-------+------------+----+--------+-----+-----+--------+--------+---+\n",
      "only showing top 20 rows\n",
      "\n"
     ]
    }
   ],
   "source": [
    "spark.sql(\"select * from banking\").show()"
   ]
  },
  {
   "cell_type": "code",
   "execution_count": null,
   "id": "e77e5c3b",
   "metadata": {},
   "outputs": [],
   "source": []
  }
 ],
 "metadata": {
  "kernelspec": {
   "display_name": "Python 3",
   "language": "python",
   "name": "python3"
  },
  "language_info": {
   "codemirror_mode": {
    "name": "ipython",
    "version": 3
   },
   "file_extension": ".py",
   "mimetype": "text/x-python",
   "name": "python",
   "nbconvert_exporter": "python",
   "pygments_lexer": "ipython3",
   "version": "3.6.9"
  }
 },
 "nbformat": 4,
 "nbformat_minor": 5
}
