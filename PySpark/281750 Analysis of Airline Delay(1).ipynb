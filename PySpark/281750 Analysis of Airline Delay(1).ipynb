{
 "cells": [
  {
   "cell_type": "markdown",
   "id": "7f76e286",
   "metadata": {
    "id": "7f76e286"
   },
   "source": [
    "# Case Study: Analysis of Airline Delay using Spark\n",
    "### Airline delay is a critical issue affecting both airlines and passengers. In this assignment, you will use PySpark to analyze a dataset containing information about airline flights and predict flight delays.\n"
   ]
  },
  {
   "cell_type": "code",
   "execution_count": 1,
   "id": "24ee7a30",
   "metadata": {
    "id": "24ee7a30",
    "outputId": "b4c87bc8-af02-4bfc-fc0c-08e18df8744a"
   },
   "outputs": [
    {
     "data": {
      "text/html": [
       "\n",
       "        <div>\n",
       "            <p><b>SparkContext</b></p>\n",
       "\n",
       "            <p><a href=\"http://10.0.2.15:4040\">Spark UI</a></p>\n",
       "\n",
       "            <dl>\n",
       "              <dt>Version</dt>\n",
       "                <dd><code>v2.4.8</code></dd>\n",
       "              <dt>Master</dt>\n",
       "                <dd><code>local[*]</code></dd>\n",
       "              <dt>AppName</dt>\n",
       "                <dd><code>PySparkShell</code></dd>\n",
       "            </dl>\n",
       "        </div>\n",
       "        "
      ],
      "text/plain": [
       "<SparkContext master=local[*] appName=PySparkShell>"
      ]
     },
     "execution_count": 1,
     "metadata": {},
     "output_type": "execute_result"
    }
   ],
   "source": [
    "sc"
   ]
  },
  {
   "cell_type": "code",
   "execution_count": 2,
   "id": "1d2d6086",
   "metadata": {
    "id": "1d2d6086",
    "outputId": "82f96360-26ea-40e7-ade3-0eae80eb651e"
   },
   "outputs": [
    {
     "data": {
      "text/html": [
       "\n",
       "            <div>\n",
       "                <p><b>SparkSession - hive</b></p>\n",
       "                \n",
       "        <div>\n",
       "            <p><b>SparkContext</b></p>\n",
       "\n",
       "            <p><a href=\"http://10.0.2.15:4040\">Spark UI</a></p>\n",
       "\n",
       "            <dl>\n",
       "              <dt>Version</dt>\n",
       "                <dd><code>v2.4.8</code></dd>\n",
       "              <dt>Master</dt>\n",
       "                <dd><code>local[*]</code></dd>\n",
       "              <dt>AppName</dt>\n",
       "                <dd><code>PySparkShell</code></dd>\n",
       "            </dl>\n",
       "        </div>\n",
       "        \n",
       "            </div>\n",
       "        "
      ],
      "text/plain": [
       "<pyspark.sql.session.SparkSession at 0x7f0bdeceb438>"
      ]
     },
     "execution_count": 2,
     "metadata": {},
     "output_type": "execute_result"
    }
   ],
   "source": [
    "spark"
   ]
  },
  {
   "cell_type": "markdown",
   "id": "e5ed7bd1",
   "metadata": {
    "id": "e5ed7bd1"
   },
   "source": [
    "1. create a new spark session with spark config"
   ]
  },
  {
   "cell_type": "code",
   "execution_count": 3,
   "id": "afb5279f",
   "metadata": {
    "id": "afb5279f"
   },
   "outputs": [],
   "source": [
    "sc.stop()"
   ]
  },
  {
   "cell_type": "code",
   "execution_count": 4,
   "id": "bc2f255b",
   "metadata": {
    "executionInfo": {
     "elapsed": 455,
     "status": "ok",
     "timestamp": 1720367882532,
     "user": {
      "displayName": "Bhagya",
      "userId": "15521815210908476752"
     },
     "user_tz": -330
    },
    "id": "bc2f255b"
   },
   "outputs": [],
   "source": [
    "from pyspark import SparkConf, SparkContext\n",
    "from pyspark.sql import SparkSession, HiveContext"
   ]
  },
  {
   "cell_type": "code",
   "execution_count": 5,
   "id": "4931c097",
   "metadata": {
    "executionInfo": {
     "elapsed": 8990,
     "status": "ok",
     "timestamp": 1720367894896,
     "user": {
      "displayName": "Bhagya",
      "userId": "15521815210908476752"
     },
     "user_tz": -330
    },
    "id": "4931c097"
   },
   "outputs": [],
   "source": [
    "config = SparkConf().setAppName('Flights Delay Analysis').setMaster('local[4]')\n",
    "sc = SparkContext.getOrCreate(conf=config)"
   ]
  },
  {
   "cell_type": "code",
   "execution_count": 6,
   "id": "f2c64f77",
   "metadata": {
    "executionInfo": {
     "elapsed": 514,
     "status": "ok",
     "timestamp": 1720367900618,
     "user": {
      "displayName": "Bhagya",
      "userId": "15521815210908476752"
     },
     "user_tz": -330
    },
    "id": "f2c64f77"
   },
   "outputs": [],
   "source": [
    "#Spark integration with Hive with Spark Session\n",
    "spark = (SparkSession.builder.appName(\"pyspark-Hive-integration\")\n",
    "         .config('spark.sql.warehouse.dir','/user/hive/warehouse/')\n",
    "        .enableHiveSupport().getOrCreate())"
   ]
  },
  {
   "cell_type": "code",
   "execution_count": 7,
   "id": "d6492381",
   "metadata": {
    "colab": {
     "base_uri": "https://localhost:8080/"
    },
    "executionInfo": {
     "elapsed": 16988,
     "status": "ok",
     "timestamp": 1720367924367,
     "user": {
      "displayName": "Bhagya",
      "userId": "15521815210908476752"
     },
     "user_tz": -330
    },
    "id": "d6492381",
    "outputId": "653d4404-f675-4d7c-eea4-13f84009f77d"
   },
   "outputs": [
    {
     "name": "stdout",
     "output_type": "stream",
     "text": [
      "+------------+\n",
      "|databaseName|\n",
      "+------------+\n",
      "|  banking_db|\n",
      "|     default|\n",
      "+------------+\n",
      "\n"
     ]
    }
   ],
   "source": [
    "spark.sql(\"show databases\").show()"
   ]
  },
  {
   "cell_type": "code",
   "execution_count": 8,
   "id": "3f0cc5ee",
   "metadata": {
    "colab": {
     "base_uri": "https://localhost:8080/",
     "height": 219
    },
    "executionInfo": {
     "elapsed": 484,
     "status": "ok",
     "timestamp": 1720367931537,
     "user": {
      "displayName": "Bhagya",
      "userId": "15521815210908476752"
     },
     "user_tz": -330
    },
    "id": "3f0cc5ee",
    "outputId": "86627fbd-da42-4360-addb-b5e3ce31f603"
   },
   "outputs": [
    {
     "data": {
      "text/html": [
       "\n",
       "            <div>\n",
       "                <p><b>SparkSession - hive</b></p>\n",
       "                \n",
       "        <div>\n",
       "            <p><b>SparkContext</b></p>\n",
       "\n",
       "            <p><a href=\"http://10.0.2.15:4040\">Spark UI</a></p>\n",
       "\n",
       "            <dl>\n",
       "              <dt>Version</dt>\n",
       "                <dd><code>v2.4.8</code></dd>\n",
       "              <dt>Master</dt>\n",
       "                <dd><code>local[4]</code></dd>\n",
       "              <dt>AppName</dt>\n",
       "                <dd><code>Flights Delay Analysis</code></dd>\n",
       "            </dl>\n",
       "        </div>\n",
       "        \n",
       "            </div>\n",
       "        "
      ],
      "text/plain": [
       "<pyspark.sql.session.SparkSession at 0x7f0bdec02358>"
      ]
     },
     "execution_count": 8,
     "metadata": {},
     "output_type": "execute_result"
    }
   ],
   "source": [
    "spark"
   ]
  },
  {
   "cell_type": "markdown",
   "id": "0f7b9ffe",
   "metadata": {
    "id": "0f7b9ffe"
   },
   "source": [
    "### 2.Create new instance of Spark SQL session and define new DataFrame using Flights_Delay.csv dataset."
   ]
  },
  {
   "cell_type": "code",
   "execution_count": 9,
   "id": "452e83f2",
   "metadata": {
    "executionInfo": {
     "elapsed": 5813,
     "status": "ok",
     "timestamp": 1720368192501,
     "user": {
      "displayName": "Bhagya",
      "userId": "15521815210908476752"
     },
     "user_tz": -330
    },
    "id": "452e83f2"
   },
   "outputs": [],
   "source": [
    "flights_df = spark.read.csv(\"file:///home/hadoop/Downloads/Flights_Delay.csv\", header=True, inferSchema=True)"
   ]
  },
  {
   "cell_type": "markdown",
   "id": "eed4e818",
   "metadata": {
    "id": "eed4e818"
   },
   "source": [
    "### 3.Create table Spark HIVE table flights_table"
   ]
  },
  {
   "cell_type": "code",
   "execution_count": 10,
   "id": "e8be986c",
   "metadata": {
    "executionInfo": {
     "elapsed": 554,
     "status": "ok",
     "timestamp": 1720368202515,
     "user": {
      "displayName": "Bhagya",
      "userId": "15521815210908476752"
     },
     "user_tz": -330
    },
    "id": "e8be986c"
   },
   "outputs": [],
   "source": [
    "flights_df.createOrReplaceTempView('flights_table')"
   ]
  },
  {
   "cell_type": "markdown",
   "id": "cec3cdb5",
   "metadata": {
    "id": "cec3cdb5"
   },
   "source": [
    "### 4.Show Top 10 Rows and describe table"
   ]
  },
  {
   "cell_type": "code",
   "execution_count": 11,
   "id": "e7a76a59",
   "metadata": {
    "colab": {
     "base_uri": "https://localhost:8080/"
    },
    "executionInfo": {
     "elapsed": 1919,
     "status": "ok",
     "timestamp": 1720368209931,
     "user": {
      "displayName": "Bhagya",
      "userId": "15521815210908476752"
     },
     "user_tz": -330
    },
    "id": "e7a76a59",
    "outputId": "075c810f-57ae-4cd6-efef-6b794202db67"
   },
   "outputs": [
    {
     "name": "stdout",
     "output_type": "stream",
     "text": [
      "+---+----+-----+---+-----------+-------+-------------+-----------+--------------+-------------------+-------------------+--------------+---------------+--------+----------+--------------+------------+--------+--------+---------+-------+-----------------+------------+-------------+--------+---------+-------------------+----------------+--------------+-------------+-------------------+-------------+\n",
      "| ID|YEAR|MONTH|DAY|DAY_OF_WEEK|AIRLINE|FLIGHT_NUMBER|TAIL_NUMBER|ORIGIN_AIRPORT|DESTINATION_AIRPORT|SCHEDULED_DEPARTURE|DEPARTURE_TIME|DEPARTURE_DELAY|TAXI_OUT|WHEELS_OFF|SCHEDULED_TIME|ELAPSED_TIME|AIR_TIME|DISTANCE|WHEELS_ON|TAXI_IN|SCHEDULED_ARRIVAL|ARRIVAL_TIME|ARRIVAL_DELAY|DIVERTED|CANCELLED|CANCELLATION_REASON|AIR_SYSTEM_DELAY|SECURITY_DELAY|AIRLINE_DELAY|LATE_AIRCRAFT_DELAY|WEATHER_DELAY|\n",
      "+---+----+-----+---+-----------+-------+-------------+-----------+--------------+-------------------+-------------------+--------------+---------------+--------+----------+--------------+------------+--------+--------+---------+-------+-----------------+------------+-------------+--------+---------+-------------------+----------------+--------------+-------------+-------------------+-------------+\n",
      "|  0|2015|    3|  4|          3|     EV|         5170|     N842AS|           CVG|                XNA|                935|           954|             19|      16|      1010|           115|         129|     108|     562|     1058|      5|             1030|        1103|           33|       0|        0|               null|              14|             0|           19|                  0|            0|\n",
      "|  1|2015|    2|  2|          1|     MQ|         3584|     N646MQ|           DFW|                SPS|               1240|          1316|             36|      11|      1327|            50|          46|      30|     113|     1357|      5|             1330|        1402|           32|       0|        0|               null|               0|             0|           32|                  0|            0|\n",
      "|  2|2015|    1| 27|          2|     B6|          716|     N309JB|           JAX|                DCA|               1335|          1505|             90|      16|      1521|           104|         110|      91|     634|     1652|      3|             1519|        1655|           96|       0|        0|               null|               6|             0|           90|                  0|            0|\n",
      "|  3|2015|    1| 28|          3|     EV|         4289|     N14162|           COS|                IAH|               1442|          1435|             -7|      13|      1448|           139|         127|     101|     809|     1729|     13|             1801|        1742|          -19|       0|        0|               null|            null|          null|         null|               null|         null|\n",
      "|  4|2015|    2|  5|          4|     EV|         5584|     N851AS|           ATL|                AVL|               1255|          1250|             -5|      25|      1315|            48|          62|      34|     164|     1349|      3|             1343|        1352|            9|       0|        0|               null|            null|          null|         null|               null|         null|\n",
      "|  5|2015|    2| 15|          7|     UA|          712|     N438UA|           IAH|                SFO|               1535|          1554|             19|      18|      1612|           260|         237|     216|    1635|     1748|      3|             1755|        1751|           -4|       0|        0|               null|            null|          null|         null|               null|         null|\n",
      "|  6|2015|    2| 19|          4|     OO|         5166|     N746SK|           HDN|                DEN|                928|           924|             -4|      11|       935|            67|          56|      29|     141|     1004|     16|             1035|        1020|          -15|       0|        0|               null|            null|          null|         null|               null|         null|\n",
      "|  7|2015|    2| 27|          5|     DL|         1571|     N916DN|           ATL|                CAK|               2104|          2103|             -1|      20|      2123|           106|          97|      70|     528|     2233|      7|             2250|        2240|          -10|       0|        0|               null|            null|          null|         null|               null|         null|\n",
      "|  8|2015|    1| 20|          2|     WN|          518|     N405WN|           HOU|                MEM|               2140|          2150|             10|       8|      2158|            80|          79|      68|     484|     2306|      3|             2300|        2309|            9|       0|        0|               null|            null|          null|         null|               null|         null|\n",
      "|  9|2015|    2|  6|          5|     WN|          336|     N663SW|           DAL|                MAF|               1750|          1748|             -2|       7|      1755|            70|          62|      52|     319|     1847|      3|             1900|        1850|          -10|       0|        0|               null|            null|          null|         null|               null|         null|\n",
      "+---+----+-----+---+-----------+-------+-------------+-----------+--------------+-------------------+-------------------+--------------+---------------+--------+----------+--------------+------------+--------+--------+---------+-------+-----------------+------------+-------------+--------+---------+-------------------+----------------+--------------+-------------+-------------------+-------------+\n",
      "only showing top 10 rows\n",
      "\n"
     ]
    }
   ],
   "source": [
    "spark.sql(\"select * from flights_table\").show(10)"
   ]
  },
  {
   "cell_type": "markdown",
   "id": "5c2302a4",
   "metadata": {
    "id": "5c2302a4"
   },
   "source": [
    "### Describe the table"
   ]
  },
  {
   "cell_type": "code",
   "execution_count": 12,
   "id": "0f2f3c6e",
   "metadata": {
    "colab": {
     "base_uri": "https://localhost:8080/"
    },
    "executionInfo": {
     "elapsed": 474,
     "status": "ok",
     "timestamp": 1720368214139,
     "user": {
      "displayName": "Bhagya",
      "userId": "15521815210908476752"
     },
     "user_tz": -330
    },
    "id": "0f2f3c6e",
    "outputId": "1a8d798e-e149-49d4-f436-d697e0f2343c"
   },
   "outputs": [
    {
     "name": "stdout",
     "output_type": "stream",
     "text": [
      "root\n",
      " |-- ID: integer (nullable = true)\n",
      " |-- YEAR: integer (nullable = true)\n",
      " |-- MONTH: integer (nullable = true)\n",
      " |-- DAY: integer (nullable = true)\n",
      " |-- DAY_OF_WEEK: integer (nullable = true)\n",
      " |-- AIRLINE: string (nullable = true)\n",
      " |-- FLIGHT_NUMBER: integer (nullable = true)\n",
      " |-- TAIL_NUMBER: string (nullable = true)\n",
      " |-- ORIGIN_AIRPORT: string (nullable = true)\n",
      " |-- DESTINATION_AIRPORT: string (nullable = true)\n",
      " |-- SCHEDULED_DEPARTURE: integer (nullable = true)\n",
      " |-- DEPARTURE_TIME: integer (nullable = true)\n",
      " |-- DEPARTURE_DELAY: integer (nullable = true)\n",
      " |-- TAXI_OUT: integer (nullable = true)\n",
      " |-- WHEELS_OFF: integer (nullable = true)\n",
      " |-- SCHEDULED_TIME: integer (nullable = true)\n",
      " |-- ELAPSED_TIME: integer (nullable = true)\n",
      " |-- AIR_TIME: integer (nullable = true)\n",
      " |-- DISTANCE: integer (nullable = true)\n",
      " |-- WHEELS_ON: integer (nullable = true)\n",
      " |-- TAXI_IN: integer (nullable = true)\n",
      " |-- SCHEDULED_ARRIVAL: integer (nullable = true)\n",
      " |-- ARRIVAL_TIME: integer (nullable = true)\n",
      " |-- ARRIVAL_DELAY: integer (nullable = true)\n",
      " |-- DIVERTED: integer (nullable = true)\n",
      " |-- CANCELLED: integer (nullable = true)\n",
      " |-- CANCELLATION_REASON: string (nullable = true)\n",
      " |-- AIR_SYSTEM_DELAY: integer (nullable = true)\n",
      " |-- SECURITY_DELAY: integer (nullable = true)\n",
      " |-- AIRLINE_DELAY: integer (nullable = true)\n",
      " |-- LATE_AIRCRAFT_DELAY: integer (nullable = true)\n",
      " |-- WEATHER_DELAY: integer (nullable = true)\n",
      "\n"
     ]
    }
   ],
   "source": [
    "flights_df.printSchema()"
   ]
  },
  {
   "cell_type": "markdown",
   "id": "49ca8782",
   "metadata": {
    "id": "49ca8782"
   },
   "source": [
    "### 5. Apply Query performance optimization techniques like – creating Partitioning DataFrame by a specific column, parquet data, caching, predicate pushdown methods etc."
   ]
  },
  {
   "cell_type": "code",
   "execution_count": 13,
   "id": "fd0a5144",
   "metadata": {
    "executionInfo": {
     "elapsed": 526,
     "status": "ok",
     "timestamp": 1720368218707,
     "user": {
      "displayName": "Bhagya",
      "userId": "15521815210908476752"
     },
     "user_tz": -330
    },
    "id": "fd0a5144"
   },
   "outputs": [],
   "source": [
    "partition_df = flights_df.repartition(3)"
   ]
  },
  {
   "cell_type": "code",
   "execution_count": 14,
   "id": "d12aab01",
   "metadata": {
    "colab": {
     "base_uri": "https://localhost:8080/"
    },
    "executionInfo": {
     "elapsed": 785,
     "status": "ok",
     "timestamp": 1720368220011,
     "user": {
      "displayName": "Bhagya",
      "userId": "15521815210908476752"
     },
     "user_tz": -330
    },
    "id": "d12aab01",
    "outputId": "9b925550-fcfa-4cd8-dc7e-f83ecd9355c7"
   },
   "outputs": [
    {
     "data": {
      "text/plain": [
       "DataFrame[ID: int, YEAR: int, MONTH: int, DAY: int, DAY_OF_WEEK: int, AIRLINE: string, FLIGHT_NUMBER: int, TAIL_NUMBER: string, ORIGIN_AIRPORT: string, DESTINATION_AIRPORT: string, SCHEDULED_DEPARTURE: int, DEPARTURE_TIME: int, DEPARTURE_DELAY: int, TAXI_OUT: int, WHEELS_OFF: int, SCHEDULED_TIME: int, ELAPSED_TIME: int, AIR_TIME: int, DISTANCE: int, WHEELS_ON: int, TAXI_IN: int, SCHEDULED_ARRIVAL: int, ARRIVAL_TIME: int, ARRIVAL_DELAY: int, DIVERTED: int, CANCELLED: int, CANCELLATION_REASON: string, AIR_SYSTEM_DELAY: int, SECURITY_DELAY: int, AIRLINE_DELAY: int, LATE_AIRCRAFT_DELAY: int, WEATHER_DELAY: int]"
      ]
     },
     "execution_count": 14,
     "metadata": {},
     "output_type": "execute_result"
    }
   ],
   "source": [
    "flights_df.cache()"
   ]
  },
  {
   "cell_type": "markdown",
   "id": "1b9ae999",
   "metadata": {
    "id": "1b9ae999"
   },
   "source": [
    "### Persistance of dataframe with a specific storage level"
   ]
  },
  {
   "cell_type": "code",
   "execution_count": 15,
   "id": "5cb42e0f",
   "metadata": {
    "colab": {
     "base_uri": "https://localhost:8080/"
    },
    "executionInfo": {
     "elapsed": 12,
     "status": "ok",
     "timestamp": 1720368222744,
     "user": {
      "displayName": "Bhagya",
      "userId": "15521815210908476752"
     },
     "user_tz": -330
    },
    "id": "5cb42e0f",
    "outputId": "7a27b992-cfa1-41fc-f7d2-a4bae3f20664"
   },
   "outputs": [
    {
     "data": {
      "text/plain": [
       "DataFrame[ID: int, YEAR: int, MONTH: int, DAY: int, DAY_OF_WEEK: int, AIRLINE: string, FLIGHT_NUMBER: int, TAIL_NUMBER: string, ORIGIN_AIRPORT: string, DESTINATION_AIRPORT: string, SCHEDULED_DEPARTURE: int, DEPARTURE_TIME: int, DEPARTURE_DELAY: int, TAXI_OUT: int, WHEELS_OFF: int, SCHEDULED_TIME: int, ELAPSED_TIME: int, AIR_TIME: int, DISTANCE: int, WHEELS_ON: int, TAXI_IN: int, SCHEDULED_ARRIVAL: int, ARRIVAL_TIME: int, ARRIVAL_DELAY: int, DIVERTED: int, CANCELLED: int, CANCELLATION_REASON: string, AIR_SYSTEM_DELAY: int, SECURITY_DELAY: int, AIRLINE_DELAY: int, LATE_AIRCRAFT_DELAY: int, WEATHER_DELAY: int]"
      ]
     },
     "execution_count": 15,
     "metadata": {},
     "output_type": "execute_result"
    }
   ],
   "source": [
    "from pyspark import StorageLevel\n",
    "flights_df.persist(StorageLevel.MEMORY_AND_DISK)"
   ]
  },
  {
   "cell_type": "markdown",
   "id": "3cebc210",
   "metadata": {
    "id": "3cebc210"
   },
   "source": [
    "### 6.Average arrival delay caused by airlines"
   ]
  },
  {
   "cell_type": "code",
   "execution_count": 16,
   "id": "9efb99a2",
   "metadata": {
    "colab": {
     "base_uri": "https://localhost:8080/"
    },
    "executionInfo": {
     "elapsed": 4665,
     "status": "ok",
     "timestamp": 1720368229730,
     "user": {
      "displayName": "Bhagya",
      "userId": "15521815210908476752"
     },
     "user_tz": -330
    },
    "id": "9efb99a2",
    "outputId": "9012dde4-0085-4ddb-bbe3-e5392c99b8d3"
   },
   "outputs": [
    {
     "name": "stdout",
     "output_type": "stream",
     "text": [
      "+-------+-----------------+\n",
      "|AIRLINE|avg_arrival_delay|\n",
      "+-------+-----------------+\n",
      "|     UA|              6.7|\n",
      "|     NK|            14.21|\n",
      "|     AA|             8.39|\n",
      "|     EV|            10.88|\n",
      "|     B6|            13.96|\n",
      "|     DL|             2.81|\n",
      "|     OO|            10.15|\n",
      "|     F9|             24.1|\n",
      "|     US|             5.98|\n",
      "|     MQ|            19.23|\n",
      "|     HA|             4.07|\n",
      "|     VX|             5.13|\n",
      "|     WN|              3.7|\n",
      "+-------+-----------------+\n",
      "\n"
     ]
    }
   ],
   "source": [
    "spark.sql(\"select AIRLINE , round(avg(ARRIVAL_DELAY),2) as avg_arrival_delay  from flights_table group by AIRLINE having avg_arrival_delay > 1\").show()"
   ]
  },
  {
   "cell_type": "markdown",
   "id": "804ac8b9",
   "metadata": {
    "id": "804ac8b9"
   },
   "source": [
    "### 7.Days of months with respected to average of arrival delays"
   ]
  },
  {
   "cell_type": "code",
   "execution_count": 17,
   "id": "88eb19c4",
   "metadata": {
    "colab": {
     "base_uri": "https://localhost:8080/"
    },
    "executionInfo": {
     "elapsed": 1236,
     "status": "ok",
     "timestamp": 1720368237174,
     "user": {
      "displayName": "Bhagya",
      "userId": "15521815210908476752"
     },
     "user_tz": -330
    },
    "id": "88eb19c4",
    "outputId": "b304fc38-0379-4558-ed4e-f927dc1e61ef"
   },
   "outputs": [
    {
     "name": "stdout",
     "output_type": "stream",
     "text": [
      "+---+-----------------+\n",
      "|DAY|avg_arrival_delay|\n",
      "+---+-----------------+\n",
      "|  1|            14.81|\n",
      "|  2|            15.05|\n",
      "|  3|            18.14|\n",
      "|  4|            17.16|\n",
      "|  5|            16.24|\n",
      "|  6|            10.61|\n",
      "|  7|             2.83|\n",
      "|  8|             5.23|\n",
      "|  9|             4.42|\n",
      "| 10|            -0.05|\n",
      "| 11|             3.99|\n",
      "| 12|            11.25|\n",
      "| 13|             3.38|\n",
      "| 14|             1.33|\n",
      "| 15|             2.97|\n",
      "| 16|             9.12|\n",
      "| 17|             8.76|\n",
      "| 18|             3.57|\n",
      "| 19|             1.63|\n",
      "| 20|             3.88|\n",
      "+---+-----------------+\n",
      "only showing top 20 rows\n",
      "\n"
     ]
    }
   ],
   "source": [
    "spark.sql(\"select DAY,round(avg(ARRIVAL_DELAY),2) as avg_arrival_delay from flights_table group by DAY order by DAY\").show()"
   ]
  },
  {
   "cell_type": "markdown",
   "id": "213b896e",
   "metadata": {
    "id": "213b896e"
   },
   "source": [
    "### 8.Arrange weekdays with respect to the average arrival delays caused"
   ]
  },
  {
   "cell_type": "code",
   "execution_count": 18,
   "id": "dcff826c",
   "metadata": {
    "colab": {
     "base_uri": "https://localhost:8080/"
    },
    "executionInfo": {
     "elapsed": 788,
     "status": "ok",
     "timestamp": 1720368241097,
     "user": {
      "displayName": "Bhagya",
      "userId": "15521815210908476752"
     },
     "user_tz": -330
    },
    "id": "dcff826c",
    "outputId": "c84aefe6-b9f8-4ba4-c837-16b6929ecdb5"
   },
   "outputs": [
    {
     "name": "stdout",
     "output_type": "stream",
     "text": [
      "+-----------+-----------------+\n",
      "|DAY_OF_WEEK|avg_arrival_delay|\n",
      "+-----------+-----------------+\n",
      "|          1|            10.81|\n",
      "|          2|             8.03|\n",
      "|          3|             5.59|\n",
      "|          4|             7.17|\n",
      "|          5|             6.01|\n",
      "|          6|             4.89|\n",
      "|          7|            10.11|\n",
      "+-----------+-----------------+\n",
      "\n"
     ]
    }
   ],
   "source": [
    "spark.sql(\"select DAY_OF_WEEK , round(avg(ARRIVAL_DELAY),2) as avg_arrival_delay from flights_table group by DAY_OF_WEEK order by DAY_OF_WEEK\").show()"
   ]
  },
  {
   "cell_type": "markdown",
   "id": "bd8a888a",
   "metadata": {
    "id": "bd8a888a"
   },
   "source": [
    "### 9.Arrange Days of month as per cancellations done in Descending"
   ]
  },
  {
   "cell_type": "code",
   "execution_count": 19,
   "id": "b5b6b20d",
   "metadata": {
    "colab": {
     "base_uri": "https://localhost:8080/"
    },
    "executionInfo": {
     "elapsed": 732,
     "status": "ok",
     "timestamp": 1720368243358,
     "user": {
      "displayName": "Bhagya",
      "userId": "15521815210908476752"
     },
     "user_tz": -330
    },
    "id": "b5b6b20d",
    "outputId": "2fbe1945-46ec-414a-f282-2008eb06b420"
   },
   "outputs": [
    {
     "name": "stdout",
     "output_type": "stream",
     "text": [
      "+---+---------+\n",
      "|DAY|cancelled|\n",
      "+---+---------+\n",
      "|  4|     2660|\n",
      "|  2|     2644|\n",
      "|  9|     2620|\n",
      "|  5|     2619|\n",
      "|  6|     2596|\n",
      "|  3|     2481|\n",
      "|  8|     2403|\n",
      "|  7|     2267|\n",
      "|  1|     2248|\n",
      "| 10|     1813|\n",
      "| 13|     1788|\n",
      "| 16|     1724|\n",
      "| 23|     1712|\n",
      "| 20|     1700|\n",
      "| 26|     1700|\n",
      "| 27|     1678|\n",
      "| 22|     1671|\n",
      "| 18|     1663|\n",
      "| 12|     1655|\n",
      "| 19|     1654|\n",
      "+---+---------+\n",
      "only showing top 20 rows\n",
      "\n"
     ]
    }
   ],
   "source": [
    "spark.sql(\"select DAY,count(CANCELLED) as cancelled from flights_table group by DAY order by cancelled desc\").show()"
   ]
  },
  {
   "cell_type": "markdown",
   "id": "78fdcbb8",
   "metadata": {
    "id": "78fdcbb8"
   },
   "source": [
    "### 10.Find Top 10 busiest airports with respect to day of week"
   ]
  },
  {
   "cell_type": "code",
   "execution_count": 20,
   "id": "66a43843",
   "metadata": {
    "colab": {
     "base_uri": "https://localhost:8080/"
    },
    "executionInfo": {
     "elapsed": 1893,
     "status": "ok",
     "timestamp": 1720368838031,
     "user": {
      "displayName": "Bhagya",
      "userId": "15521815210908476752"
     },
     "user_tz": -330
    },
    "id": "66a43843",
    "outputId": "942af71f-79db-4670-d92b-d8351dd79f72"
   },
   "outputs": [
    {
     "name": "stdout",
     "output_type": "stream",
     "text": [
      "+-----------+-------+--------+\n",
      "|DAY_OF_WEEK|airport|maxCount|\n",
      "+-----------+-------+--------+\n",
      "|          5|    ATL|     644|\n",
      "|          4|    ATL|     557|\n",
      "|          1|    ATL|     555|\n",
      "|          7|    ATL|     522|\n",
      "|          3|    ATL|     505|\n",
      "|          2|    ATL|     485|\n",
      "|          5|    ORD|     483|\n",
      "|          5|    DFW|     447|\n",
      "|          4|    ORD|     441|\n",
      "|          1|    ORD|     436|\n",
      "+-----------+-------+--------+\n",
      "\n"
     ]
    }
   ],
   "source": [
    "spark.sql(\"\"\"select DAY_OF_WEEK, airport, max(countOfFlights) as maxCount from\n",
    "(\n",
    "select DAY_OF_WEEK, ORIGIN_AIRPORT as airport, count(*) as countOfFlights from flights_table group by DAY_OF_WEEK, ORIGIN_AIRPORT\n",
    "union all\n",
    "select DAY_OF_WEEK, DESTINATION_AIRPORT as airport, count(*) as countOfFlights from flights_table group by DAY_OF_WEEK, DESTINATION_AIRPORT\n",
    ") as result\n",
    "group by DAY_OF_WEEK, airport order by maxCount desc limit 10\"\"\").show()\n"
   ]
  },
  {
   "cell_type": "markdown",
   "id": "e53a6ec9",
   "metadata": {
    "id": "e53a6ec9"
   },
   "source": [
    "### 11.Finding airlines that make the maximum number of cancellations"
   ]
  },
  {
   "cell_type": "code",
   "execution_count": 21,
   "id": "c01afebb",
   "metadata": {
    "colab": {
     "base_uri": "https://localhost:8080/"
    },
    "executionInfo": {
     "elapsed": 1581,
     "status": "ok",
     "timestamp": 1720368846235,
     "user": {
      "displayName": "Bhagya",
      "userId": "15521815210908476752"
     },
     "user_tz": -330
    },
    "id": "c01afebb",
    "outputId": "0b859ae7-2c8b-49c2-b469-595f4562df3c"
   },
   "outputs": [
    {
     "name": "stdout",
     "output_type": "stream",
     "text": [
      "+-------+---------+\n",
      "|AIRLINE|cancelled|\n",
      "+-------+---------+\n",
      "|     WN|    11738|\n",
      "+-------+---------+\n",
      "\n"
     ]
    }
   ],
   "source": [
    "spark.sql(\"select AIRLINE,COUNT(CANCELLED) as cancelled from flights_table group by AIRLINE order by cancelled desc limit 1\").show()"
   ]
  },
  {
   "cell_type": "markdown",
   "id": "9ff2af05",
   "metadata": {
    "id": "9ff2af05"
   },
   "source": [
    "### 12.Find and order airlines in descending that make the most number of diversions"
   ]
  },
  {
   "cell_type": "code",
   "execution_count": 22,
   "id": "c1722db8",
   "metadata": {
    "colab": {
     "base_uri": "https://localhost:8080/"
    },
    "executionInfo": {
     "elapsed": 909,
     "status": "ok",
     "timestamp": 1720368847137,
     "user": {
      "displayName": "Bhagya",
      "userId": "15521815210908476752"
     },
     "user_tz": -330
    },
    "id": "c1722db8",
    "outputId": "ca7a7900-1af0-49eb-ef77-e8709a9676c4"
   },
   "outputs": [
    {
     "name": "stdout",
     "output_type": "stream",
     "text": [
      "+-------+--------------+\n",
      "|AIRLINE|total_diverted|\n",
      "+-------+--------------+\n",
      "|     WN|         11738|\n",
      "|     DL|          7989|\n",
      "|     EV|          5916|\n",
      "|     OO|          5708|\n",
      "|     AA|          5250|\n",
      "|     UA|          4701|\n",
      "|     US|          3925|\n",
      "|     MQ|          3502|\n",
      "|     B6|          2548|\n",
      "|     AS|          1586|\n",
      "|     NK|          1048|\n",
      "|     F9|           794|\n",
      "|     HA|           722|\n",
      "|     VX|           573|\n",
      "+-------+--------------+\n",
      "\n"
     ]
    }
   ],
   "source": [
    "spark.sql(\"select AIRLINE,COUNT(DIVERTED) as total_diverted FROM flights_table \\\n",
    "          group by AIRLINE ORDER BY total_diverted desc \").show()"
   ]
  },
  {
   "cell_type": "markdown",
   "id": "e9a41e1b",
   "metadata": {
    "id": "e9a41e1b"
   },
   "source": [
    "### 13.Finding days of month that see the most number of diversion"
   ]
  },
  {
   "cell_type": "code",
   "execution_count": 23,
   "id": "a8389c74",
   "metadata": {
    "colab": {
     "base_uri": "https://localhost:8080/"
    },
    "executionInfo": {
     "elapsed": 579,
     "status": "ok",
     "timestamp": 1720368850984,
     "user": {
      "displayName": "Bhagya",
      "userId": "15521815210908476752"
     },
     "user_tz": -330
    },
    "id": "a8389c74",
    "outputId": "c175ab59-90af-4f92-e7f3-b4458d890fff"
   },
   "outputs": [
    {
     "name": "stdout",
     "output_type": "stream",
     "text": [
      "+---+-------------+\n",
      "|DAY|most_diverted|\n",
      "+---+-------------+\n",
      "|  4|         2660|\n",
      "|  2|         2644|\n",
      "|  9|         2620|\n",
      "|  5|         2619|\n",
      "|  6|         2596|\n",
      "|  3|         2481|\n",
      "|  8|         2403|\n",
      "|  7|         2267|\n",
      "|  1|         2248|\n",
      "| 10|         1813|\n",
      "| 13|         1788|\n",
      "| 16|         1724|\n",
      "| 23|         1712|\n",
      "| 26|         1700|\n",
      "| 20|         1700|\n",
      "| 27|         1678|\n",
      "| 22|         1671|\n",
      "| 18|         1663|\n",
      "| 12|         1655|\n",
      "| 19|         1654|\n",
      "+---+-------------+\n",
      "only showing top 20 rows\n",
      "\n"
     ]
    }
   ],
   "source": [
    "spark.sql(\"select DAY, count(DIVERTED) as most_diverted from flights_table group by DAY order by most_diverted desc\").show()"
   ]
  },
  {
   "cell_type": "markdown",
   "id": "bb37e3cf",
   "metadata": {
    "id": "bb37e3cf"
   },
   "source": [
    "### 14.Calculating mean and standard deviation of departure delay for all flights in minutes"
   ]
  },
  {
   "cell_type": "code",
   "execution_count": 24,
   "id": "7d389359",
   "metadata": {
    "colab": {
     "base_uri": "https://localhost:8080/"
    },
    "executionInfo": {
     "elapsed": 578,
     "status": "ok",
     "timestamp": 1720368854150,
     "user": {
      "displayName": "Bhagya",
      "userId": "15521815210908476752"
     },
     "user_tz": -330
    },
    "id": "7d389359",
    "outputId": "bcea7bf8-9c94-47bd-9ade-4db9030395b5"
   },
   "outputs": [
    {
     "name": "stdout",
     "output_type": "stream",
     "text": [
      "+-----+------------------+\n",
      "| mean|standard_deviation|\n",
      "+-----+------------------+\n",
      "|14.29|             36.37|\n",
      "|15.58|              46.0|\n",
      "| 11.5|             50.59|\n",
      "|11.53|              40.6|\n",
      "|16.07|             44.45|\n",
      "| 9.94|             44.58|\n",
      "| 11.6|              41.9|\n",
      "|23.51|             55.22|\n",
      "| 7.81|             29.95|\n",
      "|17.07|             43.47|\n",
      "| 1.18|             30.28|\n",
      "| 2.34|             29.15|\n",
      "| 9.86|             35.18|\n",
      "|10.12|             28.66|\n",
      "+-----+------------------+\n",
      "\n"
     ]
    }
   ],
   "source": [
    "spark.sql(\"select round(avg(DEPARTURE_DELAY),2) as mean ,round(stddev(DEPARTURE_DELAY),2) as standard_deviation from flights_table group by AIRLINE\").show()"
   ]
  },
  {
   "cell_type": "markdown",
   "id": "b3b26ce4",
   "metadata": {
    "id": "b3b26ce4"
   },
   "source": [
    "### 15.Calculating mean and standard deviation of arrival delay for all flights in minutes"
   ]
  },
  {
   "cell_type": "code",
   "execution_count": 25,
   "id": "71089e11",
   "metadata": {
    "colab": {
     "base_uri": "https://localhost:8080/"
    },
    "executionInfo": {
     "elapsed": 592,
     "status": "ok",
     "timestamp": 1720368856466,
     "user": {
      "displayName": "Bhagya",
      "userId": "15521815210908476752"
     },
     "user_tz": -330
    },
    "id": "71089e11",
    "outputId": "b254ff00-7999-422a-88f1-5e1273aaccb1"
   },
   "outputs": [
    {
     "name": "stdout",
     "output_type": "stream",
     "text": [
      "+-----+------------------+\n",
      "| mean|standard_deviation|\n",
      "+-----+------------------+\n",
      "|  6.7|             38.97|\n",
      "|14.21|             47.58|\n",
      "| 8.39|             53.57|\n",
      "|10.88|             43.39|\n",
      "|13.96|             47.64|\n",
      "| 2.81|             46.96|\n",
      "|10.15|             43.76|\n",
      "| 24.1|             56.27|\n",
      "| 5.98|             34.11|\n",
      "|19.23|              46.4|\n",
      "| 4.07|             32.38|\n",
      "|-1.53|             31.37|\n",
      "| 5.13|             40.87|\n",
      "|  3.7|             31.23|\n",
      "+-----+------------------+\n",
      "\n"
     ]
    }
   ],
   "source": [
    "spark.sql(\"select round(avg(ARRIVAL_DELAY),2) as mean ,round(stddev(ARRIVAL_DELAY),2) as standard_deviation from flights_table group by AIRLINE\").show()"
   ]
  },
  {
   "cell_type": "markdown",
   "id": "f4cd8956",
   "metadata": {
    "id": "f4cd8956"
   },
   "source": [
    "### 16.Finding all diverted Route from a source to destination Airport & which route is the most diverted"
   ]
  },
  {
   "cell_type": "code",
   "execution_count": 26,
   "id": "66eba9ca",
   "metadata": {
    "colab": {
     "base_uri": "https://localhost:8080/"
    },
    "executionInfo": {
     "elapsed": 1631,
     "status": "ok",
     "timestamp": 1720368860215,
     "user": {
      "displayName": "Bhagya",
      "userId": "15521815210908476752"
     },
     "user_tz": -330
    },
    "id": "66eba9ca",
    "outputId": "470da7b8-e189-4340-e5fe-5dca253856a1"
   },
   "outputs": [
    {
     "name": "stdout",
     "output_type": "stream",
     "text": [
      "+--------------+-------------------+--------------+\n",
      "|ORIGIN_AIRPORT|DESTINATION_AIRPORT|diverted_count|\n",
      "+--------------+-------------------+--------------+\n",
      "|           HOU|                DAL|             2|\n",
      "|           PHL|                SAN|             2|\n",
      "|           STT|                PHL|             2|\n",
      "|           IAH|                ASE|             2|\n",
      "|           TPA|                LGA|             2|\n",
      "|           JFK|                EGE|             2|\n",
      "|           JFK|                SEA|             2|\n",
      "|           ORD|                ASE|             2|\n",
      "|           CLT|                IAH|             2|\n",
      "|           EWR|                STL|             1|\n",
      "|           SNA|                SFO|             1|\n",
      "|           FLL|                PVD|             1|\n",
      "|           COS|                ORD|             1|\n",
      "|           FLL|                BWI|             1|\n",
      "|           BOS|                LAS|             1|\n",
      "|           ASE|                LAX|             1|\n",
      "|           KOA|                SFO|             1|\n",
      "|           SFO|                BOI|             1|\n",
      "|           SLC|                RDM|             1|\n",
      "|           BHM|                LGA|             1|\n",
      "+--------------+-------------------+--------------+\n",
      "only showing top 20 rows\n",
      "\n"
     ]
    }
   ],
   "source": [
    "spark.sql(\"SELECT ORIGIN_AIRPORT, DESTINATION_AIRPORT, COUNT(DIVERTED) AS diverted_count \\\n",
    "FROM flights_table WHERE DIVERTED = 1 GROUP BY ORIGIN_AIRPORT, DESTINATION_AIRPORT order by diverted_count desc\").show()"
   ]
  },
  {
   "cell_type": "code",
   "execution_count": 27,
   "id": "1aceffe0",
   "metadata": {
    "colab": {
     "base_uri": "https://localhost:8080/"
    },
    "executionInfo": {
     "elapsed": 824,
     "status": "ok",
     "timestamp": 1720368863199,
     "user": {
      "displayName": "Bhagya",
      "userId": "15521815210908476752"
     },
     "user_tz": -330
    },
    "id": "1aceffe0",
    "outputId": "0378c1f0-5131-4c4a-f5a3-ed614816ce31"
   },
   "outputs": [
    {
     "name": "stdout",
     "output_type": "stream",
     "text": [
      "+--------------+-------------------+--------------+\n",
      "|ORIGIN_AIRPORT|DESTINATION_AIRPORT|diverted_count|\n",
      "+--------------+-------------------+--------------+\n",
      "|           TPA|                LGA|             2|\n",
      "+--------------+-------------------+--------------+\n",
      "\n"
     ]
    }
   ],
   "source": [
    "most_diverted_route = spark.sql(\"SELECT ORIGIN_AIRPORT, DESTINATION_AIRPORT, COUNT(DIVERTED) AS diverted_count \\\n",
    "FROM flights_table WHERE DIVERTED = 1 GROUP BY ORIGIN_AIRPORT, DESTINATION_AIRPORT ORDER BY diverted_count DESC LIMIT 1\")\n",
    "\n",
    "most_diverted_route.show()"
   ]
  },
  {
   "cell_type": "markdown",
   "id": "7ddaa831",
   "metadata": {
    "id": "7ddaa831"
   },
   "source": [
    "### 17. Finding AIRLINES with its total flight count, total number of flights arrival delayed by more than 30 Minutes, % of such flights delayed by more than 30 minutes when it is not Weekends with minimum count of flights from Airlines by more than 10. Also Exclude some of Airlines 'AK', 'HI', 'PR', 'VI' and arrange output in descending order by % of such count of flights."
   ]
  },
  {
   "cell_type": "code",
   "execution_count": 28,
   "id": "bfb0ae55",
   "metadata": {
    "colab": {
     "base_uri": "https://localhost:8080/"
    },
    "executionInfo": {
     "elapsed": 879,
     "status": "ok",
     "timestamp": 1720368866099,
     "user": {
      "displayName": "Bhagya",
      "userId": "15521815210908476752"
     },
     "user_tz": -330
    },
    "id": "bfb0ae55",
    "outputId": "e8f7c258-a6b6-4eec-98bb-ea8802bbd845"
   },
   "outputs": [
    {
     "name": "stdout",
     "output_type": "stream",
     "text": [
      "+-------+-------------+---------------+----------------+\n",
      "|AIRLINE|total_flights|delayed_flights|delay_percentage|\n",
      "+-------+-------------+---------------+----------------+\n",
      "|     F9|          794|            139|           17.51|\n",
      "|     MQ|         3502|            601|           17.16|\n",
      "|     B6|         2548|            360|           14.13|\n",
      "|     NK|         1048|            139|           13.26|\n",
      "|     EV|         5916|            665|           11.24|\n",
      "|     OO|         5708|            633|           11.09|\n",
      "|     UA|         4701|            497|           10.57|\n",
      "|     AA|         5250|            484|            9.22|\n",
      "|     VX|          573|             47|             8.2|\n",
      "|     US|         3925|            310|             7.9|\n",
      "|     DL|         7989|            592|            7.41|\n",
      "|     WN|        11738|            869|             7.4|\n",
      "|     AS|         1586|             64|            4.04|\n",
      "|     HA|          722|             23|            3.19|\n",
      "+-------+-------------+---------------+----------------+\n",
      "\n"
     ]
    }
   ],
   "source": [
    "spark.sql(\"\"\"\n",
    "  SELECT \n",
    "    AIRLINE,\n",
    "    COUNT(*) AS total_flights,\n",
    "    SUM(CASE WHEN ARRIVAL_DELAY > 30 AND DAY_OF_WEEK NOT IN (6, 7) THEN 1 ELSE 0 END) AS delayed_flights,\n",
    "    round(CAST(SUM(CASE WHEN ARRIVAL_DELAY > 30 AND DAY_OF_WEEK NOT IN (6, 7) THEN 1 ELSE 0 END) AS float) / COUNT(*) * 100,2) AS delay_percentage\n",
    "  FROM \n",
    "    flights_table \n",
    "  WHERE \n",
    "    AIRLINE NOT IN ('AK', 'HI', 'PR', 'VI') \n",
    "  GROUP BY \n",
    "    AIRLINE \n",
    "  HAVING \n",
    "    COUNT(*) > 10 \n",
    "  ORDER BY \n",
    "    delay_percentage DESC\n",
    "\"\"\").show()"
   ]
  },
  {
   "cell_type": "markdown",
   "id": "5e42a78f",
   "metadata": {
    "id": "5e42a78f"
   },
   "source": [
    "### 18. Finding AIRLINES with its total flight count with total number of flights departure delayed by less than 30 Minutes, % of such flights delayed by less than 30 minutes when it is Weekends with minimum count of flights from Airlines by more than 10. Also Exclude some of Airlines AK,HI,PR,VI and arrange output in descending order by % of such count of flights."
   ]
  },
  {
   "cell_type": "code",
   "execution_count": 29,
   "id": "fc274e07",
   "metadata": {
    "colab": {
     "base_uri": "https://localhost:8080/"
    },
    "executionInfo": {
     "elapsed": 822,
     "status": "ok",
     "timestamp": 1720368869358,
     "user": {
      "displayName": "Bhagya",
      "userId": "15521815210908476752"
     },
     "user_tz": -330
    },
    "id": "fc274e07",
    "outputId": "f37f2790-6674-45f9-e6ee-8d11196e3766"
   },
   "outputs": [
    {
     "name": "stdout",
     "output_type": "stream",
     "text": [
      "+-------+-------------+---------------+----------------+\n",
      "|AIRLINE|total_flights|delayed_flights|delay_percentage|\n",
      "+-------+-------------+---------------+----------------+\n",
      "|     AS|         1586|            412|           25.98|\n",
      "|     HA|          722|            179|           24.79|\n",
      "|     NK|         1048|            253|           24.14|\n",
      "|     AA|         5250|           1214|           23.12|\n",
      "|     DL|         7989|           1814|           22.71|\n",
      "|     VX|          573|            129|           22.51|\n",
      "|     WN|        11738|           2636|           22.46|\n",
      "|     US|         3925|            867|           22.09|\n",
      "|     OO|         5708|           1244|           21.79|\n",
      "|     B6|         2548|            543|           21.31|\n",
      "|     EV|         5916|           1203|           20.33|\n",
      "|     UA|         4701|            950|           20.21|\n",
      "|     MQ|         3502|            622|           17.76|\n",
      "|     F9|          794|            133|           16.75|\n",
      "+-------+-------------+---------------+----------------+\n",
      "\n"
     ]
    }
   ],
   "source": [
    "spark.sql(\"SELECT AIRLINE,COUNT(*) AS total_flights,\\\n",
    "SUM(CASE WHEN DEPARTURE_DELAY < 30 AND DAY_OF_WEEK IN (6, 7) THEN 1 ELSE 0 END) AS delayed_flights,\\\n",
    "round(CAST(SUM(CASE WHEN DEPARTURE_DELAY < 30 AND DAY_OF_WEEK IN (6, 7) THEN 1 ELSE 0 END) AS float) / COUNT(*) * 100,2) \\\n",
    "AS delay_percentage FROM flights_table WHERE AIRLINE NOT IN ('AK', 'HI', 'PR', 'VI') \\\n",
    "GROUP BY AIRLINE HAVING COUNT(*) > 10 order by delay_percentage desc\").show()\n"
   ]
  },
  {
   "cell_type": "markdown",
   "id": "0800d181",
   "metadata": {
    "id": "0800d181"
   },
   "source": [
    "### 19.When is the best time of day/day of week/time of a year to fly with minimum delays?"
   ]
  },
  {
   "cell_type": "code",
   "execution_count": 30,
   "id": "789a13c1",
   "metadata": {
    "colab": {
     "base_uri": "https://localhost:8080/"
    },
    "executionInfo": {
     "elapsed": 1324,
     "status": "ok",
     "timestamp": 1720370419866,
     "user": {
      "displayName": "Bhagya",
      "userId": "15521815210908476752"
     },
     "user_tz": -330
    },
    "id": "789a13c1",
    "outputId": "e0bfd441-af40-4b70-e9da-f45166a9aa1b"
   },
   "outputs": [
    {
     "name": "stdout",
     "output_type": "stream",
     "text": [
      "+-----------+-----------+-------------+\n",
      "|HOUR_OF_DAY|DepartDelay|Arrival_Delay|\n",
      "+-----------+-----------+-------------+\n",
      "|          9|      -4.64|        -7.47|\n",
      "|         10|      -0.88|        -4.55|\n",
      "|          8|      -0.44|        -4.73|\n",
      "|         11|       0.84|        -2.36|\n",
      "|         12|        0.9|        -2.72|\n",
      "|         13|        2.7|        -0.92|\n",
      "|         14|        4.2|         0.59|\n",
      "|         15|       6.15|         3.16|\n",
      "|         16|       6.16|         3.26|\n",
      "|         18|       8.96|         5.05|\n",
      "|         17|       9.14|         5.32|\n",
      "|         19|       9.21|         5.67|\n",
      "|         24|      10.15|         6.51|\n",
      "|         21|      10.35|          7.0|\n",
      "|          7|      10.35|         7.72|\n",
      "|         20|      10.89|         6.54|\n",
      "|         22|       11.5|         7.28|\n",
      "|         27|      11.85|         8.04|\n",
      "|         29|      13.21|         9.61|\n",
      "|         28|       13.4|         9.11|\n",
      "+-----------+-----------+-------------+\n",
      "only showing top 20 rows\n",
      "\n",
      "+-----------+-----------+-------------+\n",
      "|DAY_OF_WEEK|DepartDelay|Arrival_Delay|\n",
      "+-----------+-----------+-------------+\n",
      "|          3|       9.11|         5.59|\n",
      "|          6|       9.63|         4.89|\n",
      "|          5|      10.06|         6.01|\n",
      "|          4|      10.82|         7.17|\n",
      "|          2|      11.23|         8.03|\n",
      "|          7|      13.61|        10.11|\n",
      "|          1|      14.09|        10.81|\n",
      "+-----------+-----------+-------------+\n",
      "\n",
      "+-----+-----------+-------------+\n",
      "|MONTH|DepartDelay|Arrival_Delay|\n",
      "+-----+-----------+-------------+\n",
      "|    1|       9.71|         5.86|\n",
      "|    2|      11.76|         8.12|\n",
      "|    3|      14.71|        11.34|\n",
      "+-----+-----------+-------------+\n",
      "\n"
     ]
    }
   ],
   "source": [
    "# Calculate average delays by hour of day\n",
    "hourly_delays = spark.sql(\"\"\"\n",
    "  SELECT\n",
    "    FLOOR(DEPARTURE_TIME / 60) AS HOUR_OF_DAY,\n",
    "    round(AVG(DEPARTURE_DELAY),2) as DepartDelay,\n",
    "    round(AVG(ARRIVAL_DELAY),2) AS Arrival_Delay\n",
    "  FROM flights_table\n",
    "  WHERE DEPARTURE_DELAY IS NOT NULL and ARRIVAL_DELAY IS NOT NULL\n",
    "  GROUP BY FLOOR(DEPARTURE_TIME / 60)\n",
    "  ORDER BY DepartDelay, Arrival_Delay\n",
    "\"\"\")\n",
    "\n",
    "# Calculate average delays by day of week\n",
    "daily_delays = spark.sql(\"\"\"\n",
    "  SELECT\n",
    "    DAY_OF_WEEK,\n",
    "    round(AVG(DEPARTURE_DELAY),2) as DepartDelay,\n",
    "    round(AVG(ARRIVAL_DELAY),2) AS Arrival_Delay\n",
    "  FROM flights_table\n",
    "  WHERE DEPARTURE_DELAY IS NOT NULL and ARRIVAL_DELAY IS NOT NULL\n",
    "  GROUP BY DAY_OF_WEEK\n",
    "  ORDER BY DepartDelay, Arrival_Delay\n",
    "\"\"\")\n",
    "\n",
    "# Calculate average delays by month\n",
    "monthly_delays = spark.sql(\"\"\"\n",
    "  SELECT\n",
    "    MONTH,\n",
    "    round(AVG(DEPARTURE_DELAY),2) as DepartDelay,\n",
    "    round(AVG(ARRIVAL_DELAY),2) AS Arrival_Delay\n",
    "  FROM flights_table\n",
    "  WHERE DEPARTURE_DELAY IS NOT NULL and ARRIVAL_DELAY IS NOT NULL\n",
    "  GROUP BY MONTH\n",
    "  ORDER BY DepartDelay, Arrival_Delay\n",
    "\"\"\")\n",
    "\n",
    "# Show the results\n",
    "hourly_delays.show()\n",
    "daily_delays.show()\n",
    "monthly_delays.show()"
   ]
  },
  {
   "cell_type": "markdown",
   "id": "95a6a8ca",
   "metadata": {
    "id": "95a6a8ca"
   },
   "source": [
    "### 20.Which airlines are best airline to travel considering number of cancellations, arrival, departure delays and all reasons affecting performance of airline industry."
   ]
  },
  {
   "cell_type": "code",
   "execution_count": 31,
   "id": "3841eb52",
   "metadata": {
    "colab": {
     "base_uri": "https://localhost:8080/"
    },
    "executionInfo": {
     "elapsed": 1466,
     "status": "ok",
     "timestamp": 1720368880955,
     "user": {
      "displayName": "Bhagya",
      "userId": "15521815210908476752"
     },
     "user_tz": -330
    },
    "id": "3841eb52",
    "outputId": "c8e5f19a-4442-450c-b334-c520743cd47e"
   },
   "outputs": [
    {
     "name": "stdout",
     "output_type": "stream",
     "text": [
      "+-------+--------------------+-------------------+---------------------+---------------------+--------------------+\n",
      "|AIRLINE|AirCancellationRatio|AverageLateArrivals|AverageLateDepartures|AverageTimeDifference| FlightDiversionRate|\n",
      "+-------+--------------------+-------------------+---------------------+---------------------+--------------------+\n",
      "|     UA|0.025951925122314402|               6.51|                13.94|               -13.14|0.001701765581791...|\n",
      "|     NK|0.020038167938931296|              13.92|                15.28|                -4.41|                 0.0|\n",
      "|     AA| 0.04590476190476191|               7.98|                10.99|               -11.04|0.002285714285714286|\n",
      "|     EV| 0.05273833671399594|              10.27|                10.95|                 -6.4|0.003718728870858...|\n",
      "|     B6| 0.05690737833594976|              13.08|                15.15|               -12.72|0.006279434850863423|\n",
      "|     DL|0.022155463762673678|               2.75|                 9.72|               -10.63|0.002253098009763...|\n",
      "|     OO| 0.02680448493342677|               9.84|                 11.3|                -4.31|0.004379817799579537|\n",
      "|     F9|0.013853904282115869|              23.77|                23.19|                -1.68|                 0.0|\n",
      "|     US|0.043057324840764334|               5.71|                 7.48|                -7.85|0.002292993630573...|\n",
      "|     MQ|  0.1182181610508281|              16.93|                 15.1|                -8.83|0.001427755568246...|\n",
      "|     HA|0.004155124653739612|               4.05|                 1.18|                 2.66|0.001385041551246...|\n",
      "|     AS|0.007566204287515763|              -1.52|                 2.32|                -5.01|                 0.0|\n",
      "|     VX| 0.02268760907504363|               5.01|                 9.63|               -10.98|                 0.0|\n",
      "|     WN| 0.03049923325949906|               3.57|                 9.81|               -10.48|0.002981768614755495|\n",
      "+-------+--------------------+-------------------+---------------------+---------------------+--------------------+\n",
      "\n"
     ]
    }
   ],
   "source": [
    "spark.sql(\"\"\"\n",
    "  SELECT\n",
    "    AIRLINE,\n",
    "    CAST(SUM(CANCELLED) AS float) / COUNT(*) AS AirCancellationRatio,\n",
    "    round(AVG(COALESCE(ARRIVAL_DELAY, 0)),2) AS AverageLateArrivals,\n",
    "    round(AVG(COALESCE(DEPARTURE_DELAY, 0)),2) AS AverageLateDepartures,\n",
    "    round(AVG(COALESCE(ELAPSED_TIME, 0)) - AVG(COALESCE(SCHEDULED_TIME, 0)),2) AS AverageTimeDifference,\n",
    "    CAST(SUM(DIVERTED) AS float) / COUNT(*) AS FlightDiversionRate\n",
    "  FROM Flights_table\n",
    "  GROUP BY AIRLINE\n",
    "\"\"\").show()"
   ]
  },
  {
   "cell_type": "code",
   "execution_count": 32,
   "id": "320a02fc",
   "metadata": {
    "colab": {
     "base_uri": "https://localhost:8080/"
    },
    "executionInfo": {
     "elapsed": 886,
     "status": "ok",
     "timestamp": 1720368883999,
     "user": {
      "displayName": "Bhagya",
      "userId": "15521815210908476752"
     },
     "user_tz": -330
    },
    "id": "320a02fc",
    "outputId": "3ce17abe-a111-4934-df57-94af9076a496"
   },
   "outputs": [
    {
     "name": "stdout",
     "output_type": "stream",
     "text": [
      "+-------+--------------------+-------------------+---------------------+---------------------+--------------------+----+\n",
      "|AIRLINE|AirCancellationRatio|AverageLateArrivals|AverageLateDepartures|AverageTimeDifference| FlightDiversionRate|Rank|\n",
      "+-------+--------------------+-------------------+---------------------+---------------------+--------------------+----+\n",
      "|     HA|0.004155124653739612|               4.05|                 1.18|                 2.66|0.001385041551246...|   1|\n",
      "|     AS|0.007566204287515763|              -1.52|                 2.32|                -5.01|                 0.0|   2|\n",
      "|     F9|0.013853904282115869|              23.77|                23.19|                -1.68|                 0.0|   3|\n",
      "|     NK|0.020038167938931296|              13.92|                15.28|                -4.41|                 0.0|   4|\n",
      "|     DL|0.022155463762673678|               2.75|                 9.72|               -10.63|0.002253098009763...|   5|\n",
      "|     VX| 0.02268760907504363|               5.01|                 9.63|               -10.98|                 0.0|   6|\n",
      "|     UA|0.025951925122314402|               6.51|                13.94|               -13.14|0.001701765581791...|   7|\n",
      "|     OO| 0.02680448493342677|               9.84|                 11.3|                -4.31|0.004379817799579537|   8|\n",
      "|     WN| 0.03049923325949906|               3.57|                 9.81|               -10.48|0.002981768614755495|   9|\n",
      "|     US|0.043057324840764334|               5.71|                 7.48|                -7.85|0.002292993630573...|  10|\n",
      "|     AA| 0.04590476190476191|               7.98|                10.99|               -11.04|0.002285714285714286|  11|\n",
      "|     EV| 0.05273833671399594|              10.27|                10.95|                 -6.4|0.003718728870858...|  12|\n",
      "|     B6| 0.05690737833594976|              13.08|                15.15|               -12.72|0.006279434850863423|  13|\n",
      "|     MQ|  0.1182181610508281|              16.93|                 15.1|                -8.83|0.001427755568246...|  14|\n",
      "+-------+--------------------+-------------------+---------------------+---------------------+--------------------+----+\n",
      "\n"
     ]
    }
   ],
   "source": [
    "# Calculate the metrics for each airline\n",
    "airline_metrics = spark.sql(\"\"\"\n",
    "  SELECT\n",
    "    AIRLINE,\n",
    "    CAST(SUM(CANCELLED) AS float) / COUNT(*) AS AirCancellationRatio,\n",
    "    round(AVG(COALESCE(ARRIVAL_DELAY, 0)),2) AS AverageLateArrivals,\n",
    "    round(AVG(COALESCE(DEPARTURE_DELAY, 0)),2) AS AverageLateDepartures,\n",
    "    round(AVG(COALESCE(ELAPSED_TIME, 0)) - AVG(COALESCE(SCHEDULED_TIME, 0)),2) AS AverageTimeDifference,\n",
    "    CAST(SUM(DIVERTED) AS float) / COUNT(*) AS FlightDiversionRate\n",
    "  FROM Flights_table\n",
    "  GROUP BY AIRLINE\n",
    "\"\"\")\n",
    "\n",
    "# Rank the airlines based on the metrics\n",
    "ranked_airlines = airline_metrics.createOrReplaceTempView(\"airline_metrics\")\n",
    "ranked_airlines = spark.sql(\"\"\"\n",
    "  SELECT *,\n",
    "    RANK() OVER (ORDER BY AirCancellationRatio, AverageLateArrivals, AverageLateDepartures, AverageTimeDifference, FlightDiversionRate) AS Rank\n",
    "  FROM airline_metrics\n",
    "  ORDER BY Rank\n",
    "\"\"\")\n",
    "\n",
    "# Show the ranked airlines\n",
    "ranked_airlines.show()"
   ]
  },
  {
   "cell_type": "code",
   "execution_count": null,
   "id": "44018e49",
   "metadata": {
    "id": "44018e49"
   },
   "outputs": [],
   "source": []
  },
  {
   "cell_type": "code",
   "execution_count": null,
   "id": "649801a5",
   "metadata": {},
   "outputs": [],
   "source": []
  }
 ],
 "metadata": {
  "colab": {
   "provenance": []
  },
  "kernelspec": {
   "display_name": "Python 3",
   "language": "python",
   "name": "python3"
  },
  "language_info": {
   "codemirror_mode": {
    "name": "ipython",
    "version": 3
   },
   "file_extension": ".py",
   "mimetype": "text/x-python",
   "name": "python",
   "nbconvert_exporter": "python",
   "pygments_lexer": "ipython3",
   "version": "3.6.9"
  }
 },
 "nbformat": 4,
 "nbformat_minor": 5
}
