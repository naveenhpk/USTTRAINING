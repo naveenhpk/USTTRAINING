{
 "cells": [
  {
   "cell_type": "code",
   "execution_count": 1,
   "id": "a419e569",
   "metadata": {},
   "outputs": [],
   "source": [
    "from pyspark.sql import SparkSession\n",
    "from pyspark.streaming import StreamingContext\n",
    "from pyspark.streaming.kafka import KafkaUtils"
   ]
  },
  {
   "cell_type": "markdown",
   "id": "d91f2ffd",
   "metadata": {},
   "source": [
    "### Create sparkstreaming context"
   ]
  },
  {
   "cell_type": "code",
   "execution_count": 2,
   "id": "22fe7dc3",
   "metadata": {},
   "outputs": [],
   "source": [
    "sc.stop()"
   ]
  },
  {
   "cell_type": "code",
   "execution_count": 3,
   "id": "bb1c23db",
   "metadata": {},
   "outputs": [],
   "source": [
    "# Initialized a new spark session\n",
    "config =SparkConf().setAppName('SparkTextFileStreamSession').setMaster('local[4]')\n",
    "sc = SparkContext.getOrCreate(conf=config)"
   ]
  },
  {
   "cell_type": "code",
   "execution_count": 4,
   "id": "f0a703f8",
   "metadata": {},
   "outputs": [],
   "source": [
    "# initializing streaming context with batch  interval of 5 seconds\n",
    "ssc = StreamingContext(sc,5)"
   ]
  },
  {
   "cell_type": "code",
   "execution_count": null,
   "id": "410ee9e5",
   "metadata": {},
   "outputs": [],
   "source": [
    "# directory where files will be stored\n",
    "directory_path = \"files:///home/hadoop/Downloads/\"\n",
    "\n",
    "#create a DStream that will connect to hostname:port like nc linux command\n",
    "lines = ssc.textFileStream(directory_path)\n",
    "words = lines.flatMap(lambda line : line.split(\" \"))\n",
    "pairs = words.map(lambda word : (word,1))\n",
    "wordcounts = pairs.reduceByKey(lambda x,y:x+y)\n",
    "wordcounts.pprint()"
   ]
  },
  {
   "cell_type": "code",
   "execution_count": null,
   "id": "6a3a54ec",
   "metadata": {},
   "outputs": [],
   "source": [
    "ssc.start()\n",
    "ssc.awaitTermination()"
   ]
  }
 ],
 "metadata": {
  "kernelspec": {
   "display_name": "Python 3",
   "language": "python",
   "name": "python3"
  },
  "language_info": {
   "codemirror_mode": {
    "name": "ipython",
    "version": 3
   },
   "file_extension": ".py",
   "mimetype": "text/x-python",
   "name": "python",
   "nbconvert_exporter": "python",
   "pygments_lexer": "ipython3",
   "version": "3.6.9"
  }
 },
 "nbformat": 4,
 "nbformat_minor": 5
}
