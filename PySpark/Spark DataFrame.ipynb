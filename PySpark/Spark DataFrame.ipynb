{
 "cells": [
  {
   "cell_type": "markdown",
   "id": "15c267b3",
   "metadata": {},
   "source": [
    "### Data Frames"
   ]
  },
  {
   "cell_type": "code",
   "execution_count": 3,
   "id": "954cce96",
   "metadata": {
    "collapsed": true
   },
   "outputs": [
    {
     "data": {
      "text/html": [
       "\n",
       "        <div>\n",
       "            <p><b>SparkContext</b></p>\n",
       "\n",
       "            <p><a href=\"http://10.0.2.15:4041\">Spark UI</a></p>\n",
       "\n",
       "            <dl>\n",
       "              <dt>Version</dt>\n",
       "                <dd><code>v2.4.8</code></dd>\n",
       "              <dt>Master</dt>\n",
       "                <dd><code>local[*]</code></dd>\n",
       "              <dt>AppName</dt>\n",
       "                <dd><code>PySparkShell</code></dd>\n",
       "            </dl>\n",
       "        </div>\n",
       "        "
      ],
      "text/plain": [
       "<SparkContext master=local[*] appName=PySparkShell>"
      ]
     },
     "execution_count": 3,
     "metadata": {},
     "output_type": "execute_result"
    }
   ],
   "source": [
    "sc"
   ]
  },
  {
   "cell_type": "code",
   "execution_count": 4,
   "id": "1f445c50",
   "metadata": {
    "collapsed": true
   },
   "outputs": [
    {
     "data": {
      "text/html": [
       "\n",
       "            <div>\n",
       "                <p><b>SparkSession - hive</b></p>\n",
       "                \n",
       "        <div>\n",
       "            <p><b>SparkContext</b></p>\n",
       "\n",
       "            <p><a href=\"http://10.0.2.15:4041\">Spark UI</a></p>\n",
       "\n",
       "            <dl>\n",
       "              <dt>Version</dt>\n",
       "                <dd><code>v2.4.8</code></dd>\n",
       "              <dt>Master</dt>\n",
       "                <dd><code>local[*]</code></dd>\n",
       "              <dt>AppName</dt>\n",
       "                <dd><code>PySparkShell</code></dd>\n",
       "            </dl>\n",
       "        </div>\n",
       "        \n",
       "            </div>\n",
       "        "
      ],
      "text/plain": [
       "<pyspark.sql.session.SparkSession at 0x7efd2cc08b00>"
      ]
     },
     "execution_count": 4,
     "metadata": {},
     "output_type": "execute_result"
    }
   ],
   "source": [
    "spark"
   ]
  },
  {
   "cell_type": "markdown",
   "id": "a82e7b39",
   "metadata": {},
   "source": [
    "### 1. create new spark instance"
   ]
  },
  {
   "cell_type": "code",
   "execution_count": 5,
   "id": "b0a8aa1b",
   "metadata": {},
   "outputs": [],
   "source": [
    "sc.stop()\n",
    "# sc and spark stops"
   ]
  },
  {
   "cell_type": "code",
   "execution_count": 7,
   "id": "bdb0f963",
   "metadata": {},
   "outputs": [],
   "source": [
    "from pyspark import SparkConf,SparkContext\n",
    "config = SparkConf().setAppName(\"PysparkSession\").setMaster(\"local[4]\")\n",
    "sc = SparkContext(conf = config)"
   ]
  },
  {
   "cell_type": "code",
   "execution_count": 8,
   "id": "3f481da0",
   "metadata": {},
   "outputs": [],
   "source": [
    "# Spark Session() - \n",
    "from pyspark.sql import SparkSession\n",
    "spark = SparkSession.builder.appName('PySparkSession').getOrCreate()"
   ]
  },
  {
   "cell_type": "code",
   "execution_count": 11,
   "id": "2819e256",
   "metadata": {},
   "outputs": [],
   "source": [
    "!hdfs dfs -mkdir /flights"
   ]
  },
  {
   "cell_type": "code",
   "execution_count": 12,
   "id": "c1497614",
   "metadata": {},
   "outputs": [],
   "source": [
    "!hdfs dfs -put /home/hadoop/Downloads/raw_flight_data.csv /flights/"
   ]
  },
  {
   "cell_type": "code",
   "execution_count": 16,
   "id": "4490e567",
   "metadata": {},
   "outputs": [],
   "source": [
    "flights_df = spark.read.csv(\"/flights/raw_flight_data.csv\", inferSchema=True, header = True)\n",
    "# unless u dont tell there is header it take column name as _c0,_c1 etc \n",
    "# now after mentioning header is replaced by column name\n",
    "#infer schema applies selective datatypes "
   ]
  },
  {
   "cell_type": "code",
   "execution_count": 17,
   "id": "1fcc9467",
   "metadata": {},
   "outputs": [
    {
     "data": {
      "text/plain": [
       "[Row(DayofMonth=19, DayOfWeek=5, Carrier='DL', OriginAirportID=11433, DestAirportID=13303, DepDelay=-3, ArrDelay=1),\n",
       " Row(DayofMonth=19, DayOfWeek=5, Carrier='DL', OriginAirportID=14869, DestAirportID=12478, DepDelay=0, ArrDelay=-8),\n",
       " Row(DayofMonth=19, DayOfWeek=5, Carrier='DL', OriginAirportID=14057, DestAirportID=14869, DepDelay=-4, ArrDelay=-15),\n",
       " Row(DayofMonth=19, DayOfWeek=5, Carrier='DL', OriginAirportID=15016, DestAirportID=11433, DepDelay=28, ArrDelay=24),\n",
       " Row(DayofMonth=19, DayOfWeek=5, Carrier='DL', OriginAirportID=11193, DestAirportID=12892, DepDelay=-6, ArrDelay=-11)]"
      ]
     },
     "execution_count": 17,
     "metadata": {},
     "output_type": "execute_result"
    }
   ],
   "source": [
    "flights_df.head(5)"
   ]
  },
  {
   "cell_type": "code",
   "execution_count": 18,
   "id": "1c694560",
   "metadata": {},
   "outputs": [
    {
     "name": "stdout",
     "output_type": "stream",
     "text": [
      "+----------+---------+-------+---------------+-------------+--------+--------+\n",
      "|DayofMonth|DayOfWeek|Carrier|OriginAirportID|DestAirportID|DepDelay|ArrDelay|\n",
      "+----------+---------+-------+---------------+-------------+--------+--------+\n",
      "|        19|        5|     DL|          11433|        13303|      -3|       1|\n",
      "|        19|        5|     DL|          14869|        12478|       0|      -8|\n",
      "|        19|        5|     DL|          14057|        14869|      -4|     -15|\n",
      "|        19|        5|     DL|          15016|        11433|      28|      24|\n",
      "|        19|        5|     DL|          11193|        12892|      -6|     -11|\n",
      "|        19|        5|     DL|          10397|        15016|      -1|     -19|\n",
      "|        19|        5|     DL|          15016|        10397|       0|      -1|\n",
      "|        19|        5|     DL|          10397|        14869|      15|      24|\n",
      "|        19|        5|     DL|          10397|        10423|      33|      34|\n",
      "|        19|        5|     DL|          11278|        10397|     323|     322|\n",
      "|        19|        5|     DL|          14107|        13487|      -7|     -13|\n",
      "|        19|        5|     DL|          11433|        11298|      22|      41|\n",
      "|        19|        5|     DL|          11298|        11433|      40|      20|\n",
      "|        19|        5|     DL|          11433|        12892|      -2|      -7|\n",
      "|        19|        5|     DL|          10397|        12451|      71|      75|\n",
      "|        19|        5|     DL|          12451|        10397|      75|      57|\n",
      "|        19|        5|     DL|          12953|        10397|      -1|      10|\n",
      "|        19|        5|     DL|          11433|        12953|      -3|     -10|\n",
      "|        19|        5|     DL|          10397|        14771|      31|      38|\n",
      "|        19|        5|     DL|          13204|        10397|       8|      25|\n",
      "+----------+---------+-------+---------------+-------------+--------+--------+\n",
      "only showing top 20 rows\n",
      "\n"
     ]
    }
   ],
   "source": [
    "flights_df.show()"
   ]
  },
  {
   "cell_type": "code",
   "execution_count": 19,
   "id": "43b921ed",
   "metadata": {},
   "outputs": [
    {
     "name": "stdout",
     "output_type": "stream",
     "text": [
      "+----------+-------+---------------+--------+\n",
      "|DayofMonth|Carrier|OriginAirportID|DepDelay|\n",
      "+----------+-------+---------------+--------+\n",
      "|        19|     DL|          11433|      -3|\n",
      "|        19|     DL|          14869|       0|\n",
      "|        19|     DL|          14057|      -4|\n",
      "|        19|     DL|          15016|      28|\n",
      "|        19|     DL|          11193|      -6|\n",
      "|        19|     DL|          10397|      -1|\n",
      "|        19|     DL|          15016|       0|\n",
      "|        19|     DL|          10397|      15|\n",
      "|        19|     DL|          10397|      33|\n",
      "|        19|     DL|          11278|     323|\n",
      "|        19|     DL|          14107|      -7|\n",
      "|        19|     DL|          11433|      22|\n",
      "|        19|     DL|          11298|      40|\n",
      "|        19|     DL|          11433|      -2|\n",
      "|        19|     DL|          10397|      71|\n",
      "|        19|     DL|          12451|      75|\n",
      "|        19|     DL|          12953|      -1|\n",
      "|        19|     DL|          11433|      -3|\n",
      "|        19|     DL|          10397|      31|\n",
      "|        19|     DL|          13204|       8|\n",
      "+----------+-------+---------------+--------+\n",
      "only showing top 20 rows\n",
      "\n"
     ]
    }
   ],
   "source": [
    "#1 .select() - Method to select column names\n",
    "#2 .show() -To show output\n",
    "flights_df.select(['DayofMonth','Carrier','OriginAirportID','DepDelay']).show()"
   ]
  },
  {
   "cell_type": "code",
   "execution_count": 20,
   "id": "aaa108c8",
   "metadata": {},
   "outputs": [
    {
     "name": "stdout",
     "output_type": "stream",
     "text": [
      "+-------+\n",
      "|Carrier|\n",
      "+-------+\n",
      "|     UA|\n",
      "|     AA|\n",
      "|     EV|\n",
      "|     B6|\n",
      "|     DL|\n",
      "|     OO|\n",
      "|     F9|\n",
      "|     YV|\n",
      "|     US|\n",
      "|     MQ|\n",
      "|     HA|\n",
      "|     AS|\n",
      "|     FL|\n",
      "|     VX|\n",
      "|     WN|\n",
      "|     9E|\n",
      "+-------+\n",
      "\n"
     ]
    }
   ],
   "source": [
    "flights_df.select(['Carrier']).distinct().show()"
   ]
  },
  {
   "cell_type": "code",
   "execution_count": 21,
   "id": "815d42b7",
   "metadata": {},
   "outputs": [
    {
     "data": {
      "text/plain": [
       "16"
      ]
     },
     "execution_count": 21,
     "metadata": {},
     "output_type": "execute_result"
    }
   ],
   "source": [
    "#3 .count aggregate method to display count\n",
    "flights_df.select(['Carrier']).distinct().count()"
   ]
  },
  {
   "cell_type": "code",
   "execution_count": 22,
   "id": "f73af7a0",
   "metadata": {},
   "outputs": [
    {
     "name": "stdout",
     "output_type": "stream",
     "text": [
      "+----------+---------+-------+---------------+-------------+--------+--------+\n",
      "|DayofMonth|DayOfWeek|Carrier|OriginAirportID|DestAirportID|DepDelay|ArrDelay|\n",
      "+----------+---------+-------+---------------+-------------+--------+--------+\n",
      "|        19|        5|     DL|          15016|        11433|      28|      24|\n",
      "|        19|        5|     DL|          10397|        14869|      15|      24|\n",
      "|        19|        5|     DL|          10397|        10423|      33|      34|\n",
      "|        19|        5|     DL|          11278|        10397|     323|     322|\n",
      "|        19|        5|     DL|          11433|        11298|      22|      41|\n",
      "|        19|        5|     DL|          11298|        11433|      40|      20|\n",
      "|        19|        5|     DL|          10397|        12451|      71|      75|\n",
      "|        19|        5|     DL|          12451|        10397|      75|      57|\n",
      "|        19|        5|     DL|          10397|        14771|      31|      38|\n",
      "|        19|        5|     DL|          13204|        10397|       8|      25|\n",
      "|        19|        5|     DL|          12889|        13487|       7|      16|\n",
      "|        19|        5|     DL|          14027|        10397|      13|      25|\n",
      "|        19|        5|     DL|          13244|        10397|       4|      13|\n",
      "|        19|        5|     DL|          10397|        12892|      15|       7|\n",
      "|        19|        5|     DL|          14747|        14869|      15|      18|\n",
      "|        19|        5|     DL|          10423|        10397|      56|      49|\n",
      "|        20|        6|     DL|          10397|        11278|       2|       1|\n",
      "|        20|        6|     DL|          11278|        10397|      34|      38|\n",
      "|        20|        6|     DL|          11697|        12953|      20|       1|\n",
      "|        20|        6|     DL|          13487|        13198|      35|      26|\n",
      "+----------+---------+-------+---------------+-------------+--------+--------+\n",
      "only showing top 20 rows\n",
      "\n"
     ]
    }
   ],
   "source": [
    "#4 where(): just like filter methodd of rdd with boolean conditions statements\n",
    "flights_df.where((flights_df.DepDelay > 0) & (flights_df.ArrDelay > 0)).show()"
   ]
  },
  {
   "cell_type": "code",
   "execution_count": 23,
   "id": "f77429dc",
   "metadata": {},
   "outputs": [
    {
     "name": "stdout",
     "output_type": "stream",
     "text": [
      "+----------+---------+-------+---------------+-------------+--------+--------+\n",
      "|DayofMonth|DayOfWeek|Carrier|OriginAirportID|DestAirportID|DepDelay|ArrDelay|\n",
      "+----------+---------+-------+---------------+-------------+--------+--------+\n",
      "|        19|        5|     DL|          15016|        11433|      28|      24|\n",
      "|        19|        5|     DL|          10397|        14869|      15|      24|\n",
      "|        19|        5|     DL|          10397|        10423|      33|      34|\n",
      "|        19|        5|     DL|          11278|        10397|     323|     322|\n",
      "|        19|        5|     DL|          11433|        11298|      22|      41|\n",
      "|        19|        5|     DL|          11298|        11433|      40|      20|\n",
      "|        19|        5|     DL|          10397|        12451|      71|      75|\n",
      "|        19|        5|     DL|          12451|        10397|      75|      57|\n",
      "|        19|        5|     DL|          10397|        14771|      31|      38|\n",
      "|        19|        5|     DL|          13204|        10397|       8|      25|\n",
      "|        19|        5|     DL|          12889|        13487|       7|      16|\n",
      "|        19|        5|     DL|          14027|        10397|      13|      25|\n",
      "|        19|        5|     DL|          13244|        10397|       4|      13|\n",
      "|        19|        5|     DL|          10397|        12892|      15|       7|\n",
      "|        19|        5|     DL|          14747|        14869|      15|      18|\n",
      "|        19|        5|     DL|          10423|        10397|      56|      49|\n",
      "|        20|        6|     DL|          10397|        11278|       2|       1|\n",
      "|        20|        6|     DL|          11278|        10397|      34|      38|\n",
      "|        20|        6|     DL|          11697|        12953|      20|       1|\n",
      "|        20|        6|     DL|          13487|        13198|      35|      26|\n",
      "+----------+---------+-------+---------------+-------------+--------+--------+\n",
      "only showing top 20 rows\n",
      "\n"
     ]
    }
   ],
   "source": [
    "#5 filter()\n",
    "flights_df.filter((flights_df.DepDelay > 0) & (flights_df.ArrDelay > 0)).show()"
   ]
  },
  {
   "cell_type": "code",
   "execution_count": 25,
   "id": "d0c8758d",
   "metadata": {},
   "outputs": [
    {
     "name": "stdout",
     "output_type": "stream",
     "text": [
      "+----------+---------+-------+---------------+-------------+--------+--------+\n",
      "|DayofMonth|DayOfWeek|Carrier|OriginAirportID|DestAirportID|DepDelay|ArrDelay|\n",
      "+----------+---------+-------+---------------+-------------+--------+--------+\n",
      "|        19|        5|     DL|          11433|        13303|      -3|       1|\n",
      "|        19|        5|     DL|          14869|        12478|       0|      -8|\n",
      "|        19|        5|     DL|          14057|        14869|      -4|     -15|\n",
      "|        19|        5|     DL|          15016|        11433|      28|      24|\n",
      "|        19|        5|     DL|          11193|        12892|      -6|     -11|\n",
      "|        19|        5|     DL|          10397|        15016|      -1|     -19|\n",
      "|        19|        5|     DL|          15016|        10397|       0|      -1|\n",
      "|        19|        5|     DL|          10397|        14869|      15|      24|\n",
      "|        19|        5|     DL|          10397|        10423|      33|      34|\n",
      "|        19|        5|     DL|          11278|        10397|     323|     322|\n",
      "|        19|        5|     DL|          14107|        13487|      -7|     -13|\n",
      "|        19|        5|     DL|          11433|        11298|      22|      41|\n",
      "|        19|        5|     DL|          11298|        11433|      40|      20|\n",
      "|        19|        5|     DL|          11433|        12892|      -2|      -7|\n",
      "|        19|        5|     DL|          10397|        12451|      71|      75|\n",
      "|        19|        5|     DL|          12451|        10397|      75|      57|\n",
      "|        19|        5|     DL|          12953|        10397|      -1|      10|\n",
      "|        19|        5|     DL|          11433|        12953|      -3|     -10|\n",
      "|        19|        5|     DL|          10397|        14771|      31|      38|\n",
      "|        19|        5|     DL|          13204|        10397|       8|      25|\n",
      "+----------+---------+-------+---------------+-------------+--------+--------+\n",
      "only showing top 20 rows\n",
      "\n"
     ]
    }
   ],
   "source": [
    "#6 isin(): filter values by matching pattern used when we have categorical mapping\n",
    "flights_df.where(flights_df.Carrier.isin('DL','B6','UA')).show()"
   ]
  },
  {
   "cell_type": "code",
   "execution_count": 27,
   "id": "37f1828c",
   "metadata": {},
   "outputs": [],
   "source": [
    "#Joins\n",
    "airports_df = spark.read.csv(\"file:///home/hadoop/Downloads/airports.csv\" ,inferSchema=True,header=True)"
   ]
  },
  {
   "cell_type": "code",
   "execution_count": 28,
   "id": "b5719d70",
   "metadata": {},
   "outputs": [
    {
     "name": "stdout",
     "output_type": "stream",
     "text": [
      "root\n",
      " |-- airport_id: integer (nullable = true)\n",
      " |-- city: string (nullable = true)\n",
      " |-- state: string (nullable = true)\n",
      " |-- name: string (nullable = true)\n",
      "\n"
     ]
    }
   ],
   "source": [
    "#7 printSchema() show column name,Data Types of each column and if column is having null values\n",
    "airports_df.printSchema()"
   ]
  },
  {
   "cell_type": "code",
   "execution_count": 29,
   "id": "0d4f6c2d",
   "metadata": {},
   "outputs": [
    {
     "name": "stdout",
     "output_type": "stream",
     "text": [
      "+----------+-----------+-----+--------------------+\n",
      "|airport_id|       city|state|                name|\n",
      "+----------+-----------+-----+--------------------+\n",
      "|     10165|Adak Island|   AK|                Adak|\n",
      "|     10299|  Anchorage|   AK|Ted Stevens Ancho...|\n",
      "|     10304|      Aniak|   AK|       Aniak Airport|\n",
      "|     10754|     Barrow|   AK|Wiley Post/Will R...|\n",
      "|     10551|     Bethel|   AK|      Bethel Airport|\n",
      "|     10926|    Cordova|   AK|Merle K Mudhole S...|\n",
      "|     14709|  Deadhorse|   AK|   Deadhorse Airport|\n",
      "|     11336| Dillingham|   AK|  Dillingham Airport|\n",
      "|     11630|  Fairbanks|   AK|Fairbanks Interna...|\n",
      "|     11997|   Gustavus|   AK|    Gustavus Airport|\n",
      "|     12523|     Juneau|   AK|Juneau International|\n",
      "|     12819|  Ketchikan|   AK|Ketchikan Interna...|\n",
      "|     10245|King Salmon|   AK| King Salmon Airport|\n",
      "|     10170|     Kodiak|   AK|      Kodiak Airport|\n",
      "|     13970|   Kotzebue|   AK| Ralph Wien Memorial|\n",
      "|     13873|       Nome|   AK|        Nome Airport|\n",
      "|     14256| Petersburg|   AK|Petersburg James ...|\n",
      "|     14828|      Sitka|   AK|Sitka Rocky Gutie...|\n",
      "|     12807| St. Mary's|   AK|  St. Mary's Airport|\n",
      "|     11445|   Unalaska|   AK|    Unalaska Airport|\n",
      "+----------+-----------+-----+--------------------+\n",
      "only showing top 20 rows\n",
      "\n"
     ]
    }
   ],
   "source": [
    "airports_df.show()"
   ]
  },
  {
   "cell_type": "code",
   "execution_count": 33,
   "id": "5bd23ea7",
   "metadata": {},
   "outputs": [
    {
     "name": "stdout",
     "output_type": "stream",
     "text": [
      "+----------+---------+-------+---------------+-------------+--------+--------+----------+-----------------+-----+--------------------+\n",
      "|DayofMonth|DayOfWeek|Carrier|OriginAirportID|DestAirportID|DepDelay|ArrDelay|airport_id|             city|state|                name|\n",
      "+----------+---------+-------+---------------+-------------+--------+--------+----------+-----------------+-----+--------------------+\n",
      "|        19|        5|     DL|          11433|        13303|      -3|       1|     11433|          Detroit|   MI|Detroit Metro Way...|\n",
      "|        19|        5|     DL|          14869|        12478|       0|      -8|     14869|   Salt Lake City|   UT|Salt Lake City In...|\n",
      "|        19|        5|     DL|          14057|        14869|      -4|     -15|     14057|         Portland|   OR|Portland Internat...|\n",
      "|        19|        5|     DL|          15016|        11433|      28|      24|     15016|        St. Louis|   MO|Lambert-St. Louis...|\n",
      "|        19|        5|     DL|          11193|        12892|      -6|     -11|     11193|       Cincinnati|   OH|Cincinnati/Northe...|\n",
      "|        19|        5|     DL|          10397|        15016|      -1|     -19|     10397|          Atlanta|   GA|Hartsfield-Jackso...|\n",
      "|        19|        5|     DL|          15016|        10397|       0|      -1|     15016|        St. Louis|   MO|Lambert-St. Louis...|\n",
      "|        19|        5|     DL|          10397|        14869|      15|      24|     10397|          Atlanta|   GA|Hartsfield-Jackso...|\n",
      "|        19|        5|     DL|          10397|        10423|      33|      34|     10397|          Atlanta|   GA|Hartsfield-Jackso...|\n",
      "|        19|        5|     DL|          11278|        10397|     323|     322|     11278|       Washington|   DC|Ronald Reagan Was...|\n",
      "|        19|        5|     DL|          14107|        13487|      -7|     -13|     14107|          Phoenix|   AZ|Phoenix Sky Harbo...|\n",
      "|        19|        5|     DL|          11433|        11298|      22|      41|     11433|          Detroit|   MI|Detroit Metro Way...|\n",
      "|        19|        5|     DL|          11298|        11433|      40|      20|     11298|Dallas/Fort Worth|   TX|Dallas/Fort Worth...|\n",
      "|        19|        5|     DL|          11433|        12892|      -2|      -7|     11433|          Detroit|   MI|Detroit Metro Way...|\n",
      "|        19|        5|     DL|          10397|        12451|      71|      75|     10397|          Atlanta|   GA|Hartsfield-Jackso...|\n",
      "|        19|        5|     DL|          12451|        10397|      75|      57|     12451|     Jacksonville|   FL|Jacksonville Inte...|\n",
      "|        19|        5|     DL|          12953|        10397|      -1|      10|     12953|         New York|   NY|           LaGuardia|\n",
      "|        19|        5|     DL|          11433|        12953|      -3|     -10|     11433|          Detroit|   MI|Detroit Metro Way...|\n",
      "|        19|        5|     DL|          10397|        14771|      31|      38|     10397|          Atlanta|   GA|Hartsfield-Jackso...|\n",
      "|        19|        5|     DL|          13204|        10397|       8|      25|     13204|          Orlando|   FL|Orlando Internati...|\n",
      "+----------+---------+-------+---------------+-------------+--------+--------+----------+-----------------+-----+--------------------+\n",
      "only showing top 20 rows\n",
      "\n"
     ]
    }
   ],
   "source": [
    "#8 Join() to join between 2 or more dataframes using a condition\n",
    "flights_airportDF = flights_df.join(airports_df, flights_df.OriginAirportID == airports_df.airport_id)\n",
    "flights_airportDF.show()"
   ]
  },
  {
   "cell_type": "code",
   "execution_count": 36,
   "id": "69da5367",
   "metadata": {},
   "outputs": [
    {
     "name": "stdout",
     "output_type": "stream",
     "text": [
      "+----------+---------+-------+---------------+-------------+--------+--------+----------+--------------------+\n",
      "|DayofMonth|DayOfWeek|Carrier|OriginAirportID|DestAirportID|DepDelay|ArrDelay|airport_id|                name|\n",
      "+----------+---------+-------+---------------+-------------+--------+--------+----------+--------------------+\n",
      "|        19|        5|     DL|          11433|        13303|      -3|       1|     11433|Detroit Metro Way...|\n",
      "|        19|        5|     DL|          14869|        12478|       0|      -8|     14869|Salt Lake City In...|\n",
      "|        19|        5|     DL|          14057|        14869|      -4|     -15|     14057|Portland Internat...|\n",
      "|        19|        5|     DL|          15016|        11433|      28|      24|     15016|Lambert-St. Louis...|\n",
      "|        19|        5|     DL|          11193|        12892|      -6|     -11|     11193|Cincinnati/Northe...|\n",
      "|        19|        5|     DL|          10397|        15016|      -1|     -19|     10397|Hartsfield-Jackso...|\n",
      "|        19|        5|     DL|          15016|        10397|       0|      -1|     15016|Lambert-St. Louis...|\n",
      "|        19|        5|     DL|          10397|        14869|      15|      24|     10397|Hartsfield-Jackso...|\n",
      "|        19|        5|     DL|          10397|        10423|      33|      34|     10397|Hartsfield-Jackso...|\n",
      "|        19|        5|     DL|          11278|        10397|     323|     322|     11278|Ronald Reagan Was...|\n",
      "|        19|        5|     DL|          14107|        13487|      -7|     -13|     14107|Phoenix Sky Harbo...|\n",
      "|        19|        5|     DL|          11433|        11298|      22|      41|     11433|Detroit Metro Way...|\n",
      "|        19|        5|     DL|          11298|        11433|      40|      20|     11298|Dallas/Fort Worth...|\n",
      "|        19|        5|     DL|          11433|        12892|      -2|      -7|     11433|Detroit Metro Way...|\n",
      "|        19|        5|     DL|          10397|        12451|      71|      75|     10397|Hartsfield-Jackso...|\n",
      "|        19|        5|     DL|          12451|        10397|      75|      57|     12451|Jacksonville Inte...|\n",
      "|        19|        5|     DL|          12953|        10397|      -1|      10|     12953|           LaGuardia|\n",
      "|        19|        5|     DL|          11433|        12953|      -3|     -10|     11433|Detroit Metro Way...|\n",
      "|        19|        5|     DL|          10397|        14771|      31|      38|     10397|Hartsfield-Jackso...|\n",
      "|        19|        5|     DL|          13204|        10397|       8|      25|     13204|Orlando Internati...|\n",
      "+----------+---------+-------+---------------+-------------+--------+--------+----------+--------------------+\n",
      "only showing top 20 rows\n",
      "\n"
     ]
    }
   ],
   "source": [
    "flights_airportDF = flights_df.join(airports_df.select(['airport_id','name']), flights_df.OriginAirportID == airports_df.airport_id)\n",
    "flights_airportDF.show()"
   ]
  },
  {
   "cell_type": "code",
   "execution_count": 37,
   "id": "a6a219a9",
   "metadata": {},
   "outputs": [
    {
     "data": {
      "text/plain": [
       "['DayofMonth',\n",
       " 'DayOfWeek',\n",
       " 'Carrier',\n",
       " 'OriginAirportID',\n",
       " 'DestAirportID',\n",
       " 'DepDelay',\n",
       " 'ArrDelay',\n",
       " 'airport_id',\n",
       " 'name']"
      ]
     },
     "execution_count": 37,
     "metadata": {},
     "output_type": "execute_result"
    }
   ],
   "source": [
    "#9 columns to display columns \n",
    "flights_airportDF.columns"
   ]
  },
  {
   "cell_type": "code",
   "execution_count": 39,
   "id": "ab154b21",
   "metadata": {},
   "outputs": [
    {
     "name": "stdout",
     "output_type": "stream",
     "text": [
      "+----------+---------+-------+---------------+-------------+--------+--------+\n",
      "|DayofMonth|DayOfWeek|Carrier|OriginAirportID|DestAirportID|DepDelay|ArrDelay|\n",
      "+----------+---------+-------+---------------+-------------+--------+--------+\n",
      "|         0|        0|      0|              0|            0|   27444|   29033|\n",
      "+----------+---------+-------+---------------+-------------+--------+--------+\n",
      "\n"
     ]
    }
   ],
   "source": [
    "from pyspark.sql.functions import *\n",
    "flights_df.select([count(when(isnull(col), col)).alias(col) for col in flights_df.columns]).show()"
   ]
  },
  {
   "cell_type": "markdown",
   "id": "5176091c",
   "metadata": {},
   "source": [
    "### drop duplicates\n"
   ]
  },
  {
   "cell_type": "code",
   "execution_count": 41,
   "id": "c103c6e4",
   "metadata": {},
   "outputs": [],
   "source": [
    "# it will drop duplicate records from existing df\n",
    "flights_df1 = flights_df.dropDuplicates()"
   ]
  },
  {
   "cell_type": "code",
   "execution_count": 43,
   "id": "d7df15f1",
   "metadata": {},
   "outputs": [],
   "source": [
    "c = flights_df1.count()"
   ]
  },
  {
   "cell_type": "code",
   "execution_count": 57,
   "id": "a8c2d115",
   "metadata": {},
   "outputs": [],
   "source": [
    "def perc(a,b):\n",
    "    p=0\n",
    "    p=(b.count()-a.count())/b.count()\n",
    "    return p*100"
   ]
  },
  {
   "cell_type": "code",
   "execution_count": 58,
   "id": "8a45d337",
   "metadata": {},
   "outputs": [
    {
     "data": {
      "text/plain": [
       "0.8249927006440348"
      ]
     },
     "execution_count": 58,
     "metadata": {},
     "output_type": "execute_result"
    }
   ],
   "source": [
    "perc(flights_df1,flights_df)"
   ]
  },
  {
   "cell_type": "code",
   "execution_count": 59,
   "id": "52b127d3",
   "metadata": {},
   "outputs": [
    {
     "name": "stdout",
     "output_type": "stream",
     "text": [
      "+----------+---------+-------+---------------+-------------+--------+--------+----------+--------------------+\n",
      "|DayofMonth|DayOfWeek|Carrier|OriginAirportID|DestAirportID|DepDelay|ArrDelay|airport_id|                name|\n",
      "+----------+---------+-------+---------------+-------------+--------+--------+----------+--------------------+\n",
      "|        16|        4|     AA|          10140|        11298|      -2|      -7|     10140|Albuquerque Inter...|\n",
      "|        25|        4|     AA|          10140|        11298|      13|       5|     10140|Albuquerque Inter...|\n",
      "|        31|        5|     AA|          10140|        11298|      -3|       0|     10140|Albuquerque Inter...|\n",
      "|        28|        7|     AA|          10140|        11298|      -5|       4|     10140|Albuquerque Inter...|\n",
      "|        28|        7|     UA|          10140|        12264|      -1|      -9|     10140|Albuquerque Inter...|\n",
      "|        31|        5|     EV|          10140|        12266|      -5|      -4|     10140|Albuquerque Inter...|\n",
      "|         6|        1|     B6|          10140|        12478|     -12|      -2|     10140|Albuquerque Inter...|\n",
      "|         9|        2|     WN|          10140|        12889|       1|      -8|     10140|Albuquerque Inter...|\n",
      "|        20|        6|     WN|          10140|        12892|     100|      85|     10140|Albuquerque Inter...|\n",
      "|         6|        6|     WN|          10140|        13204|      -3|      -8|     10140|Albuquerque Inter...|\n",
      "|         1|        3|     DL|          10140|        13487|      -7|       5|     10140|Albuquerque Inter...|\n",
      "|        14|        2|     WN|          10140|        13796|       0|     -22|     10140|Albuquerque Inter...|\n",
      "|         3|        3|     MQ|          10140|        13930|      43|      69|     10140|Albuquerque Inter...|\n",
      "|         2|        2|     WN|          10140|        14057|      -4|     -14|     10140|Albuquerque Inter...|\n",
      "|         2|        2|     WN|          10140|        14107|      -2|       6|     10140|Albuquerque Inter...|\n",
      "|         9|        2|     WN|          10140|        14107|      -2|      -9|     10140|Albuquerque Inter...|\n",
      "|        18|        4|     WN|          10140|        14107|      88|      77|     10140|Albuquerque Inter...|\n",
      "|        25|        4|     WN|          10140|        14107|       6|      -5|     10140|Albuquerque Inter...|\n",
      "|        12|        7|     OO|          10140|        14107|       1|      -7|     10140|Albuquerque Inter...|\n",
      "|         8|        3|     DL|          10299|        13487|     -10|     -30|     10299|Ted Stevens Ancho...|\n",
      "+----------+---------+-------+---------------+-------------+--------+--------+----------+--------------------+\n",
      "only showing top 20 rows\n",
      "\n"
     ]
    }
   ],
   "source": [
    "#10 fillna(): to replace or fill missing columns with nay value here 0\n",
    "flights_data = flights_airportDF.dropDuplicates().fillna(0, subset=['DepDelay','ArrDelay'])\n",
    "flights_data.show()"
   ]
  },
  {
   "cell_type": "code",
   "execution_count": 69,
   "id": "c1b273bd",
   "metadata": {},
   "outputs": [
    {
     "name": "stdout",
     "output_type": "stream",
     "text": [
      "+----+\n",
      "|mean|\n",
      "+----+\n",
      "|11.0|\n",
      "+----+\n",
      "\n"
     ]
    }
   ],
   "source": [
    "flights_data.select(round(mean(col('DepDelay'))).alias('mean')).show()"
   ]
  },
  {
   "cell_type": "code",
   "execution_count": 71,
   "id": "65355ada",
   "metadata": {},
   "outputs": [
    {
     "name": "stdout",
     "output_type": "stream",
     "text": [
      "+-------+\n",
      "|std_dev|\n",
      "+-------+\n",
      "|   36.0|\n",
      "+-------+\n",
      "\n"
     ]
    }
   ],
   "source": [
    "from pyspark.sql.functions import stddev\n",
    "flights_data.select(round(stddev(col('DepDelay'))).alias('std_dev')).show()"
   ]
  },
  {
   "cell_type": "code",
   "execution_count": 76,
   "id": "cfe2129e",
   "metadata": {},
   "outputs": [
    {
     "data": {
      "text/plain": [
       "36.0"
      ]
     },
     "execution_count": 76,
     "metadata": {},
     "output_type": "execute_result"
    }
   ],
   "source": [
    "from pyspark.sql.functions import stddev\n",
    "flights_data.select(round(stddev(col('DepDelay'))).alias('std_dev')).collect()[0][0]"
   ]
  },
  {
   "cell_type": "code",
   "execution_count": 82,
   "id": "c6d2f038",
   "metadata": {},
   "outputs": [
    {
     "data": {
      "text/plain": [
       "36.0"
      ]
     },
     "execution_count": 82,
     "metadata": {},
     "output_type": "execute_result"
    }
   ],
   "source": [
    "from pyspark.sql.functions import stddev\n",
    "flights_data.select(round(stddev(col('DepDelay'))).alias('std_dev')).collect()[0]['std_dev']"
   ]
  },
  {
   "cell_type": "code",
   "execution_count": 83,
   "id": "fdac64eb",
   "metadata": {},
   "outputs": [
    {
     "data": {
      "text/plain": [
       "<pyspark.sql.group.GroupedData at 0x7efd143a0748>"
      ]
     },
     "execution_count": 83,
     "metadata": {},
     "output_type": "execute_result"
    }
   ],
   "source": [
    "#11 groupBy() and agg()\n",
    "flights_data.groupBy(\"Carrier\")"
   ]
  },
  {
   "cell_type": "code",
   "execution_count": 84,
   "id": "1e4a405a",
   "metadata": {},
   "outputs": [
    {
     "name": "stdout",
     "output_type": "stream",
     "text": [
      "+-------+------------------+\n",
      "|Carrier|         Avg Delay|\n",
      "+-------+------------------+\n",
      "|     UA| 12.56328450054194|\n",
      "|     AA|12.047073483091621|\n",
      "|     EV|14.201382793318832|\n",
      "|     B6| 12.62300717948718|\n",
      "|     DL|  7.44057536536854|\n",
      "|     OO| 7.852680109497053|\n",
      "|     F9|12.124132527423326|\n",
      "|     YV| 9.400170648464163|\n",
      "|     US| 4.982146766542894|\n",
      "|     MQ|15.197729076913472|\n",
      "|     HA|1.5346074380165289|\n",
      "|     AS|0.6593429038281979|\n",
      "|     FL|10.165958089647582|\n",
      "|     VX|14.391637389851985|\n",
      "|     WN|12.860663548314177|\n",
      "|     9E| 9.546332530604055|\n",
      "+-------+------------------+\n",
      "\n"
     ]
    }
   ],
   "source": [
    "flights_data.groupBy(\"Carrier\").agg(mean(\"DepDelay\").alias('Avg Delay')).show()"
   ]
  },
  {
   "cell_type": "code",
   "execution_count": 87,
   "id": "bd02e85c",
   "metadata": {},
   "outputs": [
    {
     "data": {
      "text/plain": [
       "-3.0"
      ]
     },
     "execution_count": 87,
     "metadata": {},
     "output_type": "execute_result"
    }
   ],
   "source": [
    "#12 calculate median by using approQuantile and expr\n",
    "flights_data.approxQuantile('ArrDelay',[0.5],0.001)[0]"
   ]
  },
  {
   "cell_type": "code",
   "execution_count": 92,
   "id": "50c3bbbe",
   "metadata": {},
   "outputs": [
    {
     "data": {
      "text/plain": [
       "-3"
      ]
     },
     "execution_count": 92,
     "metadata": {},
     "output_type": "execute_result"
    }
   ],
   "source": [
    "from pyspark.sql.functions import expr\n",
    "med_expr = expr(f\"percentile_approx({'ArrDelay'},0.5)\")\n",
    "flights_data.agg(med_expr.alias(\"median\")).collect()[0][0]"
   ]
  },
  {
   "cell_type": "markdown",
   "id": "94cc3ce2",
   "metadata": {},
   "source": [
    "# SPARK SQL"
   ]
  },
  {
   "cell_type": "code",
   "execution_count": 93,
   "id": "ade16b9a",
   "metadata": {},
   "outputs": [],
   "source": [
    "flights_data.createOrReplaceTempView(\"flights\")  # used to create a temporary table using spark dataframe"
   ]
  },
  {
   "cell_type": "code",
   "execution_count": 94,
   "id": "6d8e7fa7",
   "metadata": {},
   "outputs": [
    {
     "name": "stdout",
     "output_type": "stream",
     "text": [
      "+----------+---------+-------+---------------+-------------+--------+--------+----------+--------------------+\n",
      "|DayofMonth|DayOfWeek|Carrier|OriginAirportID|DestAirportID|DepDelay|ArrDelay|airport_id|                name|\n",
      "+----------+---------+-------+---------------+-------------+--------+--------+----------+--------------------+\n",
      "|        16|        4|     AA|          10140|        11298|      -2|      -7|     10140|Albuquerque Inter...|\n",
      "|        25|        4|     AA|          10140|        11298|      13|       5|     10140|Albuquerque Inter...|\n",
      "|        31|        5|     AA|          10140|        11298|      -3|       0|     10140|Albuquerque Inter...|\n",
      "|        28|        7|     AA|          10140|        11298|      -5|       4|     10140|Albuquerque Inter...|\n",
      "|        28|        7|     UA|          10140|        12264|      -1|      -9|     10140|Albuquerque Inter...|\n",
      "|        31|        5|     EV|          10140|        12266|      -5|      -4|     10140|Albuquerque Inter...|\n",
      "|         6|        1|     B6|          10140|        12478|     -12|      -2|     10140|Albuquerque Inter...|\n",
      "|         9|        2|     WN|          10140|        12889|       1|      -8|     10140|Albuquerque Inter...|\n",
      "|        20|        6|     WN|          10140|        12892|     100|      85|     10140|Albuquerque Inter...|\n",
      "|         6|        6|     WN|          10140|        13204|      -3|      -8|     10140|Albuquerque Inter...|\n",
      "+----------+---------+-------+---------------+-------------+--------+--------+----------+--------------------+\n",
      "\n"
     ]
    }
   ],
   "source": [
    "spark.sql(\"select * from flights limit 10\").show()"
   ]
  },
  {
   "cell_type": "code",
   "execution_count": 102,
   "id": "c3a66ac4",
   "metadata": {},
   "outputs": [
    {
     "name": "stdout",
     "output_type": "stream",
     "text": [
      "+-------+------+\n",
      "|Carrier| count|\n",
      "+-------+------+\n",
      "|     WN|575090|\n",
      "|     DL|381601|\n",
      "|     AA|288910|\n",
      "|     UA|286010|\n",
      "|     US|232955|\n",
      "|     OO|159639|\n",
      "|     EV|157218|\n",
      "|     B6|121875|\n",
      "|     MQ|112113|\n",
      "|     FL| 92674|\n",
      "|     9E| 79728|\n",
      "|     AS| 68544|\n",
      "|     YV| 52740|\n",
      "|     F9| 35736|\n",
      "|     VX| 34726|\n",
      "|     HA| 17424|\n",
      "+-------+------+\n",
      "\n"
     ]
    }
   ],
   "source": [
    "#1. query to show total count of flights by each carrier in descending order\n",
    "spark.sql(\"select Carrier,count(*) as count from flights group by Carrier order by count desc\").show()"
   ]
  },
  {
   "cell_type": "code",
   "execution_count": 118,
   "id": "cc33cc3c",
   "metadata": {},
   "outputs": [
    {
     "name": "stdout",
     "output_type": "stream",
     "text": [
      "+-------+------+\n",
      "|Carrier|median|\n",
      "+-------+------+\n",
      "|     UA|    12|\n",
      "|     AA|    14|\n",
      "|     EV|    24|\n",
      "|     B6|    21|\n",
      "|     DL|    13|\n",
      "|     OO|    17|\n",
      "|     F9|    14|\n",
      "|     YV|    19|\n",
      "|     US|    12|\n",
      "|     MQ|    24|\n",
      "|     HA|     6|\n",
      "|     AS|     9|\n",
      "|     FL|    13|\n",
      "|     VX|    15|\n",
      "|     WN|    12|\n",
      "|     9E|    22|\n",
      "+-------+------+\n",
      "\n"
     ]
    }
   ],
   "source": [
    "#2. query to compute median departure delay for each carrier \n",
    "spark.sql(\"select Carrier, percentile_approx(DepDelay, 0.5) as median from flights where DepDelay > 0 group by Carrier\").show()"
   ]
  },
  {
   "cell_type": "code",
   "execution_count": 123,
   "id": "4fd8ccab",
   "metadata": {},
   "outputs": [
    {
     "name": "stdout",
     "output_type": "stream",
     "text": [
      "+-------+------+\n",
      "|airport| count|\n",
      "+-------+------+\n",
      "|  10397|296877|\n",
      "+-------+------+\n",
      "\n"
     ]
    }
   ],
   "source": [
    "#3. Find the most busiest airport\n",
    "spark.sql(\"\"\"select airport, count(*) as count from (select OriginAirportId as airport from flights union all select DestAirportID as airport from flights) group by airport order by count desc limit 1\"\"\").show()"
   ]
  },
  {
   "cell_type": "code",
   "execution_count": 124,
   "id": "e3b8a350",
   "metadata": {},
   "outputs": [
    {
     "name": "stdout",
     "output_type": "stream",
     "text": [
      "+-------+-----+\n",
      "|airport|count|\n",
      "+-------+-----+\n",
      "|  14570|    1|\n",
      "+-------+-----+\n",
      "\n"
     ]
    }
   ],
   "source": [
    "spark.sql(\"\"\"\n",
    "    SELECT airport, COUNT(*) AS count\n",
    "    FROM (\n",
    "        SELECT OriginAirportId AS airport FROM flights\n",
    "        UNION\n",
    "        SELECT DestAirportID AS airport FROM flights\n",
    "    ) AS all_airports\n",
    "    GROUP BY airport\n",
    "    ORDER BY count DESC\n",
    "    LIMIT 1\n",
    "\"\"\").show()"
   ]
  },
  {
   "cell_type": "code",
   "execution_count": null,
   "id": "5e196737",
   "metadata": {},
   "outputs": [],
   "source": []
  }
 ],
 "metadata": {
  "kernelspec": {
   "display_name": "Python 3",
   "language": "python",
   "name": "python3"
  },
  "language_info": {
   "codemirror_mode": {
    "name": "ipython",
    "version": 3
   },
   "file_extension": ".py",
   "mimetype": "text/x-python",
   "name": "python",
   "nbconvert_exporter": "python",
   "pygments_lexer": "ipython3",
   "version": "3.6.9"
  }
 },
 "nbformat": 4,
 "nbformat_minor": 5
}
