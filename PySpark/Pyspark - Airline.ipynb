{
 "cells": [
  {
   "cell_type": "code",
   "execution_count": 1,
   "id": "314c0eae",
   "metadata": {},
   "outputs": [
    {
     "data": {
      "text/html": [
       "\n",
       "        <div>\n",
       "            <p><b>SparkContext</b></p>\n",
       "\n",
       "            <p><a href=\"http://10.0.2.15:4040\">Spark UI</a></p>\n",
       "\n",
       "            <dl>\n",
       "              <dt>Version</dt>\n",
       "                <dd><code>v2.4.8</code></dd>\n",
       "              <dt>Master</dt>\n",
       "                <dd><code>local[*]</code></dd>\n",
       "              <dt>AppName</dt>\n",
       "                <dd><code>PySparkShell</code></dd>\n",
       "            </dl>\n",
       "        </div>\n",
       "        "
      ],
      "text/plain": [
       "<SparkContext master=local[*] appName=PySparkShell>"
      ]
     },
     "execution_count": 1,
     "metadata": {},
     "output_type": "execute_result"
    }
   ],
   "source": [
    "sc"
   ]
  },
  {
   "cell_type": "code",
   "execution_count": 2,
   "id": "e7224cde",
   "metadata": {},
   "outputs": [
    {
     "data": {
      "text/html": [
       "\n",
       "            <div>\n",
       "                <p><b>SparkSession - hive</b></p>\n",
       "                \n",
       "        <div>\n",
       "            <p><b>SparkContext</b></p>\n",
       "\n",
       "            <p><a href=\"http://10.0.2.15:4040\">Spark UI</a></p>\n",
       "\n",
       "            <dl>\n",
       "              <dt>Version</dt>\n",
       "                <dd><code>v2.4.8</code></dd>\n",
       "              <dt>Master</dt>\n",
       "                <dd><code>local[*]</code></dd>\n",
       "              <dt>AppName</dt>\n",
       "                <dd><code>PySparkShell</code></dd>\n",
       "            </dl>\n",
       "        </div>\n",
       "        \n",
       "            </div>\n",
       "        "
      ],
      "text/plain": [
       "<pyspark.sql.session.SparkSession at 0x7f7855aa2400>"
      ]
     },
     "execution_count": 2,
     "metadata": {},
     "output_type": "execute_result"
    }
   ],
   "source": [
    "spark"
   ]
  },
  {
   "cell_type": "markdown",
   "id": "56776ddd",
   "metadata": {},
   "source": [
    "#### a) Create a new Spark Session with new SparkConfig"
   ]
  },
  {
   "cell_type": "code",
   "execution_count": 3,
   "id": "77f563e2",
   "metadata": {},
   "outputs": [],
   "source": [
    "from pyspark import SparkConf, SparkContext\n",
    "from pyspark.sql import SparkSession, HiveContext"
   ]
  },
  {
   "cell_type": "code",
   "execution_count": 4,
   "id": "dc171faf",
   "metadata": {},
   "outputs": [],
   "source": [
    "sc.stop()"
   ]
  },
  {
   "cell_type": "code",
   "execution_count": 5,
   "id": "cccca5bc",
   "metadata": {},
   "outputs": [],
   "source": [
    "config = SparkConf().setAppName('Flights Delay Analysis').setMaster('local[4]')\n",
    "sc = SparkContext.getOrCreate(conf=config)"
   ]
  },
  {
   "cell_type": "code",
   "execution_count": 6,
   "id": "2f9264bf",
   "metadata": {},
   "outputs": [],
   "source": [
    "#Spark integration with Hive with Spark Session\n",
    "spark = (SparkSession.builder.appName(\"pyspark-hive-integration\")\n",
    "         .config('spark.sql.warehouse.dir','/user/hive/warehouse/')\n",
    "        .enableHiveSupport().getOrCreate())"
   ]
  },
  {
   "cell_type": "code",
   "execution_count": 7,
   "id": "23ef3ec5",
   "metadata": {},
   "outputs": [
    {
     "name": "stdout",
     "output_type": "stream",
     "text": [
      "+------------+\n",
      "|databaseName|\n",
      "+------------+\n",
      "|  banking_db|\n",
      "|     default|\n",
      "+------------+\n",
      "\n"
     ]
    }
   ],
   "source": [
    "spark.sql(\"show databases\").show()"
   ]
  },
  {
   "cell_type": "code",
   "execution_count": 8,
   "id": "e2907c80",
   "metadata": {},
   "outputs": [
    {
     "data": {
      "text/html": [
       "\n",
       "            <div>\n",
       "                <p><b>SparkSession - hive</b></p>\n",
       "                \n",
       "        <div>\n",
       "            <p><b>SparkContext</b></p>\n",
       "\n",
       "            <p><a href=\"http://10.0.2.15:4040\">Spark UI</a></p>\n",
       "\n",
       "            <dl>\n",
       "              <dt>Version</dt>\n",
       "                <dd><code>v2.4.8</code></dd>\n",
       "              <dt>Master</dt>\n",
       "                <dd><code>local[4]</code></dd>\n",
       "              <dt>AppName</dt>\n",
       "                <dd><code>Flights Delay Analysis</code></dd>\n",
       "            </dl>\n",
       "        </div>\n",
       "        \n",
       "            </div>\n",
       "        "
      ],
      "text/plain": [
       "<pyspark.sql.session.SparkSession at 0x7f7855870240>"
      ]
     },
     "execution_count": 8,
     "metadata": {},
     "output_type": "execute_result"
    }
   ],
   "source": [
    "spark"
   ]
  },
  {
   "cell_type": "markdown",
   "id": "06cc3c06",
   "metadata": {},
   "source": [
    "#### b) Create new instance of Spark SQL session and define new DataFrame using Flights_Delay.csv dataset."
   ]
  },
  {
   "cell_type": "code",
   "execution_count": 9,
   "id": "eb4fd47f",
   "metadata": {},
   "outputs": [],
   "source": [
    "flights_df = spark.read.csv(\"file:///home/hadoop/Downloads/Flights_Delay.csv\", header=True, inferSchema=True)"
   ]
  },
  {
   "cell_type": "markdown",
   "id": "a3165fa7",
   "metadata": {},
   "source": [
    "#### Create table Spark HIVE table flights_table"
   ]
  },
  {
   "cell_type": "code",
   "execution_count": 10,
   "id": "bd57dc8c",
   "metadata": {},
   "outputs": [],
   "source": [
    "flights_df.createOrReplaceTempView('flights_table')"
   ]
  },
  {
   "cell_type": "markdown",
   "id": "c75231c6",
   "metadata": {},
   "source": [
    "#### d.Show Top 10 Rows"
   ]
  },
  {
   "cell_type": "code",
   "execution_count": 11,
   "id": "13c1d832",
   "metadata": {},
   "outputs": [
    {
     "name": "stdout",
     "output_type": "stream",
     "text": [
      "+---+----+-----+---+-----------+-------+-------------+-----------+--------------+-------------------+-------------------+--------------+---------------+--------+----------+--------------+------------+--------+--------+---------+-------+-----------------+------------+-------------+--------+---------+-------------------+----------------+--------------+-------------+-------------------+-------------+\n",
      "| ID|YEAR|MONTH|DAY|DAY_OF_WEEK|AIRLINE|FLIGHT_NUMBER|TAIL_NUMBER|ORIGIN_AIRPORT|DESTINATION_AIRPORT|SCHEDULED_DEPARTURE|DEPARTURE_TIME|DEPARTURE_DELAY|TAXI_OUT|WHEELS_OFF|SCHEDULED_TIME|ELAPSED_TIME|AIR_TIME|DISTANCE|WHEELS_ON|TAXI_IN|SCHEDULED_ARRIVAL|ARRIVAL_TIME|ARRIVAL_DELAY|DIVERTED|CANCELLED|CANCELLATION_REASON|AIR_SYSTEM_DELAY|SECURITY_DELAY|AIRLINE_DELAY|LATE_AIRCRAFT_DELAY|WEATHER_DELAY|\n",
      "+---+----+-----+---+-----------+-------+-------------+-----------+--------------+-------------------+-------------------+--------------+---------------+--------+----------+--------------+------------+--------+--------+---------+-------+-----------------+------------+-------------+--------+---------+-------------------+----------------+--------------+-------------+-------------------+-------------+\n",
      "|  0|2015|    3|  4|          3|     EV|         5170|     N842AS|           CVG|                XNA|                935|           954|             19|      16|      1010|           115|         129|     108|     562|     1058|      5|             1030|        1103|           33|       0|        0|               null|              14|             0|           19|                  0|            0|\n",
      "|  1|2015|    2|  2|          1|     MQ|         3584|     N646MQ|           DFW|                SPS|               1240|          1316|             36|      11|      1327|            50|          46|      30|     113|     1357|      5|             1330|        1402|           32|       0|        0|               null|               0|             0|           32|                  0|            0|\n",
      "|  2|2015|    1| 27|          2|     B6|          716|     N309JB|           JAX|                DCA|               1335|          1505|             90|      16|      1521|           104|         110|      91|     634|     1652|      3|             1519|        1655|           96|       0|        0|               null|               6|             0|           90|                  0|            0|\n",
      "|  3|2015|    1| 28|          3|     EV|         4289|     N14162|           COS|                IAH|               1442|          1435|             -7|      13|      1448|           139|         127|     101|     809|     1729|     13|             1801|        1742|          -19|       0|        0|               null|            null|          null|         null|               null|         null|\n",
      "|  4|2015|    2|  5|          4|     EV|         5584|     N851AS|           ATL|                AVL|               1255|          1250|             -5|      25|      1315|            48|          62|      34|     164|     1349|      3|             1343|        1352|            9|       0|        0|               null|            null|          null|         null|               null|         null|\n",
      "|  5|2015|    2| 15|          7|     UA|          712|     N438UA|           IAH|                SFO|               1535|          1554|             19|      18|      1612|           260|         237|     216|    1635|     1748|      3|             1755|        1751|           -4|       0|        0|               null|            null|          null|         null|               null|         null|\n",
      "|  6|2015|    2| 19|          4|     OO|         5166|     N746SK|           HDN|                DEN|                928|           924|             -4|      11|       935|            67|          56|      29|     141|     1004|     16|             1035|        1020|          -15|       0|        0|               null|            null|          null|         null|               null|         null|\n",
      "|  7|2015|    2| 27|          5|     DL|         1571|     N916DN|           ATL|                CAK|               2104|          2103|             -1|      20|      2123|           106|          97|      70|     528|     2233|      7|             2250|        2240|          -10|       0|        0|               null|            null|          null|         null|               null|         null|\n",
      "|  8|2015|    1| 20|          2|     WN|          518|     N405WN|           HOU|                MEM|               2140|          2150|             10|       8|      2158|            80|          79|      68|     484|     2306|      3|             2300|        2309|            9|       0|        0|               null|            null|          null|         null|               null|         null|\n",
      "|  9|2015|    2|  6|          5|     WN|          336|     N663SW|           DAL|                MAF|               1750|          1748|             -2|       7|      1755|            70|          62|      52|     319|     1847|      3|             1900|        1850|          -10|       0|        0|               null|            null|          null|         null|               null|         null|\n",
      "+---+----+-----+---+-----------+-------+-------------+-----------+--------------+-------------------+-------------------+--------------+---------------+--------+----------+--------------+------------+--------+--------+---------+-------+-----------------+------------+-------------+--------+---------+-------------------+----------------+--------------+-------------+-------------------+-------------+\n",
      "only showing top 10 rows\n",
      "\n"
     ]
    }
   ],
   "source": [
    "\n",
    "spark.sql(\"select * from flights_table\").show(10)"
   ]
  },
  {
   "cell_type": "code",
   "execution_count": 12,
   "id": "915b4b26",
   "metadata": {},
   "outputs": [
    {
     "name": "stdout",
     "output_type": "stream",
     "text": [
      "root\n",
      " |-- ID: integer (nullable = true)\n",
      " |-- YEAR: integer (nullable = true)\n",
      " |-- MONTH: integer (nullable = true)\n",
      " |-- DAY: integer (nullable = true)\n",
      " |-- DAY_OF_WEEK: integer (nullable = true)\n",
      " |-- AIRLINE: string (nullable = true)\n",
      " |-- FLIGHT_NUMBER: integer (nullable = true)\n",
      " |-- TAIL_NUMBER: string (nullable = true)\n",
      " |-- ORIGIN_AIRPORT: string (nullable = true)\n",
      " |-- DESTINATION_AIRPORT: string (nullable = true)\n",
      " |-- SCHEDULED_DEPARTURE: integer (nullable = true)\n",
      " |-- DEPARTURE_TIME: integer (nullable = true)\n",
      " |-- DEPARTURE_DELAY: integer (nullable = true)\n",
      " |-- TAXI_OUT: integer (nullable = true)\n",
      " |-- WHEELS_OFF: integer (nullable = true)\n",
      " |-- SCHEDULED_TIME: integer (nullable = true)\n",
      " |-- ELAPSED_TIME: integer (nullable = true)\n",
      " |-- AIR_TIME: integer (nullable = true)\n",
      " |-- DISTANCE: integer (nullable = true)\n",
      " |-- WHEELS_ON: integer (nullable = true)\n",
      " |-- TAXI_IN: integer (nullable = true)\n",
      " |-- SCHEDULED_ARRIVAL: integer (nullable = true)\n",
      " |-- ARRIVAL_TIME: integer (nullable = true)\n",
      " |-- ARRIVAL_DELAY: integer (nullable = true)\n",
      " |-- DIVERTED: integer (nullable = true)\n",
      " |-- CANCELLED: integer (nullable = true)\n",
      " |-- CANCELLATION_REASON: string (nullable = true)\n",
      " |-- AIR_SYSTEM_DELAY: integer (nullable = true)\n",
      " |-- SECURITY_DELAY: integer (nullable = true)\n",
      " |-- AIRLINE_DELAY: integer (nullable = true)\n",
      " |-- LATE_AIRCRAFT_DELAY: integer (nullable = true)\n",
      " |-- WEATHER_DELAY: integer (nullable = true)\n",
      "\n"
     ]
    }
   ],
   "source": [
    "#d.Describe the table\n",
    "#spark.sql(\"EXEC sp_help N'flights_table'\").show\n",
    "flights_df.printSchema()"
   ]
  },
  {
   "cell_type": "markdown",
   "id": "97729385",
   "metadata": {},
   "source": [
    "#### e) Apply Query performance optimization techniques like – creating Partitioning DataFrame by\n",
    "#### a specific column, parquet data, caching, predicate pushdown methods etc."
   ]
  },
  {
   "cell_type": "code",
   "execution_count": 13,
   "id": "f1e51ba7",
   "metadata": {},
   "outputs": [],
   "source": [
    "partitioned_df = flights_df.repartition(3)"
   ]
  },
  {
   "cell_type": "code",
   "execution_count": 14,
   "id": "20e526c6",
   "metadata": {},
   "outputs": [],
   "source": [
    "#partitioned_df.write.parquet(\"/FlightPartition/\")"
   ]
  },
  {
   "cell_type": "code",
   "execution_count": 15,
   "id": "2cdfdb05",
   "metadata": {},
   "outputs": [
    {
     "data": {
      "text/plain": [
       "DataFrame[ID: int, YEAR: int, MONTH: int, DAY: int, DAY_OF_WEEK: int, AIRLINE: string, FLIGHT_NUMBER: int, TAIL_NUMBER: string, ORIGIN_AIRPORT: string, DESTINATION_AIRPORT: string, SCHEDULED_DEPARTURE: int, DEPARTURE_TIME: int, DEPARTURE_DELAY: int, TAXI_OUT: int, WHEELS_OFF: int, SCHEDULED_TIME: int, ELAPSED_TIME: int, AIR_TIME: int, DISTANCE: int, WHEELS_ON: int, TAXI_IN: int, SCHEDULED_ARRIVAL: int, ARRIVAL_TIME: int, ARRIVAL_DELAY: int, DIVERTED: int, CANCELLED: int, CANCELLATION_REASON: string, AIR_SYSTEM_DELAY: int, SECURITY_DELAY: int, AIRLINE_DELAY: int, LATE_AIRCRAFT_DELAY: int, WEATHER_DELAY: int]"
      ]
     },
     "execution_count": 15,
     "metadata": {},
     "output_type": "execute_result"
    }
   ],
   "source": [
    "flights_df.cache()"
   ]
  },
  {
   "cell_type": "code",
   "execution_count": 16,
   "id": "1ccb52f7",
   "metadata": {},
   "outputs": [
    {
     "data": {
      "text/plain": [
       "DataFrame[ID: int, YEAR: int, MONTH: int, DAY: int, DAY_OF_WEEK: int, AIRLINE: string, FLIGHT_NUMBER: int, TAIL_NUMBER: string, ORIGIN_AIRPORT: string, DESTINATION_AIRPORT: string, SCHEDULED_DEPARTURE: int, DEPARTURE_TIME: int, DEPARTURE_DELAY: int, TAXI_OUT: int, WHEELS_OFF: int, SCHEDULED_TIME: int, ELAPSED_TIME: int, AIR_TIME: int, DISTANCE: int, WHEELS_ON: int, TAXI_IN: int, SCHEDULED_ARRIVAL: int, ARRIVAL_TIME: int, ARRIVAL_DELAY: int, DIVERTED: int, CANCELLED: int, CANCELLATION_REASON: string, AIR_SYSTEM_DELAY: int, SECURITY_DELAY: int, AIRLINE_DELAY: int, LATE_AIRCRAFT_DELAY: int, WEATHER_DELAY: int]"
      ]
     },
     "execution_count": 16,
     "metadata": {},
     "output_type": "execute_result"
    }
   ],
   "source": [
    "#Persistance of dataframe with a specific storage level\n",
    "from pyspark import StorageLevel\n",
    "flights_df.persist(StorageLevel.MEMORY_AND_DISK)"
   ]
  },
  {
   "cell_type": "markdown",
   "id": "56b1b9e6",
   "metadata": {},
   "source": [
    "#### f) Average arrival delay caused by airlines"
   ]
  },
  {
   "cell_type": "code",
   "execution_count": 17,
   "id": "3abfea26",
   "metadata": {},
   "outputs": [
    {
     "name": "stdout",
     "output_type": "stream",
     "text": [
      "+-------+---------------------+\n",
      "|AIRLINE|average_arrival_delay|\n",
      "+-------+---------------------+\n",
      "|     UA|                  6.7|\n",
      "|     NK|                14.21|\n",
      "|     AA|                 8.39|\n",
      "|     EV|                10.88|\n",
      "|     B6|                13.96|\n",
      "|     DL|                 2.81|\n",
      "|     OO|                10.15|\n",
      "|     F9|                 24.1|\n",
      "|     US|                 5.98|\n",
      "|     MQ|                19.23|\n",
      "|     HA|                 4.07|\n",
      "|     VX|                 5.13|\n",
      "|     WN|                  3.7|\n",
      "+-------+---------------------+\n",
      "\n"
     ]
    }
   ],
   "source": [
    "spark.sql(\"select AIRLINE , round(avg(ARRIVAL_DELAY),2) as average_arrival_delay  from flights_table group by AIRLINE having average_arrival_delay > 1\").show()"
   ]
  },
  {
   "cell_type": "markdown",
   "id": "fa8e6660",
   "metadata": {},
   "source": [
    "#### g) Days of months with respected to average of arrival delays"
   ]
  },
  {
   "cell_type": "code",
   "execution_count": 18,
   "id": "a5f64234",
   "metadata": {},
   "outputs": [
    {
     "name": "stdout",
     "output_type": "stream",
     "text": [
      "+---+---------------------+\n",
      "|DAY|average_arrival_delay|\n",
      "+---+---------------------+\n",
      "|  1|                14.81|\n",
      "|  2|                15.05|\n",
      "|  3|                18.14|\n",
      "|  4|                17.16|\n",
      "|  5|                16.24|\n",
      "|  6|                10.61|\n",
      "|  7|                 2.83|\n",
      "|  8|                 5.23|\n",
      "|  9|                 4.42|\n",
      "| 10|                -0.05|\n",
      "| 11|                 3.99|\n",
      "| 12|                11.25|\n",
      "| 13|                 3.38|\n",
      "| 14|                 1.33|\n",
      "| 15|                 2.97|\n",
      "| 16|                 9.12|\n",
      "| 17|                 8.76|\n",
      "| 18|                 3.57|\n",
      "| 19|                 1.63|\n",
      "| 20|                 3.88|\n",
      "+---+---------------------+\n",
      "only showing top 20 rows\n",
      "\n"
     ]
    }
   ],
   "source": [
    "spark.sql(\"select DAY,round(avg(ARRIVAL_DELAY),2) as average_arrival_delay from flights_table group by DAY order by DAY\").show()"
   ]
  },
  {
   "cell_type": "markdown",
   "id": "d54fab17",
   "metadata": {},
   "source": [
    "#### h) Arrange weekdays with respect to the average arrival delays caused"
   ]
  },
  {
   "cell_type": "code",
   "execution_count": 19,
   "id": "54e9c64e",
   "metadata": {},
   "outputs": [
    {
     "name": "stdout",
     "output_type": "stream",
     "text": [
      "+-----------+---------------------+\n",
      "|DAY_OF_WEEK|average_arrival_delay|\n",
      "+-----------+---------------------+\n",
      "|          1|                10.81|\n",
      "|          2|                 8.03|\n",
      "|          3|                 5.59|\n",
      "|          4|                 7.17|\n",
      "|          5|                 6.01|\n",
      "|          6|                 4.89|\n",
      "|          7|                10.11|\n",
      "+-----------+---------------------+\n",
      "\n"
     ]
    }
   ],
   "source": [
    "spark.sql(\"select DAY_OF_WEEK , round(avg(ARRIVAL_DELAY),2) as average_arrival_delay from flights_table group by DAY_OF_WEEK order by DAY_OF_WEEK\").show()"
   ]
  },
  {
   "cell_type": "markdown",
   "id": "b747c194",
   "metadata": {},
   "source": [
    "#### i) Arrange Days of month as per cancellations done in Descending"
   ]
  },
  {
   "cell_type": "code",
   "execution_count": 20,
   "id": "47dcaa70",
   "metadata": {},
   "outputs": [
    {
     "name": "stdout",
     "output_type": "stream",
     "text": [
      "+---+-----------------+\n",
      "|DAY|cancellation_done|\n",
      "+---+-----------------+\n",
      "|  4|             2660|\n",
      "|  2|             2644|\n",
      "|  9|             2620|\n",
      "|  5|             2619|\n",
      "|  6|             2596|\n",
      "|  3|             2481|\n",
      "|  8|             2403|\n",
      "|  7|             2267|\n",
      "|  1|             2248|\n",
      "| 10|             1813|\n",
      "| 13|             1788|\n",
      "| 16|             1724|\n",
      "| 23|             1712|\n",
      "| 26|             1700|\n",
      "| 20|             1700|\n",
      "| 27|             1678|\n",
      "| 22|             1671|\n",
      "| 18|             1663|\n",
      "| 12|             1655|\n",
      "| 19|             1654|\n",
      "+---+-----------------+\n",
      "only showing top 20 rows\n",
      "\n"
     ]
    }
   ],
   "source": [
    "spark.sql(\"select DAY,count(CANCELLED) as cancellation_done from flights_table group by DAY order by cancellation_done desc\").show()"
   ]
  },
  {
   "cell_type": "markdown",
   "id": "6f3a358c",
   "metadata": {},
   "source": [
    "#### j) Find Top 10 busiest airports with respect to day of week"
   ]
  },
  {
   "cell_type": "code",
   "execution_count": 21,
   "id": "4a0f471b",
   "metadata": {},
   "outputs": [
    {
     "name": "stdout",
     "output_type": "stream",
     "text": [
      "+-----------+\n",
      "|DAY_OF_WEEK|\n",
      "+-----------+\n",
      "|          1|\n",
      "|          6|\n",
      "|          3|\n",
      "|          5|\n",
      "|          4|\n",
      "|          7|\n",
      "|          2|\n",
      "+-----------+\n",
      "\n"
     ]
    }
   ],
   "source": [
    "spark.sql(\"select DAY_OF_WEEK from flights_table group by DAY_OF_WEEK \\\n",
    "          limit 10\").show()"
   ]
  },
  {
   "cell_type": "markdown",
   "id": "da840faa",
   "metadata": {},
   "source": [
    "#### k) Finding airlines that make the maximum number of cancellations    "
   ]
  },
  {
   "cell_type": "code",
   "execution_count": 22,
   "id": "ff87e6b7",
   "metadata": {},
   "outputs": [
    {
     "name": "stdout",
     "output_type": "stream",
     "text": [
      "+-------+------------+\n",
      "|AIRLINE|cancellation|\n",
      "+-------+------------+\n",
      "|     WN|       11738|\n",
      "+-------+------------+\n",
      "\n"
     ]
    }
   ],
   "source": [
    "spark.sql(\"select AIRLINE,COUNT(CANCELLED) as cancellation from flights_table group by AIRLINE order by cancellation desc limit 1\").show()"
   ]
  },
  {
   "cell_type": "markdown",
   "id": "b71a172e",
   "metadata": {},
   "source": [
    "#### l) Find and order airlines in descending that make the most number of diversions"
   ]
  },
  {
   "cell_type": "code",
   "execution_count": 23,
   "id": "8ac8afde",
   "metadata": {},
   "outputs": [
    {
     "name": "stdout",
     "output_type": "stream",
     "text": [
      "+-------+---------------+\n",
      "|AIRLINE|total_diversion|\n",
      "+-------+---------------+\n",
      "|     WN|          11738|\n",
      "|     DL|           7989|\n",
      "|     EV|           5916|\n",
      "|     OO|           5708|\n",
      "|     AA|           5250|\n",
      "|     UA|           4701|\n",
      "|     US|           3925|\n",
      "|     MQ|           3502|\n",
      "|     B6|           2548|\n",
      "|     AS|           1586|\n",
      "|     NK|           1048|\n",
      "|     F9|            794|\n",
      "|     HA|            722|\n",
      "|     VX|            573|\n",
      "+-------+---------------+\n",
      "\n"
     ]
    }
   ],
   "source": [
    "spark.sql(\"select AIRLINE,COUNT(DIVERTED) as total_diversion FROM flights_table \\\n",
    "          group by AIRLINE ORDER BY total_diversion desc \").show()"
   ]
  },
  {
   "cell_type": "markdown",
   "id": "65eb26b5",
   "metadata": {},
   "source": [
    "#### m) Finding days of month that see the most number of diversion"
   ]
  },
  {
   "cell_type": "code",
   "execution_count": 24,
   "id": "316ddfe8",
   "metadata": {},
   "outputs": [
    {
     "name": "stdout",
     "output_type": "stream",
     "text": [
      "+---+--------------+\n",
      "|DAY|most_diversion|\n",
      "+---+--------------+\n",
      "|  4|          2660|\n",
      "|  2|          2644|\n",
      "|  9|          2620|\n",
      "|  5|          2619|\n",
      "|  6|          2596|\n",
      "|  3|          2481|\n",
      "|  8|          2403|\n",
      "|  7|          2267|\n",
      "|  1|          2248|\n",
      "| 10|          1813|\n",
      "| 13|          1788|\n",
      "| 16|          1724|\n",
      "| 23|          1712|\n",
      "| 26|          1700|\n",
      "| 20|          1700|\n",
      "| 27|          1678|\n",
      "| 22|          1671|\n",
      "| 18|          1663|\n",
      "| 12|          1655|\n",
      "| 19|          1654|\n",
      "+---+--------------+\n",
      "only showing top 20 rows\n",
      "\n"
     ]
    }
   ],
   "source": [
    "spark.sql(\"select DAY, count(DIVERTED) as most_diversion from flights_table \\\n",
    "           group by DAY order by most_diversion desc\").show()"
   ]
  },
  {
   "cell_type": "markdown",
   "id": "f195190f",
   "metadata": {},
   "source": [
    "#### n) Calculating mean and standard deviation of departure delay for all flights in minutes"
   ]
  },
  {
   "cell_type": "code",
   "execution_count": 25,
   "id": "46b8d8a5",
   "metadata": {},
   "outputs": [
    {
     "name": "stdout",
     "output_type": "stream",
     "text": [
      "+-----+------------------+\n",
      "| mean|standard_deviation|\n",
      "+-----+------------------+\n",
      "|14.29|             36.37|\n",
      "|15.58|              46.0|\n",
      "| 11.5|             50.59|\n",
      "|11.53|              40.6|\n",
      "|16.07|             44.45|\n",
      "| 9.94|             44.58|\n",
      "| 11.6|              41.9|\n",
      "|23.51|             55.22|\n",
      "| 7.81|             29.95|\n",
      "|17.07|             43.47|\n",
      "| 1.18|             30.28|\n",
      "| 2.34|             29.15|\n",
      "| 9.86|             35.18|\n",
      "|10.12|             28.66|\n",
      "+-----+------------------+\n",
      "\n"
     ]
    }
   ],
   "source": [
    "spark.sql(\"select round(avg(DEPARTURE_DELAY),2) as mean ,round(stddev(DEPARTURE_DELAY),2) as standard_deviation from flights_table group by AIRLINE\").show()"
   ]
  },
  {
   "cell_type": "markdown",
   "id": "b90bdfbb",
   "metadata": {},
   "source": [
    "#### o) Calculating mean and standard deviation of arrival delay for all flights in minutes"
   ]
  },
  {
   "cell_type": "code",
   "execution_count": 26,
   "id": "1011ee4a",
   "metadata": {},
   "outputs": [
    {
     "name": "stdout",
     "output_type": "stream",
     "text": [
      "+-----+------------------+\n",
      "| mean|standard_deviation|\n",
      "+-----+------------------+\n",
      "|  6.7|             38.97|\n",
      "|14.21|             47.58|\n",
      "| 8.39|             53.57|\n",
      "|10.88|             43.39|\n",
      "|13.96|             47.64|\n",
      "| 2.81|             46.96|\n",
      "|10.15|             43.76|\n",
      "| 24.1|             56.27|\n",
      "| 5.98|             34.11|\n",
      "|19.23|              46.4|\n",
      "| 4.07|             32.38|\n",
      "|-1.53|             31.37|\n",
      "| 5.13|             40.87|\n",
      "|  3.7|             31.23|\n",
      "+-----+------------------+\n",
      "\n"
     ]
    }
   ],
   "source": [
    "spark.sql(\"select round(avg(ARRIVAL_DELAY),2) as mean ,round(stddev(ARRIVAL_DELAY),2) as standard_deviation from flights_table group by AIRLINE\").show()"
   ]
  },
  {
   "cell_type": "markdown",
   "id": "0e2be497",
   "metadata": {},
   "source": [
    "#### p) Finding all diverted Route from a source to destination Airport &amp; which route is the most diverted"
   ]
  },
  {
   "cell_type": "code",
   "execution_count": 50,
   "id": "23c359ed",
   "metadata": {},
   "outputs": [
    {
     "name": "stdout",
     "output_type": "stream",
     "text": [
      "+--------------+-------------------+---------------+\n",
      "|ORIGIN_AIRPORT|DESTINATION_AIRPORT|diversion_count|\n",
      "+--------------+-------------------+---------------+\n",
      "|           HOU|                DAL|              2|\n",
      "|           PHL|                SAN|              2|\n",
      "|           STT|                PHL|              2|\n",
      "|           IAH|                ASE|              2|\n",
      "|           TPA|                LGA|              2|\n",
      "|           JFK|                EGE|              2|\n",
      "|           JFK|                SEA|              2|\n",
      "|           ORD|                ASE|              2|\n",
      "|           CLT|                IAH|              2|\n",
      "|           CAK|                LGA|              1|\n",
      "|           FLL|                BWI|              1|\n",
      "|           SFO|                BOI|              1|\n",
      "|           KOA|                SFO|              1|\n",
      "|           BOS|                LAS|              1|\n",
      "|           SLC|                SUN|              1|\n",
      "|           EWR|                STL|              1|\n",
      "|           ATL|                LGA|              1|\n",
      "|           IAH|                ISN|              1|\n",
      "|           LAX|                ASE|              1|\n",
      "|           MCO|                PVD|              1|\n",
      "+--------------+-------------------+---------------+\n",
      "only showing top 20 rows\n",
      "\n"
     ]
    }
   ],
   "source": [
    "spark.sql(\"SELECT ORIGIN_AIRPORT, DESTINATION_AIRPORT, COUNT(DIVERTED) AS diversion_count \\\n",
    "FROM flights_table WHERE DIVERTED = 1 GROUP BY ORIGIN_AIRPORT, DESTINATION_AIRPORT order by diversion_count desc\").show()"
   ]
  },
  {
   "cell_type": "markdown",
   "id": "6f06da45",
   "metadata": {},
   "source": [
    "#### q) Finding AIRLINES with its total flight count, total number of flights arrival delayed by more\n",
    "#### than 30 Minutes, % of such flights delayed by more than 30 minutes when it is not\n",
    "#### Weekends with minimum count of flights from Airlines by more than 10. Also Exclude some\n",
    "#### of Airlines &#39;AK&#39;, &#39;HI&#39;, &#39;PR&#39;, &#39;VI&#39; and arrange output in descending order by % of such #### count of\n",
    "#### flights."
   ]
  },
  {
   "cell_type": "code",
   "execution_count": 28,
   "id": "f300314c",
   "metadata": {},
   "outputs": [
    {
     "name": "stdout",
     "output_type": "stream",
     "text": [
      "+-------+-------------+---------------+----------------+\n",
      "|AIRLINE|total_flights|delayed_flights|delay_percentage|\n",
      "+-------+-------------+---------------+----------------+\n",
      "|     F9|          794|            139|           17.51|\n",
      "|     MQ|         3502|            601|           17.16|\n",
      "|     B6|         2548|            360|           14.13|\n",
      "|     NK|         1048|            139|           13.26|\n",
      "|     EV|         5916|            665|           11.24|\n",
      "|     OO|         5708|            633|           11.09|\n",
      "|     UA|         4701|            497|           10.57|\n",
      "|     AA|         5250|            484|            9.22|\n",
      "|     VX|          573|             47|             8.2|\n",
      "|     US|         3925|            310|             7.9|\n",
      "|     DL|         7989|            592|            7.41|\n",
      "|     WN|        11738|            869|             7.4|\n",
      "|     AS|         1586|             64|            4.04|\n",
      "|     HA|          722|             23|            3.19|\n",
      "+-------+-------------+---------------+----------------+\n",
      "\n"
     ]
    }
   ],
   "source": [
    "spark.sql(\"SELECT AIRLINE,COUNT(*) AS total_flights,\\\n",
    "SUM(CASE WHEN ARRIVAL_DELAY > 30 AND DAY_OF_WEEK NOT IN (6, 7) THEN 1 ELSE 0 END) AS delayed_flights,\\\n",
    "round(CAST(SUM(CASE WHEN ARRIVAL_DELAY > 30 AND DAY_OF_WEEK NOT IN (6, 7) THEN 1 ELSE 0 END) AS float) / COUNT(*) * 100,2) \\\n",
    "AS delay_percentage FROM flights_table WHERE AIRLINE NOT IN ('AK', 'HI', 'PR', 'VI') \\\n",
    "GROUP BY AIRLINE HAVING COUNT(*) > 10 order by delay_percentage desc\").show()\n"
   ]
  },
  {
   "cell_type": "markdown",
   "id": "1dd9b8bb",
   "metadata": {},
   "source": [
    "#### r) Finding AIRLINES with its total flight count with total number of flights departure delayed by\n",
    "##### less than 30 Minutes, % of such flights delayed by less than 30 minutes when it is Weekends\n",
    "##### with minimum count of flights from Airlines by more than 10. Also Exclude some of Airlines\n",
    "##### AK,HI,PR,VI  and arrange output in descending order by % of such count of  flights.  "
   ]
  },
  {
   "cell_type": "code",
   "execution_count": 29,
   "id": "7b4c8bda",
   "metadata": {},
   "outputs": [
    {
     "name": "stdout",
     "output_type": "stream",
     "text": [
      "+-------+-------------+---------------+----------------+\n",
      "|AIRLINE|total_flights|delayed_flights|delay_percentage|\n",
      "+-------+-------------+---------------+----------------+\n",
      "|     AS|         1586|            412|           25.98|\n",
      "|     HA|          722|            179|           24.79|\n",
      "|     NK|         1048|            253|           24.14|\n",
      "|     AA|         5250|           1214|           23.12|\n",
      "|     DL|         7989|           1814|           22.71|\n",
      "|     VX|          573|            129|           22.51|\n",
      "|     WN|        11738|           2636|           22.46|\n",
      "|     US|         3925|            867|           22.09|\n",
      "|     OO|         5708|           1244|           21.79|\n",
      "|     B6|         2548|            543|           21.31|\n",
      "|     EV|         5916|           1203|           20.33|\n",
      "|     UA|         4701|            950|           20.21|\n",
      "|     MQ|         3502|            622|           17.76|\n",
      "|     F9|          794|            133|           16.75|\n",
      "+-------+-------------+---------------+----------------+\n",
      "\n"
     ]
    }
   ],
   "source": [
    "spark.sql(\"SELECT AIRLINE,COUNT(*) AS total_flights,\\\n",
    "SUM(CASE WHEN DEPARTURE_DELAY < 30 AND DAY_OF_WEEK IN (6, 7) THEN 1 ELSE 0 END) AS delayed_flights,\\\n",
    "round(CAST(SUM(CASE WHEN DEPARTURE_DELAY < 30 AND DAY_OF_WEEK IN (6, 7) THEN 1 ELSE 0 END) AS float) / COUNT(*) * 100,2) \\\n",
    "AS delay_percentage FROM flights_table WHERE AIRLINE NOT IN ('AK', 'HI', 'PR', 'VI') \\\n",
    "GROUP BY AIRLINE HAVING COUNT(*) > 10 order by delay_percentage desc\").show()\n"
   ]
  },
  {
   "cell_type": "markdown",
   "id": "3f5bc51d",
   "metadata": {},
   "source": [
    "#### s) When is the best time of day/day of week/time of a year to fly with minimum delays?"
   ]
  },
  {
   "cell_type": "code",
   "execution_count": 49,
   "id": "e3f2b6a1",
   "metadata": {},
   "outputs": [
    {
     "name": "stdout",
     "output_type": "stream",
     "text": [
      "+-----------+--------+------------+\n",
      "|DAY_OF_WEEK|DepDelay|ArrivalDelay|\n",
      "+-----------+--------+------------+\n",
      "|          3|    9.11|        5.59|\n",
      "|          6|    9.63|        4.89|\n",
      "|          5|   10.06|        6.01|\n",
      "|          4|   10.82|        7.17|\n",
      "|          2|   11.23|        8.03|\n",
      "|          7|   13.61|       10.11|\n",
      "|          1|   14.09|       10.81|\n",
      "+-----------+--------+------------+\n",
      "\n"
     ]
    }
   ],
   "source": [
    "spark.sql(\"SELECT DAY_OF_WEEK,round(AVG(DEPARTURE_DELAY),2) as DepDelay,round(AVG(ARRIVAL_DELAY),2) AS ArrivalDelay \\\n",
    "FROM flights_table \\\n",
    "WHERE DEPARTURE_DELAY IS NOT NULL and ARRIVAL_DELAY IS NOT NULL \\\n",
    "GROUP BY DAY_OF_WEEK order by DepDelay,ArrivalDelay \").show()"
   ]
  },
  {
   "cell_type": "markdown",
   "id": "e7175bce",
   "metadata": {},
   "source": [
    "#### t) Which airlines are best airline to travel considering number of cancellations, arrival,\n",
    "#### departure delays and all reasons affecting performance of airline industry."
   ]
  },
  {
   "cell_type": "code",
   "execution_count": 44,
   "id": "42f20f82",
   "metadata": {},
   "outputs": [
    {
     "name": "stdout",
     "output_type": "stream",
     "text": [
      "+-------+----------------+---------------+-----------------+--------------------+-------------+\n",
      "|AIRLINE|CancellationRate|AvgArrivalDelay|AvgDepartureDelay|   OnTimePerformance|DiversionRate|\n",
      "+-------+----------------+---------------+-----------------+--------------------+-------------+\n",
      "|     UA|             0.0|            6.7|            14.17| 0.03801405586052342|          0.0|\n",
      "|     NK|             0.0|          14.21|            15.53|0.008174748040650881|          0.0|\n",
      "|     AA|             0.0|           8.39|            11.41|0.017303799929101582|          0.0|\n",
      "|     EV|             0.0|          10.88|            11.42|0.005404058690049007|          0.0|\n",
      "|     B6|             0.0|          13.96|            15.89|0.011217511592565232|          0.0|\n",
      "|     DL|             0.0|           2.81|             9.92| 0.04750602378645363|          0.0|\n",
      "|     OO|             0.0|          10.15|            11.47|0.013052100816226986|          0.0|\n",
      "|     F9|             0.0|           24.1|            23.51|-0.00385606263383...|          0.0|\n",
      "|     US|             0.0|           5.98|             7.75|0.011499755453051264|          0.0|\n",
      "|     MQ|             0.0|          19.23|            16.76|-0.02614971847485...|          0.0|\n",
      "|     HA|             0.0|           4.07|             1.19|-0.02946873664720...|          0.0|\n",
      "|     AS|             0.0|          -1.53|             2.31| 0.02100494662848218|          0.0|\n",
      "|     VX|             0.0|           5.13|             9.86|  0.0217843774423101|          0.0|\n",
      "|     WN|             0.0|            3.7|            10.06|0.049937429565049096|          0.0|\n",
      "+-------+----------------+---------------+-----------------+--------------------+-------------+\n",
      "\n"
     ]
    }
   ],
   "source": [
    "spark.sql(\" SELECT AIRLINE,\\\n",
    "        CAST(SUM(CANCELLED) AS float) / COUNT(*) AS CancellationRate, \\\n",
    "        round(AVG(CASE WHEN ARRIVAL_DELAY IS NOT NULL THEN ARRIVAL_DELAY ELSE 0 END),2) AS AvgArrivalDelay, \\\n",
    "        round(AVG(CASE WHEN DEPARTURE_DELAY IS NOT NULL THEN DEPARTURE_DELAY ELSE 0 END),2) AS AvgDepartureDelay,\\\n",
    "1 - (AVG(CASE WHEN ELAPSED_TIME IS NOT NULL THEN ELAPSED_TIME ELSE 0 END) / AVG(SCHEDULED_TIME)) AS OnTimePerformance,\\\n",
    "CAST(SUM(DIVERTED) AS float) / COUNT(*) AS DiversionRate \\\n",
    "FROM Flights_table \\\n",
    "WHERE CANCELLED IS NOT NULL AND ARRIVAL_DELAY IS NOT NULL AND DEPARTURE_DELAY IS NOT NULL \\\n",
    "GROUP BY AIRLINE\").show()"
   ]
  },
  {
   "cell_type": "code",
   "execution_count": null,
   "id": "37b27082",
   "metadata": {},
   "outputs": [],
   "source": []
  }
 ],
 "metadata": {
  "kernelspec": {
   "display_name": "Python 3",
   "language": "python",
   "name": "python3"
  },
  "language_info": {
   "codemirror_mode": {
    "name": "ipython",
    "version": 3
   },
   "file_extension": ".py",
   "mimetype": "text/x-python",
   "name": "python",
   "nbconvert_exporter": "python",
   "pygments_lexer": "ipython3",
   "version": "3.6.9"
  }
 },
 "nbformat": 4,
 "nbformat_minor": 5
}
