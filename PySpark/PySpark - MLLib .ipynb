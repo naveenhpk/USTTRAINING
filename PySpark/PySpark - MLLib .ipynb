{
 "cells": [
  {
   "cell_type": "markdown",
   "id": "9cfe6a9e",
   "metadata": {},
   "source": [
    "### Problem Statement\n",
    "#### We have provided with online e-commerce website dataset with various input features-like duration,product related duration,region, month, bounce rates etc\n",
    "target : revenue yes/no\n",
    "goal To create a well trained model for prediction of revenue as yes or no "
   ]
  },
  {
   "cell_type": "code",
   "execution_count": 1,
   "id": "b0dc7c7e",
   "metadata": {},
   "outputs": [
    {
     "data": {
      "text/html": [
       "\n",
       "        <div>\n",
       "            <p><b>SparkContext</b></p>\n",
       "\n",
       "            <p><a href=\"http://10.0.2.15:4041\">Spark UI</a></p>\n",
       "\n",
       "            <dl>\n",
       "              <dt>Version</dt>\n",
       "                <dd><code>v2.4.8</code></dd>\n",
       "              <dt>Master</dt>\n",
       "                <dd><code>local[*]</code></dd>\n",
       "              <dt>AppName</dt>\n",
       "                <dd><code>PySparkShell</code></dd>\n",
       "            </dl>\n",
       "        </div>\n",
       "        "
      ],
      "text/plain": [
       "<SparkContext master=local[*] appName=PySparkShell>"
      ]
     },
     "execution_count": 1,
     "metadata": {},
     "output_type": "execute_result"
    }
   ],
   "source": [
    "sc"
   ]
  },
  {
   "cell_type": "code",
   "execution_count": 2,
   "id": "fbed6568",
   "metadata": {
    "scrolled": true
   },
   "outputs": [
    {
     "data": {
      "text/html": [
       "\n",
       "            <div>\n",
       "                <p><b>SparkSession - hive</b></p>\n",
       "                \n",
       "        <div>\n",
       "            <p><b>SparkContext</b></p>\n",
       "\n",
       "            <p><a href=\"http://10.0.2.15:4041\">Spark UI</a></p>\n",
       "\n",
       "            <dl>\n",
       "              <dt>Version</dt>\n",
       "                <dd><code>v2.4.8</code></dd>\n",
       "              <dt>Master</dt>\n",
       "                <dd><code>local[*]</code></dd>\n",
       "              <dt>AppName</dt>\n",
       "                <dd><code>PySparkShell</code></dd>\n",
       "            </dl>\n",
       "        </div>\n",
       "        \n",
       "            </div>\n",
       "        "
      ],
      "text/plain": [
       "<pyspark.sql.session.SparkSession at 0x7fdf059a2400>"
      ]
     },
     "execution_count": 2,
     "metadata": {},
     "output_type": "execute_result"
    }
   ],
   "source": [
    "spark "
   ]
  },
  {
   "cell_type": "code",
   "execution_count": 3,
   "id": "a932b640",
   "metadata": {},
   "outputs": [],
   "source": [
    "shopping_df = spark.read.csv(\"file:///home/hadoop/Downloads/Online Shoppers Intention.csv\",inferSchema=True,header=True)"
   ]
  },
  {
   "cell_type": "code",
   "execution_count": 4,
   "id": "77ba197a",
   "metadata": {},
   "outputs": [
    {
     "name": "stdout",
     "output_type": "stream",
     "text": [
      "+--------------+-----------------------+-------------+----------------------+--------------+-----------------------+-----------+-----------+----------+----------+-----+----------------+-------+------+-----------+-----------------+-------+-------+\n",
      "|Administrative|Administrative_Duration|Informational|Informational_Duration|ProductRelated|ProductRelated_Duration|BounceRates|  ExitRates|PageValues|SpecialDay|Month|OperatingSystems|Browser|Region|TrafficType|      VisitorType|Weekend|Revenue|\n",
      "+--------------+-----------------------+-------------+----------------------+--------------+-----------------------+-----------+-----------+----------+----------+-----+----------------+-------+------+-----------+-----------------+-------+-------+\n",
      "|             0|                    0.0|            0|                   0.0|             1|                    0.0|        0.2|        0.2|       0.0|       0.0|  Feb|               1|      1|     1|          1|Returning_Visitor|  false|  false|\n",
      "|             0|                    0.0|            0|                   0.0|             2|                   64.0|        0.0|        0.1|       0.0|       0.0|  Feb|               2|      2|     1|          2|Returning_Visitor|  false|  false|\n",
      "|             0|                   -1.0|            0|                  -1.0|             1|                   -1.0|        0.2|        0.2|       0.0|       0.0|  Feb|               4|      1|     9|          3|Returning_Visitor|  false|  false|\n",
      "|             0|                    0.0|            0|                   0.0|             2|            2.666666667|       0.05|       0.14|       0.0|       0.0|  Feb|               3|      2|     2|          4|Returning_Visitor|  false|  false|\n",
      "|             0|                    0.0|            0|                   0.0|            10|                  627.5|       0.02|       0.05|       0.0|       0.0|  Feb|               3|      3|     1|          4|Returning_Visitor|   true|  false|\n",
      "|             0|                    0.0|            0|                   0.0|            19|            154.2166667|0.015789474|0.024561404|       0.0|       0.0|  Feb|               2|      2|     1|          3|Returning_Visitor|  false|  false|\n",
      "|             0|                   -1.0|            0|                  -1.0|             1|                   -1.0|        0.2|        0.2|       0.0|       0.4|  Feb|               2|      4|     3|          3|Returning_Visitor|  false|  false|\n",
      "|             1|                   -1.0|            0|                  -1.0|             1|                   -1.0|        0.2|        0.2|       0.0|       0.0|  Feb|               1|      2|     1|          5|Returning_Visitor|   true|  false|\n",
      "|             0|                    0.0|            0|                   0.0|             2|                   37.0|        0.0|        0.1|       0.0|       0.8|  Feb|               2|      2|     2|          3|Returning_Visitor|  false|  false|\n",
      "|             0|                    0.0|            0|                   0.0|             3|                  738.0|        0.0|0.022222222|       0.0|       0.4|  Feb|               2|      4|     1|          2|Returning_Visitor|  false|  false|\n",
      "|             0|                    0.0|            0|                   0.0|             3|                  395.0|        0.0|0.066666667|       0.0|       0.0|  Feb|               1|      1|     3|          3|Returning_Visitor|  false|  false|\n",
      "|             0|                    0.0|            0|                   0.0|            16|                 407.75|    0.01875|0.025833333|       0.0|       0.4|  Feb|               1|      1|     4|          3|Returning_Visitor|  false|  false|\n",
      "|             0|                    0.0|            0|                   0.0|             7|                  280.5|        0.0|0.028571429|       0.0|       0.0|  Feb|               1|      1|     1|          3|Returning_Visitor|  false|  false|\n",
      "|             0|                    0.0|            0|                   0.0|             6|                   98.0|        0.0|0.066666667|       0.0|       0.0|  Feb|               2|      5|     1|          3|Returning_Visitor|  false|  false|\n",
      "|             0|                    0.0|            0|                   0.0|             2|                   68.0|        0.0|        0.1|       0.0|       0.0|  Feb|               3|      2|     3|          3|Returning_Visitor|  false|  false|\n",
      "|             2|                   53.0|            0|                   0.0|            23|            1668.285119|0.008333333|0.016312636|       0.0|       0.0|  Feb|               1|      1|     9|          3|Returning_Visitor|  false|  false|\n",
      "|             0|                   -1.0|            0|                  -1.0|             1|                   -1.0|        0.2|        0.2|       0.0|       0.0|  Feb|               1|      1|     4|          3|Returning_Visitor|  false|  false|\n",
      "|             0|                    0.0|            0|                   0.0|            13|            334.9666667|        0.0|0.007692308|       0.0|       0.0|  Feb|               1|      1|     1|          4|Returning_Visitor|   true|  false|\n",
      "|             0|                    0.0|            0|                   0.0|             2|                   32.0|        0.0|        0.1|       0.0|       0.0|  Feb|               2|      2|     1|          3|Returning_Visitor|  false|  false|\n",
      "|             0|                    0.0|            0|                   0.0|            20|            2981.166667|        0.0|       0.01|       0.0|       0.0|  Feb|               2|      4|     4|          4|Returning_Visitor|  false|  false|\n",
      "+--------------+-----------------------+-------------+----------------------+--------------+-----------------------+-----------+-----------+----------+----------+-----+----------------+-------+------+-----------+-----------------+-------+-------+\n",
      "only showing top 20 rows\n",
      "\n"
     ]
    }
   ],
   "source": [
    "shopping_df.show()"
   ]
  },
  {
   "cell_type": "markdown",
   "id": "06dda930",
   "metadata": {},
   "source": [
    "### 2. Show schema of dataframe"
   ]
  },
  {
   "cell_type": "code",
   "execution_count": 5,
   "id": "35d6f54d",
   "metadata": {},
   "outputs": [
    {
     "data": {
      "text/plain": [
       "DataFrame[Administrative: int, Administrative_Duration: double, Informational: int, Informational_Duration: double, ProductRelated: int, ProductRelated_Duration: double, BounceRates: double, ExitRates: double, PageValues: double, SpecialDay: double, Month: string, OperatingSystems: int, Browser: int, Region: int, TrafficType: int, VisitorType: string, Weekend: boolean, Revenue: boolean]"
      ]
     },
     "execution_count": 5,
     "metadata": {},
     "output_type": "execute_result"
    }
   ],
   "source": [
    "shopping_df.cache()"
   ]
  },
  {
   "cell_type": "code",
   "execution_count": 6,
   "id": "23d7dfa0",
   "metadata": {},
   "outputs": [
    {
     "name": "stdout",
     "output_type": "stream",
     "text": [
      "root\n",
      " |-- Administrative: integer (nullable = true)\n",
      " |-- Administrative_Duration: double (nullable = true)\n",
      " |-- Informational: integer (nullable = true)\n",
      " |-- Informational_Duration: double (nullable = true)\n",
      " |-- ProductRelated: integer (nullable = true)\n",
      " |-- ProductRelated_Duration: double (nullable = true)\n",
      " |-- BounceRates: double (nullable = true)\n",
      " |-- ExitRates: double (nullable = true)\n",
      " |-- PageValues: double (nullable = true)\n",
      " |-- SpecialDay: double (nullable = true)\n",
      " |-- Month: string (nullable = true)\n",
      " |-- OperatingSystems: integer (nullable = true)\n",
      " |-- Browser: integer (nullable = true)\n",
      " |-- Region: integer (nullable = true)\n",
      " |-- TrafficType: integer (nullable = true)\n",
      " |-- VisitorType: string (nullable = true)\n",
      " |-- Weekend: boolean (nullable = true)\n",
      " |-- Revenue: boolean (nullable = true)\n",
      "\n"
     ]
    }
   ],
   "source": [
    "shopping_df.printSchema()"
   ]
  },
  {
   "cell_type": "markdown",
   "id": "927e570d",
   "metadata": {},
   "source": [
    "### 3 show missing data"
   ]
  },
  {
   "cell_type": "code",
   "execution_count": 7,
   "id": "aedf8534",
   "metadata": {},
   "outputs": [
    {
     "name": "stdout",
     "output_type": "stream",
     "text": [
      "+--------------+-----------------------+-------------+----------------------+--------------+-----------------------+-----------+---------+----------+----------+-----+----------------+-------+------+-----------+-----------+-------+-------+\n",
      "|Administrative|Administrative_Duration|Informational|Informational_Duration|ProductRelated|ProductRelated_Duration|BounceRates|ExitRates|PageValues|SpecialDay|Month|OperatingSystems|Browser|Region|TrafficType|VisitorType|Weekend|Revenue|\n",
      "+--------------+-----------------------+-------------+----------------------+--------------+-----------------------+-----------+---------+----------+----------+-----+----------------+-------+------+-----------+-----------+-------+-------+\n",
      "|            14|                     14|           14|                    14|            14|                     14|         14|       14|         0|         0|    0|               0|      0|     0|          0|          0|      0|      0|\n",
      "+--------------+-----------------------+-------------+----------------------+--------------+-----------------------+-----------+---------+----------+----------+-----+----------------+-------+------+-----------+-----------+-------+-------+\n",
      "\n"
     ]
    }
   ],
   "source": [
    "from pyspark.sql.functions import *\n",
    "shopping_df.select([count(when(isnull(col), col)).alias(col) for col in shopping_df.columns]).show()"
   ]
  },
  {
   "cell_type": "code",
   "execution_count": 8,
   "id": "4fe6a73c",
   "metadata": {},
   "outputs": [
    {
     "data": {
      "text/plain": [
       "['Administrative',\n",
       " 'Administrative_Duration',\n",
       " 'Informational',\n",
       " 'Informational_Duration',\n",
       " 'ProductRelated',\n",
       " 'ProductRelated_Duration',\n",
       " 'BounceRates',\n",
       " 'ExitRates',\n",
       " 'PageValues',\n",
       " 'SpecialDay',\n",
       " 'Month',\n",
       " 'OperatingSystems',\n",
       " 'Browser',\n",
       " 'Region',\n",
       " 'TrafficType',\n",
       " 'VisitorType',\n",
       " 'Weekend',\n",
       " 'Revenue']"
      ]
     },
     "execution_count": 8,
     "metadata": {},
     "output_type": "execute_result"
    }
   ],
   "source": [
    "shopping_df.columns"
   ]
  },
  {
   "cell_type": "markdown",
   "id": "6459ac96",
   "metadata": {},
   "source": [
    "### Drop values with null"
   ]
  },
  {
   "cell_type": "code",
   "execution_count": 9,
   "id": "40f47c84",
   "metadata": {},
   "outputs": [],
   "source": [
    "shoppers_df = shopping_df.na.drop()"
   ]
  },
  {
   "cell_type": "code",
   "execution_count": 10,
   "id": "076ce19a",
   "metadata": {},
   "outputs": [
    {
     "name": "stdout",
     "output_type": "stream",
     "text": [
      "+--------------+-----------------------+-------------+----------------------+--------------+-----------------------+-----------+---------+----------+----------+-----+----------------+-------+------+-----------+-----------+-------+-------+\n",
      "|Administrative|Administrative_Duration|Informational|Informational_Duration|ProductRelated|ProductRelated_Duration|BounceRates|ExitRates|PageValues|SpecialDay|Month|OperatingSystems|Browser|Region|TrafficType|VisitorType|Weekend|Revenue|\n",
      "+--------------+-----------------------+-------------+----------------------+--------------+-----------------------+-----------+---------+----------+----------+-----+----------------+-------+------+-----------+-----------+-------+-------+\n",
      "|             0|                      0|            0|                     0|             0|                      0|          0|        0|         0|         0|    0|               0|      0|     0|          0|          0|      0|      0|\n",
      "+--------------+-----------------------+-------------+----------------------+--------------+-----------------------+-----------+---------+----------+----------+-----+----------------+-------+------+-----------+-----------+-------+-------+\n",
      "\n"
     ]
    }
   ],
   "source": [
    "shoppers_df.select([count(when(isnull(col), col)).alias(col) for col in shoppers_df.columns]).show()"
   ]
  },
  {
   "cell_type": "code",
   "execution_count": 11,
   "id": "cebfb3a0",
   "metadata": {},
   "outputs": [
    {
     "data": {
      "text/plain": [
       "[Row(Administrative=0, Administrative_Duration=0.0, Informational=0, Informational_Duration=0.0, ProductRelated=1, ProductRelated_Duration=0.0, BounceRates=0.2, ExitRates=0.2, PageValues=0.0, SpecialDay=0.0, Month='Feb', OperatingSystems=1, Browser=1, Region=1, TrafficType=1, VisitorType='Returning_Visitor', Weekend=False, Revenue=False),\n",
       " Row(Administrative=0, Administrative_Duration=0.0, Informational=0, Informational_Duration=0.0, ProductRelated=2, ProductRelated_Duration=64.0, BounceRates=0.0, ExitRates=0.1, PageValues=0.0, SpecialDay=0.0, Month='Feb', OperatingSystems=2, Browser=2, Region=1, TrafficType=2, VisitorType='Returning_Visitor', Weekend=False, Revenue=False),\n",
       " Row(Administrative=0, Administrative_Duration=-1.0, Informational=0, Informational_Duration=-1.0, ProductRelated=1, ProductRelated_Duration=-1.0, BounceRates=0.2, ExitRates=0.2, PageValues=0.0, SpecialDay=0.0, Month='Feb', OperatingSystems=4, Browser=1, Region=9, TrafficType=3, VisitorType='Returning_Visitor', Weekend=False, Revenue=False),\n",
       " Row(Administrative=0, Administrative_Duration=0.0, Informational=0, Informational_Duration=0.0, ProductRelated=2, ProductRelated_Duration=2.666666667, BounceRates=0.05, ExitRates=0.14, PageValues=0.0, SpecialDay=0.0, Month='Feb', OperatingSystems=3, Browser=2, Region=2, TrafficType=4, VisitorType='Returning_Visitor', Weekend=False, Revenue=False),\n",
       " Row(Administrative=0, Administrative_Duration=0.0, Informational=0, Informational_Duration=0.0, ProductRelated=10, ProductRelated_Duration=627.5, BounceRates=0.02, ExitRates=0.05, PageValues=0.0, SpecialDay=0.0, Month='Feb', OperatingSystems=3, Browser=3, Region=1, TrafficType=4, VisitorType='Returning_Visitor', Weekend=True, Revenue=False)]"
      ]
     },
     "execution_count": 11,
     "metadata": {},
     "output_type": "execute_result"
    }
   ],
   "source": [
    "shoppers_df.head(5)"
   ]
  },
  {
   "cell_type": "code",
   "execution_count": 12,
   "id": "1049d030",
   "metadata": {},
   "outputs": [
    {
     "name": "stdout",
     "output_type": "stream",
     "text": [
      "Defaulting to user installation because normal site-packages is not writeable\n",
      "Requirement already satisfied: numpy in ./.local/lib/python3.6/site-packages (1.19.5)\n",
      "Requirement already satisfied: pandas in ./.local/lib/python3.6/site-packages (1.1.5)\n",
      "Requirement already satisfied: matplotlib in ./.local/lib/python3.6/site-packages (3.3.4)\n",
      "Requirement already satisfied: seaborn in ./.local/lib/python3.6/site-packages (0.11.2)\n",
      "Requirement already satisfied: pytz>=2017.2 in /usr/lib/python3/dist-packages (from pandas) (2018.3)\n",
      "Requirement already satisfied: python-dateutil>=2.7.3 in ./.local/lib/python3.6/site-packages (from pandas) (2.9.0.post0)\n",
      "Requirement already satisfied: cycler>=0.10 in ./.local/lib/python3.6/site-packages (from matplotlib) (0.11.0)\n",
      "Requirement already satisfied: kiwisolver>=1.0.1 in ./.local/lib/python3.6/site-packages (from matplotlib) (1.3.1)\n",
      "Requirement already satisfied: pyparsing!=2.0.4,!=2.1.2,!=2.1.6,>=2.0.3 in ./.local/lib/python3.6/site-packages (from matplotlib) (3.0.9)\n",
      "Requirement already satisfied: pillow>=6.2.0 in ./.local/lib/python3.6/site-packages (from matplotlib) (8.4.0)\n",
      "Requirement already satisfied: scipy>=1.0 in ./.local/lib/python3.6/site-packages (from seaborn) (1.5.4)\n",
      "Requirement already satisfied: six>=1.5 in /usr/lib/python3/dist-packages (from python-dateutil>=2.7.3->pandas) (1.11.0)\n"
     ]
    }
   ],
   "source": [
    "!pip install numpy pandas matplotlib seaborn"
   ]
  },
  {
   "cell_type": "markdown",
   "id": "6ec1bfc6",
   "metadata": {},
   "source": [
    "### Data Preprocessing \n",
    "    * transformation of categorical values to numerical dataframe"
   ]
  },
  {
   "cell_type": "code",
   "execution_count": 13,
   "id": "138af11f",
   "metadata": {
    "scrolled": true
   },
   "outputs": [
    {
     "data": {
      "text/html": [
       "<div>\n",
       "<style scoped>\n",
       "    .dataframe tbody tr th:only-of-type {\n",
       "        vertical-align: middle;\n",
       "    }\n",
       "\n",
       "    .dataframe tbody tr th {\n",
       "        vertical-align: top;\n",
       "    }\n",
       "\n",
       "    .dataframe thead th {\n",
       "        text-align: right;\n",
       "    }\n",
       "</style>\n",
       "<table border=\"1\" class=\"dataframe\">\n",
       "  <thead>\n",
       "    <tr style=\"text-align: right;\">\n",
       "      <th></th>\n",
       "      <th>Administrative</th>\n",
       "      <th>Administrative_Duration</th>\n",
       "      <th>Informational</th>\n",
       "      <th>Informational_Duration</th>\n",
       "      <th>ProductRelated</th>\n",
       "      <th>ProductRelated_Duration</th>\n",
       "      <th>BounceRates</th>\n",
       "      <th>ExitRates</th>\n",
       "      <th>PageValues</th>\n",
       "      <th>SpecialDay</th>\n",
       "      <th>Month</th>\n",
       "      <th>OperatingSystems</th>\n",
       "      <th>Browser</th>\n",
       "      <th>Region</th>\n",
       "      <th>TrafficType</th>\n",
       "      <th>VisitorType</th>\n",
       "      <th>Weekend</th>\n",
       "      <th>Revenue</th>\n",
       "    </tr>\n",
       "  </thead>\n",
       "  <tbody>\n",
       "    <tr>\n",
       "      <th>0</th>\n",
       "      <td>0</td>\n",
       "      <td>0.0</td>\n",
       "      <td>0</td>\n",
       "      <td>0.0</td>\n",
       "      <td>1</td>\n",
       "      <td>0.000000</td>\n",
       "      <td>0.200000</td>\n",
       "      <td>0.200000</td>\n",
       "      <td>0.000000</td>\n",
       "      <td>0.0</td>\n",
       "      <td>Feb</td>\n",
       "      <td>1</td>\n",
       "      <td>1</td>\n",
       "      <td>1</td>\n",
       "      <td>1</td>\n",
       "      <td>Returning_Visitor</td>\n",
       "      <td>False</td>\n",
       "      <td>False</td>\n",
       "    </tr>\n",
       "    <tr>\n",
       "      <th>1</th>\n",
       "      <td>0</td>\n",
       "      <td>0.0</td>\n",
       "      <td>0</td>\n",
       "      <td>0.0</td>\n",
       "      <td>2</td>\n",
       "      <td>64.000000</td>\n",
       "      <td>0.000000</td>\n",
       "      <td>0.100000</td>\n",
       "      <td>0.000000</td>\n",
       "      <td>0.0</td>\n",
       "      <td>Feb</td>\n",
       "      <td>2</td>\n",
       "      <td>2</td>\n",
       "      <td>1</td>\n",
       "      <td>2</td>\n",
       "      <td>Returning_Visitor</td>\n",
       "      <td>False</td>\n",
       "      <td>False</td>\n",
       "    </tr>\n",
       "    <tr>\n",
       "      <th>2</th>\n",
       "      <td>0</td>\n",
       "      <td>-1.0</td>\n",
       "      <td>0</td>\n",
       "      <td>-1.0</td>\n",
       "      <td>1</td>\n",
       "      <td>-1.000000</td>\n",
       "      <td>0.200000</td>\n",
       "      <td>0.200000</td>\n",
       "      <td>0.000000</td>\n",
       "      <td>0.0</td>\n",
       "      <td>Feb</td>\n",
       "      <td>4</td>\n",
       "      <td>1</td>\n",
       "      <td>9</td>\n",
       "      <td>3</td>\n",
       "      <td>Returning_Visitor</td>\n",
       "      <td>False</td>\n",
       "      <td>False</td>\n",
       "    </tr>\n",
       "    <tr>\n",
       "      <th>3</th>\n",
       "      <td>0</td>\n",
       "      <td>0.0</td>\n",
       "      <td>0</td>\n",
       "      <td>0.0</td>\n",
       "      <td>2</td>\n",
       "      <td>2.666667</td>\n",
       "      <td>0.050000</td>\n",
       "      <td>0.140000</td>\n",
       "      <td>0.000000</td>\n",
       "      <td>0.0</td>\n",
       "      <td>Feb</td>\n",
       "      <td>3</td>\n",
       "      <td>2</td>\n",
       "      <td>2</td>\n",
       "      <td>4</td>\n",
       "      <td>Returning_Visitor</td>\n",
       "      <td>False</td>\n",
       "      <td>False</td>\n",
       "    </tr>\n",
       "    <tr>\n",
       "      <th>4</th>\n",
       "      <td>0</td>\n",
       "      <td>0.0</td>\n",
       "      <td>0</td>\n",
       "      <td>0.0</td>\n",
       "      <td>10</td>\n",
       "      <td>627.500000</td>\n",
       "      <td>0.020000</td>\n",
       "      <td>0.050000</td>\n",
       "      <td>0.000000</td>\n",
       "      <td>0.0</td>\n",
       "      <td>Feb</td>\n",
       "      <td>3</td>\n",
       "      <td>3</td>\n",
       "      <td>1</td>\n",
       "      <td>4</td>\n",
       "      <td>Returning_Visitor</td>\n",
       "      <td>True</td>\n",
       "      <td>False</td>\n",
       "    </tr>\n",
       "    <tr>\n",
       "      <th>...</th>\n",
       "      <td>...</td>\n",
       "      <td>...</td>\n",
       "      <td>...</td>\n",
       "      <td>...</td>\n",
       "      <td>...</td>\n",
       "      <td>...</td>\n",
       "      <td>...</td>\n",
       "      <td>...</td>\n",
       "      <td>...</td>\n",
       "      <td>...</td>\n",
       "      <td>...</td>\n",
       "      <td>...</td>\n",
       "      <td>...</td>\n",
       "      <td>...</td>\n",
       "      <td>...</td>\n",
       "      <td>...</td>\n",
       "      <td>...</td>\n",
       "      <td>...</td>\n",
       "    </tr>\n",
       "    <tr>\n",
       "      <th>12311</th>\n",
       "      <td>3</td>\n",
       "      <td>145.0</td>\n",
       "      <td>0</td>\n",
       "      <td>0.0</td>\n",
       "      <td>53</td>\n",
       "      <td>1783.791667</td>\n",
       "      <td>0.007143</td>\n",
       "      <td>0.029031</td>\n",
       "      <td>12.241717</td>\n",
       "      <td>0.0</td>\n",
       "      <td>Dec</td>\n",
       "      <td>4</td>\n",
       "      <td>6</td>\n",
       "      <td>1</td>\n",
       "      <td>1</td>\n",
       "      <td>Returning_Visitor</td>\n",
       "      <td>True</td>\n",
       "      <td>False</td>\n",
       "    </tr>\n",
       "    <tr>\n",
       "      <th>12312</th>\n",
       "      <td>0</td>\n",
       "      <td>0.0</td>\n",
       "      <td>0</td>\n",
       "      <td>0.0</td>\n",
       "      <td>5</td>\n",
       "      <td>465.750000</td>\n",
       "      <td>0.000000</td>\n",
       "      <td>0.021333</td>\n",
       "      <td>0.000000</td>\n",
       "      <td>0.0</td>\n",
       "      <td>Nov</td>\n",
       "      <td>3</td>\n",
       "      <td>2</td>\n",
       "      <td>1</td>\n",
       "      <td>8</td>\n",
       "      <td>Returning_Visitor</td>\n",
       "      <td>True</td>\n",
       "      <td>False</td>\n",
       "    </tr>\n",
       "    <tr>\n",
       "      <th>12313</th>\n",
       "      <td>0</td>\n",
       "      <td>0.0</td>\n",
       "      <td>0</td>\n",
       "      <td>0.0</td>\n",
       "      <td>6</td>\n",
       "      <td>184.250000</td>\n",
       "      <td>0.083333</td>\n",
       "      <td>0.086667</td>\n",
       "      <td>0.000000</td>\n",
       "      <td>0.0</td>\n",
       "      <td>Nov</td>\n",
       "      <td>3</td>\n",
       "      <td>2</td>\n",
       "      <td>1</td>\n",
       "      <td>13</td>\n",
       "      <td>Returning_Visitor</td>\n",
       "      <td>True</td>\n",
       "      <td>False</td>\n",
       "    </tr>\n",
       "    <tr>\n",
       "      <th>12314</th>\n",
       "      <td>4</td>\n",
       "      <td>75.0</td>\n",
       "      <td>0</td>\n",
       "      <td>0.0</td>\n",
       "      <td>15</td>\n",
       "      <td>346.000000</td>\n",
       "      <td>0.000000</td>\n",
       "      <td>0.021053</td>\n",
       "      <td>0.000000</td>\n",
       "      <td>0.0</td>\n",
       "      <td>Nov</td>\n",
       "      <td>2</td>\n",
       "      <td>2</td>\n",
       "      <td>3</td>\n",
       "      <td>11</td>\n",
       "      <td>Returning_Visitor</td>\n",
       "      <td>False</td>\n",
       "      <td>False</td>\n",
       "    </tr>\n",
       "    <tr>\n",
       "      <th>12315</th>\n",
       "      <td>0</td>\n",
       "      <td>0.0</td>\n",
       "      <td>0</td>\n",
       "      <td>0.0</td>\n",
       "      <td>3</td>\n",
       "      <td>21.250000</td>\n",
       "      <td>0.000000</td>\n",
       "      <td>0.066667</td>\n",
       "      <td>0.000000</td>\n",
       "      <td>0.0</td>\n",
       "      <td>Nov</td>\n",
       "      <td>3</td>\n",
       "      <td>2</td>\n",
       "      <td>1</td>\n",
       "      <td>2</td>\n",
       "      <td>New_Visitor</td>\n",
       "      <td>True</td>\n",
       "      <td>False</td>\n",
       "    </tr>\n",
       "  </tbody>\n",
       "</table>\n",
       "<p>12316 rows × 18 columns</p>\n",
       "</div>"
      ],
      "text/plain": [
       "       Administrative  Administrative_Duration  Informational  \\\n",
       "0                   0                      0.0              0   \n",
       "1                   0                      0.0              0   \n",
       "2                   0                     -1.0              0   \n",
       "3                   0                      0.0              0   \n",
       "4                   0                      0.0              0   \n",
       "...               ...                      ...            ...   \n",
       "12311               3                    145.0              0   \n",
       "12312               0                      0.0              0   \n",
       "12313               0                      0.0              0   \n",
       "12314               4                     75.0              0   \n",
       "12315               0                      0.0              0   \n",
       "\n",
       "       Informational_Duration  ProductRelated  ProductRelated_Duration  \\\n",
       "0                         0.0               1                 0.000000   \n",
       "1                         0.0               2                64.000000   \n",
       "2                        -1.0               1                -1.000000   \n",
       "3                         0.0               2                 2.666667   \n",
       "4                         0.0              10               627.500000   \n",
       "...                       ...             ...                      ...   \n",
       "12311                     0.0              53              1783.791667   \n",
       "12312                     0.0               5               465.750000   \n",
       "12313                     0.0               6               184.250000   \n",
       "12314                     0.0              15               346.000000   \n",
       "12315                     0.0               3                21.250000   \n",
       "\n",
       "       BounceRates  ExitRates  PageValues  SpecialDay Month  OperatingSystems  \\\n",
       "0         0.200000   0.200000    0.000000         0.0   Feb                 1   \n",
       "1         0.000000   0.100000    0.000000         0.0   Feb                 2   \n",
       "2         0.200000   0.200000    0.000000         0.0   Feb                 4   \n",
       "3         0.050000   0.140000    0.000000         0.0   Feb                 3   \n",
       "4         0.020000   0.050000    0.000000         0.0   Feb                 3   \n",
       "...            ...        ...         ...         ...   ...               ...   \n",
       "12311     0.007143   0.029031   12.241717         0.0   Dec                 4   \n",
       "12312     0.000000   0.021333    0.000000         0.0   Nov                 3   \n",
       "12313     0.083333   0.086667    0.000000         0.0   Nov                 3   \n",
       "12314     0.000000   0.021053    0.000000         0.0   Nov                 2   \n",
       "12315     0.000000   0.066667    0.000000         0.0   Nov                 3   \n",
       "\n",
       "       Browser  Region  TrafficType        VisitorType  Weekend  Revenue  \n",
       "0            1       1            1  Returning_Visitor    False    False  \n",
       "1            2       1            2  Returning_Visitor    False    False  \n",
       "2            1       9            3  Returning_Visitor    False    False  \n",
       "3            2       2            4  Returning_Visitor    False    False  \n",
       "4            3       1            4  Returning_Visitor     True    False  \n",
       "...        ...     ...          ...                ...      ...      ...  \n",
       "12311        6       1            1  Returning_Visitor     True    False  \n",
       "12312        2       1            8  Returning_Visitor     True    False  \n",
       "12313        2       1           13  Returning_Visitor     True    False  \n",
       "12314        2       3           11  Returning_Visitor    False    False  \n",
       "12315        2       1            2        New_Visitor     True    False  \n",
       "\n",
       "[12316 rows x 18 columns]"
      ]
     },
     "execution_count": 13,
     "metadata": {},
     "output_type": "execute_result"
    }
   ],
   "source": [
    "shoppers_df.toPandas()"
   ]
  },
  {
   "cell_type": "code",
   "execution_count": 14,
   "id": "f3f26cd0",
   "metadata": {},
   "outputs": [
    {
     "name": "stdout",
     "output_type": "stream",
     "text": [
      "+-----------------+\n",
      "|      VisitorType|\n",
      "+-----------------+\n",
      "|      New_Visitor|\n",
      "|            Other|\n",
      "|Returning_Visitor|\n",
      "+-----------------+\n",
      "\n"
     ]
    }
   ],
   "source": [
    "shoppers_df.select('VisitorType').distinct().show()"
   ]
  },
  {
   "cell_type": "code",
   "execution_count": 15,
   "id": "8b06edc5",
   "metadata": {},
   "outputs": [],
   "source": [
    "shoppers_df = shoppers_df.withColumn('VisitorType',regexp_replace('VisitorType','New_Visitor',\"0\"))\n",
    "shoppers_df = shoppers_df.withColumn('VisitorType',regexp_replace('VisitorType','Other',\"1\"))\n",
    "shoppers_df = shoppers_df.withColumn('VisitorType',regexp_replace('VisitorType','Returning_Visitor',\"2\"))"
   ]
  },
  {
   "cell_type": "markdown",
   "id": "4f6557c8",
   "metadata": {},
   "source": [
    "### label encoder in pyspark using string indexer\n",
    "    * going to encode chategorical values into numerical values as 0,1,2,etc"
   ]
  },
  {
   "cell_type": "code",
   "execution_count": 16,
   "id": "cfd519eb",
   "metadata": {},
   "outputs": [],
   "source": [
    "from pyspark.ml.feature import StringIndexer, OneHotEncoder"
   ]
  },
  {
   "cell_type": "code",
   "execution_count": 17,
   "id": "0b743d15",
   "metadata": {},
   "outputs": [
    {
     "name": "stdout",
     "output_type": "stream",
     "text": [
      "+--------------+-----------------------+-------------+----------------------+--------------+-----------------------+-----------+-----------+----------+----------+-----+----------------+-------+------+-----------+-----------+-------+-------+-----------+\n",
      "|Administrative|Administrative_Duration|Informational|Informational_Duration|ProductRelated|ProductRelated_Duration|BounceRates|  ExitRates|PageValues|SpecialDay|Month|OperatingSystems|Browser|Region|TrafficType|VisitorType|Weekend|Revenue|Month_index|\n",
      "+--------------+-----------------------+-------------+----------------------+--------------+-----------------------+-----------+-----------+----------+----------+-----+----------------+-------+------+-----------+-----------+-------+-------+-----------+\n",
      "|             0|                    0.0|            0|                   0.0|             1|                    0.0|        0.2|        0.2|       0.0|       0.0|  Feb|               1|      1|     1|          1|          2|  false|  false|        9.0|\n",
      "|             0|                    0.0|            0|                   0.0|             2|                   64.0|        0.0|        0.1|       0.0|       0.0|  Feb|               2|      2|     1|          2|          2|  false|  false|        9.0|\n",
      "|             0|                   -1.0|            0|                  -1.0|             1|                   -1.0|        0.2|        0.2|       0.0|       0.0|  Feb|               4|      1|     9|          3|          2|  false|  false|        9.0|\n",
      "|             0|                    0.0|            0|                   0.0|             2|            2.666666667|       0.05|       0.14|       0.0|       0.0|  Feb|               3|      2|     2|          4|          2|  false|  false|        9.0|\n",
      "|             0|                    0.0|            0|                   0.0|            10|                  627.5|       0.02|       0.05|       0.0|       0.0|  Feb|               3|      3|     1|          4|          2|   true|  false|        9.0|\n",
      "|             0|                    0.0|            0|                   0.0|            19|            154.2166667|0.015789474|0.024561404|       0.0|       0.0|  Feb|               2|      2|     1|          3|          2|  false|  false|        9.0|\n",
      "|             0|                   -1.0|            0|                  -1.0|             1|                   -1.0|        0.2|        0.2|       0.0|       0.4|  Feb|               2|      4|     3|          3|          2|  false|  false|        9.0|\n",
      "|             1|                   -1.0|            0|                  -1.0|             1|                   -1.0|        0.2|        0.2|       0.0|       0.0|  Feb|               1|      2|     1|          5|          2|   true|  false|        9.0|\n",
      "|             0|                    0.0|            0|                   0.0|             2|                   37.0|        0.0|        0.1|       0.0|       0.8|  Feb|               2|      2|     2|          3|          2|  false|  false|        9.0|\n",
      "|             0|                    0.0|            0|                   0.0|             3|                  738.0|        0.0|0.022222222|       0.0|       0.4|  Feb|               2|      4|     1|          2|          2|  false|  false|        9.0|\n",
      "|             0|                    0.0|            0|                   0.0|             3|                  395.0|        0.0|0.066666667|       0.0|       0.0|  Feb|               1|      1|     3|          3|          2|  false|  false|        9.0|\n",
      "|             0|                    0.0|            0|                   0.0|            16|                 407.75|    0.01875|0.025833333|       0.0|       0.4|  Feb|               1|      1|     4|          3|          2|  false|  false|        9.0|\n",
      "|             0|                    0.0|            0|                   0.0|             7|                  280.5|        0.0|0.028571429|       0.0|       0.0|  Feb|               1|      1|     1|          3|          2|  false|  false|        9.0|\n",
      "|             0|                    0.0|            0|                   0.0|             6|                   98.0|        0.0|0.066666667|       0.0|       0.0|  Feb|               2|      5|     1|          3|          2|  false|  false|        9.0|\n",
      "|             0|                    0.0|            0|                   0.0|             2|                   68.0|        0.0|        0.1|       0.0|       0.0|  Feb|               3|      2|     3|          3|          2|  false|  false|        9.0|\n",
      "|             2|                   53.0|            0|                   0.0|            23|            1668.285119|0.008333333|0.016312636|       0.0|       0.0|  Feb|               1|      1|     9|          3|          2|  false|  false|        9.0|\n",
      "|             0|                   -1.0|            0|                  -1.0|             1|                   -1.0|        0.2|        0.2|       0.0|       0.0|  Feb|               1|      1|     4|          3|          2|  false|  false|        9.0|\n",
      "|             0|                    0.0|            0|                   0.0|            13|            334.9666667|        0.0|0.007692308|       0.0|       0.0|  Feb|               1|      1|     1|          4|          2|   true|  false|        9.0|\n",
      "|             0|                    0.0|            0|                   0.0|             2|                   32.0|        0.0|        0.1|       0.0|       0.0|  Feb|               2|      2|     1|          3|          2|  false|  false|        9.0|\n",
      "|             0|                    0.0|            0|                   0.0|            20|            2981.166667|        0.0|       0.01|       0.0|       0.0|  Feb|               2|      4|     4|          4|          2|  false|  false|        9.0|\n",
      "+--------------+-----------------------+-------------+----------------------+--------------+-----------------------+-----------+-----------+----------+----------+-----+----------------+-------+------+-----------+-----------+-------+-------+-----------+\n",
      "only showing top 20 rows\n",
      "\n"
     ]
    }
   ],
   "source": [
    "indexer = StringIndexer(inputCol='Month',outputCol='Month_index')\n",
    "# fit string indexer model on the dataframe\n",
    "shoppers_df1 = indexer.fit(shoppers_df).transform(shoppers_df)\n",
    "shoppers_df1.show()"
   ]
  },
  {
   "cell_type": "code",
   "execution_count": 18,
   "id": "40defaa0",
   "metadata": {},
   "outputs": [],
   "source": [
    "shoppers_df2 = shoppers_df1.drop('Month')"
   ]
  },
  {
   "cell_type": "code",
   "execution_count": 19,
   "id": "b6578f7e",
   "metadata": {},
   "outputs": [
    {
     "name": "stdout",
     "output_type": "stream",
     "text": [
      "+--------------+-----------------------+-------------+----------------------+--------------+-----------------------+-----------+-----------+----------+----------+----------------+-------+------+-----------+-----------+-------+-------+-----------+\n",
      "|Administrative|Administrative_Duration|Informational|Informational_Duration|ProductRelated|ProductRelated_Duration|BounceRates|  ExitRates|PageValues|SpecialDay|OperatingSystems|Browser|Region|TrafficType|VisitorType|Weekend|Revenue|Month_index|\n",
      "+--------------+-----------------------+-------------+----------------------+--------------+-----------------------+-----------+-----------+----------+----------+----------------+-------+------+-----------+-----------+-------+-------+-----------+\n",
      "|             0|                    0.0|            0|                   0.0|             1|                    0.0|        0.2|        0.2|       0.0|       0.0|               1|      1|     1|          1|          2|  false|  false|        9.0|\n",
      "|             0|                    0.0|            0|                   0.0|             2|                   64.0|        0.0|        0.1|       0.0|       0.0|               2|      2|     1|          2|          2|  false|  false|        9.0|\n",
      "|             0|                   -1.0|            0|                  -1.0|             1|                   -1.0|        0.2|        0.2|       0.0|       0.0|               4|      1|     9|          3|          2|  false|  false|        9.0|\n",
      "|             0|                    0.0|            0|                   0.0|             2|            2.666666667|       0.05|       0.14|       0.0|       0.0|               3|      2|     2|          4|          2|  false|  false|        9.0|\n",
      "|             0|                    0.0|            0|                   0.0|            10|                  627.5|       0.02|       0.05|       0.0|       0.0|               3|      3|     1|          4|          2|   true|  false|        9.0|\n",
      "|             0|                    0.0|            0|                   0.0|            19|            154.2166667|0.015789474|0.024561404|       0.0|       0.0|               2|      2|     1|          3|          2|  false|  false|        9.0|\n",
      "|             0|                   -1.0|            0|                  -1.0|             1|                   -1.0|        0.2|        0.2|       0.0|       0.4|               2|      4|     3|          3|          2|  false|  false|        9.0|\n",
      "|             1|                   -1.0|            0|                  -1.0|             1|                   -1.0|        0.2|        0.2|       0.0|       0.0|               1|      2|     1|          5|          2|   true|  false|        9.0|\n",
      "|             0|                    0.0|            0|                   0.0|             2|                   37.0|        0.0|        0.1|       0.0|       0.8|               2|      2|     2|          3|          2|  false|  false|        9.0|\n",
      "|             0|                    0.0|            0|                   0.0|             3|                  738.0|        0.0|0.022222222|       0.0|       0.4|               2|      4|     1|          2|          2|  false|  false|        9.0|\n",
      "|             0|                    0.0|            0|                   0.0|             3|                  395.0|        0.0|0.066666667|       0.0|       0.0|               1|      1|     3|          3|          2|  false|  false|        9.0|\n",
      "|             0|                    0.0|            0|                   0.0|            16|                 407.75|    0.01875|0.025833333|       0.0|       0.4|               1|      1|     4|          3|          2|  false|  false|        9.0|\n",
      "|             0|                    0.0|            0|                   0.0|             7|                  280.5|        0.0|0.028571429|       0.0|       0.0|               1|      1|     1|          3|          2|  false|  false|        9.0|\n",
      "|             0|                    0.0|            0|                   0.0|             6|                   98.0|        0.0|0.066666667|       0.0|       0.0|               2|      5|     1|          3|          2|  false|  false|        9.0|\n",
      "|             0|                    0.0|            0|                   0.0|             2|                   68.0|        0.0|        0.1|       0.0|       0.0|               3|      2|     3|          3|          2|  false|  false|        9.0|\n",
      "|             2|                   53.0|            0|                   0.0|            23|            1668.285119|0.008333333|0.016312636|       0.0|       0.0|               1|      1|     9|          3|          2|  false|  false|        9.0|\n",
      "|             0|                   -1.0|            0|                  -1.0|             1|                   -1.0|        0.2|        0.2|       0.0|       0.0|               1|      1|     4|          3|          2|  false|  false|        9.0|\n",
      "|             0|                    0.0|            0|                   0.0|            13|            334.9666667|        0.0|0.007692308|       0.0|       0.0|               1|      1|     1|          4|          2|   true|  false|        9.0|\n",
      "|             0|                    0.0|            0|                   0.0|             2|                   32.0|        0.0|        0.1|       0.0|       0.0|               2|      2|     1|          3|          2|  false|  false|        9.0|\n",
      "|             0|                    0.0|            0|                   0.0|            20|            2981.166667|        0.0|       0.01|       0.0|       0.0|               2|      4|     4|          4|          2|  false|  false|        9.0|\n",
      "+--------------+-----------------------+-------------+----------------------+--------------+-----------------------+-----------+-----------+----------+----------+----------------+-------+------+-----------+-----------+-------+-------+-----------+\n",
      "only showing top 20 rows\n",
      "\n"
     ]
    }
   ],
   "source": [
    "shoppers_df2.show()"
   ]
  },
  {
   "cell_type": "code",
   "execution_count": 20,
   "id": "a6bf0836",
   "metadata": {},
   "outputs": [],
   "source": [
    "from pyspark.sql.types import IntegerType\n",
    "shoppers_df2 = shoppers_df2.withColumn('VisitorType',col('VisitorType').cast('integer'))"
   ]
  },
  {
   "cell_type": "code",
   "execution_count": 21,
   "id": "23db6569",
   "metadata": {},
   "outputs": [
    {
     "name": "stdout",
     "output_type": "stream",
     "text": [
      "root\n",
      " |-- Administrative: integer (nullable = true)\n",
      " |-- Administrative_Duration: double (nullable = true)\n",
      " |-- Informational: integer (nullable = true)\n",
      " |-- Informational_Duration: double (nullable = true)\n",
      " |-- ProductRelated: integer (nullable = true)\n",
      " |-- ProductRelated_Duration: double (nullable = true)\n",
      " |-- BounceRates: double (nullable = true)\n",
      " |-- ExitRates: double (nullable = true)\n",
      " |-- PageValues: double (nullable = true)\n",
      " |-- SpecialDay: double (nullable = true)\n",
      " |-- OperatingSystems: integer (nullable = true)\n",
      " |-- Browser: integer (nullable = true)\n",
      " |-- Region: integer (nullable = true)\n",
      " |-- TrafficType: integer (nullable = true)\n",
      " |-- VisitorType: integer (nullable = true)\n",
      " |-- Weekend: boolean (nullable = true)\n",
      " |-- Revenue: boolean (nullable = true)\n",
      " |-- Month_index: double (nullable = false)\n",
      "\n"
     ]
    }
   ],
   "source": [
    "shoppers_df2.printSchema()"
   ]
  },
  {
   "cell_type": "markdown",
   "id": "78533554",
   "metadata": {},
   "source": [
    "#### 5. Features Vector"
   ]
  },
  {
   "cell_type": "code",
   "execution_count": 22,
   "id": "48ad0913",
   "metadata": {},
   "outputs": [],
   "source": [
    "from pyspark.ml.feature import VectorAssembler\n"
   ]
  },
  {
   "cell_type": "code",
   "execution_count": 23,
   "id": "17313587",
   "metadata": {},
   "outputs": [
    {
     "name": "stdout",
     "output_type": "stream",
     "text": [
      "['Administrative', 'Administrative_Duration', 'Informational', 'Informational_Duration', 'ProductRelated', 'ProductRelated_Duration', 'BounceRates', 'ExitRates', 'PageValues', 'SpecialDay', 'OperatingSystems', 'Browser', 'Region', 'TrafficType', 'VisitorType', 'Weekend', 'Revenue', 'Month_index']\n"
     ]
    }
   ],
   "source": [
    "print(shoppers_df2.columns)"
   ]
  },
  {
   "cell_type": "code",
   "execution_count": 24,
   "id": "4c54be17",
   "metadata": {},
   "outputs": [],
   "source": [
    "vector_assembler = VectorAssembler(inputCols=['Administrative', 'Administrative_Duration', 'Informational',\n",
    "                                              'Informational_Duration', 'ProductRelated', 'ProductRelated_Duration',\n",
    "                                              'BounceRates', 'ExitRates', 'PageValues', 'SpecialDay', 'OperatingSystems',\n",
    "                                              'Browser', 'Region', 'TrafficType', 'VisitorType', 'Weekend', 'Month_index'], \n",
    "                                   outputCol='feature')"
   ]
  },
  {
   "cell_type": "code",
   "execution_count": 25,
   "id": "8a1a1f80",
   "metadata": {},
   "outputs": [
    {
     "name": "stdout",
     "output_type": "stream",
     "text": [
      "+---------------------------------------------------------------------------------------------------+\n",
      "|feature                                                                                            |\n",
      "+---------------------------------------------------------------------------------------------------+\n",
      "|(17,[4,6,7,10,11,12,13,14,16],[1.0,0.2,0.2,1.0,1.0,1.0,1.0,2.0,9.0])                               |\n",
      "|(17,[4,5,7,10,11,12,13,14,16],[2.0,64.0,0.1,2.0,2.0,1.0,2.0,2.0,9.0])                              |\n",
      "|[0.0,-1.0,0.0,-1.0,1.0,-1.0,0.2,0.2,0.0,0.0,4.0,1.0,9.0,3.0,2.0,0.0,9.0]                           |\n",
      "|(17,[4,5,6,7,10,11,12,13,14,16],[2.0,2.666666667,0.05,0.14,3.0,2.0,2.0,4.0,2.0,9.0])               |\n",
      "|[0.0,0.0,0.0,0.0,10.0,627.5,0.02,0.05,0.0,0.0,3.0,3.0,1.0,4.0,2.0,1.0,9.0]                         |\n",
      "|(17,[4,5,6,7,10,11,12,13,14,16],[19.0,154.2166667,0.015789474,0.024561404,2.0,2.0,1.0,3.0,2.0,9.0])|\n",
      "|[0.0,-1.0,0.0,-1.0,1.0,-1.0,0.2,0.2,0.0,0.4,2.0,4.0,3.0,3.0,2.0,0.0,9.0]                           |\n",
      "|[1.0,-1.0,0.0,-1.0,1.0,-1.0,0.2,0.2,0.0,0.0,1.0,2.0,1.0,5.0,2.0,1.0,9.0]                           |\n",
      "|(17,[4,5,7,9,10,11,12,13,14,16],[2.0,37.0,0.1,0.8,2.0,2.0,2.0,3.0,2.0,9.0])                        |\n",
      "|(17,[4,5,7,9,10,11,12,13,14,16],[3.0,738.0,0.022222222,0.4,2.0,4.0,1.0,2.0,2.0,9.0])               |\n",
      "|(17,[4,5,7,10,11,12,13,14,16],[3.0,395.0,0.066666667,1.0,1.0,3.0,3.0,2.0,9.0])                     |\n",
      "|[0.0,0.0,0.0,0.0,16.0,407.75,0.01875,0.025833333,0.0,0.4,1.0,1.0,4.0,3.0,2.0,0.0,9.0]              |\n",
      "|(17,[4,5,7,10,11,12,13,14,16],[7.0,280.5,0.028571429,1.0,1.0,1.0,3.0,2.0,9.0])                     |\n",
      "|(17,[4,5,7,10,11,12,13,14,16],[6.0,98.0,0.066666667,2.0,5.0,1.0,3.0,2.0,9.0])                      |\n",
      "|(17,[4,5,7,10,11,12,13,14,16],[2.0,68.0,0.1,3.0,2.0,3.0,3.0,2.0,9.0])                              |\n",
      "|[2.0,53.0,0.0,0.0,23.0,1668.285119,0.008333333,0.016312636,0.0,0.0,1.0,1.0,9.0,3.0,2.0,0.0,9.0]    |\n",
      "|[0.0,-1.0,0.0,-1.0,1.0,-1.0,0.2,0.2,0.0,0.0,1.0,1.0,4.0,3.0,2.0,0.0,9.0]                           |\n",
      "|(17,[4,5,7,10,11,12,13,14,15,16],[13.0,334.9666667,0.007692308,1.0,1.0,1.0,4.0,2.0,1.0,9.0])       |\n",
      "|(17,[4,5,7,10,11,12,13,14,16],[2.0,32.0,0.1,2.0,2.0,1.0,3.0,2.0,9.0])                              |\n",
      "|(17,[4,5,7,10,11,12,13,14,16],[20.0,2981.166667,0.01,2.0,4.0,4.0,4.0,2.0,9.0])                     |\n",
      "+---------------------------------------------------------------------------------------------------+\n",
      "only showing top 20 rows\n",
      "\n"
     ]
    }
   ],
   "source": [
    "shoppers_df3=vector_assembler.transform(shoppers_df2)\n",
    "shoppers_df3.select(['feature']).show(truncate=False)"
   ]
  },
  {
   "cell_type": "markdown",
   "id": "cc74566b",
   "metadata": {},
   "source": [
    "### 6 split the dataset\n",
    "    * random split"
   ]
  },
  {
   "cell_type": "code",
   "execution_count": 30,
   "id": "4487e16e",
   "metadata": {},
   "outputs": [],
   "source": [
    "shoppers_df3 = shoppers_df3.withColumn('Revenue',col('Revenue').cast('integer'))"
   ]
  },
  {
   "cell_type": "code",
   "execution_count": 31,
   "id": "7580ce7f",
   "metadata": {},
   "outputs": [
    {
     "name": "stdout",
     "output_type": "stream",
     "text": [
      "root\n",
      " |-- Administrative: integer (nullable = true)\n",
      " |-- Administrative_Duration: double (nullable = true)\n",
      " |-- Informational: integer (nullable = true)\n",
      " |-- Informational_Duration: double (nullable = true)\n",
      " |-- ProductRelated: integer (nullable = true)\n",
      " |-- ProductRelated_Duration: double (nullable = true)\n",
      " |-- BounceRates: double (nullable = true)\n",
      " |-- ExitRates: double (nullable = true)\n",
      " |-- PageValues: double (nullable = true)\n",
      " |-- SpecialDay: double (nullable = true)\n",
      " |-- OperatingSystems: integer (nullable = true)\n",
      " |-- Browser: integer (nullable = true)\n",
      " |-- Region: integer (nullable = true)\n",
      " |-- TrafficType: integer (nullable = true)\n",
      " |-- VisitorType: integer (nullable = true)\n",
      " |-- Weekend: boolean (nullable = true)\n",
      " |-- Revenue: integer (nullable = true)\n",
      " |-- Month_index: double (nullable = false)\n",
      " |-- feature: vector (nullable = true)\n",
      "\n"
     ]
    }
   ],
   "source": [
    "shoppers_df3.printSchema()"
   ]
  },
  {
   "cell_type": "code",
   "execution_count": 32,
   "id": "fb27183b",
   "metadata": {},
   "outputs": [],
   "source": [
    "train,test = shoppers_df3.randomSplit([0.8,0.2],seed = 2)"
   ]
  },
  {
   "cell_type": "code",
   "execution_count": 28,
   "id": "0f261856",
   "metadata": {
    "collapsed": true
   },
   "outputs": [
    {
     "name": "stdout",
     "output_type": "stream",
     "text": [
      "+--------------+-----------------------+-------------+----------------------+--------------+-----------------------+-----------+-----------+----------+----------+----------------+-------+------+-----------+-----------+-------+-------+-----------+--------------------+\n",
      "|Administrative|Administrative_Duration|Informational|Informational_Duration|ProductRelated|ProductRelated_Duration|BounceRates|  ExitRates|PageValues|SpecialDay|OperatingSystems|Browser|Region|TrafficType|VisitorType|Weekend|Revenue|Month_index|             feature|\n",
      "+--------------+-----------------------+-------------+----------------------+--------------+-----------------------+-----------+-----------+----------+----------+----------------+-------+------+-----------+-----------+-------+-------+-----------+--------------------+\n",
      "|             0|                   -1.0|            0|                  -1.0|             1|                   -1.0|        0.0|0.066666667|       0.0|       0.0|               2|      2|     7|          1|          2|  false|  false|        2.0|[0.0,-1.0,0.0,-1....|\n",
      "|             0|                   -1.0|            0|                  -1.0|             1|                   -1.0|        0.0|        0.1|       0.0|       0.0|               2|      2|     2|          6|          2|  false|  false|        2.0|[0.0,-1.0,0.0,-1....|\n",
      "|             0|                   -1.0|            0|                  -1.0|             1|                   -1.0|        0.2|        0.2|       0.0|       0.0|               1|      1|     1|          1|          2|  false|  false|        2.0|[0.0,-1.0,0.0,-1....|\n",
      "|             0|                   -1.0|            0|                  -1.0|             1|                   -1.0|        0.2|        0.2|       0.0|       0.0|               1|      1|     1|         20|          2|  false|  false|        0.0|[0.0,-1.0,0.0,-1....|\n",
      "|             0|                   -1.0|            0|                  -1.0|             1|                   -1.0|        0.2|        0.2|       0.0|       0.0|               1|      1|     3|          1|          2|  false|  false|        7.0|[0.0,-1.0,0.0,-1....|\n",
      "|             0|                   -1.0|            0|                  -1.0|             1|                   -1.0|        0.2|        0.2|       0.0|       0.0|               1|      1|     3|          3|          2|  false|  false|        2.0|[0.0,-1.0,0.0,-1....|\n",
      "|             0|                   -1.0|            0|                  -1.0|             1|                   -1.0|        0.2|        0.2|       0.0|       0.0|               1|      1|     4|          3|          2|  false|  false|        9.0|[0.0,-1.0,0.0,-1....|\n",
      "|             0|                   -1.0|            0|                  -1.0|             1|                   -1.0|        0.2|        0.2|       0.0|       0.0|               1|      1|     9|          2|          2|  false|  false|        1.0|[0.0,-1.0,0.0,-1....|\n",
      "|             0|                   -1.0|            0|                  -1.0|             1|                   -1.0|        0.2|        0.2|       0.0|       0.0|               1|      8|     2|          1|          2|  false|  false|        1.0|[0.0,-1.0,0.0,-1....|\n",
      "|             0|                   -1.0|            0|                  -1.0|             1|                   -1.0|        0.2|        0.2|       0.0|       0.0|               2|      2|     1|         13|          2|  false|  false|        1.0|[0.0,-1.0,0.0,-1....|\n",
      "|             0|                   -1.0|            0|                  -1.0|             1|                   -1.0|        0.2|        0.2|       0.0|       0.0|               2|      2|     4|          1|          2|   true|  false|        9.0|[0.0,-1.0,0.0,-1....|\n",
      "|             0|                   -1.0|            0|                  -1.0|             1|                   -1.0|        0.2|        0.2|       0.0|       0.0|               2|      2|     4|          3|          2|  false|  false|        9.0|[0.0,-1.0,0.0,-1....|\n",
      "|             0|                   -1.0|            0|                  -1.0|             1|                   -1.0|        0.2|        0.2|       0.0|       0.0|               2|      2|     7|          3|          2|  false|  false|        9.0|[0.0,-1.0,0.0,-1....|\n",
      "|             0|                   -1.0|            0|                  -1.0|             1|                   -1.0|        0.2|        0.2|       0.0|       0.0|               2|      2|     9|          3|          2|  false|  false|        0.0|[0.0,-1.0,0.0,-1....|\n",
      "|             0|                   -1.0|            0|                  -1.0|             1|                   -1.0|        0.2|        0.2|       0.0|       0.0|               2|      4|     1|          1|          2|  false|  false|        9.0|[0.0,-1.0,0.0,-1....|\n",
      "|             0|                   -1.0|            0|                  -1.0|             1|                   -1.0|        0.2|        0.2|       0.0|       0.0|               2|      4|     4|          3|          2|  false|  false|        0.0|[0.0,-1.0,0.0,-1....|\n",
      "|             0|                   -1.0|            0|                  -1.0|             1|                   -1.0|        0.2|        0.2|       0.0|       0.0|               2|      5|     1|          3|          2|  false|  false|        2.0|[0.0,-1.0,0.0,-1....|\n",
      "|             0|                   -1.0|            0|                  -1.0|             1|                   -1.0|        0.2|        0.2|       0.0|       0.0|               2|      5|     2|          3|          2|  false|  false|        2.0|[0.0,-1.0,0.0,-1....|\n",
      "|             0|                   -1.0|            0|                  -1.0|             1|                   -1.0|        0.2|        0.2|       0.0|       0.0|               3|      2|     3|          1|          2|  false|  false|        2.0|[0.0,-1.0,0.0,-1....|\n",
      "|             0|                   -1.0|            0|                  -1.0|             1|                   -1.0|        0.2|        0.2|       0.0|       0.0|               3|      2|     3|          3|          2|  false|  false|        2.0|[0.0,-1.0,0.0,-1....|\n",
      "+--------------+-----------------------+-------------+----------------------+--------------+-----------------------+-----------+-----------+----------+----------+----------------+-------+------+-----------+-----------+-------+-------+-----------+--------------------+\n",
      "only showing top 20 rows\n",
      "\n"
     ]
    }
   ],
   "source": [
    "train.show()"
   ]
  },
  {
   "cell_type": "code",
   "execution_count": 33,
   "id": "f653ce6a",
   "metadata": {},
   "outputs": [
    {
     "data": {
      "text/plain": [
       "DataFrame[feature: vector, Revenue: int]"
      ]
     },
     "execution_count": 33,
     "metadata": {},
     "output_type": "execute_result"
    }
   ],
   "source": [
    "train.select(['feature','Revenue'])"
   ]
  },
  {
   "cell_type": "markdown",
   "id": "133674dd",
   "metadata": {},
   "source": [
    "### 7.Build a model : Decision Tree Classifier"
   ]
  },
  {
   "cell_type": "code",
   "execution_count": 34,
   "id": "c8d38e25",
   "metadata": {},
   "outputs": [],
   "source": [
    "from pyspark.ml.classification import DecisionTreeClassifier\n",
    "tree = DecisionTreeClassifier(featuresCol='feature',labelCol='Revenue')\n",
    "decision_model = tree.fit(train)"
   ]
  },
  {
   "cell_type": "code",
   "execution_count": 35,
   "id": "188d0128",
   "metadata": {},
   "outputs": [],
   "source": [
    "# after training make predictions on test data\n",
    "predictions = decision_model.transform(test)"
   ]
  },
  {
   "cell_type": "code",
   "execution_count": 37,
   "id": "a3983cf2",
   "metadata": {},
   "outputs": [
    {
     "name": "stdout",
     "output_type": "stream",
     "text": [
      "+--------------------+-------+----------+\n",
      "|             feature|Revenue|prediction|\n",
      "+--------------------+-------+----------+\n",
      "|[0.0,-1.0,0.0,-1....|      0|       0.0|\n",
      "|[0.0,-1.0,0.0,-1....|      0|       0.0|\n",
      "|[0.0,-1.0,0.0,-1....|      0|       0.0|\n",
      "|[0.0,-1.0,0.0,-1....|      0|       0.0|\n",
      "|[0.0,-1.0,0.0,-1....|      0|       0.0|\n",
      "|(17,[6,7,10,11,12...|      0|       0.0|\n",
      "|(17,[4,7,9,10,11,...|      0|       0.0|\n",
      "|(17,[4,6,7,10,11,...|      0|       0.0|\n",
      "|(17,[4,6,7,10,11,...|      0|       0.0|\n",
      "|(17,[4,6,7,10,11,...|      0|       0.0|\n",
      "|(17,[4,6,7,10,11,...|      0|       0.0|\n",
      "|(17,[4,6,7,10,11,...|      0|       0.0|\n",
      "|(17,[4,6,7,10,11,...|      0|       0.0|\n",
      "|(17,[4,6,7,10,11,...|      0|       0.0|\n",
      "|(17,[4,6,7,10,11,...|      0|       0.0|\n",
      "|(17,[4,6,7,10,11,...|      0|       0.0|\n",
      "|(17,[4,6,7,10,11,...|      0|       0.0|\n",
      "|(17,[4,6,7,10,11,...|      0|       0.0|\n",
      "|(17,[4,6,7,10,11,...|      0|       0.0|\n",
      "|(17,[4,6,7,10,11,...|      0|       0.0|\n",
      "+--------------------+-------+----------+\n",
      "only showing top 20 rows\n",
      "\n"
     ]
    }
   ],
   "source": [
    "predictions.select(['feature','Revenue','prediction']).show()"
   ]
  },
  {
   "cell_type": "markdown",
   "id": "ef5aee99",
   "metadata": {},
   "source": [
    "### 8. classification metrics"
   ]
  },
  {
   "cell_type": "code",
   "execution_count": 38,
   "id": "1b4c2a51",
   "metadata": {},
   "outputs": [
    {
     "data": {
      "text/plain": [
       "0.883921246923708"
      ]
     },
     "execution_count": 38,
     "metadata": {},
     "output_type": "execute_result"
    }
   ],
   "source": [
    "from pyspark.ml.evaluation import MulticlassClassificationEvaluator\n",
    "evaluator = MulticlassClassificationEvaluator(labelCol='Revenue',predictionCol='prediction',\n",
    "                                 metricName='accuracy')\n",
    "accuracy = evaluator.evaluate(predictions)\n",
    "accuracy"
   ]
  },
  {
   "cell_type": "code",
   "execution_count": null,
   "id": "7dad8b10",
   "metadata": {},
   "outputs": [],
   "source": []
  }
 ],
 "metadata": {
  "kernelspec": {
   "display_name": "Python 3",
   "language": "python",
   "name": "python3"
  },
  "language_info": {
   "codemirror_mode": {
    "name": "ipython",
    "version": 3
   },
   "file_extension": ".py",
   "mimetype": "text/x-python",
   "name": "python",
   "nbconvert_exporter": "python",
   "pygments_lexer": "ipython3",
   "version": "3.6.9"
  }
 },
 "nbformat": 4,
 "nbformat_minor": 5
}
