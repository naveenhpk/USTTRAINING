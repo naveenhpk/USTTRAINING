{
 "cells": [
  {
   "cell_type": "code",
   "execution_count": 5,
   "id": "b166900f",
   "metadata": {},
   "outputs": [
    {
     "data": {
      "text/html": [
       "\n",
       "        <div>\n",
       "            <p><b>SparkContext</b></p>\n",
       "\n",
       "            <p><a href=\"http://10.0.2.15:4042\">Spark UI</a></p>\n",
       "\n",
       "            <dl>\n",
       "              <dt>Version</dt>\n",
       "                <dd><code>v2.4.8</code></dd>\n",
       "              <dt>Master</dt>\n",
       "                <dd><code>local[*]</code></dd>\n",
       "              <dt>AppName</dt>\n",
       "                <dd><code>PySparkShell</code></dd>\n",
       "            </dl>\n",
       "        </div>\n",
       "        "
      ],
      "text/plain": [
       "<SparkContext master=local[*] appName=PySparkShell>"
      ]
     },
     "execution_count": 5,
     "metadata": {},
     "output_type": "execute_result"
    }
   ],
   "source": [
    "sc"
   ]
  },
  {
   "cell_type": "code",
   "execution_count": 6,
   "id": "0aa6213f",
   "metadata": {},
   "outputs": [
    {
     "data": {
      "text/html": [
       "\n",
       "            <div>\n",
       "                <p><b>SparkSession - hive</b></p>\n",
       "                \n",
       "        <div>\n",
       "            <p><b>SparkContext</b></p>\n",
       "\n",
       "            <p><a href=\"http://10.0.2.15:4042\">Spark UI</a></p>\n",
       "\n",
       "            <dl>\n",
       "              <dt>Version</dt>\n",
       "                <dd><code>v2.4.8</code></dd>\n",
       "              <dt>Master</dt>\n",
       "                <dd><code>local[*]</code></dd>\n",
       "              <dt>AppName</dt>\n",
       "                <dd><code>PySparkShell</code></dd>\n",
       "            </dl>\n",
       "        </div>\n",
       "        \n",
       "            </div>\n",
       "        "
      ],
      "text/plain": [
       "<pyspark.sql.session.SparkSession at 0x7f471b0cab00>"
      ]
     },
     "execution_count": 6,
     "metadata": {},
     "output_type": "execute_result"
    }
   ],
   "source": [
    "spark"
   ]
  },
  {
   "cell_type": "code",
   "execution_count": 7,
   "id": "33afc30f",
   "metadata": {},
   "outputs": [
    {
     "name": "stdout",
     "output_type": "stream",
     "text": [
      "+---+-------+--------+-------+---+-------+--------+---------+-------+------------+----+--------+-----+-----+--------+--------+---+\n",
      "|age|balance|campaign|contact|day|default|duration|education|housing|         job|loan| marital|month|pdays|poutcome|previous|  y|\n",
      "+---+-------+--------+-------+---+-------+--------+---------+-------+------------+----+--------+-----+-----+--------+--------+---+\n",
      "| 58|   2143|       1|unknown|  5|     no|     261| tertiary|    yes|  management|  no| married|  may|   -1| unknown|       0| no|\n",
      "| 44|     29|       1|unknown|  5|     no|     151|secondary|    yes|  technician|  no|  single|  may|   -1| unknown|       0| no|\n",
      "| 33|      2|       1|unknown|  5|     no|      76|secondary|    yes|entrepreneur| yes| married|  may|   -1| unknown|       0| no|\n",
      "| 47|   1506|       1|unknown|  5|     no|      92|  unknown|    yes| blue-collar|  no| married|  may|   -1| unknown|       0| no|\n",
      "| 33|      1|       1|unknown|  5|     no|     198|  unknown|     no|     unknown|  no|  single|  may|   -1| unknown|       0| no|\n",
      "| 35|    231|       1|unknown|  5|     no|     139| tertiary|    yes|  management|  no| married|  may|   -1| unknown|       0| no|\n",
      "| 28|    447|       1|unknown|  5|     no|     217| tertiary|    yes|  management| yes|  single|  may|   -1| unknown|       0| no|\n",
      "| 42|      2|       1|unknown|  5|    yes|     380| tertiary|    yes|entrepreneur|  no|divorced|  may|   -1| unknown|       0| no|\n",
      "| 58|    121|       1|unknown|  5|     no|      50|  primary|    yes|     retired|  no| married|  may|   -1| unknown|       0| no|\n",
      "| 43|    593|       1|unknown|  5|     no|      55|secondary|    yes|  technician|  no|  single|  may|   -1| unknown|       0| no|\n",
      "| 41|    270|       1|unknown|  5|     no|     222|secondary|    yes|      admin.|  no|divorced|  may|   -1| unknown|       0| no|\n",
      "| 29|    390|       1|unknown|  5|     no|     137|secondary|    yes|      admin.|  no|  single|  may|   -1| unknown|       0| no|\n",
      "| 53|      6|       1|unknown|  5|     no|     517|secondary|    yes|  technician|  no| married|  may|   -1| unknown|       0| no|\n",
      "| 58|     71|       1|unknown|  5|     no|      71|  unknown|    yes|  technician|  no| married|  may|   -1| unknown|       0| no|\n",
      "| 57|    162|       1|unknown|  5|     no|     174|secondary|    yes|    services|  no| married|  may|   -1| unknown|       0| no|\n",
      "| 51|    229|       1|unknown|  5|     no|     353|  primary|    yes|     retired|  no| married|  may|   -1| unknown|       0| no|\n",
      "| 45|     13|       1|unknown|  5|     no|      98|  unknown|    yes|      admin.|  no|  single|  may|   -1| unknown|       0| no|\n",
      "| 57|     52|       1|unknown|  5|     no|      38|  primary|    yes| blue-collar|  no| married|  may|   -1| unknown|       0| no|\n",
      "| 60|     60|       1|unknown|  5|     no|     219|  primary|    yes|     retired|  no| married|  may|   -1| unknown|       0| no|\n",
      "| 33|      0|       1|unknown|  5|     no|      54|secondary|    yes|    services|  no| married|  may|   -1| unknown|       0| no|\n",
      "+---+-------+--------+-------+---+-------+--------+---------+-------+------------+----+--------+-----+-----+--------+--------+---+\n",
      "only showing top 20 rows\n",
      "\n"
     ]
    }
   ],
   "source": [
    "bank_customer_data = spark.read.json(\"file:///home/hadoop/Downloads/bank_edited.json\",multiLine=True)\n",
    "bank_customer_data.show()"
   ]
  },
  {
   "cell_type": "code",
   "execution_count": 8,
   "id": "6e569630",
   "metadata": {},
   "outputs": [
    {
     "name": "stdout",
     "output_type": "stream",
     "text": [
      "root\n",
      " |-- age: long (nullable = true)\n",
      " |-- balance: long (nullable = true)\n",
      " |-- campaign: long (nullable = true)\n",
      " |-- contact: string (nullable = true)\n",
      " |-- day: long (nullable = true)\n",
      " |-- default: string (nullable = true)\n",
      " |-- duration: long (nullable = true)\n",
      " |-- education: string (nullable = true)\n",
      " |-- housing: string (nullable = true)\n",
      " |-- job: string (nullable = true)\n",
      " |-- loan: string (nullable = true)\n",
      " |-- marital: string (nullable = true)\n",
      " |-- month: string (nullable = true)\n",
      " |-- pdays: long (nullable = true)\n",
      " |-- poutcome: string (nullable = true)\n",
      " |-- previous: long (nullable = true)\n",
      " |-- y: string (nullable = true)\n",
      "\n"
     ]
    }
   ],
   "source": [
    "bank_customer_data.printSchema()"
   ]
  },
  {
   "cell_type": "markdown",
   "id": "c5b682ee",
   "metadata": {},
   "source": [
    "### 1.Display Max, MIn and Mean age of the targetted customer "
   ]
  },
  {
   "cell_type": "code",
   "execution_count": 9,
   "id": "137f47b1",
   "metadata": {},
   "outputs": [],
   "source": [
    "bank_customer_data.createOrReplaceTempView(\"banktable\")"
   ]
  },
  {
   "cell_type": "code",
   "execution_count": 10,
   "id": "7ca36de5",
   "metadata": {},
   "outputs": [],
   "source": [
    "from pyspark.sql.types import *\n",
    "from pyspark.sql.functions import *\n"
   ]
  },
  {
   "cell_type": "code",
   "execution_count": 11,
   "id": "5ce77aa3",
   "metadata": {},
   "outputs": [
    {
     "name": "stdout",
     "output_type": "stream",
     "text": [
      "+--------+\n",
      "|max(age)|\n",
      "+--------+\n",
      "|      95|\n",
      "+--------+\n",
      "\n"
     ]
    }
   ],
   "source": [
    "bank_customer_data.select(max(\"age\")).show()"
   ]
  },
  {
   "cell_type": "code",
   "execution_count": 12,
   "id": "d868e980",
   "metadata": {},
   "outputs": [
    {
     "name": "stdout",
     "output_type": "stream",
     "text": [
      "+--------+\n",
      "|min(age)|\n",
      "+--------+\n",
      "|      18|\n",
      "+--------+\n",
      "\n"
     ]
    }
   ],
   "source": [
    "bank_customer_data.select(min(\"age\")).show()"
   ]
  },
  {
   "cell_type": "code",
   "execution_count": 13,
   "id": "2f5f3000",
   "metadata": {},
   "outputs": [
    {
     "name": "stdout",
     "output_type": "stream",
     "text": [
      "+------------------+\n",
      "|round(avg(age), 0)|\n",
      "+------------------+\n",
      "|              41.0|\n",
      "+------------------+\n",
      "\n"
     ]
    }
   ],
   "source": [
    "bank_customer_data.select(round(mean(\"age\"))).show()"
   ]
  },
  {
   "cell_type": "code",
   "execution_count": 14,
   "id": "1411bafc",
   "metadata": {},
   "outputs": [
    {
     "name": "stdout",
     "output_type": "stream",
     "text": [
      "+--------+--------+-----------------+\n",
      "|max(age)|min(age)|         avg(age)|\n",
      "+--------+--------+-----------------+\n",
      "|      95|      18|40.93621021432837|\n",
      "+--------+--------+-----------------+\n",
      "\n"
     ]
    }
   ],
   "source": [
    "# using spark sql\n",
    "spark.sql(\"select max(age),min(age),mean(age) from banktable\").show()"
   ]
  },
  {
   "cell_type": "markdown",
   "id": "62a08914",
   "metadata": {},
   "source": [
    "### 2. Check the quality of customer by analysing targeted customer with their min,max,mean,median balance"
   ]
  },
  {
   "cell_type": "code",
   "execution_count": 15,
   "id": "99c08396",
   "metadata": {},
   "outputs": [
    {
     "name": "stdout",
     "output_type": "stream",
     "text": [
      "+------------+---------------+------------------+--------------+\n",
      "|max(balance)|minimum_balance|      avg(balance)|median_balance|\n",
      "+------------+---------------+------------------+--------------+\n",
      "|      102127|              0|1362.2720576850766|           448|\n",
      "+------------+---------------+------------------+--------------+\n",
      "\n"
     ]
    }
   ],
   "source": [
    "spark.sql(\"select max(balance),min(abs(balance)) as minimum_balance,mean(balance),percentile_approx(balance,0.5) as median_balance from banktable\").show()"
   ]
  },
  {
   "cell_type": "markdown",
   "id": "52a29110",
   "metadata": {},
   "source": [
    "### 3 Check if age matters in marketing subscription for Term Deposit scheme"
   ]
  },
  {
   "cell_type": "code",
   "execution_count": 16,
   "id": "1f4127c4",
   "metadata": {},
   "outputs": [
    {
     "name": "stdout",
     "output_type": "stream",
     "text": [
      "+---+--------------+\n",
      "|age|customer_count|\n",
      "+---+--------------+\n",
      "| 32|           221|\n",
      "| 30|           217|\n",
      "| 33|           210|\n",
      "| 35|           209|\n",
      "| 31|           206|\n",
      "| 34|           198|\n",
      "| 36|           195|\n",
      "| 29|           171|\n",
      "| 37|           170|\n",
      "| 28|           162|\n",
      "| 38|           144|\n",
      "| 39|           143|\n",
      "| 27|           141|\n",
      "| 26|           134|\n",
      "| 41|           120|\n",
      "| 46|           118|\n",
      "| 40|           116|\n",
      "| 25|           113|\n",
      "| 47|           113|\n",
      "| 42|           111|\n",
      "+---+--------------+\n",
      "only showing top 20 rows\n",
      "\n"
     ]
    }
   ],
   "source": [
    "spark.sql(\"select age,count(*) as customer_count from banktable where y = 'yes' group by age order by customer_count desc\").show()"
   ]
  },
  {
   "cell_type": "markdown",
   "id": "ca59a4f2",
   "metadata": {},
   "source": [
    "### 4. Calculate Marketing success rate and Failure rate"
   ]
  },
  {
   "cell_type": "code",
   "execution_count": 17,
   "id": "9a6a6a3c",
   "metadata": {},
   "outputs": [
    {
     "name": "stdout",
     "output_type": "stream",
     "text": [
      "+------------+\n",
      "|success_rate|\n",
      "+------------+\n",
      "|      11.698|\n",
      "+------------+\n",
      "\n"
     ]
    }
   ],
   "source": [
    "spark.sql(\"select round((select count(*) from banktable where y = 'yes')*100/(count(*)),3) as success_rate from banktable\").show()"
   ]
  },
  {
   "cell_type": "code",
   "execution_count": 18,
   "id": "df2db1b9",
   "metadata": {},
   "outputs": [
    {
     "name": "stdout",
     "output_type": "stream",
     "text": [
      "+------------+\n",
      "|failure_rate|\n",
      "+------------+\n",
      "|      88.302|\n",
      "+------------+\n",
      "\n"
     ]
    }
   ],
   "source": [
    "spark.sql(\"select round((select count(*) from banktable where y = 'no')*100/(count(*)),3) as failure_rate from banktable\").show()"
   ]
  },
  {
   "cell_type": "markdown",
   "id": "aad42e1f",
   "metadata": {},
   "source": [
    "### 5. if marital status matters in marketing subscription for term deposit scheme "
   ]
  },
  {
   "cell_type": "code",
   "execution_count": 19,
   "id": "fcc0ce97",
   "metadata": {},
   "outputs": [
    {
     "name": "stdout",
     "output_type": "stream",
     "text": [
      "+--------+--------------+\n",
      "| marital|maritalsuccess|\n",
      "+--------+--------------+\n",
      "| married|          2755|\n",
      "|  single|          1912|\n",
      "|divorced|           622|\n",
      "+--------+--------------+\n",
      "\n"
     ]
    }
   ],
   "source": [
    "#5\n",
    "\n",
    "spark.sql(\"\"\"\n",
    "select marital,count(*) as maritalsuccess \n",
    "from banktable \n",
    "where y='yes' \n",
    "group by marital \n",
    "order by maritalsuccess desc\"\"\").show()\n"
   ]
  },
  {
   "cell_type": "code",
   "execution_count": 20,
   "id": "13257df9",
   "metadata": {},
   "outputs": [
    {
     "name": "stdout",
     "output_type": "stream",
     "text": [
      "+---+-------+-------+\n",
      "|age|marital|success|\n",
      "+---+-------+-------+\n",
      "| 30| single|    151|\n",
      "| 28| single|    138|\n",
      "| 29| single|    133|\n",
      "| 32| single|    124|\n",
      "| 26| single|    121|\n",
      "| 34|married|    118|\n",
      "| 31| single|    111|\n",
      "| 27| single|    110|\n",
      "| 35|married|    101|\n",
      "| 36|married|    100|\n",
      "| 25| single|     99|\n",
      "| 37|married|     98|\n",
      "| 33|married|     97|\n",
      "| 33| single|     97|\n",
      "| 32|married|     87|\n",
      "| 39|married|     87|\n",
      "| 38|married|     86|\n",
      "| 35| single|     84|\n",
      "| 47|married|     83|\n",
      "| 31|married|     80|\n",
      "+---+-------+-------+\n",
      "only showing top 20 rows\n",
      "\n"
     ]
    }
   ],
   "source": [
    "#6 check if age and marital status matter together for subscription to term deposit scheme\n",
    "spark.sql(\"\"\"\n",
    "select age,marital,count(*) as success from banktable \n",
    "where y='yes' \n",
    "group by age, marital \n",
    "order by success desc\n",
    "\"\"\").show()\n",
    "\n"
   ]
  },
  {
   "cell_type": "markdown",
   "id": "0944a23d",
   "metadata": {},
   "source": [
    "### 7.compute success rate of each age and marital status category group by age marital status"
   ]
  },
  {
   "cell_type": "code",
   "execution_count": 21,
   "id": "2a9008e8",
   "metadata": {},
   "outputs": [
    {
     "name": "stdout",
     "output_type": "stream",
     "text": [
      "+---+--------+------------------+\n",
      "|age| marital|      success_rate|\n",
      "+---+--------+------------------+\n",
      "| 93| married|100.00000000000000|\n",
      "| 95|divorced|100.00000000000000|\n",
      "| 68|divorced|100.00000000000000|\n",
      "| 92| married|100.00000000000000|\n",
      "| 85|divorced|100.00000000000000|\n",
      "| 90|divorced|100.00000000000000|\n",
      "| 87|divorced|100.00000000000000|\n",
      "| 86|  single|100.00000000000000|\n",
      "| 67|divorced| 87.50000000000000|\n",
      "| 62|divorced| 83.33333333333333|\n",
      "| 85| married| 75.00000000000000|\n",
      "| 76|divorced| 75.00000000000000|\n",
      "| 71|divorced| 72.72727272727273|\n",
      "| 87| married| 66.66666666666667|\n",
      "| 73|divorced| 66.66666666666667|\n",
      "| 84| married| 66.66666666666667|\n",
      "| 77|divorced| 60.00000000000000|\n",
      "| 18|  single| 58.33333333333333|\n",
      "| 63|divorced| 57.14285714285714|\n",
      "| 73| married| 52.77777777777778|\n",
      "+---+--------+------------------+\n",
      "only showing top 20 rows\n",
      "\n"
     ]
    }
   ],
   "source": [
    "#7. \n",
    "spark.sql(\"\"\"\n",
    "    select age, marital, 100.0 * sum(case when y = 'yes' then 1 else 0 end) / COUNT(*) AS success_rate\n",
    "    FROM banktable\n",
    "    GROUP BY age, marital\n",
    "    ORDER BY success_rate DESC\n",
    "\"\"\").show()\n"
   ]
  },
  {
   "cell_type": "markdown",
   "id": "c2498971",
   "metadata": {},
   "source": [
    "### 8 Do feature engineering for Bank Investment scheme and find effect  of age on Campaign"
   ]
  },
  {
   "cell_type": "code",
   "execution_count": 22,
   "id": "010f3654",
   "metadata": {},
   "outputs": [
    {
     "name": "stdout",
     "output_type": "stream",
     "text": [
      "+------------+-------------+\n",
      "|age_category|success_count|\n",
      "+------------+-------------+\n",
      "|  MiddleAged|         2194|\n",
      "|       Adult|         1982|\n",
      "|         Old|          906|\n",
      "|    Teenager|          207|\n",
      "+------------+-------------+\n",
      "\n"
     ]
    }
   ],
   "source": [
    "spark.sql(\"\"\"\n",
    "select age_category,count(*) as success_count from(select case when age < 25 then 'Teenager'\n",
    "            when age >= 25 and age <=35 then 'Adult'\n",
    "            when age >=35 and age<=55 then 'MiddleAged'\n",
    "            else 'Old' \n",
    "        end as age_category\n",
    "from banktable where y = 'yes') group by age_category \n",
    "order by success_count desc\n",
    "\"\"\").show()"
   ]
  },
  {
   "cell_type": "markdown",
   "id": "06c2ebea",
   "metadata": {},
   "source": [
    "### alternative method: by creating udf"
   ]
  },
  {
   "cell_type": "code",
   "execution_count": 23,
   "id": "58ed4228",
   "metadata": {},
   "outputs": [],
   "source": [
    "from pyspark.sql.functions import udf"
   ]
  },
  {
   "cell_type": "code",
   "execution_count": 24,
   "id": "f59c2ba4",
   "metadata": {},
   "outputs": [],
   "source": [
    "age_range = udf(lambda age : 'Teenager' if age <25 else\n",
    "                             'Adult' if (age >=25 and age < 35) else\n",
    "                             'Middle Aged' if (age >=35 and age <55) else\n",
    "                             'Old'\n",
    "               )"
   ]
  },
  {
   "cell_type": "code",
   "execution_count": 25,
   "id": "7792e5bb",
   "metadata": {},
   "outputs": [],
   "source": [
    "bank_customer_df = bank_customer_data.withColumn('age_category',age_range(bank_customer_data.age))"
   ]
  },
  {
   "cell_type": "code",
   "execution_count": 26,
   "id": "79a629ab",
   "metadata": {},
   "outputs": [
    {
     "name": "stdout",
     "output_type": "stream",
     "text": [
      "+---+-------+--------+-------+---+-------+--------+---------+-------+------------+----+--------+-----+-----+--------+--------+---+------------+\n",
      "|age|balance|campaign|contact|day|default|duration|education|housing|         job|loan| marital|month|pdays|poutcome|previous|  y|age_category|\n",
      "+---+-------+--------+-------+---+-------+--------+---------+-------+------------+----+--------+-----+-----+--------+--------+---+------------+\n",
      "| 58|   2143|       1|unknown|  5|     no|     261| tertiary|    yes|  management|  no| married|  may|   -1| unknown|       0| no|         Old|\n",
      "| 44|     29|       1|unknown|  5|     no|     151|secondary|    yes|  technician|  no|  single|  may|   -1| unknown|       0| no| Middle Aged|\n",
      "| 33|      2|       1|unknown|  5|     no|      76|secondary|    yes|entrepreneur| yes| married|  may|   -1| unknown|       0| no|       Adult|\n",
      "| 47|   1506|       1|unknown|  5|     no|      92|  unknown|    yes| blue-collar|  no| married|  may|   -1| unknown|       0| no| Middle Aged|\n",
      "| 33|      1|       1|unknown|  5|     no|     198|  unknown|     no|     unknown|  no|  single|  may|   -1| unknown|       0| no|       Adult|\n",
      "| 35|    231|       1|unknown|  5|     no|     139| tertiary|    yes|  management|  no| married|  may|   -1| unknown|       0| no| Middle Aged|\n",
      "| 28|    447|       1|unknown|  5|     no|     217| tertiary|    yes|  management| yes|  single|  may|   -1| unknown|       0| no|       Adult|\n",
      "| 42|      2|       1|unknown|  5|    yes|     380| tertiary|    yes|entrepreneur|  no|divorced|  may|   -1| unknown|       0| no| Middle Aged|\n",
      "| 58|    121|       1|unknown|  5|     no|      50|  primary|    yes|     retired|  no| married|  may|   -1| unknown|       0| no|         Old|\n",
      "| 43|    593|       1|unknown|  5|     no|      55|secondary|    yes|  technician|  no|  single|  may|   -1| unknown|       0| no| Middle Aged|\n",
      "| 41|    270|       1|unknown|  5|     no|     222|secondary|    yes|      admin.|  no|divorced|  may|   -1| unknown|       0| no| Middle Aged|\n",
      "| 29|    390|       1|unknown|  5|     no|     137|secondary|    yes|      admin.|  no|  single|  may|   -1| unknown|       0| no|       Adult|\n",
      "| 53|      6|       1|unknown|  5|     no|     517|secondary|    yes|  technician|  no| married|  may|   -1| unknown|       0| no| Middle Aged|\n",
      "| 58|     71|       1|unknown|  5|     no|      71|  unknown|    yes|  technician|  no| married|  may|   -1| unknown|       0| no|         Old|\n",
      "| 57|    162|       1|unknown|  5|     no|     174|secondary|    yes|    services|  no| married|  may|   -1| unknown|       0| no|         Old|\n",
      "| 51|    229|       1|unknown|  5|     no|     353|  primary|    yes|     retired|  no| married|  may|   -1| unknown|       0| no| Middle Aged|\n",
      "| 45|     13|       1|unknown|  5|     no|      98|  unknown|    yes|      admin.|  no|  single|  may|   -1| unknown|       0| no| Middle Aged|\n",
      "| 57|     52|       1|unknown|  5|     no|      38|  primary|    yes| blue-collar|  no| married|  may|   -1| unknown|       0| no|         Old|\n",
      "| 60|     60|       1|unknown|  5|     no|     219|  primary|    yes|     retired|  no| married|  may|   -1| unknown|       0| no|         Old|\n",
      "| 33|      0|       1|unknown|  5|     no|      54|secondary|    yes|    services|  no| married|  may|   -1| unknown|       0| no|       Adult|\n",
      "+---+-------+--------+-------+---+-------+--------+---------+-------+------------+----+--------+-----+-----+--------+--------+---+------------+\n",
      "only showing top 20 rows\n",
      "\n"
     ]
    }
   ],
   "source": [
    "bank_customer_df.show()"
   ]
  },
  {
   "cell_type": "code",
   "execution_count": 29,
   "id": "536b56bb",
   "metadata": {},
   "outputs": [],
   "source": [
    "bank_customer_df.createOrReplaceTempView('newBankTable')"
   ]
  },
  {
   "cell_type": "code",
   "execution_count": 31,
   "id": "5e454d5a",
   "metadata": {},
   "outputs": [
    {
     "name": "stdout",
     "output_type": "stream",
     "text": [
      "+------------+-------------+\n",
      "|age_category|success_count|\n",
      "+------------+-------------+\n",
      "| Middle Aged|        24492|\n",
      "|       Adult|        14204|\n",
      "|         Old|         5706|\n",
      "|    Teenager|          809|\n",
      "+------------+-------------+\n",
      "\n"
     ]
    }
   ],
   "source": [
    "spark.sql(\"\"\"\n",
    "select age_category,count(*) as success_count from newBankTable group by age_category\n",
    "order by success_count DESC\n",
    "\"\"\").show()"
   ]
  },
  {
   "cell_type": "markdown",
   "id": "663582b3",
   "metadata": {},
   "source": [
    "### Write a query to show distributed probability rate for each age category"
   ]
  },
  {
   "cell_type": "code",
   "execution_count": null,
   "id": "0d39f399",
   "metadata": {},
   "outputs": [],
   "source": [
    "spark.sql(\"\"\"\n",
    "  WITH AgeCategoryCounts AS (\n",
    "    SELECT \n",
    "      CASE \n",
    "        WHEN age < 25 THEN 'Teenager'\n",
    "        WHEN age >= 25 AND age <= 35 THEN 'Adult'\n",
    "        WHEN age >= 35 AND age <= 55 THEN 'MiddleAged'\n",
    "        ELSE 'Old' \n",
    "      END AS age_category,\n",
    "      COUNT(*) AS count\n",
    "    FROM banktable \n",
    "    WHERE y = 'yes'\n",
    "    GROUP BY age_category\n",
    "  ),\n",
    "  TotalCounts AS (\n",
    "    SELECT \n",
    "      SUM(count) AS total_count\n",
    "    FROM AgeCategoryCounts\n",
    "  )\n",
    "  SELECT \n",
    "    age_category,\n",
    "    count,\n",
    "    count / total_count AS probability\n",
    "  FROM AgeCategoryCounts, TotalCounts\n",
    "  ORDER BY probability DESC\n",
    "\"\"\").show()"
   ]
  }
 ],
 "metadata": {
  "kernelspec": {
   "display_name": "Python 3",
   "language": "python",
   "name": "python3"
  },
  "language_info": {
   "codemirror_mode": {
    "name": "ipython",
    "version": 3
   },
   "file_extension": ".py",
   "mimetype": "text/x-python",
   "name": "python",
   "nbconvert_exporter": "python",
   "pygments_lexer": "ipython3",
   "version": "3.6.9"
  }
 },
 "nbformat": 4,
 "nbformat_minor": 5
}
